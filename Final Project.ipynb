{
  "cells": [
    {
      "cell_type": "markdown",
      "metadata": {
        "id": "Qf_1B8nrrQ2l"
      },
      "source": [
        "# Predicción de la Tasa de Abandono en Telecomunicaciones: Caso Interconnect\n",
        "\n",
        "Al operador de telecomunicaciones Interconnect le gustaría poder pronosticar su tasa de cancelación de clientes. Si se descubre que un usuario o usuaria planea irse, se le ofrecerán códigos promocionales y opciones de planes especiales. El equipo de marketing de Interconnect ha recopilado algunos de los datos personales de sus clientes, incluyendo información sobre sus planes y contratos.\n",
        "\n",
        "**Servicios de Interconnect**\n",
        "\n",
        "Interconnect proporciona principalmente dos tipos de servicios:\n",
        "\n",
        "1. Comunicación por teléfono fijo. El teléfono se puede conectar a varias líneas de manera simultánea.\n",
        "2. Internet. La red se puede configurar a través de una línea telefónica (DSL, *línea de abonado digital*) o a través de un cable de fibra óptica.\n",
        "\n",
        "Algunos otros servicios que ofrece la empresa incluyen:\n",
        "\n",
        "- Seguridad en Internet: software antivirus (*ProtecciónDeDispositivo*) y un bloqueador de sitios web maliciosos (*SeguridadEnLínea*).\n",
        "- Una línea de soporte técnico (*SoporteTécnico*).\n",
        "- Almacenamiento de archivos en la nube y backup de datos (*BackupOnline*).\n",
        "- Streaming de TV (*StreamingTV*) y directorio de películas (*StreamingPelículas*)\n",
        "\n",
        "La clientela puede elegir entre un pago mensual o firmar un contrato de 1 o 2 años. Puede utilizar varios métodos de pago y recibir una factura electrónica después de una transacción.\n",
        "\n",
        "**Descripción de los datos**\n",
        "\n",
        "Los datos consisten en archivos obtenidos de diferentes fuentes:\n",
        "\n",
        "- `contract.csv` — información del contrato;\n",
        "- `personal.csv` — datos personales del cliente;\n",
        "- `internet.csv` — información sobre los servicios de Internet;\n",
        "- `phone.csv` — información sobre los servicios telefónicos.\n",
        "\n",
        "En cada archivo, la columna `customerID` (ID de cliente) contiene un código único asignado a cada cliente. La información del contrato es válida a partir del 1 de febrero de 2020."
      ]
    },
    {
      "cell_type": "markdown",
      "metadata": {
        "id": "X0uV-aH9rQ2l"
      },
      "source": [
        "## Análisis Exploratorio y Limpieza\n",
        "\n",
        "Vamos a hacer un poco de análisis exploratorio de los datos para familiarizarnos un poco con la estructura de los mismos y ver a qué nos vamos a enfrentar."
      ]
    },
    {
      "cell_type": "code",
      "execution_count": 1,
      "metadata": {
        "id": "T7NAb7OorQ2m"
      },
      "outputs": [],
      "source": [
        "import pandas as pd\n",
        "import seaborn as sns\n",
        "import matplotlib.pyplot as plt\n",
        "import numpy as np\n",
        "\n",
        "\n",
        "from sklearn.model_selection import train_test_split\n",
        "from sklearn.ensemble import RandomForestClassifier\n",
        "from sklearn.linear_model import LogisticRegression\n",
        "from sklearn.metrics import classification_report, roc_curve, auc\n",
        "from sklearn.model_selection import GridSearchCV\n",
        "\n",
        "from xgboost import XGBClassifier"
      ]
    },
    {
      "cell_type": "code",
      "execution_count": 2,
      "metadata": {
        "id": "ZVCloviCrQ2m"
      },
      "outputs": [],
      "source": [
        "contract_data = pd.read_csv('https://raw.githubusercontent.com/MrDonBromo/TripleTenDS-Final-Project/refs/heads/main/contract.csv')\n",
        "personal_data = pd.read_csv('https://raw.githubusercontent.com/MrDonBromo/TripleTenDS-Final-Project/refs/heads/main/personal.csv')\n",
        "internet_data = pd.read_csv('https://raw.githubusercontent.com/MrDonBromo/TripleTenDS-Final-Project/refs/heads/main/internet.csv')\n",
        "phone_data = pd.read_csv('https://raw.githubusercontent.com/MrDonBromo/TripleTenDS-Final-Project/refs/heads/main/phone.csv')"
      ]
    },
    {
      "cell_type": "markdown",
      "metadata": {
        "id": "kWTG4OavrQ2m"
      },
      "source": [
        "### Contract Data"
      ]
    },
    {
      "cell_type": "code",
      "execution_count": 3,
      "metadata": {
        "scrolled": false,
        "id": "TyKsWMJ3rQ2m",
        "outputId": "346ff3a3-518f-45d4-9a5b-2d65cbded535",
        "colab": {
          "base_uri": "https://localhost:8080/",
          "height": 467
        }
      },
      "outputs": [
        {
          "output_type": "stream",
          "name": "stdout",
          "text": [
            "<class 'pandas.core.frame.DataFrame'>\n",
            "RangeIndex: 7043 entries, 0 to 7042\n",
            "Data columns (total 8 columns):\n",
            " #   Column            Non-Null Count  Dtype  \n",
            "---  ------            --------------  -----  \n",
            " 0   customerID        7043 non-null   object \n",
            " 1   BeginDate         7043 non-null   object \n",
            " 2   EndDate           7043 non-null   object \n",
            " 3   Type              7043 non-null   object \n",
            " 4   PaperlessBilling  7043 non-null   object \n",
            " 5   PaymentMethod     7043 non-null   object \n",
            " 6   MonthlyCharges    7043 non-null   float64\n",
            " 7   TotalCharges      7043 non-null   object \n",
            "dtypes: float64(1), object(7)\n",
            "memory usage: 440.3+ KB\n"
          ]
        },
        {
          "output_type": "execute_result",
          "data": {
            "text/plain": [
              "   customerID   BeginDate              EndDate            Type  \\\n",
              "0  7590-VHVEG  2020-01-01                   No  Month-to-month   \n",
              "1  5575-GNVDE  2017-04-01                   No        One year   \n",
              "2  3668-QPYBK  2019-10-01  2019-12-01 00:00:00  Month-to-month   \n",
              "3  7795-CFOCW  2016-05-01                   No        One year   \n",
              "4  9237-HQITU  2019-09-01  2019-11-01 00:00:00  Month-to-month   \n",
              "\n",
              "  PaperlessBilling              PaymentMethod  MonthlyCharges TotalCharges  \n",
              "0              Yes           Electronic check           29.85        29.85  \n",
              "1               No               Mailed check           56.95       1889.5  \n",
              "2              Yes               Mailed check           53.85       108.15  \n",
              "3               No  Bank transfer (automatic)           42.30      1840.75  \n",
              "4              Yes           Electronic check           70.70       151.65  "
            ],
            "text/html": [
              "\n",
              "  <div id=\"df-08b81520-7d07-4b2e-a789-57395dbd7ccc\" class=\"colab-df-container\">\n",
              "    <div>\n",
              "<style scoped>\n",
              "    .dataframe tbody tr th:only-of-type {\n",
              "        vertical-align: middle;\n",
              "    }\n",
              "\n",
              "    .dataframe tbody tr th {\n",
              "        vertical-align: top;\n",
              "    }\n",
              "\n",
              "    .dataframe thead th {\n",
              "        text-align: right;\n",
              "    }\n",
              "</style>\n",
              "<table border=\"1\" class=\"dataframe\">\n",
              "  <thead>\n",
              "    <tr style=\"text-align: right;\">\n",
              "      <th></th>\n",
              "      <th>customerID</th>\n",
              "      <th>BeginDate</th>\n",
              "      <th>EndDate</th>\n",
              "      <th>Type</th>\n",
              "      <th>PaperlessBilling</th>\n",
              "      <th>PaymentMethod</th>\n",
              "      <th>MonthlyCharges</th>\n",
              "      <th>TotalCharges</th>\n",
              "    </tr>\n",
              "  </thead>\n",
              "  <tbody>\n",
              "    <tr>\n",
              "      <th>0</th>\n",
              "      <td>7590-VHVEG</td>\n",
              "      <td>2020-01-01</td>\n",
              "      <td>No</td>\n",
              "      <td>Month-to-month</td>\n",
              "      <td>Yes</td>\n",
              "      <td>Electronic check</td>\n",
              "      <td>29.85</td>\n",
              "      <td>29.85</td>\n",
              "    </tr>\n",
              "    <tr>\n",
              "      <th>1</th>\n",
              "      <td>5575-GNVDE</td>\n",
              "      <td>2017-04-01</td>\n",
              "      <td>No</td>\n",
              "      <td>One year</td>\n",
              "      <td>No</td>\n",
              "      <td>Mailed check</td>\n",
              "      <td>56.95</td>\n",
              "      <td>1889.5</td>\n",
              "    </tr>\n",
              "    <tr>\n",
              "      <th>2</th>\n",
              "      <td>3668-QPYBK</td>\n",
              "      <td>2019-10-01</td>\n",
              "      <td>2019-12-01 00:00:00</td>\n",
              "      <td>Month-to-month</td>\n",
              "      <td>Yes</td>\n",
              "      <td>Mailed check</td>\n",
              "      <td>53.85</td>\n",
              "      <td>108.15</td>\n",
              "    </tr>\n",
              "    <tr>\n",
              "      <th>3</th>\n",
              "      <td>7795-CFOCW</td>\n",
              "      <td>2016-05-01</td>\n",
              "      <td>No</td>\n",
              "      <td>One year</td>\n",
              "      <td>No</td>\n",
              "      <td>Bank transfer (automatic)</td>\n",
              "      <td>42.30</td>\n",
              "      <td>1840.75</td>\n",
              "    </tr>\n",
              "    <tr>\n",
              "      <th>4</th>\n",
              "      <td>9237-HQITU</td>\n",
              "      <td>2019-09-01</td>\n",
              "      <td>2019-11-01 00:00:00</td>\n",
              "      <td>Month-to-month</td>\n",
              "      <td>Yes</td>\n",
              "      <td>Electronic check</td>\n",
              "      <td>70.70</td>\n",
              "      <td>151.65</td>\n",
              "    </tr>\n",
              "  </tbody>\n",
              "</table>\n",
              "</div>\n",
              "    <div class=\"colab-df-buttons\">\n",
              "\n",
              "  <div class=\"colab-df-container\">\n",
              "    <button class=\"colab-df-convert\" onclick=\"convertToInteractive('df-08b81520-7d07-4b2e-a789-57395dbd7ccc')\"\n",
              "            title=\"Convert this dataframe to an interactive table.\"\n",
              "            style=\"display:none;\">\n",
              "\n",
              "  <svg xmlns=\"http://www.w3.org/2000/svg\" height=\"24px\" viewBox=\"0 -960 960 960\">\n",
              "    <path d=\"M120-120v-720h720v720H120Zm60-500h600v-160H180v160Zm220 220h160v-160H400v160Zm0 220h160v-160H400v160ZM180-400h160v-160H180v160Zm440 0h160v-160H620v160ZM180-180h160v-160H180v160Zm440 0h160v-160H620v160Z\"/>\n",
              "  </svg>\n",
              "    </button>\n",
              "\n",
              "  <style>\n",
              "    .colab-df-container {\n",
              "      display:flex;\n",
              "      gap: 12px;\n",
              "    }\n",
              "\n",
              "    .colab-df-convert {\n",
              "      background-color: #E8F0FE;\n",
              "      border: none;\n",
              "      border-radius: 50%;\n",
              "      cursor: pointer;\n",
              "      display: none;\n",
              "      fill: #1967D2;\n",
              "      height: 32px;\n",
              "      padding: 0 0 0 0;\n",
              "      width: 32px;\n",
              "    }\n",
              "\n",
              "    .colab-df-convert:hover {\n",
              "      background-color: #E2EBFA;\n",
              "      box-shadow: 0px 1px 2px rgba(60, 64, 67, 0.3), 0px 1px 3px 1px rgba(60, 64, 67, 0.15);\n",
              "      fill: #174EA6;\n",
              "    }\n",
              "\n",
              "    .colab-df-buttons div {\n",
              "      margin-bottom: 4px;\n",
              "    }\n",
              "\n",
              "    [theme=dark] .colab-df-convert {\n",
              "      background-color: #3B4455;\n",
              "      fill: #D2E3FC;\n",
              "    }\n",
              "\n",
              "    [theme=dark] .colab-df-convert:hover {\n",
              "      background-color: #434B5C;\n",
              "      box-shadow: 0px 1px 3px 1px rgba(0, 0, 0, 0.15);\n",
              "      filter: drop-shadow(0px 1px 2px rgba(0, 0, 0, 0.3));\n",
              "      fill: #FFFFFF;\n",
              "    }\n",
              "  </style>\n",
              "\n",
              "    <script>\n",
              "      const buttonEl =\n",
              "        document.querySelector('#df-08b81520-7d07-4b2e-a789-57395dbd7ccc button.colab-df-convert');\n",
              "      buttonEl.style.display =\n",
              "        google.colab.kernel.accessAllowed ? 'block' : 'none';\n",
              "\n",
              "      async function convertToInteractive(key) {\n",
              "        const element = document.querySelector('#df-08b81520-7d07-4b2e-a789-57395dbd7ccc');\n",
              "        const dataTable =\n",
              "          await google.colab.kernel.invokeFunction('convertToInteractive',\n",
              "                                                    [key], {});\n",
              "        if (!dataTable) return;\n",
              "\n",
              "        const docLinkHtml = 'Like what you see? Visit the ' +\n",
              "          '<a target=\"_blank\" href=https://colab.research.google.com/notebooks/data_table.ipynb>data table notebook</a>'\n",
              "          + ' to learn more about interactive tables.';\n",
              "        element.innerHTML = '';\n",
              "        dataTable['output_type'] = 'display_data';\n",
              "        await google.colab.output.renderOutput(dataTable, element);\n",
              "        const docLink = document.createElement('div');\n",
              "        docLink.innerHTML = docLinkHtml;\n",
              "        element.appendChild(docLink);\n",
              "      }\n",
              "    </script>\n",
              "  </div>\n",
              "\n",
              "\n",
              "    <div id=\"df-b209efec-55bc-4048-b5a9-e2f5d84add46\">\n",
              "      <button class=\"colab-df-quickchart\" onclick=\"quickchart('df-b209efec-55bc-4048-b5a9-e2f5d84add46')\"\n",
              "                title=\"Suggest charts\"\n",
              "                style=\"display:none;\">\n",
              "\n",
              "<svg xmlns=\"http://www.w3.org/2000/svg\" height=\"24px\"viewBox=\"0 0 24 24\"\n",
              "     width=\"24px\">\n",
              "    <g>\n",
              "        <path d=\"M19 3H5c-1.1 0-2 .9-2 2v14c0 1.1.9 2 2 2h14c1.1 0 2-.9 2-2V5c0-1.1-.9-2-2-2zM9 17H7v-7h2v7zm4 0h-2V7h2v10zm4 0h-2v-4h2v4z\"/>\n",
              "    </g>\n",
              "</svg>\n",
              "      </button>\n",
              "\n",
              "<style>\n",
              "  .colab-df-quickchart {\n",
              "      --bg-color: #E8F0FE;\n",
              "      --fill-color: #1967D2;\n",
              "      --hover-bg-color: #E2EBFA;\n",
              "      --hover-fill-color: #174EA6;\n",
              "      --disabled-fill-color: #AAA;\n",
              "      --disabled-bg-color: #DDD;\n",
              "  }\n",
              "\n",
              "  [theme=dark] .colab-df-quickchart {\n",
              "      --bg-color: #3B4455;\n",
              "      --fill-color: #D2E3FC;\n",
              "      --hover-bg-color: #434B5C;\n",
              "      --hover-fill-color: #FFFFFF;\n",
              "      --disabled-bg-color: #3B4455;\n",
              "      --disabled-fill-color: #666;\n",
              "  }\n",
              "\n",
              "  .colab-df-quickchart {\n",
              "    background-color: var(--bg-color);\n",
              "    border: none;\n",
              "    border-radius: 50%;\n",
              "    cursor: pointer;\n",
              "    display: none;\n",
              "    fill: var(--fill-color);\n",
              "    height: 32px;\n",
              "    padding: 0;\n",
              "    width: 32px;\n",
              "  }\n",
              "\n",
              "  .colab-df-quickchart:hover {\n",
              "    background-color: var(--hover-bg-color);\n",
              "    box-shadow: 0 1px 2px rgba(60, 64, 67, 0.3), 0 1px 3px 1px rgba(60, 64, 67, 0.15);\n",
              "    fill: var(--button-hover-fill-color);\n",
              "  }\n",
              "\n",
              "  .colab-df-quickchart-complete:disabled,\n",
              "  .colab-df-quickchart-complete:disabled:hover {\n",
              "    background-color: var(--disabled-bg-color);\n",
              "    fill: var(--disabled-fill-color);\n",
              "    box-shadow: none;\n",
              "  }\n",
              "\n",
              "  .colab-df-spinner {\n",
              "    border: 2px solid var(--fill-color);\n",
              "    border-color: transparent;\n",
              "    border-bottom-color: var(--fill-color);\n",
              "    animation:\n",
              "      spin 1s steps(1) infinite;\n",
              "  }\n",
              "\n",
              "  @keyframes spin {\n",
              "    0% {\n",
              "      border-color: transparent;\n",
              "      border-bottom-color: var(--fill-color);\n",
              "      border-left-color: var(--fill-color);\n",
              "    }\n",
              "    20% {\n",
              "      border-color: transparent;\n",
              "      border-left-color: var(--fill-color);\n",
              "      border-top-color: var(--fill-color);\n",
              "    }\n",
              "    30% {\n",
              "      border-color: transparent;\n",
              "      border-left-color: var(--fill-color);\n",
              "      border-top-color: var(--fill-color);\n",
              "      border-right-color: var(--fill-color);\n",
              "    }\n",
              "    40% {\n",
              "      border-color: transparent;\n",
              "      border-right-color: var(--fill-color);\n",
              "      border-top-color: var(--fill-color);\n",
              "    }\n",
              "    60% {\n",
              "      border-color: transparent;\n",
              "      border-right-color: var(--fill-color);\n",
              "    }\n",
              "    80% {\n",
              "      border-color: transparent;\n",
              "      border-right-color: var(--fill-color);\n",
              "      border-bottom-color: var(--fill-color);\n",
              "    }\n",
              "    90% {\n",
              "      border-color: transparent;\n",
              "      border-bottom-color: var(--fill-color);\n",
              "    }\n",
              "  }\n",
              "</style>\n",
              "\n",
              "      <script>\n",
              "        async function quickchart(key) {\n",
              "          const quickchartButtonEl =\n",
              "            document.querySelector('#' + key + ' button');\n",
              "          quickchartButtonEl.disabled = true;  // To prevent multiple clicks.\n",
              "          quickchartButtonEl.classList.add('colab-df-spinner');\n",
              "          try {\n",
              "            const charts = await google.colab.kernel.invokeFunction(\n",
              "                'suggestCharts', [key], {});\n",
              "          } catch (error) {\n",
              "            console.error('Error during call to suggestCharts:', error);\n",
              "          }\n",
              "          quickchartButtonEl.classList.remove('colab-df-spinner');\n",
              "          quickchartButtonEl.classList.add('colab-df-quickchart-complete');\n",
              "        }\n",
              "        (() => {\n",
              "          let quickchartButtonEl =\n",
              "            document.querySelector('#df-b209efec-55bc-4048-b5a9-e2f5d84add46 button');\n",
              "          quickchartButtonEl.style.display =\n",
              "            google.colab.kernel.accessAllowed ? 'block' : 'none';\n",
              "        })();\n",
              "      </script>\n",
              "    </div>\n",
              "\n",
              "    </div>\n",
              "  </div>\n"
            ],
            "application/vnd.google.colaboratory.intrinsic+json": {
              "type": "dataframe",
              "variable_name": "contract_data",
              "summary": "{\n  \"name\": \"contract_data\",\n  \"rows\": 7043,\n  \"fields\": [\n    {\n      \"column\": \"customerID\",\n      \"properties\": {\n        \"dtype\": \"string\",\n        \"num_unique_values\": 7043,\n        \"samples\": [\n          \"1024-GUALD\",\n          \"0484-JPBRU\",\n          \"3620-EHIMZ\"\n        ],\n        \"semantic_type\": \"\",\n        \"description\": \"\"\n      }\n    },\n    {\n      \"column\": \"BeginDate\",\n      \"properties\": {\n        \"dtype\": \"object\",\n        \"num_unique_values\": 77,\n        \"samples\": [\n          \"2019-09-01\",\n          \"2016-07-01\",\n          \"2019-01-01\"\n        ],\n        \"semantic_type\": \"\",\n        \"description\": \"\"\n      }\n    },\n    {\n      \"column\": \"EndDate\",\n      \"properties\": {\n        \"dtype\": \"category\",\n        \"num_unique_values\": 5,\n        \"samples\": [\n          \"2019-12-01 00:00:00\",\n          \"2020-01-01 00:00:00\",\n          \"2019-11-01 00:00:00\"\n        ],\n        \"semantic_type\": \"\",\n        \"description\": \"\"\n      }\n    },\n    {\n      \"column\": \"Type\",\n      \"properties\": {\n        \"dtype\": \"category\",\n        \"num_unique_values\": 3,\n        \"samples\": [\n          \"Month-to-month\",\n          \"One year\",\n          \"Two year\"\n        ],\n        \"semantic_type\": \"\",\n        \"description\": \"\"\n      }\n    },\n    {\n      \"column\": \"PaperlessBilling\",\n      \"properties\": {\n        \"dtype\": \"category\",\n        \"num_unique_values\": 2,\n        \"samples\": [\n          \"No\",\n          \"Yes\"\n        ],\n        \"semantic_type\": \"\",\n        \"description\": \"\"\n      }\n    },\n    {\n      \"column\": \"PaymentMethod\",\n      \"properties\": {\n        \"dtype\": \"category\",\n        \"num_unique_values\": 4,\n        \"samples\": [\n          \"Mailed check\",\n          \"Credit card (automatic)\"\n        ],\n        \"semantic_type\": \"\",\n        \"description\": \"\"\n      }\n    },\n    {\n      \"column\": \"MonthlyCharges\",\n      \"properties\": {\n        \"dtype\": \"number\",\n        \"std\": 30.09004709767854,\n        \"min\": 18.25,\n        \"max\": 118.75,\n        \"num_unique_values\": 1585,\n        \"samples\": [\n          48.85,\n          20.05\n        ],\n        \"semantic_type\": \"\",\n        \"description\": \"\"\n      }\n    },\n    {\n      \"column\": \"TotalCharges\",\n      \"properties\": {\n        \"dtype\": \"string\",\n        \"num_unique_values\": 6531,\n        \"samples\": [\n          \"4600.7\",\n          \"20.35\"\n        ],\n        \"semantic_type\": \"\",\n        \"description\": \"\"\n      }\n    }\n  ]\n}"
            }
          },
          "metadata": {},
          "execution_count": 3
        }
      ],
      "source": [
        "contract_data.info()\n",
        "contract_data.head()"
      ]
    },
    {
      "cell_type": "code",
      "execution_count": 4,
      "metadata": {
        "id": "-LaxvTaarQ2m",
        "outputId": "97a69e66-e218-4c90-a4e0-619a90f2a1fe",
        "colab": {
          "base_uri": "https://localhost:8080/",
          "height": 206
        }
      },
      "outputs": [
        {
          "output_type": "execute_result",
          "data": {
            "text/plain": [
              "   customerID  BeginDate    EndDate            Type PaperlessBilling  \\\n",
              "0  7590-VHVEG 2020-01-01        NaT  Month-to-month              Yes   \n",
              "1  5575-GNVDE 2017-04-01        NaT        One year               No   \n",
              "2  3668-QPYBK 2019-10-01 2019-12-01  Month-to-month              Yes   \n",
              "3  7795-CFOCW 2016-05-01        NaT        One year               No   \n",
              "4  9237-HQITU 2019-09-01 2019-11-01  Month-to-month              Yes   \n",
              "\n",
              "               PaymentMethod  MonthlyCharges TotalCharges  \n",
              "0           Electronic check           29.85        29.85  \n",
              "1               Mailed check           56.95       1889.5  \n",
              "2               Mailed check           53.85       108.15  \n",
              "3  Bank transfer (automatic)           42.30      1840.75  \n",
              "4           Electronic check           70.70       151.65  "
            ],
            "text/html": [
              "\n",
              "  <div id=\"df-2ec8d9ab-4da2-4f79-aad8-9f12232d56c3\" class=\"colab-df-container\">\n",
              "    <div>\n",
              "<style scoped>\n",
              "    .dataframe tbody tr th:only-of-type {\n",
              "        vertical-align: middle;\n",
              "    }\n",
              "\n",
              "    .dataframe tbody tr th {\n",
              "        vertical-align: top;\n",
              "    }\n",
              "\n",
              "    .dataframe thead th {\n",
              "        text-align: right;\n",
              "    }\n",
              "</style>\n",
              "<table border=\"1\" class=\"dataframe\">\n",
              "  <thead>\n",
              "    <tr style=\"text-align: right;\">\n",
              "      <th></th>\n",
              "      <th>customerID</th>\n",
              "      <th>BeginDate</th>\n",
              "      <th>EndDate</th>\n",
              "      <th>Type</th>\n",
              "      <th>PaperlessBilling</th>\n",
              "      <th>PaymentMethod</th>\n",
              "      <th>MonthlyCharges</th>\n",
              "      <th>TotalCharges</th>\n",
              "    </tr>\n",
              "  </thead>\n",
              "  <tbody>\n",
              "    <tr>\n",
              "      <th>0</th>\n",
              "      <td>7590-VHVEG</td>\n",
              "      <td>2020-01-01</td>\n",
              "      <td>NaT</td>\n",
              "      <td>Month-to-month</td>\n",
              "      <td>Yes</td>\n",
              "      <td>Electronic check</td>\n",
              "      <td>29.85</td>\n",
              "      <td>29.85</td>\n",
              "    </tr>\n",
              "    <tr>\n",
              "      <th>1</th>\n",
              "      <td>5575-GNVDE</td>\n",
              "      <td>2017-04-01</td>\n",
              "      <td>NaT</td>\n",
              "      <td>One year</td>\n",
              "      <td>No</td>\n",
              "      <td>Mailed check</td>\n",
              "      <td>56.95</td>\n",
              "      <td>1889.5</td>\n",
              "    </tr>\n",
              "    <tr>\n",
              "      <th>2</th>\n",
              "      <td>3668-QPYBK</td>\n",
              "      <td>2019-10-01</td>\n",
              "      <td>2019-12-01</td>\n",
              "      <td>Month-to-month</td>\n",
              "      <td>Yes</td>\n",
              "      <td>Mailed check</td>\n",
              "      <td>53.85</td>\n",
              "      <td>108.15</td>\n",
              "    </tr>\n",
              "    <tr>\n",
              "      <th>3</th>\n",
              "      <td>7795-CFOCW</td>\n",
              "      <td>2016-05-01</td>\n",
              "      <td>NaT</td>\n",
              "      <td>One year</td>\n",
              "      <td>No</td>\n",
              "      <td>Bank transfer (automatic)</td>\n",
              "      <td>42.30</td>\n",
              "      <td>1840.75</td>\n",
              "    </tr>\n",
              "    <tr>\n",
              "      <th>4</th>\n",
              "      <td>9237-HQITU</td>\n",
              "      <td>2019-09-01</td>\n",
              "      <td>2019-11-01</td>\n",
              "      <td>Month-to-month</td>\n",
              "      <td>Yes</td>\n",
              "      <td>Electronic check</td>\n",
              "      <td>70.70</td>\n",
              "      <td>151.65</td>\n",
              "    </tr>\n",
              "  </tbody>\n",
              "</table>\n",
              "</div>\n",
              "    <div class=\"colab-df-buttons\">\n",
              "\n",
              "  <div class=\"colab-df-container\">\n",
              "    <button class=\"colab-df-convert\" onclick=\"convertToInteractive('df-2ec8d9ab-4da2-4f79-aad8-9f12232d56c3')\"\n",
              "            title=\"Convert this dataframe to an interactive table.\"\n",
              "            style=\"display:none;\">\n",
              "\n",
              "  <svg xmlns=\"http://www.w3.org/2000/svg\" height=\"24px\" viewBox=\"0 -960 960 960\">\n",
              "    <path d=\"M120-120v-720h720v720H120Zm60-500h600v-160H180v160Zm220 220h160v-160H400v160Zm0 220h160v-160H400v160ZM180-400h160v-160H180v160Zm440 0h160v-160H620v160ZM180-180h160v-160H180v160Zm440 0h160v-160H620v160Z\"/>\n",
              "  </svg>\n",
              "    </button>\n",
              "\n",
              "  <style>\n",
              "    .colab-df-container {\n",
              "      display:flex;\n",
              "      gap: 12px;\n",
              "    }\n",
              "\n",
              "    .colab-df-convert {\n",
              "      background-color: #E8F0FE;\n",
              "      border: none;\n",
              "      border-radius: 50%;\n",
              "      cursor: pointer;\n",
              "      display: none;\n",
              "      fill: #1967D2;\n",
              "      height: 32px;\n",
              "      padding: 0 0 0 0;\n",
              "      width: 32px;\n",
              "    }\n",
              "\n",
              "    .colab-df-convert:hover {\n",
              "      background-color: #E2EBFA;\n",
              "      box-shadow: 0px 1px 2px rgba(60, 64, 67, 0.3), 0px 1px 3px 1px rgba(60, 64, 67, 0.15);\n",
              "      fill: #174EA6;\n",
              "    }\n",
              "\n",
              "    .colab-df-buttons div {\n",
              "      margin-bottom: 4px;\n",
              "    }\n",
              "\n",
              "    [theme=dark] .colab-df-convert {\n",
              "      background-color: #3B4455;\n",
              "      fill: #D2E3FC;\n",
              "    }\n",
              "\n",
              "    [theme=dark] .colab-df-convert:hover {\n",
              "      background-color: #434B5C;\n",
              "      box-shadow: 0px 1px 3px 1px rgba(0, 0, 0, 0.15);\n",
              "      filter: drop-shadow(0px 1px 2px rgba(0, 0, 0, 0.3));\n",
              "      fill: #FFFFFF;\n",
              "    }\n",
              "  </style>\n",
              "\n",
              "    <script>\n",
              "      const buttonEl =\n",
              "        document.querySelector('#df-2ec8d9ab-4da2-4f79-aad8-9f12232d56c3 button.colab-df-convert');\n",
              "      buttonEl.style.display =\n",
              "        google.colab.kernel.accessAllowed ? 'block' : 'none';\n",
              "\n",
              "      async function convertToInteractive(key) {\n",
              "        const element = document.querySelector('#df-2ec8d9ab-4da2-4f79-aad8-9f12232d56c3');\n",
              "        const dataTable =\n",
              "          await google.colab.kernel.invokeFunction('convertToInteractive',\n",
              "                                                    [key], {});\n",
              "        if (!dataTable) return;\n",
              "\n",
              "        const docLinkHtml = 'Like what you see? Visit the ' +\n",
              "          '<a target=\"_blank\" href=https://colab.research.google.com/notebooks/data_table.ipynb>data table notebook</a>'\n",
              "          + ' to learn more about interactive tables.';\n",
              "        element.innerHTML = '';\n",
              "        dataTable['output_type'] = 'display_data';\n",
              "        await google.colab.output.renderOutput(dataTable, element);\n",
              "        const docLink = document.createElement('div');\n",
              "        docLink.innerHTML = docLinkHtml;\n",
              "        element.appendChild(docLink);\n",
              "      }\n",
              "    </script>\n",
              "  </div>\n",
              "\n",
              "\n",
              "    <div id=\"df-6db109c0-2b80-45b4-a3c3-e0ce7e658e79\">\n",
              "      <button class=\"colab-df-quickchart\" onclick=\"quickchart('df-6db109c0-2b80-45b4-a3c3-e0ce7e658e79')\"\n",
              "                title=\"Suggest charts\"\n",
              "                style=\"display:none;\">\n",
              "\n",
              "<svg xmlns=\"http://www.w3.org/2000/svg\" height=\"24px\"viewBox=\"0 0 24 24\"\n",
              "     width=\"24px\">\n",
              "    <g>\n",
              "        <path d=\"M19 3H5c-1.1 0-2 .9-2 2v14c0 1.1.9 2 2 2h14c1.1 0 2-.9 2-2V5c0-1.1-.9-2-2-2zM9 17H7v-7h2v7zm4 0h-2V7h2v10zm4 0h-2v-4h2v4z\"/>\n",
              "    </g>\n",
              "</svg>\n",
              "      </button>\n",
              "\n",
              "<style>\n",
              "  .colab-df-quickchart {\n",
              "      --bg-color: #E8F0FE;\n",
              "      --fill-color: #1967D2;\n",
              "      --hover-bg-color: #E2EBFA;\n",
              "      --hover-fill-color: #174EA6;\n",
              "      --disabled-fill-color: #AAA;\n",
              "      --disabled-bg-color: #DDD;\n",
              "  }\n",
              "\n",
              "  [theme=dark] .colab-df-quickchart {\n",
              "      --bg-color: #3B4455;\n",
              "      --fill-color: #D2E3FC;\n",
              "      --hover-bg-color: #434B5C;\n",
              "      --hover-fill-color: #FFFFFF;\n",
              "      --disabled-bg-color: #3B4455;\n",
              "      --disabled-fill-color: #666;\n",
              "  }\n",
              "\n",
              "  .colab-df-quickchart {\n",
              "    background-color: var(--bg-color);\n",
              "    border: none;\n",
              "    border-radius: 50%;\n",
              "    cursor: pointer;\n",
              "    display: none;\n",
              "    fill: var(--fill-color);\n",
              "    height: 32px;\n",
              "    padding: 0;\n",
              "    width: 32px;\n",
              "  }\n",
              "\n",
              "  .colab-df-quickchart:hover {\n",
              "    background-color: var(--hover-bg-color);\n",
              "    box-shadow: 0 1px 2px rgba(60, 64, 67, 0.3), 0 1px 3px 1px rgba(60, 64, 67, 0.15);\n",
              "    fill: var(--button-hover-fill-color);\n",
              "  }\n",
              "\n",
              "  .colab-df-quickchart-complete:disabled,\n",
              "  .colab-df-quickchart-complete:disabled:hover {\n",
              "    background-color: var(--disabled-bg-color);\n",
              "    fill: var(--disabled-fill-color);\n",
              "    box-shadow: none;\n",
              "  }\n",
              "\n",
              "  .colab-df-spinner {\n",
              "    border: 2px solid var(--fill-color);\n",
              "    border-color: transparent;\n",
              "    border-bottom-color: var(--fill-color);\n",
              "    animation:\n",
              "      spin 1s steps(1) infinite;\n",
              "  }\n",
              "\n",
              "  @keyframes spin {\n",
              "    0% {\n",
              "      border-color: transparent;\n",
              "      border-bottom-color: var(--fill-color);\n",
              "      border-left-color: var(--fill-color);\n",
              "    }\n",
              "    20% {\n",
              "      border-color: transparent;\n",
              "      border-left-color: var(--fill-color);\n",
              "      border-top-color: var(--fill-color);\n",
              "    }\n",
              "    30% {\n",
              "      border-color: transparent;\n",
              "      border-left-color: var(--fill-color);\n",
              "      border-top-color: var(--fill-color);\n",
              "      border-right-color: var(--fill-color);\n",
              "    }\n",
              "    40% {\n",
              "      border-color: transparent;\n",
              "      border-right-color: var(--fill-color);\n",
              "      border-top-color: var(--fill-color);\n",
              "    }\n",
              "    60% {\n",
              "      border-color: transparent;\n",
              "      border-right-color: var(--fill-color);\n",
              "    }\n",
              "    80% {\n",
              "      border-color: transparent;\n",
              "      border-right-color: var(--fill-color);\n",
              "      border-bottom-color: var(--fill-color);\n",
              "    }\n",
              "    90% {\n",
              "      border-color: transparent;\n",
              "      border-bottom-color: var(--fill-color);\n",
              "    }\n",
              "  }\n",
              "</style>\n",
              "\n",
              "      <script>\n",
              "        async function quickchart(key) {\n",
              "          const quickchartButtonEl =\n",
              "            document.querySelector('#' + key + ' button');\n",
              "          quickchartButtonEl.disabled = true;  // To prevent multiple clicks.\n",
              "          quickchartButtonEl.classList.add('colab-df-spinner');\n",
              "          try {\n",
              "            const charts = await google.colab.kernel.invokeFunction(\n",
              "                'suggestCharts', [key], {});\n",
              "          } catch (error) {\n",
              "            console.error('Error during call to suggestCharts:', error);\n",
              "          }\n",
              "          quickchartButtonEl.classList.remove('colab-df-spinner');\n",
              "          quickchartButtonEl.classList.add('colab-df-quickchart-complete');\n",
              "        }\n",
              "        (() => {\n",
              "          let quickchartButtonEl =\n",
              "            document.querySelector('#df-6db109c0-2b80-45b4-a3c3-e0ce7e658e79 button');\n",
              "          quickchartButtonEl.style.display =\n",
              "            google.colab.kernel.accessAllowed ? 'block' : 'none';\n",
              "        })();\n",
              "      </script>\n",
              "    </div>\n",
              "\n",
              "    </div>\n",
              "  </div>\n"
            ],
            "application/vnd.google.colaboratory.intrinsic+json": {
              "type": "dataframe",
              "variable_name": "contract_data",
              "summary": "{\n  \"name\": \"contract_data\",\n  \"rows\": 7043,\n  \"fields\": [\n    {\n      \"column\": \"customerID\",\n      \"properties\": {\n        \"dtype\": \"string\",\n        \"num_unique_values\": 7043,\n        \"samples\": [\n          \"1024-GUALD\",\n          \"0484-JPBRU\",\n          \"3620-EHIMZ\"\n        ],\n        \"semantic_type\": \"\",\n        \"description\": \"\"\n      }\n    },\n    {\n      \"column\": \"BeginDate\",\n      \"properties\": {\n        \"dtype\": \"date\",\n        \"min\": \"2013-10-01 00:00:00\",\n        \"max\": \"2020-02-01 00:00:00\",\n        \"num_unique_values\": 77,\n        \"samples\": [\n          \"2019-09-01 00:00:00\",\n          \"2016-07-01 00:00:00\",\n          \"2019-01-01 00:00:00\"\n        ],\n        \"semantic_type\": \"\",\n        \"description\": \"\"\n      }\n    },\n    {\n      \"column\": \"EndDate\",\n      \"properties\": {\n        \"dtype\": \"date\",\n        \"min\": \"2019-10-01 00:00:00\",\n        \"max\": \"2020-01-01 00:00:00\",\n        \"num_unique_values\": 4,\n        \"samples\": [\n          \"2019-11-01 00:00:00\",\n          \"2020-01-01 00:00:00\",\n          \"2019-12-01 00:00:00\"\n        ],\n        \"semantic_type\": \"\",\n        \"description\": \"\"\n      }\n    },\n    {\n      \"column\": \"Type\",\n      \"properties\": {\n        \"dtype\": \"category\",\n        \"num_unique_values\": 3,\n        \"samples\": [\n          \"Month-to-month\",\n          \"One year\",\n          \"Two year\"\n        ],\n        \"semantic_type\": \"\",\n        \"description\": \"\"\n      }\n    },\n    {\n      \"column\": \"PaperlessBilling\",\n      \"properties\": {\n        \"dtype\": \"category\",\n        \"num_unique_values\": 2,\n        \"samples\": [\n          \"No\",\n          \"Yes\"\n        ],\n        \"semantic_type\": \"\",\n        \"description\": \"\"\n      }\n    },\n    {\n      \"column\": \"PaymentMethod\",\n      \"properties\": {\n        \"dtype\": \"category\",\n        \"num_unique_values\": 4,\n        \"samples\": [\n          \"Mailed check\",\n          \"Credit card (automatic)\"\n        ],\n        \"semantic_type\": \"\",\n        \"description\": \"\"\n      }\n    },\n    {\n      \"column\": \"MonthlyCharges\",\n      \"properties\": {\n        \"dtype\": \"number\",\n        \"std\": 30.09004709767854,\n        \"min\": 18.25,\n        \"max\": 118.75,\n        \"num_unique_values\": 1585,\n        \"samples\": [\n          48.85,\n          20.05\n        ],\n        \"semantic_type\": \"\",\n        \"description\": \"\"\n      }\n    },\n    {\n      \"column\": \"TotalCharges\",\n      \"properties\": {\n        \"dtype\": \"string\",\n        \"num_unique_values\": 6531,\n        \"samples\": [\n          \"4600.7\",\n          \"20.35\"\n        ],\n        \"semantic_type\": \"\",\n        \"description\": \"\"\n      }\n    }\n  ]\n}"
            }
          },
          "metadata": {},
          "execution_count": 4
        }
      ],
      "source": [
        "# Converting the type of data to datetime.\n",
        "\n",
        "contract_data['BeginDate'] = pd.to_datetime(contract_data['BeginDate'])\n",
        "\n",
        "# Using format = %Y-%m-%d %H:%M:%S kept turning the whole column into NaT. We're replacing \"No\" with NaT first, then turning into datetime.\n",
        "\n",
        "contract_data['EndDate'] = pd.to_datetime(contract_data['EndDate'].replace('No', pd.NaT),  errors='coerce')\n",
        "\n",
        "contract_data.head()"
      ]
    },
    {
      "cell_type": "code",
      "execution_count": 5,
      "metadata": {
        "scrolled": false,
        "id": "Is1v1cNUrQ2m",
        "outputId": "8c8fc471-2086-4e62-b393-1fda9b5dfcc4",
        "colab": {
          "base_uri": "https://localhost:8080/"
        }
      },
      "outputs": [
        {
          "output_type": "stream",
          "name": "stdout",
          "text": [
            "Contracts with no total charges:\n",
            "\n",
            "       customerID  BeginDate\n",
            "488   4472-LVYGI 2020-02-01\n",
            "753   3115-CZMZD 2020-02-01\n",
            "936   5709-LVOEQ 2020-02-01\n",
            "1082  4367-NUYAO 2020-02-01\n",
            "1340  1371-DWPAZ 2020-02-01\n",
            "3331  7644-OMVMY 2020-02-01\n",
            "3826  3213-VVOLG 2020-02-01\n",
            "4380  2520-SGTTA 2020-02-01\n",
            "5218  2923-ARZLG 2020-02-01\n",
            "6670  4075-WKNIU 2020-02-01\n",
            "6754  2775-SEFEE 2020-02-01\n",
            "\n",
            "Most recent date in the dataframe: 2020-02-01 00:00:00\n"
          ]
        }
      ],
      "source": [
        "# Theres 'TotalCharges' with ' '. Why could that be?\n",
        "\n",
        "print('Contracts with no total charges:\\n\\n',contract_data[contract_data['TotalCharges'] == ' '][['customerID','BeginDate']])\n",
        "print('\\nMost recent date in the dataframe:',sorted(contract_data['BeginDate'].unique())[-1])"
      ]
    },
    {
      "cell_type": "markdown",
      "source": [
        "All contracts with no total charges on them have begin dates of 2020-02-01, which coincidentally is the latest date on the dataset. That's probably because these users haven't been charged yet and their contracts are new."
      ],
      "metadata": {
        "id": "SlABYiIPQARj"
      }
    },
    {
      "cell_type": "code",
      "execution_count": 6,
      "metadata": {
        "scrolled": false,
        "id": "5RFdyb7rrQ2n",
        "outputId": "decc5017-97ab-49b6-ab66-cad08b5df4e8",
        "colab": {
          "base_uri": "https://localhost:8080/",
          "height": 484
        }
      },
      "outputs": [
        {
          "output_type": "stream",
          "name": "stdout",
          "text": [
            "<class 'pandas.core.frame.DataFrame'>\n",
            "RangeIndex: 7043 entries, 0 to 7042\n",
            "Data columns (total 8 columns):\n",
            " #   Column            Non-Null Count  Dtype         \n",
            "---  ------            --------------  -----         \n",
            " 0   customerID        7043 non-null   object        \n",
            " 1   BeginDate         7043 non-null   datetime64[ns]\n",
            " 2   EndDate           1869 non-null   datetime64[ns]\n",
            " 3   Type              7043 non-null   object        \n",
            " 4   PaperlessBilling  7043 non-null   object        \n",
            " 5   PaymentMethod     7043 non-null   object        \n",
            " 6   MonthlyCharges    7043 non-null   float64       \n",
            " 7   TotalCharges      7043 non-null   float64       \n",
            "dtypes: datetime64[ns](2), float64(2), object(4)\n",
            "memory usage: 440.3+ KB\n",
            "None\n"
          ]
        },
        {
          "output_type": "execute_result",
          "data": {
            "text/plain": [
              "   customerID  BeginDate    EndDate            Type PaperlessBilling  \\\n",
              "0  7590-VHVEG 2020-01-01        NaT  Month-to-month              Yes   \n",
              "1  5575-GNVDE 2017-04-01        NaT        One year               No   \n",
              "2  3668-QPYBK 2019-10-01 2019-12-01  Month-to-month              Yes   \n",
              "3  7795-CFOCW 2016-05-01        NaT        One year               No   \n",
              "4  9237-HQITU 2019-09-01 2019-11-01  Month-to-month              Yes   \n",
              "\n",
              "               PaymentMethod  MonthlyCharges  TotalCharges  \n",
              "0           Electronic check           29.85         29.85  \n",
              "1               Mailed check           56.95       1889.50  \n",
              "2               Mailed check           53.85        108.15  \n",
              "3  Bank transfer (automatic)           42.30       1840.75  \n",
              "4           Electronic check           70.70        151.65  "
            ],
            "text/html": [
              "\n",
              "  <div id=\"df-81a001e2-dd35-4c25-a2a7-6fed625fdb77\" class=\"colab-df-container\">\n",
              "    <div>\n",
              "<style scoped>\n",
              "    .dataframe tbody tr th:only-of-type {\n",
              "        vertical-align: middle;\n",
              "    }\n",
              "\n",
              "    .dataframe tbody tr th {\n",
              "        vertical-align: top;\n",
              "    }\n",
              "\n",
              "    .dataframe thead th {\n",
              "        text-align: right;\n",
              "    }\n",
              "</style>\n",
              "<table border=\"1\" class=\"dataframe\">\n",
              "  <thead>\n",
              "    <tr style=\"text-align: right;\">\n",
              "      <th></th>\n",
              "      <th>customerID</th>\n",
              "      <th>BeginDate</th>\n",
              "      <th>EndDate</th>\n",
              "      <th>Type</th>\n",
              "      <th>PaperlessBilling</th>\n",
              "      <th>PaymentMethod</th>\n",
              "      <th>MonthlyCharges</th>\n",
              "      <th>TotalCharges</th>\n",
              "    </tr>\n",
              "  </thead>\n",
              "  <tbody>\n",
              "    <tr>\n",
              "      <th>0</th>\n",
              "      <td>7590-VHVEG</td>\n",
              "      <td>2020-01-01</td>\n",
              "      <td>NaT</td>\n",
              "      <td>Month-to-month</td>\n",
              "      <td>Yes</td>\n",
              "      <td>Electronic check</td>\n",
              "      <td>29.85</td>\n",
              "      <td>29.85</td>\n",
              "    </tr>\n",
              "    <tr>\n",
              "      <th>1</th>\n",
              "      <td>5575-GNVDE</td>\n",
              "      <td>2017-04-01</td>\n",
              "      <td>NaT</td>\n",
              "      <td>One year</td>\n",
              "      <td>No</td>\n",
              "      <td>Mailed check</td>\n",
              "      <td>56.95</td>\n",
              "      <td>1889.50</td>\n",
              "    </tr>\n",
              "    <tr>\n",
              "      <th>2</th>\n",
              "      <td>3668-QPYBK</td>\n",
              "      <td>2019-10-01</td>\n",
              "      <td>2019-12-01</td>\n",
              "      <td>Month-to-month</td>\n",
              "      <td>Yes</td>\n",
              "      <td>Mailed check</td>\n",
              "      <td>53.85</td>\n",
              "      <td>108.15</td>\n",
              "    </tr>\n",
              "    <tr>\n",
              "      <th>3</th>\n",
              "      <td>7795-CFOCW</td>\n",
              "      <td>2016-05-01</td>\n",
              "      <td>NaT</td>\n",
              "      <td>One year</td>\n",
              "      <td>No</td>\n",
              "      <td>Bank transfer (automatic)</td>\n",
              "      <td>42.30</td>\n",
              "      <td>1840.75</td>\n",
              "    </tr>\n",
              "    <tr>\n",
              "      <th>4</th>\n",
              "      <td>9237-HQITU</td>\n",
              "      <td>2019-09-01</td>\n",
              "      <td>2019-11-01</td>\n",
              "      <td>Month-to-month</td>\n",
              "      <td>Yes</td>\n",
              "      <td>Electronic check</td>\n",
              "      <td>70.70</td>\n",
              "      <td>151.65</td>\n",
              "    </tr>\n",
              "  </tbody>\n",
              "</table>\n",
              "</div>\n",
              "    <div class=\"colab-df-buttons\">\n",
              "\n",
              "  <div class=\"colab-df-container\">\n",
              "    <button class=\"colab-df-convert\" onclick=\"convertToInteractive('df-81a001e2-dd35-4c25-a2a7-6fed625fdb77')\"\n",
              "            title=\"Convert this dataframe to an interactive table.\"\n",
              "            style=\"display:none;\">\n",
              "\n",
              "  <svg xmlns=\"http://www.w3.org/2000/svg\" height=\"24px\" viewBox=\"0 -960 960 960\">\n",
              "    <path d=\"M120-120v-720h720v720H120Zm60-500h600v-160H180v160Zm220 220h160v-160H400v160Zm0 220h160v-160H400v160ZM180-400h160v-160H180v160Zm440 0h160v-160H620v160ZM180-180h160v-160H180v160Zm440 0h160v-160H620v160Z\"/>\n",
              "  </svg>\n",
              "    </button>\n",
              "\n",
              "  <style>\n",
              "    .colab-df-container {\n",
              "      display:flex;\n",
              "      gap: 12px;\n",
              "    }\n",
              "\n",
              "    .colab-df-convert {\n",
              "      background-color: #E8F0FE;\n",
              "      border: none;\n",
              "      border-radius: 50%;\n",
              "      cursor: pointer;\n",
              "      display: none;\n",
              "      fill: #1967D2;\n",
              "      height: 32px;\n",
              "      padding: 0 0 0 0;\n",
              "      width: 32px;\n",
              "    }\n",
              "\n",
              "    .colab-df-convert:hover {\n",
              "      background-color: #E2EBFA;\n",
              "      box-shadow: 0px 1px 2px rgba(60, 64, 67, 0.3), 0px 1px 3px 1px rgba(60, 64, 67, 0.15);\n",
              "      fill: #174EA6;\n",
              "    }\n",
              "\n",
              "    .colab-df-buttons div {\n",
              "      margin-bottom: 4px;\n",
              "    }\n",
              "\n",
              "    [theme=dark] .colab-df-convert {\n",
              "      background-color: #3B4455;\n",
              "      fill: #D2E3FC;\n",
              "    }\n",
              "\n",
              "    [theme=dark] .colab-df-convert:hover {\n",
              "      background-color: #434B5C;\n",
              "      box-shadow: 0px 1px 3px 1px rgba(0, 0, 0, 0.15);\n",
              "      filter: drop-shadow(0px 1px 2px rgba(0, 0, 0, 0.3));\n",
              "      fill: #FFFFFF;\n",
              "    }\n",
              "  </style>\n",
              "\n",
              "    <script>\n",
              "      const buttonEl =\n",
              "        document.querySelector('#df-81a001e2-dd35-4c25-a2a7-6fed625fdb77 button.colab-df-convert');\n",
              "      buttonEl.style.display =\n",
              "        google.colab.kernel.accessAllowed ? 'block' : 'none';\n",
              "\n",
              "      async function convertToInteractive(key) {\n",
              "        const element = document.querySelector('#df-81a001e2-dd35-4c25-a2a7-6fed625fdb77');\n",
              "        const dataTable =\n",
              "          await google.colab.kernel.invokeFunction('convertToInteractive',\n",
              "                                                    [key], {});\n",
              "        if (!dataTable) return;\n",
              "\n",
              "        const docLinkHtml = 'Like what you see? Visit the ' +\n",
              "          '<a target=\"_blank\" href=https://colab.research.google.com/notebooks/data_table.ipynb>data table notebook</a>'\n",
              "          + ' to learn more about interactive tables.';\n",
              "        element.innerHTML = '';\n",
              "        dataTable['output_type'] = 'display_data';\n",
              "        await google.colab.output.renderOutput(dataTable, element);\n",
              "        const docLink = document.createElement('div');\n",
              "        docLink.innerHTML = docLinkHtml;\n",
              "        element.appendChild(docLink);\n",
              "      }\n",
              "    </script>\n",
              "  </div>\n",
              "\n",
              "\n",
              "    <div id=\"df-ac7a5640-998e-4f0f-8096-a92eaa890bd9\">\n",
              "      <button class=\"colab-df-quickchart\" onclick=\"quickchart('df-ac7a5640-998e-4f0f-8096-a92eaa890bd9')\"\n",
              "                title=\"Suggest charts\"\n",
              "                style=\"display:none;\">\n",
              "\n",
              "<svg xmlns=\"http://www.w3.org/2000/svg\" height=\"24px\"viewBox=\"0 0 24 24\"\n",
              "     width=\"24px\">\n",
              "    <g>\n",
              "        <path d=\"M19 3H5c-1.1 0-2 .9-2 2v14c0 1.1.9 2 2 2h14c1.1 0 2-.9 2-2V5c0-1.1-.9-2-2-2zM9 17H7v-7h2v7zm4 0h-2V7h2v10zm4 0h-2v-4h2v4z\"/>\n",
              "    </g>\n",
              "</svg>\n",
              "      </button>\n",
              "\n",
              "<style>\n",
              "  .colab-df-quickchart {\n",
              "      --bg-color: #E8F0FE;\n",
              "      --fill-color: #1967D2;\n",
              "      --hover-bg-color: #E2EBFA;\n",
              "      --hover-fill-color: #174EA6;\n",
              "      --disabled-fill-color: #AAA;\n",
              "      --disabled-bg-color: #DDD;\n",
              "  }\n",
              "\n",
              "  [theme=dark] .colab-df-quickchart {\n",
              "      --bg-color: #3B4455;\n",
              "      --fill-color: #D2E3FC;\n",
              "      --hover-bg-color: #434B5C;\n",
              "      --hover-fill-color: #FFFFFF;\n",
              "      --disabled-bg-color: #3B4455;\n",
              "      --disabled-fill-color: #666;\n",
              "  }\n",
              "\n",
              "  .colab-df-quickchart {\n",
              "    background-color: var(--bg-color);\n",
              "    border: none;\n",
              "    border-radius: 50%;\n",
              "    cursor: pointer;\n",
              "    display: none;\n",
              "    fill: var(--fill-color);\n",
              "    height: 32px;\n",
              "    padding: 0;\n",
              "    width: 32px;\n",
              "  }\n",
              "\n",
              "  .colab-df-quickchart:hover {\n",
              "    background-color: var(--hover-bg-color);\n",
              "    box-shadow: 0 1px 2px rgba(60, 64, 67, 0.3), 0 1px 3px 1px rgba(60, 64, 67, 0.15);\n",
              "    fill: var(--button-hover-fill-color);\n",
              "  }\n",
              "\n",
              "  .colab-df-quickchart-complete:disabled,\n",
              "  .colab-df-quickchart-complete:disabled:hover {\n",
              "    background-color: var(--disabled-bg-color);\n",
              "    fill: var(--disabled-fill-color);\n",
              "    box-shadow: none;\n",
              "  }\n",
              "\n",
              "  .colab-df-spinner {\n",
              "    border: 2px solid var(--fill-color);\n",
              "    border-color: transparent;\n",
              "    border-bottom-color: var(--fill-color);\n",
              "    animation:\n",
              "      spin 1s steps(1) infinite;\n",
              "  }\n",
              "\n",
              "  @keyframes spin {\n",
              "    0% {\n",
              "      border-color: transparent;\n",
              "      border-bottom-color: var(--fill-color);\n",
              "      border-left-color: var(--fill-color);\n",
              "    }\n",
              "    20% {\n",
              "      border-color: transparent;\n",
              "      border-left-color: var(--fill-color);\n",
              "      border-top-color: var(--fill-color);\n",
              "    }\n",
              "    30% {\n",
              "      border-color: transparent;\n",
              "      border-left-color: var(--fill-color);\n",
              "      border-top-color: var(--fill-color);\n",
              "      border-right-color: var(--fill-color);\n",
              "    }\n",
              "    40% {\n",
              "      border-color: transparent;\n",
              "      border-right-color: var(--fill-color);\n",
              "      border-top-color: var(--fill-color);\n",
              "    }\n",
              "    60% {\n",
              "      border-color: transparent;\n",
              "      border-right-color: var(--fill-color);\n",
              "    }\n",
              "    80% {\n",
              "      border-color: transparent;\n",
              "      border-right-color: var(--fill-color);\n",
              "      border-bottom-color: var(--fill-color);\n",
              "    }\n",
              "    90% {\n",
              "      border-color: transparent;\n",
              "      border-bottom-color: var(--fill-color);\n",
              "    }\n",
              "  }\n",
              "</style>\n",
              "\n",
              "      <script>\n",
              "        async function quickchart(key) {\n",
              "          const quickchartButtonEl =\n",
              "            document.querySelector('#' + key + ' button');\n",
              "          quickchartButtonEl.disabled = true;  // To prevent multiple clicks.\n",
              "          quickchartButtonEl.classList.add('colab-df-spinner');\n",
              "          try {\n",
              "            const charts = await google.colab.kernel.invokeFunction(\n",
              "                'suggestCharts', [key], {});\n",
              "          } catch (error) {\n",
              "            console.error('Error during call to suggestCharts:', error);\n",
              "          }\n",
              "          quickchartButtonEl.classList.remove('colab-df-spinner');\n",
              "          quickchartButtonEl.classList.add('colab-df-quickchart-complete');\n",
              "        }\n",
              "        (() => {\n",
              "          let quickchartButtonEl =\n",
              "            document.querySelector('#df-ac7a5640-998e-4f0f-8096-a92eaa890bd9 button');\n",
              "          quickchartButtonEl.style.display =\n",
              "            google.colab.kernel.accessAllowed ? 'block' : 'none';\n",
              "        })();\n",
              "      </script>\n",
              "    </div>\n",
              "\n",
              "    </div>\n",
              "  </div>\n"
            ],
            "application/vnd.google.colaboratory.intrinsic+json": {
              "type": "dataframe",
              "variable_name": "contract_data",
              "summary": "{\n  \"name\": \"contract_data\",\n  \"rows\": 7043,\n  \"fields\": [\n    {\n      \"column\": \"customerID\",\n      \"properties\": {\n        \"dtype\": \"string\",\n        \"num_unique_values\": 7043,\n        \"samples\": [\n          \"1024-GUALD\",\n          \"0484-JPBRU\",\n          \"3620-EHIMZ\"\n        ],\n        \"semantic_type\": \"\",\n        \"description\": \"\"\n      }\n    },\n    {\n      \"column\": \"BeginDate\",\n      \"properties\": {\n        \"dtype\": \"date\",\n        \"min\": \"2013-10-01 00:00:00\",\n        \"max\": \"2020-02-01 00:00:00\",\n        \"num_unique_values\": 77,\n        \"samples\": [\n          \"2019-09-01 00:00:00\",\n          \"2016-07-01 00:00:00\",\n          \"2019-01-01 00:00:00\"\n        ],\n        \"semantic_type\": \"\",\n        \"description\": \"\"\n      }\n    },\n    {\n      \"column\": \"EndDate\",\n      \"properties\": {\n        \"dtype\": \"date\",\n        \"min\": \"2019-10-01 00:00:00\",\n        \"max\": \"2020-01-01 00:00:00\",\n        \"num_unique_values\": 4,\n        \"samples\": [\n          \"2019-11-01 00:00:00\",\n          \"2020-01-01 00:00:00\",\n          \"2019-12-01 00:00:00\"\n        ],\n        \"semantic_type\": \"\",\n        \"description\": \"\"\n      }\n    },\n    {\n      \"column\": \"Type\",\n      \"properties\": {\n        \"dtype\": \"category\",\n        \"num_unique_values\": 3,\n        \"samples\": [\n          \"Month-to-month\",\n          \"One year\",\n          \"Two year\"\n        ],\n        \"semantic_type\": \"\",\n        \"description\": \"\"\n      }\n    },\n    {\n      \"column\": \"PaperlessBilling\",\n      \"properties\": {\n        \"dtype\": \"category\",\n        \"num_unique_values\": 2,\n        \"samples\": [\n          \"No\",\n          \"Yes\"\n        ],\n        \"semantic_type\": \"\",\n        \"description\": \"\"\n      }\n    },\n    {\n      \"column\": \"PaymentMethod\",\n      \"properties\": {\n        \"dtype\": \"category\",\n        \"num_unique_values\": 4,\n        \"samples\": [\n          \"Mailed check\",\n          \"Credit card (automatic)\"\n        ],\n        \"semantic_type\": \"\",\n        \"description\": \"\"\n      }\n    },\n    {\n      \"column\": \"MonthlyCharges\",\n      \"properties\": {\n        \"dtype\": \"number\",\n        \"std\": 30.09004709767854,\n        \"min\": 18.25,\n        \"max\": 118.75,\n        \"num_unique_values\": 1585,\n        \"samples\": [\n          48.85,\n          20.05\n        ],\n        \"semantic_type\": \"\",\n        \"description\": \"\"\n      }\n    },\n    {\n      \"column\": \"TotalCharges\",\n      \"properties\": {\n        \"dtype\": \"number\",\n        \"std\": 2266.7944696890195,\n        \"min\": 0.0,\n        \"max\": 8684.8,\n        \"num_unique_values\": 6531,\n        \"samples\": [\n          4600.7,\n          20.35\n        ],\n        \"semantic_type\": \"\",\n        \"description\": \"\"\n      }\n    }\n  ]\n}"
            }
          },
          "metadata": {},
          "execution_count": 6
        }
      ],
      "source": [
        "# We're converting the column to a number and filling out nulls with 0.\n",
        "\n",
        "contract_data['TotalCharges'] = pd.to_numeric(contract_data['TotalCharges'],errors='coerce')\n",
        "\n",
        "contract_data['TotalCharges'] = contract_data['TotalCharges'].fillna(0)\n",
        "\n",
        "print(contract_data.info())\n",
        "\n",
        "contract_data.head()"
      ]
    },
    {
      "cell_type": "markdown",
      "metadata": {
        "id": "j13I89H6rQ2n"
      },
      "source": [
        "We're leaving end date NULLs as is. We'll use them to create the Churn target column."
      ]
    },
    {
      "cell_type": "code",
      "execution_count": 7,
      "metadata": {
        "scrolled": true,
        "id": "iYeodwZorQ2n",
        "outputId": "890d1555-fc8b-402f-ed88-ac1cb552bcc0",
        "colab": {
          "base_uri": "https://localhost:8080/",
          "height": 206
        }
      },
      "outputs": [
        {
          "output_type": "display_data",
          "data": {
            "text/plain": [
              "   customerID  BeginDate    EndDate            Type PaperlessBilling  \\\n",
              "0  7590-VHVEG 2020-01-01        NaT  Month-to-month              Yes   \n",
              "1  5575-GNVDE 2017-04-01        NaT        One year               No   \n",
              "2  3668-QPYBK 2019-10-01 2019-12-01  Month-to-month              Yes   \n",
              "3  7795-CFOCW 2016-05-01        NaT        One year               No   \n",
              "4  9237-HQITU 2019-09-01 2019-11-01  Month-to-month              Yes   \n",
              "\n",
              "               PaymentMethod  MonthlyCharges  TotalCharges  Churn  \n",
              "0           Electronic check           29.85         29.85      0  \n",
              "1               Mailed check           56.95       1889.50      0  \n",
              "2               Mailed check           53.85        108.15      1  \n",
              "3  Bank transfer (automatic)           42.30       1840.75      0  \n",
              "4           Electronic check           70.70        151.65      1  "
            ],
            "text/html": [
              "\n",
              "  <div id=\"df-57d135d5-d43b-41dd-a0e7-dcb29d554364\" class=\"colab-df-container\">\n",
              "    <div>\n",
              "<style scoped>\n",
              "    .dataframe tbody tr th:only-of-type {\n",
              "        vertical-align: middle;\n",
              "    }\n",
              "\n",
              "    .dataframe tbody tr th {\n",
              "        vertical-align: top;\n",
              "    }\n",
              "\n",
              "    .dataframe thead th {\n",
              "        text-align: right;\n",
              "    }\n",
              "</style>\n",
              "<table border=\"1\" class=\"dataframe\">\n",
              "  <thead>\n",
              "    <tr style=\"text-align: right;\">\n",
              "      <th></th>\n",
              "      <th>customerID</th>\n",
              "      <th>BeginDate</th>\n",
              "      <th>EndDate</th>\n",
              "      <th>Type</th>\n",
              "      <th>PaperlessBilling</th>\n",
              "      <th>PaymentMethod</th>\n",
              "      <th>MonthlyCharges</th>\n",
              "      <th>TotalCharges</th>\n",
              "      <th>Churn</th>\n",
              "    </tr>\n",
              "  </thead>\n",
              "  <tbody>\n",
              "    <tr>\n",
              "      <th>0</th>\n",
              "      <td>7590-VHVEG</td>\n",
              "      <td>2020-01-01</td>\n",
              "      <td>NaT</td>\n",
              "      <td>Month-to-month</td>\n",
              "      <td>Yes</td>\n",
              "      <td>Electronic check</td>\n",
              "      <td>29.85</td>\n",
              "      <td>29.85</td>\n",
              "      <td>0</td>\n",
              "    </tr>\n",
              "    <tr>\n",
              "      <th>1</th>\n",
              "      <td>5575-GNVDE</td>\n",
              "      <td>2017-04-01</td>\n",
              "      <td>NaT</td>\n",
              "      <td>One year</td>\n",
              "      <td>No</td>\n",
              "      <td>Mailed check</td>\n",
              "      <td>56.95</td>\n",
              "      <td>1889.50</td>\n",
              "      <td>0</td>\n",
              "    </tr>\n",
              "    <tr>\n",
              "      <th>2</th>\n",
              "      <td>3668-QPYBK</td>\n",
              "      <td>2019-10-01</td>\n",
              "      <td>2019-12-01</td>\n",
              "      <td>Month-to-month</td>\n",
              "      <td>Yes</td>\n",
              "      <td>Mailed check</td>\n",
              "      <td>53.85</td>\n",
              "      <td>108.15</td>\n",
              "      <td>1</td>\n",
              "    </tr>\n",
              "    <tr>\n",
              "      <th>3</th>\n",
              "      <td>7795-CFOCW</td>\n",
              "      <td>2016-05-01</td>\n",
              "      <td>NaT</td>\n",
              "      <td>One year</td>\n",
              "      <td>No</td>\n",
              "      <td>Bank transfer (automatic)</td>\n",
              "      <td>42.30</td>\n",
              "      <td>1840.75</td>\n",
              "      <td>0</td>\n",
              "    </tr>\n",
              "    <tr>\n",
              "      <th>4</th>\n",
              "      <td>9237-HQITU</td>\n",
              "      <td>2019-09-01</td>\n",
              "      <td>2019-11-01</td>\n",
              "      <td>Month-to-month</td>\n",
              "      <td>Yes</td>\n",
              "      <td>Electronic check</td>\n",
              "      <td>70.70</td>\n",
              "      <td>151.65</td>\n",
              "      <td>1</td>\n",
              "    </tr>\n",
              "  </tbody>\n",
              "</table>\n",
              "</div>\n",
              "    <div class=\"colab-df-buttons\">\n",
              "\n",
              "  <div class=\"colab-df-container\">\n",
              "    <button class=\"colab-df-convert\" onclick=\"convertToInteractive('df-57d135d5-d43b-41dd-a0e7-dcb29d554364')\"\n",
              "            title=\"Convert this dataframe to an interactive table.\"\n",
              "            style=\"display:none;\">\n",
              "\n",
              "  <svg xmlns=\"http://www.w3.org/2000/svg\" height=\"24px\" viewBox=\"0 -960 960 960\">\n",
              "    <path d=\"M120-120v-720h720v720H120Zm60-500h600v-160H180v160Zm220 220h160v-160H400v160Zm0 220h160v-160H400v160ZM180-400h160v-160H180v160Zm440 0h160v-160H620v160ZM180-180h160v-160H180v160Zm440 0h160v-160H620v160Z\"/>\n",
              "  </svg>\n",
              "    </button>\n",
              "\n",
              "  <style>\n",
              "    .colab-df-container {\n",
              "      display:flex;\n",
              "      gap: 12px;\n",
              "    }\n",
              "\n",
              "    .colab-df-convert {\n",
              "      background-color: #E8F0FE;\n",
              "      border: none;\n",
              "      border-radius: 50%;\n",
              "      cursor: pointer;\n",
              "      display: none;\n",
              "      fill: #1967D2;\n",
              "      height: 32px;\n",
              "      padding: 0 0 0 0;\n",
              "      width: 32px;\n",
              "    }\n",
              "\n",
              "    .colab-df-convert:hover {\n",
              "      background-color: #E2EBFA;\n",
              "      box-shadow: 0px 1px 2px rgba(60, 64, 67, 0.3), 0px 1px 3px 1px rgba(60, 64, 67, 0.15);\n",
              "      fill: #174EA6;\n",
              "    }\n",
              "\n",
              "    .colab-df-buttons div {\n",
              "      margin-bottom: 4px;\n",
              "    }\n",
              "\n",
              "    [theme=dark] .colab-df-convert {\n",
              "      background-color: #3B4455;\n",
              "      fill: #D2E3FC;\n",
              "    }\n",
              "\n",
              "    [theme=dark] .colab-df-convert:hover {\n",
              "      background-color: #434B5C;\n",
              "      box-shadow: 0px 1px 3px 1px rgba(0, 0, 0, 0.15);\n",
              "      filter: drop-shadow(0px 1px 2px rgba(0, 0, 0, 0.3));\n",
              "      fill: #FFFFFF;\n",
              "    }\n",
              "  </style>\n",
              "\n",
              "    <script>\n",
              "      const buttonEl =\n",
              "        document.querySelector('#df-57d135d5-d43b-41dd-a0e7-dcb29d554364 button.colab-df-convert');\n",
              "      buttonEl.style.display =\n",
              "        google.colab.kernel.accessAllowed ? 'block' : 'none';\n",
              "\n",
              "      async function convertToInteractive(key) {\n",
              "        const element = document.querySelector('#df-57d135d5-d43b-41dd-a0e7-dcb29d554364');\n",
              "        const dataTable =\n",
              "          await google.colab.kernel.invokeFunction('convertToInteractive',\n",
              "                                                    [key], {});\n",
              "        if (!dataTable) return;\n",
              "\n",
              "        const docLinkHtml = 'Like what you see? Visit the ' +\n",
              "          '<a target=\"_blank\" href=https://colab.research.google.com/notebooks/data_table.ipynb>data table notebook</a>'\n",
              "          + ' to learn more about interactive tables.';\n",
              "        element.innerHTML = '';\n",
              "        dataTable['output_type'] = 'display_data';\n",
              "        await google.colab.output.renderOutput(dataTable, element);\n",
              "        const docLink = document.createElement('div');\n",
              "        docLink.innerHTML = docLinkHtml;\n",
              "        element.appendChild(docLink);\n",
              "      }\n",
              "    </script>\n",
              "  </div>\n",
              "\n",
              "\n",
              "    <div id=\"df-faaf0df7-b488-4a17-8a7a-df11c960aecc\">\n",
              "      <button class=\"colab-df-quickchart\" onclick=\"quickchart('df-faaf0df7-b488-4a17-8a7a-df11c960aecc')\"\n",
              "                title=\"Suggest charts\"\n",
              "                style=\"display:none;\">\n",
              "\n",
              "<svg xmlns=\"http://www.w3.org/2000/svg\" height=\"24px\"viewBox=\"0 0 24 24\"\n",
              "     width=\"24px\">\n",
              "    <g>\n",
              "        <path d=\"M19 3H5c-1.1 0-2 .9-2 2v14c0 1.1.9 2 2 2h14c1.1 0 2-.9 2-2V5c0-1.1-.9-2-2-2zM9 17H7v-7h2v7zm4 0h-2V7h2v10zm4 0h-2v-4h2v4z\"/>\n",
              "    </g>\n",
              "</svg>\n",
              "      </button>\n",
              "\n",
              "<style>\n",
              "  .colab-df-quickchart {\n",
              "      --bg-color: #E8F0FE;\n",
              "      --fill-color: #1967D2;\n",
              "      --hover-bg-color: #E2EBFA;\n",
              "      --hover-fill-color: #174EA6;\n",
              "      --disabled-fill-color: #AAA;\n",
              "      --disabled-bg-color: #DDD;\n",
              "  }\n",
              "\n",
              "  [theme=dark] .colab-df-quickchart {\n",
              "      --bg-color: #3B4455;\n",
              "      --fill-color: #D2E3FC;\n",
              "      --hover-bg-color: #434B5C;\n",
              "      --hover-fill-color: #FFFFFF;\n",
              "      --disabled-bg-color: #3B4455;\n",
              "      --disabled-fill-color: #666;\n",
              "  }\n",
              "\n",
              "  .colab-df-quickchart {\n",
              "    background-color: var(--bg-color);\n",
              "    border: none;\n",
              "    border-radius: 50%;\n",
              "    cursor: pointer;\n",
              "    display: none;\n",
              "    fill: var(--fill-color);\n",
              "    height: 32px;\n",
              "    padding: 0;\n",
              "    width: 32px;\n",
              "  }\n",
              "\n",
              "  .colab-df-quickchart:hover {\n",
              "    background-color: var(--hover-bg-color);\n",
              "    box-shadow: 0 1px 2px rgba(60, 64, 67, 0.3), 0 1px 3px 1px rgba(60, 64, 67, 0.15);\n",
              "    fill: var(--button-hover-fill-color);\n",
              "  }\n",
              "\n",
              "  .colab-df-quickchart-complete:disabled,\n",
              "  .colab-df-quickchart-complete:disabled:hover {\n",
              "    background-color: var(--disabled-bg-color);\n",
              "    fill: var(--disabled-fill-color);\n",
              "    box-shadow: none;\n",
              "  }\n",
              "\n",
              "  .colab-df-spinner {\n",
              "    border: 2px solid var(--fill-color);\n",
              "    border-color: transparent;\n",
              "    border-bottom-color: var(--fill-color);\n",
              "    animation:\n",
              "      spin 1s steps(1) infinite;\n",
              "  }\n",
              "\n",
              "  @keyframes spin {\n",
              "    0% {\n",
              "      border-color: transparent;\n",
              "      border-bottom-color: var(--fill-color);\n",
              "      border-left-color: var(--fill-color);\n",
              "    }\n",
              "    20% {\n",
              "      border-color: transparent;\n",
              "      border-left-color: var(--fill-color);\n",
              "      border-top-color: var(--fill-color);\n",
              "    }\n",
              "    30% {\n",
              "      border-color: transparent;\n",
              "      border-left-color: var(--fill-color);\n",
              "      border-top-color: var(--fill-color);\n",
              "      border-right-color: var(--fill-color);\n",
              "    }\n",
              "    40% {\n",
              "      border-color: transparent;\n",
              "      border-right-color: var(--fill-color);\n",
              "      border-top-color: var(--fill-color);\n",
              "    }\n",
              "    60% {\n",
              "      border-color: transparent;\n",
              "      border-right-color: var(--fill-color);\n",
              "    }\n",
              "    80% {\n",
              "      border-color: transparent;\n",
              "      border-right-color: var(--fill-color);\n",
              "      border-bottom-color: var(--fill-color);\n",
              "    }\n",
              "    90% {\n",
              "      border-color: transparent;\n",
              "      border-bottom-color: var(--fill-color);\n",
              "    }\n",
              "  }\n",
              "</style>\n",
              "\n",
              "      <script>\n",
              "        async function quickchart(key) {\n",
              "          const quickchartButtonEl =\n",
              "            document.querySelector('#' + key + ' button');\n",
              "          quickchartButtonEl.disabled = true;  // To prevent multiple clicks.\n",
              "          quickchartButtonEl.classList.add('colab-df-spinner');\n",
              "          try {\n",
              "            const charts = await google.colab.kernel.invokeFunction(\n",
              "                'suggestCharts', [key], {});\n",
              "          } catch (error) {\n",
              "            console.error('Error during call to suggestCharts:', error);\n",
              "          }\n",
              "          quickchartButtonEl.classList.remove('colab-df-spinner');\n",
              "          quickchartButtonEl.classList.add('colab-df-quickchart-complete');\n",
              "        }\n",
              "        (() => {\n",
              "          let quickchartButtonEl =\n",
              "            document.querySelector('#df-faaf0df7-b488-4a17-8a7a-df11c960aecc button');\n",
              "          quickchartButtonEl.style.display =\n",
              "            google.colab.kernel.accessAllowed ? 'block' : 'none';\n",
              "        })();\n",
              "      </script>\n",
              "    </div>\n",
              "\n",
              "    </div>\n",
              "  </div>\n"
            ],
            "application/vnd.google.colaboratory.intrinsic+json": {
              "type": "dataframe",
              "summary": "{\n  \"name\": \"display(contract_data\",\n  \"rows\": 5,\n  \"fields\": [\n    {\n      \"column\": \"customerID\",\n      \"properties\": {\n        \"dtype\": \"string\",\n        \"num_unique_values\": 5,\n        \"samples\": [\n          \"5575-GNVDE\",\n          \"9237-HQITU\",\n          \"3668-QPYBK\"\n        ],\n        \"semantic_type\": \"\",\n        \"description\": \"\"\n      }\n    },\n    {\n      \"column\": \"BeginDate\",\n      \"properties\": {\n        \"dtype\": \"date\",\n        \"min\": \"2016-05-01 00:00:00\",\n        \"max\": \"2020-01-01 00:00:00\",\n        \"num_unique_values\": 5,\n        \"samples\": [\n          \"2017-04-01 00:00:00\",\n          \"2019-09-01 00:00:00\",\n          \"2019-10-01 00:00:00\"\n        ],\n        \"semantic_type\": \"\",\n        \"description\": \"\"\n      }\n    },\n    {\n      \"column\": \"EndDate\",\n      \"properties\": {\n        \"dtype\": \"date\",\n        \"min\": \"2019-11-01 00:00:00\",\n        \"max\": \"2019-12-01 00:00:00\",\n        \"num_unique_values\": 2,\n        \"samples\": [\n          \"2019-11-01 00:00:00\",\n          \"2019-12-01 00:00:00\"\n        ],\n        \"semantic_type\": \"\",\n        \"description\": \"\"\n      }\n    },\n    {\n      \"column\": \"Type\",\n      \"properties\": {\n        \"dtype\": \"category\",\n        \"num_unique_values\": 2,\n        \"samples\": [\n          \"One year\",\n          \"Month-to-month\"\n        ],\n        \"semantic_type\": \"\",\n        \"description\": \"\"\n      }\n    },\n    {\n      \"column\": \"PaperlessBilling\",\n      \"properties\": {\n        \"dtype\": \"category\",\n        \"num_unique_values\": 2,\n        \"samples\": [\n          \"No\",\n          \"Yes\"\n        ],\n        \"semantic_type\": \"\",\n        \"description\": \"\"\n      }\n    },\n    {\n      \"column\": \"PaymentMethod\",\n      \"properties\": {\n        \"dtype\": \"string\",\n        \"num_unique_values\": 3,\n        \"samples\": [\n          \"Electronic check\",\n          \"Mailed check\"\n        ],\n        \"semantic_type\": \"\",\n        \"description\": \"\"\n      }\n    },\n    {\n      \"column\": \"MonthlyCharges\",\n      \"properties\": {\n        \"dtype\": \"number\",\n        \"std\": 15.445573799635934,\n        \"min\": 29.85,\n        \"max\": 70.7,\n        \"num_unique_values\": 5,\n        \"samples\": [\n          56.95,\n          70.7\n        ],\n        \"semantic_type\": \"\",\n        \"description\": \"\"\n      }\n    },\n    {\n      \"column\": \"TotalCharges\",\n      \"properties\": {\n        \"dtype\": \"number\",\n        \"std\": 969.8243111512518,\n        \"min\": 29.85,\n        \"max\": 1889.5,\n        \"num_unique_values\": 5,\n        \"samples\": [\n          1889.5,\n          151.65\n        ],\n        \"semantic_type\": \"\",\n        \"description\": \"\"\n      }\n    },\n    {\n      \"column\": \"Churn\",\n      \"properties\": {\n        \"dtype\": \"number\",\n        \"std\": 0,\n        \"min\": 0,\n        \"max\": 1,\n        \"num_unique_values\": 2,\n        \"samples\": [\n          1,\n          0\n        ],\n        \"semantic_type\": \"\",\n        \"description\": \"\"\n      }\n    }\n  ]\n}"
            }
          },
          "metadata": {}
        }
      ],
      "source": [
        "# Create the Churn column and fill with 0 if there is no contract end date, 1 if there is, which means the contract churned.\n",
        "\n",
        "contract_data['Churn'] = np.where(contract_data['EndDate'].isna(), 0, 1)\n",
        "display(contract_data.head())"
      ]
    },
    {
      "cell_type": "markdown",
      "metadata": {
        "id": "FMwE1DixrQ2n"
      },
      "source": [
        "Changing Paperless Billing from Yes and No to binary. 1 for Yes, 0 for No."
      ]
    },
    {
      "cell_type": "code",
      "execution_count": 8,
      "metadata": {
        "id": "QRHo3UjWrQ2n",
        "outputId": "b507215d-dd80-45af-ce9d-66ba1320f7ae",
        "colab": {
          "base_uri": "https://localhost:8080/",
          "height": 206
        }
      },
      "outputs": [
        {
          "output_type": "display_data",
          "data": {
            "text/plain": [
              "   customerID  BeginDate    EndDate            Type  PaperlessBilling  \\\n",
              "0  7590-VHVEG 2020-01-01        NaT  Month-to-month                 1   \n",
              "1  5575-GNVDE 2017-04-01        NaT        One year                 0   \n",
              "2  3668-QPYBK 2019-10-01 2019-12-01  Month-to-month                 1   \n",
              "3  7795-CFOCW 2016-05-01        NaT        One year                 0   \n",
              "4  9237-HQITU 2019-09-01 2019-11-01  Month-to-month                 1   \n",
              "\n",
              "               PaymentMethod  MonthlyCharges  TotalCharges  Churn  \n",
              "0           Electronic check           29.85         29.85      0  \n",
              "1               Mailed check           56.95       1889.50      0  \n",
              "2               Mailed check           53.85        108.15      1  \n",
              "3  Bank transfer (automatic)           42.30       1840.75      0  \n",
              "4           Electronic check           70.70        151.65      1  "
            ],
            "text/html": [
              "\n",
              "  <div id=\"df-ef0c7bf9-454e-4db5-95d7-13839ff6b508\" class=\"colab-df-container\">\n",
              "    <div>\n",
              "<style scoped>\n",
              "    .dataframe tbody tr th:only-of-type {\n",
              "        vertical-align: middle;\n",
              "    }\n",
              "\n",
              "    .dataframe tbody tr th {\n",
              "        vertical-align: top;\n",
              "    }\n",
              "\n",
              "    .dataframe thead th {\n",
              "        text-align: right;\n",
              "    }\n",
              "</style>\n",
              "<table border=\"1\" class=\"dataframe\">\n",
              "  <thead>\n",
              "    <tr style=\"text-align: right;\">\n",
              "      <th></th>\n",
              "      <th>customerID</th>\n",
              "      <th>BeginDate</th>\n",
              "      <th>EndDate</th>\n",
              "      <th>Type</th>\n",
              "      <th>PaperlessBilling</th>\n",
              "      <th>PaymentMethod</th>\n",
              "      <th>MonthlyCharges</th>\n",
              "      <th>TotalCharges</th>\n",
              "      <th>Churn</th>\n",
              "    </tr>\n",
              "  </thead>\n",
              "  <tbody>\n",
              "    <tr>\n",
              "      <th>0</th>\n",
              "      <td>7590-VHVEG</td>\n",
              "      <td>2020-01-01</td>\n",
              "      <td>NaT</td>\n",
              "      <td>Month-to-month</td>\n",
              "      <td>1</td>\n",
              "      <td>Electronic check</td>\n",
              "      <td>29.85</td>\n",
              "      <td>29.85</td>\n",
              "      <td>0</td>\n",
              "    </tr>\n",
              "    <tr>\n",
              "      <th>1</th>\n",
              "      <td>5575-GNVDE</td>\n",
              "      <td>2017-04-01</td>\n",
              "      <td>NaT</td>\n",
              "      <td>One year</td>\n",
              "      <td>0</td>\n",
              "      <td>Mailed check</td>\n",
              "      <td>56.95</td>\n",
              "      <td>1889.50</td>\n",
              "      <td>0</td>\n",
              "    </tr>\n",
              "    <tr>\n",
              "      <th>2</th>\n",
              "      <td>3668-QPYBK</td>\n",
              "      <td>2019-10-01</td>\n",
              "      <td>2019-12-01</td>\n",
              "      <td>Month-to-month</td>\n",
              "      <td>1</td>\n",
              "      <td>Mailed check</td>\n",
              "      <td>53.85</td>\n",
              "      <td>108.15</td>\n",
              "      <td>1</td>\n",
              "    </tr>\n",
              "    <tr>\n",
              "      <th>3</th>\n",
              "      <td>7795-CFOCW</td>\n",
              "      <td>2016-05-01</td>\n",
              "      <td>NaT</td>\n",
              "      <td>One year</td>\n",
              "      <td>0</td>\n",
              "      <td>Bank transfer (automatic)</td>\n",
              "      <td>42.30</td>\n",
              "      <td>1840.75</td>\n",
              "      <td>0</td>\n",
              "    </tr>\n",
              "    <tr>\n",
              "      <th>4</th>\n",
              "      <td>9237-HQITU</td>\n",
              "      <td>2019-09-01</td>\n",
              "      <td>2019-11-01</td>\n",
              "      <td>Month-to-month</td>\n",
              "      <td>1</td>\n",
              "      <td>Electronic check</td>\n",
              "      <td>70.70</td>\n",
              "      <td>151.65</td>\n",
              "      <td>1</td>\n",
              "    </tr>\n",
              "  </tbody>\n",
              "</table>\n",
              "</div>\n",
              "    <div class=\"colab-df-buttons\">\n",
              "\n",
              "  <div class=\"colab-df-container\">\n",
              "    <button class=\"colab-df-convert\" onclick=\"convertToInteractive('df-ef0c7bf9-454e-4db5-95d7-13839ff6b508')\"\n",
              "            title=\"Convert this dataframe to an interactive table.\"\n",
              "            style=\"display:none;\">\n",
              "\n",
              "  <svg xmlns=\"http://www.w3.org/2000/svg\" height=\"24px\" viewBox=\"0 -960 960 960\">\n",
              "    <path d=\"M120-120v-720h720v720H120Zm60-500h600v-160H180v160Zm220 220h160v-160H400v160Zm0 220h160v-160H400v160ZM180-400h160v-160H180v160Zm440 0h160v-160H620v160ZM180-180h160v-160H180v160Zm440 0h160v-160H620v160Z\"/>\n",
              "  </svg>\n",
              "    </button>\n",
              "\n",
              "  <style>\n",
              "    .colab-df-container {\n",
              "      display:flex;\n",
              "      gap: 12px;\n",
              "    }\n",
              "\n",
              "    .colab-df-convert {\n",
              "      background-color: #E8F0FE;\n",
              "      border: none;\n",
              "      border-radius: 50%;\n",
              "      cursor: pointer;\n",
              "      display: none;\n",
              "      fill: #1967D2;\n",
              "      height: 32px;\n",
              "      padding: 0 0 0 0;\n",
              "      width: 32px;\n",
              "    }\n",
              "\n",
              "    .colab-df-convert:hover {\n",
              "      background-color: #E2EBFA;\n",
              "      box-shadow: 0px 1px 2px rgba(60, 64, 67, 0.3), 0px 1px 3px 1px rgba(60, 64, 67, 0.15);\n",
              "      fill: #174EA6;\n",
              "    }\n",
              "\n",
              "    .colab-df-buttons div {\n",
              "      margin-bottom: 4px;\n",
              "    }\n",
              "\n",
              "    [theme=dark] .colab-df-convert {\n",
              "      background-color: #3B4455;\n",
              "      fill: #D2E3FC;\n",
              "    }\n",
              "\n",
              "    [theme=dark] .colab-df-convert:hover {\n",
              "      background-color: #434B5C;\n",
              "      box-shadow: 0px 1px 3px 1px rgba(0, 0, 0, 0.15);\n",
              "      filter: drop-shadow(0px 1px 2px rgba(0, 0, 0, 0.3));\n",
              "      fill: #FFFFFF;\n",
              "    }\n",
              "  </style>\n",
              "\n",
              "    <script>\n",
              "      const buttonEl =\n",
              "        document.querySelector('#df-ef0c7bf9-454e-4db5-95d7-13839ff6b508 button.colab-df-convert');\n",
              "      buttonEl.style.display =\n",
              "        google.colab.kernel.accessAllowed ? 'block' : 'none';\n",
              "\n",
              "      async function convertToInteractive(key) {\n",
              "        const element = document.querySelector('#df-ef0c7bf9-454e-4db5-95d7-13839ff6b508');\n",
              "        const dataTable =\n",
              "          await google.colab.kernel.invokeFunction('convertToInteractive',\n",
              "                                                    [key], {});\n",
              "        if (!dataTable) return;\n",
              "\n",
              "        const docLinkHtml = 'Like what you see? Visit the ' +\n",
              "          '<a target=\"_blank\" href=https://colab.research.google.com/notebooks/data_table.ipynb>data table notebook</a>'\n",
              "          + ' to learn more about interactive tables.';\n",
              "        element.innerHTML = '';\n",
              "        dataTable['output_type'] = 'display_data';\n",
              "        await google.colab.output.renderOutput(dataTable, element);\n",
              "        const docLink = document.createElement('div');\n",
              "        docLink.innerHTML = docLinkHtml;\n",
              "        element.appendChild(docLink);\n",
              "      }\n",
              "    </script>\n",
              "  </div>\n",
              "\n",
              "\n",
              "    <div id=\"df-85ccc77a-0dc0-4542-ba9a-126d732df5fd\">\n",
              "      <button class=\"colab-df-quickchart\" onclick=\"quickchart('df-85ccc77a-0dc0-4542-ba9a-126d732df5fd')\"\n",
              "                title=\"Suggest charts\"\n",
              "                style=\"display:none;\">\n",
              "\n",
              "<svg xmlns=\"http://www.w3.org/2000/svg\" height=\"24px\"viewBox=\"0 0 24 24\"\n",
              "     width=\"24px\">\n",
              "    <g>\n",
              "        <path d=\"M19 3H5c-1.1 0-2 .9-2 2v14c0 1.1.9 2 2 2h14c1.1 0 2-.9 2-2V5c0-1.1-.9-2-2-2zM9 17H7v-7h2v7zm4 0h-2V7h2v10zm4 0h-2v-4h2v4z\"/>\n",
              "    </g>\n",
              "</svg>\n",
              "      </button>\n",
              "\n",
              "<style>\n",
              "  .colab-df-quickchart {\n",
              "      --bg-color: #E8F0FE;\n",
              "      --fill-color: #1967D2;\n",
              "      --hover-bg-color: #E2EBFA;\n",
              "      --hover-fill-color: #174EA6;\n",
              "      --disabled-fill-color: #AAA;\n",
              "      --disabled-bg-color: #DDD;\n",
              "  }\n",
              "\n",
              "  [theme=dark] .colab-df-quickchart {\n",
              "      --bg-color: #3B4455;\n",
              "      --fill-color: #D2E3FC;\n",
              "      --hover-bg-color: #434B5C;\n",
              "      --hover-fill-color: #FFFFFF;\n",
              "      --disabled-bg-color: #3B4455;\n",
              "      --disabled-fill-color: #666;\n",
              "  }\n",
              "\n",
              "  .colab-df-quickchart {\n",
              "    background-color: var(--bg-color);\n",
              "    border: none;\n",
              "    border-radius: 50%;\n",
              "    cursor: pointer;\n",
              "    display: none;\n",
              "    fill: var(--fill-color);\n",
              "    height: 32px;\n",
              "    padding: 0;\n",
              "    width: 32px;\n",
              "  }\n",
              "\n",
              "  .colab-df-quickchart:hover {\n",
              "    background-color: var(--hover-bg-color);\n",
              "    box-shadow: 0 1px 2px rgba(60, 64, 67, 0.3), 0 1px 3px 1px rgba(60, 64, 67, 0.15);\n",
              "    fill: var(--button-hover-fill-color);\n",
              "  }\n",
              "\n",
              "  .colab-df-quickchart-complete:disabled,\n",
              "  .colab-df-quickchart-complete:disabled:hover {\n",
              "    background-color: var(--disabled-bg-color);\n",
              "    fill: var(--disabled-fill-color);\n",
              "    box-shadow: none;\n",
              "  }\n",
              "\n",
              "  .colab-df-spinner {\n",
              "    border: 2px solid var(--fill-color);\n",
              "    border-color: transparent;\n",
              "    border-bottom-color: var(--fill-color);\n",
              "    animation:\n",
              "      spin 1s steps(1) infinite;\n",
              "  }\n",
              "\n",
              "  @keyframes spin {\n",
              "    0% {\n",
              "      border-color: transparent;\n",
              "      border-bottom-color: var(--fill-color);\n",
              "      border-left-color: var(--fill-color);\n",
              "    }\n",
              "    20% {\n",
              "      border-color: transparent;\n",
              "      border-left-color: var(--fill-color);\n",
              "      border-top-color: var(--fill-color);\n",
              "    }\n",
              "    30% {\n",
              "      border-color: transparent;\n",
              "      border-left-color: var(--fill-color);\n",
              "      border-top-color: var(--fill-color);\n",
              "      border-right-color: var(--fill-color);\n",
              "    }\n",
              "    40% {\n",
              "      border-color: transparent;\n",
              "      border-right-color: var(--fill-color);\n",
              "      border-top-color: var(--fill-color);\n",
              "    }\n",
              "    60% {\n",
              "      border-color: transparent;\n",
              "      border-right-color: var(--fill-color);\n",
              "    }\n",
              "    80% {\n",
              "      border-color: transparent;\n",
              "      border-right-color: var(--fill-color);\n",
              "      border-bottom-color: var(--fill-color);\n",
              "    }\n",
              "    90% {\n",
              "      border-color: transparent;\n",
              "      border-bottom-color: var(--fill-color);\n",
              "    }\n",
              "  }\n",
              "</style>\n",
              "\n",
              "      <script>\n",
              "        async function quickchart(key) {\n",
              "          const quickchartButtonEl =\n",
              "            document.querySelector('#' + key + ' button');\n",
              "          quickchartButtonEl.disabled = true;  // To prevent multiple clicks.\n",
              "          quickchartButtonEl.classList.add('colab-df-spinner');\n",
              "          try {\n",
              "            const charts = await google.colab.kernel.invokeFunction(\n",
              "                'suggestCharts', [key], {});\n",
              "          } catch (error) {\n",
              "            console.error('Error during call to suggestCharts:', error);\n",
              "          }\n",
              "          quickchartButtonEl.classList.remove('colab-df-spinner');\n",
              "          quickchartButtonEl.classList.add('colab-df-quickchart-complete');\n",
              "        }\n",
              "        (() => {\n",
              "          let quickchartButtonEl =\n",
              "            document.querySelector('#df-85ccc77a-0dc0-4542-ba9a-126d732df5fd button');\n",
              "          quickchartButtonEl.style.display =\n",
              "            google.colab.kernel.accessAllowed ? 'block' : 'none';\n",
              "        })();\n",
              "      </script>\n",
              "    </div>\n",
              "\n",
              "    </div>\n",
              "  </div>\n"
            ],
            "application/vnd.google.colaboratory.intrinsic+json": {
              "type": "dataframe",
              "summary": "{\n  \"name\": \"display(contract_data\",\n  \"rows\": 5,\n  \"fields\": [\n    {\n      \"column\": \"customerID\",\n      \"properties\": {\n        \"dtype\": \"string\",\n        \"num_unique_values\": 5,\n        \"samples\": [\n          \"5575-GNVDE\",\n          \"9237-HQITU\",\n          \"3668-QPYBK\"\n        ],\n        \"semantic_type\": \"\",\n        \"description\": \"\"\n      }\n    },\n    {\n      \"column\": \"BeginDate\",\n      \"properties\": {\n        \"dtype\": \"date\",\n        \"min\": \"2016-05-01 00:00:00\",\n        \"max\": \"2020-01-01 00:00:00\",\n        \"num_unique_values\": 5,\n        \"samples\": [\n          \"2017-04-01 00:00:00\",\n          \"2019-09-01 00:00:00\",\n          \"2019-10-01 00:00:00\"\n        ],\n        \"semantic_type\": \"\",\n        \"description\": \"\"\n      }\n    },\n    {\n      \"column\": \"EndDate\",\n      \"properties\": {\n        \"dtype\": \"date\",\n        \"min\": \"2019-11-01 00:00:00\",\n        \"max\": \"2019-12-01 00:00:00\",\n        \"num_unique_values\": 2,\n        \"samples\": [\n          \"2019-11-01 00:00:00\",\n          \"2019-12-01 00:00:00\"\n        ],\n        \"semantic_type\": \"\",\n        \"description\": \"\"\n      }\n    },\n    {\n      \"column\": \"Type\",\n      \"properties\": {\n        \"dtype\": \"category\",\n        \"num_unique_values\": 2,\n        \"samples\": [\n          \"One year\",\n          \"Month-to-month\"\n        ],\n        \"semantic_type\": \"\",\n        \"description\": \"\"\n      }\n    },\n    {\n      \"column\": \"PaperlessBilling\",\n      \"properties\": {\n        \"dtype\": \"number\",\n        \"std\": 0,\n        \"min\": 0,\n        \"max\": 1,\n        \"num_unique_values\": 2,\n        \"samples\": [\n          0,\n          1\n        ],\n        \"semantic_type\": \"\",\n        \"description\": \"\"\n      }\n    },\n    {\n      \"column\": \"PaymentMethod\",\n      \"properties\": {\n        \"dtype\": \"string\",\n        \"num_unique_values\": 3,\n        \"samples\": [\n          \"Electronic check\",\n          \"Mailed check\"\n        ],\n        \"semantic_type\": \"\",\n        \"description\": \"\"\n      }\n    },\n    {\n      \"column\": \"MonthlyCharges\",\n      \"properties\": {\n        \"dtype\": \"number\",\n        \"std\": 15.445573799635934,\n        \"min\": 29.85,\n        \"max\": 70.7,\n        \"num_unique_values\": 5,\n        \"samples\": [\n          56.95,\n          70.7\n        ],\n        \"semantic_type\": \"\",\n        \"description\": \"\"\n      }\n    },\n    {\n      \"column\": \"TotalCharges\",\n      \"properties\": {\n        \"dtype\": \"number\",\n        \"std\": 969.8243111512518,\n        \"min\": 29.85,\n        \"max\": 1889.5,\n        \"num_unique_values\": 5,\n        \"samples\": [\n          1889.5,\n          151.65\n        ],\n        \"semantic_type\": \"\",\n        \"description\": \"\"\n      }\n    },\n    {\n      \"column\": \"Churn\",\n      \"properties\": {\n        \"dtype\": \"number\",\n        \"std\": 0,\n        \"min\": 0,\n        \"max\": 1,\n        \"num_unique_values\": 2,\n        \"samples\": [\n          1,\n          0\n        ],\n        \"semantic_type\": \"\",\n        \"description\": \"\"\n      }\n    }\n  ]\n}"
            }
          },
          "metadata": {}
        }
      ],
      "source": [
        "contract_data['PaperlessBilling'] = contract_data['PaperlessBilling'].map({'Yes':1, 'No':0})\n",
        "display(contract_data.head())"
      ]
    },
    {
      "cell_type": "code",
      "execution_count": 9,
      "metadata": {
        "scrolled": true,
        "id": "vlqmrQsdrQ2n",
        "outputId": "a90be192-2aae-42b1-daa4-f413263e52d6",
        "colab": {
          "base_uri": "https://localhost:8080/"
        }
      },
      "outputs": [
        {
          "output_type": "stream",
          "name": "stdout",
          "text": [
            "customerID 7043\n",
            "BeginDate 77\n",
            "EndDate 4\n",
            "Type 3\n",
            "PaperlessBilling 2\n",
            "PaymentMethod 4\n",
            "MonthlyCharges 1585\n",
            "TotalCharges 6531\n",
            "Churn 2\n"
          ]
        }
      ],
      "source": [
        "# We'll verify for consistency printing the unique values of each column and see if it makes sense.\n",
        "\n",
        "for column in contract_data.columns:\n",
        "    print(column, contract_data[column].nunique())"
      ]
    },
    {
      "cell_type": "markdown",
      "source": [
        "We'll change the type of data on Type and PaymentMethod to categoric. This will help later on when training our prediction models."
      ],
      "metadata": {
        "id": "3QG5JV2Bq5eQ"
      }
    },
    {
      "cell_type": "code",
      "execution_count": 10,
      "metadata": {
        "scrolled": true,
        "id": "jnmrerDBrQ2n",
        "outputId": "f5687716-e939-4ce1-85e3-b1658e2fb918",
        "colab": {
          "base_uri": "https://localhost:8080/"
        }
      },
      "outputs": [
        {
          "output_type": "stream",
          "name": "stdout",
          "text": [
            "<class 'pandas.core.frame.DataFrame'>\n",
            "RangeIndex: 7043 entries, 0 to 7042\n",
            "Data columns (total 9 columns):\n",
            " #   Column            Non-Null Count  Dtype         \n",
            "---  ------            --------------  -----         \n",
            " 0   customerID        7043 non-null   object        \n",
            " 1   BeginDate         7043 non-null   datetime64[ns]\n",
            " 2   EndDate           1869 non-null   datetime64[ns]\n",
            " 3   Type              7043 non-null   category      \n",
            " 4   PaperlessBilling  7043 non-null   int64         \n",
            " 5   PaymentMethod     7043 non-null   category      \n",
            " 6   MonthlyCharges    7043 non-null   float64       \n",
            " 7   TotalCharges      7043 non-null   float64       \n",
            " 8   Churn             7043 non-null   int64         \n",
            "dtypes: category(2), datetime64[ns](2), float64(2), int64(2), object(1)\n",
            "memory usage: 399.4+ KB\n"
          ]
        }
      ],
      "source": [
        "contract_data['Type'] = contract_data['Type'].astype('category')\n",
        "contract_data['PaymentMethod'] = contract_data['PaymentMethod'].astype('category')\n",
        "\n",
        "contract_data.info()"
      ]
    },
    {
      "cell_type": "markdown",
      "metadata": {
        "id": "IBz9IeUnrQ2o"
      },
      "source": [
        "### Personal Data"
      ]
    },
    {
      "cell_type": "code",
      "execution_count": 11,
      "metadata": {
        "scrolled": false,
        "id": "iPPGLTXLrQ2o",
        "outputId": "bea14b1f-ed68-4dfd-f7be-05f89c66ce13",
        "colab": {
          "base_uri": "https://localhost:8080/",
          "height": 414
        }
      },
      "outputs": [
        {
          "output_type": "stream",
          "name": "stdout",
          "text": [
            "<class 'pandas.core.frame.DataFrame'>\n",
            "RangeIndex: 7043 entries, 0 to 7042\n",
            "Data columns (total 5 columns):\n",
            " #   Column         Non-Null Count  Dtype \n",
            "---  ------         --------------  ----- \n",
            " 0   customerID     7043 non-null   object\n",
            " 1   gender         7043 non-null   object\n",
            " 2   SeniorCitizen  7043 non-null   int64 \n",
            " 3   Partner        7043 non-null   object\n",
            " 4   Dependents     7043 non-null   object\n",
            "dtypes: int64(1), object(4)\n",
            "memory usage: 275.2+ KB\n"
          ]
        },
        {
          "output_type": "execute_result",
          "data": {
            "text/plain": [
              "   customerID  gender  SeniorCitizen Partner Dependents\n",
              "0  7590-VHVEG  Female              0     Yes         No\n",
              "1  5575-GNVDE    Male              0      No         No\n",
              "2  3668-QPYBK    Male              0      No         No\n",
              "3  7795-CFOCW    Male              0      No         No\n",
              "4  9237-HQITU  Female              0      No         No"
            ],
            "text/html": [
              "\n",
              "  <div id=\"df-d6d341d2-8b39-4bfe-aaa9-2e29752a8190\" class=\"colab-df-container\">\n",
              "    <div>\n",
              "<style scoped>\n",
              "    .dataframe tbody tr th:only-of-type {\n",
              "        vertical-align: middle;\n",
              "    }\n",
              "\n",
              "    .dataframe tbody tr th {\n",
              "        vertical-align: top;\n",
              "    }\n",
              "\n",
              "    .dataframe thead th {\n",
              "        text-align: right;\n",
              "    }\n",
              "</style>\n",
              "<table border=\"1\" class=\"dataframe\">\n",
              "  <thead>\n",
              "    <tr style=\"text-align: right;\">\n",
              "      <th></th>\n",
              "      <th>customerID</th>\n",
              "      <th>gender</th>\n",
              "      <th>SeniorCitizen</th>\n",
              "      <th>Partner</th>\n",
              "      <th>Dependents</th>\n",
              "    </tr>\n",
              "  </thead>\n",
              "  <tbody>\n",
              "    <tr>\n",
              "      <th>0</th>\n",
              "      <td>7590-VHVEG</td>\n",
              "      <td>Female</td>\n",
              "      <td>0</td>\n",
              "      <td>Yes</td>\n",
              "      <td>No</td>\n",
              "    </tr>\n",
              "    <tr>\n",
              "      <th>1</th>\n",
              "      <td>5575-GNVDE</td>\n",
              "      <td>Male</td>\n",
              "      <td>0</td>\n",
              "      <td>No</td>\n",
              "      <td>No</td>\n",
              "    </tr>\n",
              "    <tr>\n",
              "      <th>2</th>\n",
              "      <td>3668-QPYBK</td>\n",
              "      <td>Male</td>\n",
              "      <td>0</td>\n",
              "      <td>No</td>\n",
              "      <td>No</td>\n",
              "    </tr>\n",
              "    <tr>\n",
              "      <th>3</th>\n",
              "      <td>7795-CFOCW</td>\n",
              "      <td>Male</td>\n",
              "      <td>0</td>\n",
              "      <td>No</td>\n",
              "      <td>No</td>\n",
              "    </tr>\n",
              "    <tr>\n",
              "      <th>4</th>\n",
              "      <td>9237-HQITU</td>\n",
              "      <td>Female</td>\n",
              "      <td>0</td>\n",
              "      <td>No</td>\n",
              "      <td>No</td>\n",
              "    </tr>\n",
              "  </tbody>\n",
              "</table>\n",
              "</div>\n",
              "    <div class=\"colab-df-buttons\">\n",
              "\n",
              "  <div class=\"colab-df-container\">\n",
              "    <button class=\"colab-df-convert\" onclick=\"convertToInteractive('df-d6d341d2-8b39-4bfe-aaa9-2e29752a8190')\"\n",
              "            title=\"Convert this dataframe to an interactive table.\"\n",
              "            style=\"display:none;\">\n",
              "\n",
              "  <svg xmlns=\"http://www.w3.org/2000/svg\" height=\"24px\" viewBox=\"0 -960 960 960\">\n",
              "    <path d=\"M120-120v-720h720v720H120Zm60-500h600v-160H180v160Zm220 220h160v-160H400v160Zm0 220h160v-160H400v160ZM180-400h160v-160H180v160Zm440 0h160v-160H620v160ZM180-180h160v-160H180v160Zm440 0h160v-160H620v160Z\"/>\n",
              "  </svg>\n",
              "    </button>\n",
              "\n",
              "  <style>\n",
              "    .colab-df-container {\n",
              "      display:flex;\n",
              "      gap: 12px;\n",
              "    }\n",
              "\n",
              "    .colab-df-convert {\n",
              "      background-color: #E8F0FE;\n",
              "      border: none;\n",
              "      border-radius: 50%;\n",
              "      cursor: pointer;\n",
              "      display: none;\n",
              "      fill: #1967D2;\n",
              "      height: 32px;\n",
              "      padding: 0 0 0 0;\n",
              "      width: 32px;\n",
              "    }\n",
              "\n",
              "    .colab-df-convert:hover {\n",
              "      background-color: #E2EBFA;\n",
              "      box-shadow: 0px 1px 2px rgba(60, 64, 67, 0.3), 0px 1px 3px 1px rgba(60, 64, 67, 0.15);\n",
              "      fill: #174EA6;\n",
              "    }\n",
              "\n",
              "    .colab-df-buttons div {\n",
              "      margin-bottom: 4px;\n",
              "    }\n",
              "\n",
              "    [theme=dark] .colab-df-convert {\n",
              "      background-color: #3B4455;\n",
              "      fill: #D2E3FC;\n",
              "    }\n",
              "\n",
              "    [theme=dark] .colab-df-convert:hover {\n",
              "      background-color: #434B5C;\n",
              "      box-shadow: 0px 1px 3px 1px rgba(0, 0, 0, 0.15);\n",
              "      filter: drop-shadow(0px 1px 2px rgba(0, 0, 0, 0.3));\n",
              "      fill: #FFFFFF;\n",
              "    }\n",
              "  </style>\n",
              "\n",
              "    <script>\n",
              "      const buttonEl =\n",
              "        document.querySelector('#df-d6d341d2-8b39-4bfe-aaa9-2e29752a8190 button.colab-df-convert');\n",
              "      buttonEl.style.display =\n",
              "        google.colab.kernel.accessAllowed ? 'block' : 'none';\n",
              "\n",
              "      async function convertToInteractive(key) {\n",
              "        const element = document.querySelector('#df-d6d341d2-8b39-4bfe-aaa9-2e29752a8190');\n",
              "        const dataTable =\n",
              "          await google.colab.kernel.invokeFunction('convertToInteractive',\n",
              "                                                    [key], {});\n",
              "        if (!dataTable) return;\n",
              "\n",
              "        const docLinkHtml = 'Like what you see? Visit the ' +\n",
              "          '<a target=\"_blank\" href=https://colab.research.google.com/notebooks/data_table.ipynb>data table notebook</a>'\n",
              "          + ' to learn more about interactive tables.';\n",
              "        element.innerHTML = '';\n",
              "        dataTable['output_type'] = 'display_data';\n",
              "        await google.colab.output.renderOutput(dataTable, element);\n",
              "        const docLink = document.createElement('div');\n",
              "        docLink.innerHTML = docLinkHtml;\n",
              "        element.appendChild(docLink);\n",
              "      }\n",
              "    </script>\n",
              "  </div>\n",
              "\n",
              "\n",
              "    <div id=\"df-627c0c5a-a2ea-4e2b-b6f0-2d0e51ad4bdb\">\n",
              "      <button class=\"colab-df-quickchart\" onclick=\"quickchart('df-627c0c5a-a2ea-4e2b-b6f0-2d0e51ad4bdb')\"\n",
              "                title=\"Suggest charts\"\n",
              "                style=\"display:none;\">\n",
              "\n",
              "<svg xmlns=\"http://www.w3.org/2000/svg\" height=\"24px\"viewBox=\"0 0 24 24\"\n",
              "     width=\"24px\">\n",
              "    <g>\n",
              "        <path d=\"M19 3H5c-1.1 0-2 .9-2 2v14c0 1.1.9 2 2 2h14c1.1 0 2-.9 2-2V5c0-1.1-.9-2-2-2zM9 17H7v-7h2v7zm4 0h-2V7h2v10zm4 0h-2v-4h2v4z\"/>\n",
              "    </g>\n",
              "</svg>\n",
              "      </button>\n",
              "\n",
              "<style>\n",
              "  .colab-df-quickchart {\n",
              "      --bg-color: #E8F0FE;\n",
              "      --fill-color: #1967D2;\n",
              "      --hover-bg-color: #E2EBFA;\n",
              "      --hover-fill-color: #174EA6;\n",
              "      --disabled-fill-color: #AAA;\n",
              "      --disabled-bg-color: #DDD;\n",
              "  }\n",
              "\n",
              "  [theme=dark] .colab-df-quickchart {\n",
              "      --bg-color: #3B4455;\n",
              "      --fill-color: #D2E3FC;\n",
              "      --hover-bg-color: #434B5C;\n",
              "      --hover-fill-color: #FFFFFF;\n",
              "      --disabled-bg-color: #3B4455;\n",
              "      --disabled-fill-color: #666;\n",
              "  }\n",
              "\n",
              "  .colab-df-quickchart {\n",
              "    background-color: var(--bg-color);\n",
              "    border: none;\n",
              "    border-radius: 50%;\n",
              "    cursor: pointer;\n",
              "    display: none;\n",
              "    fill: var(--fill-color);\n",
              "    height: 32px;\n",
              "    padding: 0;\n",
              "    width: 32px;\n",
              "  }\n",
              "\n",
              "  .colab-df-quickchart:hover {\n",
              "    background-color: var(--hover-bg-color);\n",
              "    box-shadow: 0 1px 2px rgba(60, 64, 67, 0.3), 0 1px 3px 1px rgba(60, 64, 67, 0.15);\n",
              "    fill: var(--button-hover-fill-color);\n",
              "  }\n",
              "\n",
              "  .colab-df-quickchart-complete:disabled,\n",
              "  .colab-df-quickchart-complete:disabled:hover {\n",
              "    background-color: var(--disabled-bg-color);\n",
              "    fill: var(--disabled-fill-color);\n",
              "    box-shadow: none;\n",
              "  }\n",
              "\n",
              "  .colab-df-spinner {\n",
              "    border: 2px solid var(--fill-color);\n",
              "    border-color: transparent;\n",
              "    border-bottom-color: var(--fill-color);\n",
              "    animation:\n",
              "      spin 1s steps(1) infinite;\n",
              "  }\n",
              "\n",
              "  @keyframes spin {\n",
              "    0% {\n",
              "      border-color: transparent;\n",
              "      border-bottom-color: var(--fill-color);\n",
              "      border-left-color: var(--fill-color);\n",
              "    }\n",
              "    20% {\n",
              "      border-color: transparent;\n",
              "      border-left-color: var(--fill-color);\n",
              "      border-top-color: var(--fill-color);\n",
              "    }\n",
              "    30% {\n",
              "      border-color: transparent;\n",
              "      border-left-color: var(--fill-color);\n",
              "      border-top-color: var(--fill-color);\n",
              "      border-right-color: var(--fill-color);\n",
              "    }\n",
              "    40% {\n",
              "      border-color: transparent;\n",
              "      border-right-color: var(--fill-color);\n",
              "      border-top-color: var(--fill-color);\n",
              "    }\n",
              "    60% {\n",
              "      border-color: transparent;\n",
              "      border-right-color: var(--fill-color);\n",
              "    }\n",
              "    80% {\n",
              "      border-color: transparent;\n",
              "      border-right-color: var(--fill-color);\n",
              "      border-bottom-color: var(--fill-color);\n",
              "    }\n",
              "    90% {\n",
              "      border-color: transparent;\n",
              "      border-bottom-color: var(--fill-color);\n",
              "    }\n",
              "  }\n",
              "</style>\n",
              "\n",
              "      <script>\n",
              "        async function quickchart(key) {\n",
              "          const quickchartButtonEl =\n",
              "            document.querySelector('#' + key + ' button');\n",
              "          quickchartButtonEl.disabled = true;  // To prevent multiple clicks.\n",
              "          quickchartButtonEl.classList.add('colab-df-spinner');\n",
              "          try {\n",
              "            const charts = await google.colab.kernel.invokeFunction(\n",
              "                'suggestCharts', [key], {});\n",
              "          } catch (error) {\n",
              "            console.error('Error during call to suggestCharts:', error);\n",
              "          }\n",
              "          quickchartButtonEl.classList.remove('colab-df-spinner');\n",
              "          quickchartButtonEl.classList.add('colab-df-quickchart-complete');\n",
              "        }\n",
              "        (() => {\n",
              "          let quickchartButtonEl =\n",
              "            document.querySelector('#df-627c0c5a-a2ea-4e2b-b6f0-2d0e51ad4bdb button');\n",
              "          quickchartButtonEl.style.display =\n",
              "            google.colab.kernel.accessAllowed ? 'block' : 'none';\n",
              "        })();\n",
              "      </script>\n",
              "    </div>\n",
              "\n",
              "    </div>\n",
              "  </div>\n"
            ],
            "application/vnd.google.colaboratory.intrinsic+json": {
              "type": "dataframe",
              "variable_name": "personal_data",
              "summary": "{\n  \"name\": \"personal_data\",\n  \"rows\": 7043,\n  \"fields\": [\n    {\n      \"column\": \"customerID\",\n      \"properties\": {\n        \"dtype\": \"string\",\n        \"num_unique_values\": 7043,\n        \"samples\": [\n          \"1024-GUALD\",\n          \"0484-JPBRU\",\n          \"3620-EHIMZ\"\n        ],\n        \"semantic_type\": \"\",\n        \"description\": \"\"\n      }\n    },\n    {\n      \"column\": \"gender\",\n      \"properties\": {\n        \"dtype\": \"category\",\n        \"num_unique_values\": 2,\n        \"samples\": [\n          \"Male\",\n          \"Female\"\n        ],\n        \"semantic_type\": \"\",\n        \"description\": \"\"\n      }\n    },\n    {\n      \"column\": \"SeniorCitizen\",\n      \"properties\": {\n        \"dtype\": \"number\",\n        \"std\": 0,\n        \"min\": 0,\n        \"max\": 1,\n        \"num_unique_values\": 2,\n        \"samples\": [\n          1,\n          0\n        ],\n        \"semantic_type\": \"\",\n        \"description\": \"\"\n      }\n    },\n    {\n      \"column\": \"Partner\",\n      \"properties\": {\n        \"dtype\": \"category\",\n        \"num_unique_values\": 2,\n        \"samples\": [\n          \"No\",\n          \"Yes\"\n        ],\n        \"semantic_type\": \"\",\n        \"description\": \"\"\n      }\n    },\n    {\n      \"column\": \"Dependents\",\n      \"properties\": {\n        \"dtype\": \"category\",\n        \"num_unique_values\": 2,\n        \"samples\": [\n          \"Yes\",\n          \"No\"\n        ],\n        \"semantic_type\": \"\",\n        \"description\": \"\"\n      }\n    }\n  ]\n}"
            }
          },
          "metadata": {},
          "execution_count": 11
        }
      ],
      "source": [
        "personal_data.info()\n",
        "personal_data.head()"
      ]
    },
    {
      "cell_type": "markdown",
      "metadata": {
        "id": "y-7j9U90rQ2o"
      },
      "source": [
        "Let's see if there are duplicated customer IDs."
      ]
    },
    {
      "cell_type": "code",
      "execution_count": 12,
      "metadata": {
        "scrolled": true,
        "id": "DWG_ohh2rQ2o",
        "outputId": "dbeb7009-5cba-4a43-d7d4-e64db8129b54",
        "colab": {
          "base_uri": "https://localhost:8080/"
        }
      },
      "outputs": [
        {
          "output_type": "stream",
          "name": "stdout",
          "text": [
            "There are no duplicated customerIDs\n"
          ]
        }
      ],
      "source": [
        "if personal_data['customerID'].is_unique:\n",
        "    print('There are no duplicated customerIDs')\n",
        "else:\n",
        "    print('There are duplicated customerIDs')"
      ]
    },
    {
      "cell_type": "markdown",
      "metadata": {
        "id": "GkTThwmcrQ2o"
      },
      "source": [
        "We'll turn the Partner and Dependents columns into binary. SeniorCitizen was binary already."
      ]
    },
    {
      "cell_type": "code",
      "execution_count": 13,
      "metadata": {
        "scrolled": false,
        "id": "2WyAITenrQ2o",
        "outputId": "bf02259e-c54d-4a9b-e643-21aee8caad4e",
        "colab": {
          "base_uri": "https://localhost:8080/",
          "height": 206
        }
      },
      "outputs": [
        {
          "output_type": "display_data",
          "data": {
            "text/plain": [
              "   customerID  gender  SeniorCitizen  Partner  Dependents\n",
              "0  7590-VHVEG  Female              0        1           0\n",
              "1  5575-GNVDE    Male              0        0           0\n",
              "2  3668-QPYBK    Male              0        0           0\n",
              "3  7795-CFOCW    Male              0        0           0\n",
              "4  9237-HQITU  Female              0        0           0"
            ],
            "text/html": [
              "\n",
              "  <div id=\"df-e9eb63e3-ba96-4540-9c6e-cb40b41f6c6a\" class=\"colab-df-container\">\n",
              "    <div>\n",
              "<style scoped>\n",
              "    .dataframe tbody tr th:only-of-type {\n",
              "        vertical-align: middle;\n",
              "    }\n",
              "\n",
              "    .dataframe tbody tr th {\n",
              "        vertical-align: top;\n",
              "    }\n",
              "\n",
              "    .dataframe thead th {\n",
              "        text-align: right;\n",
              "    }\n",
              "</style>\n",
              "<table border=\"1\" class=\"dataframe\">\n",
              "  <thead>\n",
              "    <tr style=\"text-align: right;\">\n",
              "      <th></th>\n",
              "      <th>customerID</th>\n",
              "      <th>gender</th>\n",
              "      <th>SeniorCitizen</th>\n",
              "      <th>Partner</th>\n",
              "      <th>Dependents</th>\n",
              "    </tr>\n",
              "  </thead>\n",
              "  <tbody>\n",
              "    <tr>\n",
              "      <th>0</th>\n",
              "      <td>7590-VHVEG</td>\n",
              "      <td>Female</td>\n",
              "      <td>0</td>\n",
              "      <td>1</td>\n",
              "      <td>0</td>\n",
              "    </tr>\n",
              "    <tr>\n",
              "      <th>1</th>\n",
              "      <td>5575-GNVDE</td>\n",
              "      <td>Male</td>\n",
              "      <td>0</td>\n",
              "      <td>0</td>\n",
              "      <td>0</td>\n",
              "    </tr>\n",
              "    <tr>\n",
              "      <th>2</th>\n",
              "      <td>3668-QPYBK</td>\n",
              "      <td>Male</td>\n",
              "      <td>0</td>\n",
              "      <td>0</td>\n",
              "      <td>0</td>\n",
              "    </tr>\n",
              "    <tr>\n",
              "      <th>3</th>\n",
              "      <td>7795-CFOCW</td>\n",
              "      <td>Male</td>\n",
              "      <td>0</td>\n",
              "      <td>0</td>\n",
              "      <td>0</td>\n",
              "    </tr>\n",
              "    <tr>\n",
              "      <th>4</th>\n",
              "      <td>9237-HQITU</td>\n",
              "      <td>Female</td>\n",
              "      <td>0</td>\n",
              "      <td>0</td>\n",
              "      <td>0</td>\n",
              "    </tr>\n",
              "  </tbody>\n",
              "</table>\n",
              "</div>\n",
              "    <div class=\"colab-df-buttons\">\n",
              "\n",
              "  <div class=\"colab-df-container\">\n",
              "    <button class=\"colab-df-convert\" onclick=\"convertToInteractive('df-e9eb63e3-ba96-4540-9c6e-cb40b41f6c6a')\"\n",
              "            title=\"Convert this dataframe to an interactive table.\"\n",
              "            style=\"display:none;\">\n",
              "\n",
              "  <svg xmlns=\"http://www.w3.org/2000/svg\" height=\"24px\" viewBox=\"0 -960 960 960\">\n",
              "    <path d=\"M120-120v-720h720v720H120Zm60-500h600v-160H180v160Zm220 220h160v-160H400v160Zm0 220h160v-160H400v160ZM180-400h160v-160H180v160Zm440 0h160v-160H620v160ZM180-180h160v-160H180v160Zm440 0h160v-160H620v160Z\"/>\n",
              "  </svg>\n",
              "    </button>\n",
              "\n",
              "  <style>\n",
              "    .colab-df-container {\n",
              "      display:flex;\n",
              "      gap: 12px;\n",
              "    }\n",
              "\n",
              "    .colab-df-convert {\n",
              "      background-color: #E8F0FE;\n",
              "      border: none;\n",
              "      border-radius: 50%;\n",
              "      cursor: pointer;\n",
              "      display: none;\n",
              "      fill: #1967D2;\n",
              "      height: 32px;\n",
              "      padding: 0 0 0 0;\n",
              "      width: 32px;\n",
              "    }\n",
              "\n",
              "    .colab-df-convert:hover {\n",
              "      background-color: #E2EBFA;\n",
              "      box-shadow: 0px 1px 2px rgba(60, 64, 67, 0.3), 0px 1px 3px 1px rgba(60, 64, 67, 0.15);\n",
              "      fill: #174EA6;\n",
              "    }\n",
              "\n",
              "    .colab-df-buttons div {\n",
              "      margin-bottom: 4px;\n",
              "    }\n",
              "\n",
              "    [theme=dark] .colab-df-convert {\n",
              "      background-color: #3B4455;\n",
              "      fill: #D2E3FC;\n",
              "    }\n",
              "\n",
              "    [theme=dark] .colab-df-convert:hover {\n",
              "      background-color: #434B5C;\n",
              "      box-shadow: 0px 1px 3px 1px rgba(0, 0, 0, 0.15);\n",
              "      filter: drop-shadow(0px 1px 2px rgba(0, 0, 0, 0.3));\n",
              "      fill: #FFFFFF;\n",
              "    }\n",
              "  </style>\n",
              "\n",
              "    <script>\n",
              "      const buttonEl =\n",
              "        document.querySelector('#df-e9eb63e3-ba96-4540-9c6e-cb40b41f6c6a button.colab-df-convert');\n",
              "      buttonEl.style.display =\n",
              "        google.colab.kernel.accessAllowed ? 'block' : 'none';\n",
              "\n",
              "      async function convertToInteractive(key) {\n",
              "        const element = document.querySelector('#df-e9eb63e3-ba96-4540-9c6e-cb40b41f6c6a');\n",
              "        const dataTable =\n",
              "          await google.colab.kernel.invokeFunction('convertToInteractive',\n",
              "                                                    [key], {});\n",
              "        if (!dataTable) return;\n",
              "\n",
              "        const docLinkHtml = 'Like what you see? Visit the ' +\n",
              "          '<a target=\"_blank\" href=https://colab.research.google.com/notebooks/data_table.ipynb>data table notebook</a>'\n",
              "          + ' to learn more about interactive tables.';\n",
              "        element.innerHTML = '';\n",
              "        dataTable['output_type'] = 'display_data';\n",
              "        await google.colab.output.renderOutput(dataTable, element);\n",
              "        const docLink = document.createElement('div');\n",
              "        docLink.innerHTML = docLinkHtml;\n",
              "        element.appendChild(docLink);\n",
              "      }\n",
              "    </script>\n",
              "  </div>\n",
              "\n",
              "\n",
              "    <div id=\"df-6ce1d189-f8c7-40da-a21c-39ed2364e903\">\n",
              "      <button class=\"colab-df-quickchart\" onclick=\"quickchart('df-6ce1d189-f8c7-40da-a21c-39ed2364e903')\"\n",
              "                title=\"Suggest charts\"\n",
              "                style=\"display:none;\">\n",
              "\n",
              "<svg xmlns=\"http://www.w3.org/2000/svg\" height=\"24px\"viewBox=\"0 0 24 24\"\n",
              "     width=\"24px\">\n",
              "    <g>\n",
              "        <path d=\"M19 3H5c-1.1 0-2 .9-2 2v14c0 1.1.9 2 2 2h14c1.1 0 2-.9 2-2V5c0-1.1-.9-2-2-2zM9 17H7v-7h2v7zm4 0h-2V7h2v10zm4 0h-2v-4h2v4z\"/>\n",
              "    </g>\n",
              "</svg>\n",
              "      </button>\n",
              "\n",
              "<style>\n",
              "  .colab-df-quickchart {\n",
              "      --bg-color: #E8F0FE;\n",
              "      --fill-color: #1967D2;\n",
              "      --hover-bg-color: #E2EBFA;\n",
              "      --hover-fill-color: #174EA6;\n",
              "      --disabled-fill-color: #AAA;\n",
              "      --disabled-bg-color: #DDD;\n",
              "  }\n",
              "\n",
              "  [theme=dark] .colab-df-quickchart {\n",
              "      --bg-color: #3B4455;\n",
              "      --fill-color: #D2E3FC;\n",
              "      --hover-bg-color: #434B5C;\n",
              "      --hover-fill-color: #FFFFFF;\n",
              "      --disabled-bg-color: #3B4455;\n",
              "      --disabled-fill-color: #666;\n",
              "  }\n",
              "\n",
              "  .colab-df-quickchart {\n",
              "    background-color: var(--bg-color);\n",
              "    border: none;\n",
              "    border-radius: 50%;\n",
              "    cursor: pointer;\n",
              "    display: none;\n",
              "    fill: var(--fill-color);\n",
              "    height: 32px;\n",
              "    padding: 0;\n",
              "    width: 32px;\n",
              "  }\n",
              "\n",
              "  .colab-df-quickchart:hover {\n",
              "    background-color: var(--hover-bg-color);\n",
              "    box-shadow: 0 1px 2px rgba(60, 64, 67, 0.3), 0 1px 3px 1px rgba(60, 64, 67, 0.15);\n",
              "    fill: var(--button-hover-fill-color);\n",
              "  }\n",
              "\n",
              "  .colab-df-quickchart-complete:disabled,\n",
              "  .colab-df-quickchart-complete:disabled:hover {\n",
              "    background-color: var(--disabled-bg-color);\n",
              "    fill: var(--disabled-fill-color);\n",
              "    box-shadow: none;\n",
              "  }\n",
              "\n",
              "  .colab-df-spinner {\n",
              "    border: 2px solid var(--fill-color);\n",
              "    border-color: transparent;\n",
              "    border-bottom-color: var(--fill-color);\n",
              "    animation:\n",
              "      spin 1s steps(1) infinite;\n",
              "  }\n",
              "\n",
              "  @keyframes spin {\n",
              "    0% {\n",
              "      border-color: transparent;\n",
              "      border-bottom-color: var(--fill-color);\n",
              "      border-left-color: var(--fill-color);\n",
              "    }\n",
              "    20% {\n",
              "      border-color: transparent;\n",
              "      border-left-color: var(--fill-color);\n",
              "      border-top-color: var(--fill-color);\n",
              "    }\n",
              "    30% {\n",
              "      border-color: transparent;\n",
              "      border-left-color: var(--fill-color);\n",
              "      border-top-color: var(--fill-color);\n",
              "      border-right-color: var(--fill-color);\n",
              "    }\n",
              "    40% {\n",
              "      border-color: transparent;\n",
              "      border-right-color: var(--fill-color);\n",
              "      border-top-color: var(--fill-color);\n",
              "    }\n",
              "    60% {\n",
              "      border-color: transparent;\n",
              "      border-right-color: var(--fill-color);\n",
              "    }\n",
              "    80% {\n",
              "      border-color: transparent;\n",
              "      border-right-color: var(--fill-color);\n",
              "      border-bottom-color: var(--fill-color);\n",
              "    }\n",
              "    90% {\n",
              "      border-color: transparent;\n",
              "      border-bottom-color: var(--fill-color);\n",
              "    }\n",
              "  }\n",
              "</style>\n",
              "\n",
              "      <script>\n",
              "        async function quickchart(key) {\n",
              "          const quickchartButtonEl =\n",
              "            document.querySelector('#' + key + ' button');\n",
              "          quickchartButtonEl.disabled = true;  // To prevent multiple clicks.\n",
              "          quickchartButtonEl.classList.add('colab-df-spinner');\n",
              "          try {\n",
              "            const charts = await google.colab.kernel.invokeFunction(\n",
              "                'suggestCharts', [key], {});\n",
              "          } catch (error) {\n",
              "            console.error('Error during call to suggestCharts:', error);\n",
              "          }\n",
              "          quickchartButtonEl.classList.remove('colab-df-spinner');\n",
              "          quickchartButtonEl.classList.add('colab-df-quickchart-complete');\n",
              "        }\n",
              "        (() => {\n",
              "          let quickchartButtonEl =\n",
              "            document.querySelector('#df-6ce1d189-f8c7-40da-a21c-39ed2364e903 button');\n",
              "          quickchartButtonEl.style.display =\n",
              "            google.colab.kernel.accessAllowed ? 'block' : 'none';\n",
              "        })();\n",
              "      </script>\n",
              "    </div>\n",
              "\n",
              "    </div>\n",
              "  </div>\n"
            ],
            "application/vnd.google.colaboratory.intrinsic+json": {
              "type": "dataframe",
              "summary": "{\n  \"name\": \"display(personal_data\",\n  \"rows\": 5,\n  \"fields\": [\n    {\n      \"column\": \"customerID\",\n      \"properties\": {\n        \"dtype\": \"string\",\n        \"num_unique_values\": 5,\n        \"samples\": [\n          \"5575-GNVDE\",\n          \"9237-HQITU\",\n          \"3668-QPYBK\"\n        ],\n        \"semantic_type\": \"\",\n        \"description\": \"\"\n      }\n    },\n    {\n      \"column\": \"gender\",\n      \"properties\": {\n        \"dtype\": \"category\",\n        \"num_unique_values\": 2,\n        \"samples\": [\n          \"Male\",\n          \"Female\"\n        ],\n        \"semantic_type\": \"\",\n        \"description\": \"\"\n      }\n    },\n    {\n      \"column\": \"SeniorCitizen\",\n      \"properties\": {\n        \"dtype\": \"number\",\n        \"std\": 0,\n        \"min\": 0,\n        \"max\": 0,\n        \"num_unique_values\": 1,\n        \"samples\": [\n          0\n        ],\n        \"semantic_type\": \"\",\n        \"description\": \"\"\n      }\n    },\n    {\n      \"column\": \"Partner\",\n      \"properties\": {\n        \"dtype\": \"number\",\n        \"std\": 0,\n        \"min\": 0,\n        \"max\": 1,\n        \"num_unique_values\": 2,\n        \"samples\": [\n          0\n        ],\n        \"semantic_type\": \"\",\n        \"description\": \"\"\n      }\n    },\n    {\n      \"column\": \"Dependents\",\n      \"properties\": {\n        \"dtype\": \"number\",\n        \"std\": 0,\n        \"min\": 0,\n        \"max\": 0,\n        \"num_unique_values\": 1,\n        \"samples\": [\n          0\n        ],\n        \"semantic_type\": \"\",\n        \"description\": \"\"\n      }\n    }\n  ]\n}"
            }
          },
          "metadata": {}
        }
      ],
      "source": [
        "personal_data['Partner'] = personal_data['Partner'].map({'Yes':1, 'No':0})\n",
        "personal_data['Dependents'] = personal_data['Dependents'].map({'Yes':1, 'No':0})\n",
        "display(personal_data.head())"
      ]
    },
    {
      "cell_type": "code",
      "execution_count": 14,
      "metadata": {
        "scrolled": true,
        "id": "bygnk4_krQ2o",
        "outputId": "435d4976-3d1a-4609-c06d-a2f1060424cb",
        "colab": {
          "base_uri": "https://localhost:8080/"
        }
      },
      "outputs": [
        {
          "output_type": "stream",
          "name": "stdout",
          "text": [
            "customerID 7043\n",
            "gender 2\n",
            "SeniorCitizen 2\n",
            "Partner 2\n",
            "Dependents 2\n"
          ]
        }
      ],
      "source": [
        "#Quickly check if the amount of unique values is consistent.\n",
        "\n",
        "for column in personal_data.columns:\n",
        "    print(column, personal_data[column].nunique())"
      ]
    },
    {
      "cell_type": "code",
      "execution_count": 15,
      "metadata": {
        "id": "R4yvh3MUrQ2o",
        "outputId": "14ddaac4-ba55-4bdc-ef1f-ac80c9ab9693",
        "colab": {
          "base_uri": "https://localhost:8080/"
        }
      },
      "outputs": [
        {
          "output_type": "stream",
          "name": "stdout",
          "text": [
            "<class 'pandas.core.frame.DataFrame'>\n",
            "RangeIndex: 7043 entries, 0 to 7042\n",
            "Data columns (total 5 columns):\n",
            " #   Column         Non-Null Count  Dtype   \n",
            "---  ------         --------------  -----   \n",
            " 0   customerID     7043 non-null   object  \n",
            " 1   gender         7043 non-null   category\n",
            " 2   SeniorCitizen  7043 non-null   int64   \n",
            " 3   Partner        7043 non-null   int64   \n",
            " 4   Dependents     7043 non-null   int64   \n",
            "dtypes: category(1), int64(3), object(1)\n",
            "memory usage: 227.2+ KB\n"
          ]
        }
      ],
      "source": [
        "# We'll turn gender into a category type of data. Could be binary, but I'd rather leave it as category and deal with it later.\n",
        "\n",
        "personal_data['gender'] = personal_data['gender'].astype('category')\n",
        "personal_data.info()"
      ]
    },
    {
      "cell_type": "markdown",
      "metadata": {
        "id": "qmZ_ptbMrQ2o"
      },
      "source": [
        "### Internet Data"
      ]
    },
    {
      "cell_type": "code",
      "execution_count": 16,
      "metadata": {
        "scrolled": false,
        "id": "-UkGpoRlrQ2o",
        "outputId": "0a087d7e-5629-406a-d513-daefa4f352e8",
        "colab": {
          "base_uri": "https://localhost:8080/",
          "height": 467
        }
      },
      "outputs": [
        {
          "output_type": "stream",
          "name": "stdout",
          "text": [
            "<class 'pandas.core.frame.DataFrame'>\n",
            "RangeIndex: 5517 entries, 0 to 5516\n",
            "Data columns (total 8 columns):\n",
            " #   Column            Non-Null Count  Dtype \n",
            "---  ------            --------------  ----- \n",
            " 0   customerID        5517 non-null   object\n",
            " 1   InternetService   5517 non-null   object\n",
            " 2   OnlineSecurity    5517 non-null   object\n",
            " 3   OnlineBackup      5517 non-null   object\n",
            " 4   DeviceProtection  5517 non-null   object\n",
            " 5   TechSupport       5517 non-null   object\n",
            " 6   StreamingTV       5517 non-null   object\n",
            " 7   StreamingMovies   5517 non-null   object\n",
            "dtypes: object(8)\n",
            "memory usage: 344.9+ KB\n"
          ]
        },
        {
          "output_type": "execute_result",
          "data": {
            "text/plain": [
              "   customerID InternetService OnlineSecurity OnlineBackup DeviceProtection  \\\n",
              "0  7590-VHVEG             DSL             No          Yes               No   \n",
              "1  5575-GNVDE             DSL            Yes           No              Yes   \n",
              "2  3668-QPYBK             DSL            Yes          Yes               No   \n",
              "3  7795-CFOCW             DSL            Yes           No              Yes   \n",
              "4  9237-HQITU     Fiber optic             No           No               No   \n",
              "\n",
              "  TechSupport StreamingTV StreamingMovies  \n",
              "0          No          No              No  \n",
              "1          No          No              No  \n",
              "2          No          No              No  \n",
              "3         Yes          No              No  \n",
              "4          No          No              No  "
            ],
            "text/html": [
              "\n",
              "  <div id=\"df-b07d64aa-258f-4462-aec4-a94c0d178994\" class=\"colab-df-container\">\n",
              "    <div>\n",
              "<style scoped>\n",
              "    .dataframe tbody tr th:only-of-type {\n",
              "        vertical-align: middle;\n",
              "    }\n",
              "\n",
              "    .dataframe tbody tr th {\n",
              "        vertical-align: top;\n",
              "    }\n",
              "\n",
              "    .dataframe thead th {\n",
              "        text-align: right;\n",
              "    }\n",
              "</style>\n",
              "<table border=\"1\" class=\"dataframe\">\n",
              "  <thead>\n",
              "    <tr style=\"text-align: right;\">\n",
              "      <th></th>\n",
              "      <th>customerID</th>\n",
              "      <th>InternetService</th>\n",
              "      <th>OnlineSecurity</th>\n",
              "      <th>OnlineBackup</th>\n",
              "      <th>DeviceProtection</th>\n",
              "      <th>TechSupport</th>\n",
              "      <th>StreamingTV</th>\n",
              "      <th>StreamingMovies</th>\n",
              "    </tr>\n",
              "  </thead>\n",
              "  <tbody>\n",
              "    <tr>\n",
              "      <th>0</th>\n",
              "      <td>7590-VHVEG</td>\n",
              "      <td>DSL</td>\n",
              "      <td>No</td>\n",
              "      <td>Yes</td>\n",
              "      <td>No</td>\n",
              "      <td>No</td>\n",
              "      <td>No</td>\n",
              "      <td>No</td>\n",
              "    </tr>\n",
              "    <tr>\n",
              "      <th>1</th>\n",
              "      <td>5575-GNVDE</td>\n",
              "      <td>DSL</td>\n",
              "      <td>Yes</td>\n",
              "      <td>No</td>\n",
              "      <td>Yes</td>\n",
              "      <td>No</td>\n",
              "      <td>No</td>\n",
              "      <td>No</td>\n",
              "    </tr>\n",
              "    <tr>\n",
              "      <th>2</th>\n",
              "      <td>3668-QPYBK</td>\n",
              "      <td>DSL</td>\n",
              "      <td>Yes</td>\n",
              "      <td>Yes</td>\n",
              "      <td>No</td>\n",
              "      <td>No</td>\n",
              "      <td>No</td>\n",
              "      <td>No</td>\n",
              "    </tr>\n",
              "    <tr>\n",
              "      <th>3</th>\n",
              "      <td>7795-CFOCW</td>\n",
              "      <td>DSL</td>\n",
              "      <td>Yes</td>\n",
              "      <td>No</td>\n",
              "      <td>Yes</td>\n",
              "      <td>Yes</td>\n",
              "      <td>No</td>\n",
              "      <td>No</td>\n",
              "    </tr>\n",
              "    <tr>\n",
              "      <th>4</th>\n",
              "      <td>9237-HQITU</td>\n",
              "      <td>Fiber optic</td>\n",
              "      <td>No</td>\n",
              "      <td>No</td>\n",
              "      <td>No</td>\n",
              "      <td>No</td>\n",
              "      <td>No</td>\n",
              "      <td>No</td>\n",
              "    </tr>\n",
              "  </tbody>\n",
              "</table>\n",
              "</div>\n",
              "    <div class=\"colab-df-buttons\">\n",
              "\n",
              "  <div class=\"colab-df-container\">\n",
              "    <button class=\"colab-df-convert\" onclick=\"convertToInteractive('df-b07d64aa-258f-4462-aec4-a94c0d178994')\"\n",
              "            title=\"Convert this dataframe to an interactive table.\"\n",
              "            style=\"display:none;\">\n",
              "\n",
              "  <svg xmlns=\"http://www.w3.org/2000/svg\" height=\"24px\" viewBox=\"0 -960 960 960\">\n",
              "    <path d=\"M120-120v-720h720v720H120Zm60-500h600v-160H180v160Zm220 220h160v-160H400v160Zm0 220h160v-160H400v160ZM180-400h160v-160H180v160Zm440 0h160v-160H620v160ZM180-180h160v-160H180v160Zm440 0h160v-160H620v160Z\"/>\n",
              "  </svg>\n",
              "    </button>\n",
              "\n",
              "  <style>\n",
              "    .colab-df-container {\n",
              "      display:flex;\n",
              "      gap: 12px;\n",
              "    }\n",
              "\n",
              "    .colab-df-convert {\n",
              "      background-color: #E8F0FE;\n",
              "      border: none;\n",
              "      border-radius: 50%;\n",
              "      cursor: pointer;\n",
              "      display: none;\n",
              "      fill: #1967D2;\n",
              "      height: 32px;\n",
              "      padding: 0 0 0 0;\n",
              "      width: 32px;\n",
              "    }\n",
              "\n",
              "    .colab-df-convert:hover {\n",
              "      background-color: #E2EBFA;\n",
              "      box-shadow: 0px 1px 2px rgba(60, 64, 67, 0.3), 0px 1px 3px 1px rgba(60, 64, 67, 0.15);\n",
              "      fill: #174EA6;\n",
              "    }\n",
              "\n",
              "    .colab-df-buttons div {\n",
              "      margin-bottom: 4px;\n",
              "    }\n",
              "\n",
              "    [theme=dark] .colab-df-convert {\n",
              "      background-color: #3B4455;\n",
              "      fill: #D2E3FC;\n",
              "    }\n",
              "\n",
              "    [theme=dark] .colab-df-convert:hover {\n",
              "      background-color: #434B5C;\n",
              "      box-shadow: 0px 1px 3px 1px rgba(0, 0, 0, 0.15);\n",
              "      filter: drop-shadow(0px 1px 2px rgba(0, 0, 0, 0.3));\n",
              "      fill: #FFFFFF;\n",
              "    }\n",
              "  </style>\n",
              "\n",
              "    <script>\n",
              "      const buttonEl =\n",
              "        document.querySelector('#df-b07d64aa-258f-4462-aec4-a94c0d178994 button.colab-df-convert');\n",
              "      buttonEl.style.display =\n",
              "        google.colab.kernel.accessAllowed ? 'block' : 'none';\n",
              "\n",
              "      async function convertToInteractive(key) {\n",
              "        const element = document.querySelector('#df-b07d64aa-258f-4462-aec4-a94c0d178994');\n",
              "        const dataTable =\n",
              "          await google.colab.kernel.invokeFunction('convertToInteractive',\n",
              "                                                    [key], {});\n",
              "        if (!dataTable) return;\n",
              "\n",
              "        const docLinkHtml = 'Like what you see? Visit the ' +\n",
              "          '<a target=\"_blank\" href=https://colab.research.google.com/notebooks/data_table.ipynb>data table notebook</a>'\n",
              "          + ' to learn more about interactive tables.';\n",
              "        element.innerHTML = '';\n",
              "        dataTable['output_type'] = 'display_data';\n",
              "        await google.colab.output.renderOutput(dataTable, element);\n",
              "        const docLink = document.createElement('div');\n",
              "        docLink.innerHTML = docLinkHtml;\n",
              "        element.appendChild(docLink);\n",
              "      }\n",
              "    </script>\n",
              "  </div>\n",
              "\n",
              "\n",
              "    <div id=\"df-4c59e3c1-140a-4f0e-bdb4-ecfe555c2f8d\">\n",
              "      <button class=\"colab-df-quickchart\" onclick=\"quickchart('df-4c59e3c1-140a-4f0e-bdb4-ecfe555c2f8d')\"\n",
              "                title=\"Suggest charts\"\n",
              "                style=\"display:none;\">\n",
              "\n",
              "<svg xmlns=\"http://www.w3.org/2000/svg\" height=\"24px\"viewBox=\"0 0 24 24\"\n",
              "     width=\"24px\">\n",
              "    <g>\n",
              "        <path d=\"M19 3H5c-1.1 0-2 .9-2 2v14c0 1.1.9 2 2 2h14c1.1 0 2-.9 2-2V5c0-1.1-.9-2-2-2zM9 17H7v-7h2v7zm4 0h-2V7h2v10zm4 0h-2v-4h2v4z\"/>\n",
              "    </g>\n",
              "</svg>\n",
              "      </button>\n",
              "\n",
              "<style>\n",
              "  .colab-df-quickchart {\n",
              "      --bg-color: #E8F0FE;\n",
              "      --fill-color: #1967D2;\n",
              "      --hover-bg-color: #E2EBFA;\n",
              "      --hover-fill-color: #174EA6;\n",
              "      --disabled-fill-color: #AAA;\n",
              "      --disabled-bg-color: #DDD;\n",
              "  }\n",
              "\n",
              "  [theme=dark] .colab-df-quickchart {\n",
              "      --bg-color: #3B4455;\n",
              "      --fill-color: #D2E3FC;\n",
              "      --hover-bg-color: #434B5C;\n",
              "      --hover-fill-color: #FFFFFF;\n",
              "      --disabled-bg-color: #3B4455;\n",
              "      --disabled-fill-color: #666;\n",
              "  }\n",
              "\n",
              "  .colab-df-quickchart {\n",
              "    background-color: var(--bg-color);\n",
              "    border: none;\n",
              "    border-radius: 50%;\n",
              "    cursor: pointer;\n",
              "    display: none;\n",
              "    fill: var(--fill-color);\n",
              "    height: 32px;\n",
              "    padding: 0;\n",
              "    width: 32px;\n",
              "  }\n",
              "\n",
              "  .colab-df-quickchart:hover {\n",
              "    background-color: var(--hover-bg-color);\n",
              "    box-shadow: 0 1px 2px rgba(60, 64, 67, 0.3), 0 1px 3px 1px rgba(60, 64, 67, 0.15);\n",
              "    fill: var(--button-hover-fill-color);\n",
              "  }\n",
              "\n",
              "  .colab-df-quickchart-complete:disabled,\n",
              "  .colab-df-quickchart-complete:disabled:hover {\n",
              "    background-color: var(--disabled-bg-color);\n",
              "    fill: var(--disabled-fill-color);\n",
              "    box-shadow: none;\n",
              "  }\n",
              "\n",
              "  .colab-df-spinner {\n",
              "    border: 2px solid var(--fill-color);\n",
              "    border-color: transparent;\n",
              "    border-bottom-color: var(--fill-color);\n",
              "    animation:\n",
              "      spin 1s steps(1) infinite;\n",
              "  }\n",
              "\n",
              "  @keyframes spin {\n",
              "    0% {\n",
              "      border-color: transparent;\n",
              "      border-bottom-color: var(--fill-color);\n",
              "      border-left-color: var(--fill-color);\n",
              "    }\n",
              "    20% {\n",
              "      border-color: transparent;\n",
              "      border-left-color: var(--fill-color);\n",
              "      border-top-color: var(--fill-color);\n",
              "    }\n",
              "    30% {\n",
              "      border-color: transparent;\n",
              "      border-left-color: var(--fill-color);\n",
              "      border-top-color: var(--fill-color);\n",
              "      border-right-color: var(--fill-color);\n",
              "    }\n",
              "    40% {\n",
              "      border-color: transparent;\n",
              "      border-right-color: var(--fill-color);\n",
              "      border-top-color: var(--fill-color);\n",
              "    }\n",
              "    60% {\n",
              "      border-color: transparent;\n",
              "      border-right-color: var(--fill-color);\n",
              "    }\n",
              "    80% {\n",
              "      border-color: transparent;\n",
              "      border-right-color: var(--fill-color);\n",
              "      border-bottom-color: var(--fill-color);\n",
              "    }\n",
              "    90% {\n",
              "      border-color: transparent;\n",
              "      border-bottom-color: var(--fill-color);\n",
              "    }\n",
              "  }\n",
              "</style>\n",
              "\n",
              "      <script>\n",
              "        async function quickchart(key) {\n",
              "          const quickchartButtonEl =\n",
              "            document.querySelector('#' + key + ' button');\n",
              "          quickchartButtonEl.disabled = true;  // To prevent multiple clicks.\n",
              "          quickchartButtonEl.classList.add('colab-df-spinner');\n",
              "          try {\n",
              "            const charts = await google.colab.kernel.invokeFunction(\n",
              "                'suggestCharts', [key], {});\n",
              "          } catch (error) {\n",
              "            console.error('Error during call to suggestCharts:', error);\n",
              "          }\n",
              "          quickchartButtonEl.classList.remove('colab-df-spinner');\n",
              "          quickchartButtonEl.classList.add('colab-df-quickchart-complete');\n",
              "        }\n",
              "        (() => {\n",
              "          let quickchartButtonEl =\n",
              "            document.querySelector('#df-4c59e3c1-140a-4f0e-bdb4-ecfe555c2f8d button');\n",
              "          quickchartButtonEl.style.display =\n",
              "            google.colab.kernel.accessAllowed ? 'block' : 'none';\n",
              "        })();\n",
              "      </script>\n",
              "    </div>\n",
              "\n",
              "    </div>\n",
              "  </div>\n"
            ],
            "application/vnd.google.colaboratory.intrinsic+json": {
              "type": "dataframe",
              "variable_name": "internet_data",
              "summary": "{\n  \"name\": \"internet_data\",\n  \"rows\": 5517,\n  \"fields\": [\n    {\n      \"column\": \"customerID\",\n      \"properties\": {\n        \"dtype\": \"string\",\n        \"num_unique_values\": 5517,\n        \"samples\": [\n          \"1170-SASML\",\n          \"9314-QDMDW\",\n          \"2434-EEVDB\"\n        ],\n        \"semantic_type\": \"\",\n        \"description\": \"\"\n      }\n    },\n    {\n      \"column\": \"InternetService\",\n      \"properties\": {\n        \"dtype\": \"category\",\n        \"num_unique_values\": 2,\n        \"samples\": [\n          \"Fiber optic\",\n          \"DSL\"\n        ],\n        \"semantic_type\": \"\",\n        \"description\": \"\"\n      }\n    },\n    {\n      \"column\": \"OnlineSecurity\",\n      \"properties\": {\n        \"dtype\": \"category\",\n        \"num_unique_values\": 2,\n        \"samples\": [\n          \"Yes\",\n          \"No\"\n        ],\n        \"semantic_type\": \"\",\n        \"description\": \"\"\n      }\n    },\n    {\n      \"column\": \"OnlineBackup\",\n      \"properties\": {\n        \"dtype\": \"category\",\n        \"num_unique_values\": 2,\n        \"samples\": [\n          \"No\",\n          \"Yes\"\n        ],\n        \"semantic_type\": \"\",\n        \"description\": \"\"\n      }\n    },\n    {\n      \"column\": \"DeviceProtection\",\n      \"properties\": {\n        \"dtype\": \"category\",\n        \"num_unique_values\": 2,\n        \"samples\": [\n          \"Yes\",\n          \"No\"\n        ],\n        \"semantic_type\": \"\",\n        \"description\": \"\"\n      }\n    },\n    {\n      \"column\": \"TechSupport\",\n      \"properties\": {\n        \"dtype\": \"category\",\n        \"num_unique_values\": 2,\n        \"samples\": [\n          \"Yes\",\n          \"No\"\n        ],\n        \"semantic_type\": \"\",\n        \"description\": \"\"\n      }\n    },\n    {\n      \"column\": \"StreamingTV\",\n      \"properties\": {\n        \"dtype\": \"category\",\n        \"num_unique_values\": 2,\n        \"samples\": [\n          \"Yes\",\n          \"No\"\n        ],\n        \"semantic_type\": \"\",\n        \"description\": \"\"\n      }\n    },\n    {\n      \"column\": \"StreamingMovies\",\n      \"properties\": {\n        \"dtype\": \"category\",\n        \"num_unique_values\": 2,\n        \"samples\": [\n          \"Yes\",\n          \"No\"\n        ],\n        \"semantic_type\": \"\",\n        \"description\": \"\"\n      }\n    }\n  ]\n}"
            }
          },
          "metadata": {},
          "execution_count": 16
        }
      ],
      "source": [
        "internet_data.info()\n",
        "internet_data.head()"
      ]
    },
    {
      "cell_type": "markdown",
      "metadata": {
        "id": "JvAXL51YrQ2p"
      },
      "source": [
        "We'll change all Yes and No from applicable columns into binary values."
      ]
    },
    {
      "cell_type": "code",
      "execution_count": 17,
      "metadata": {
        "scrolled": true,
        "id": "dH9dq3MorQ2p",
        "outputId": "beba72ac-e69b-4df6-eb9d-7c00dbd1a1e5",
        "colab": {
          "base_uri": "https://localhost:8080/",
          "height": 206
        }
      },
      "outputs": [
        {
          "output_type": "display_data",
          "data": {
            "text/plain": [
              "   customerID InternetService  OnlineSecurity  OnlineBackup  DeviceProtection  \\\n",
              "0  7590-VHVEG             DSL               0             1                 0   \n",
              "1  5575-GNVDE             DSL               1             0                 1   \n",
              "2  3668-QPYBK             DSL               1             1                 0   \n",
              "3  7795-CFOCW             DSL               1             0                 1   \n",
              "4  9237-HQITU     Fiber optic               0             0                 0   \n",
              "\n",
              "   TechSupport  StreamingTV  StreamingMovies  \n",
              "0            0            0                0  \n",
              "1            0            0                0  \n",
              "2            0            0                0  \n",
              "3            1            0                0  \n",
              "4            0            0                0  "
            ],
            "text/html": [
              "\n",
              "  <div id=\"df-96147211-181c-4f93-b3c5-0b3d426078ce\" class=\"colab-df-container\">\n",
              "    <div>\n",
              "<style scoped>\n",
              "    .dataframe tbody tr th:only-of-type {\n",
              "        vertical-align: middle;\n",
              "    }\n",
              "\n",
              "    .dataframe tbody tr th {\n",
              "        vertical-align: top;\n",
              "    }\n",
              "\n",
              "    .dataframe thead th {\n",
              "        text-align: right;\n",
              "    }\n",
              "</style>\n",
              "<table border=\"1\" class=\"dataframe\">\n",
              "  <thead>\n",
              "    <tr style=\"text-align: right;\">\n",
              "      <th></th>\n",
              "      <th>customerID</th>\n",
              "      <th>InternetService</th>\n",
              "      <th>OnlineSecurity</th>\n",
              "      <th>OnlineBackup</th>\n",
              "      <th>DeviceProtection</th>\n",
              "      <th>TechSupport</th>\n",
              "      <th>StreamingTV</th>\n",
              "      <th>StreamingMovies</th>\n",
              "    </tr>\n",
              "  </thead>\n",
              "  <tbody>\n",
              "    <tr>\n",
              "      <th>0</th>\n",
              "      <td>7590-VHVEG</td>\n",
              "      <td>DSL</td>\n",
              "      <td>0</td>\n",
              "      <td>1</td>\n",
              "      <td>0</td>\n",
              "      <td>0</td>\n",
              "      <td>0</td>\n",
              "      <td>0</td>\n",
              "    </tr>\n",
              "    <tr>\n",
              "      <th>1</th>\n",
              "      <td>5575-GNVDE</td>\n",
              "      <td>DSL</td>\n",
              "      <td>1</td>\n",
              "      <td>0</td>\n",
              "      <td>1</td>\n",
              "      <td>0</td>\n",
              "      <td>0</td>\n",
              "      <td>0</td>\n",
              "    </tr>\n",
              "    <tr>\n",
              "      <th>2</th>\n",
              "      <td>3668-QPYBK</td>\n",
              "      <td>DSL</td>\n",
              "      <td>1</td>\n",
              "      <td>1</td>\n",
              "      <td>0</td>\n",
              "      <td>0</td>\n",
              "      <td>0</td>\n",
              "      <td>0</td>\n",
              "    </tr>\n",
              "    <tr>\n",
              "      <th>3</th>\n",
              "      <td>7795-CFOCW</td>\n",
              "      <td>DSL</td>\n",
              "      <td>1</td>\n",
              "      <td>0</td>\n",
              "      <td>1</td>\n",
              "      <td>1</td>\n",
              "      <td>0</td>\n",
              "      <td>0</td>\n",
              "    </tr>\n",
              "    <tr>\n",
              "      <th>4</th>\n",
              "      <td>9237-HQITU</td>\n",
              "      <td>Fiber optic</td>\n",
              "      <td>0</td>\n",
              "      <td>0</td>\n",
              "      <td>0</td>\n",
              "      <td>0</td>\n",
              "      <td>0</td>\n",
              "      <td>0</td>\n",
              "    </tr>\n",
              "  </tbody>\n",
              "</table>\n",
              "</div>\n",
              "    <div class=\"colab-df-buttons\">\n",
              "\n",
              "  <div class=\"colab-df-container\">\n",
              "    <button class=\"colab-df-convert\" onclick=\"convertToInteractive('df-96147211-181c-4f93-b3c5-0b3d426078ce')\"\n",
              "            title=\"Convert this dataframe to an interactive table.\"\n",
              "            style=\"display:none;\">\n",
              "\n",
              "  <svg xmlns=\"http://www.w3.org/2000/svg\" height=\"24px\" viewBox=\"0 -960 960 960\">\n",
              "    <path d=\"M120-120v-720h720v720H120Zm60-500h600v-160H180v160Zm220 220h160v-160H400v160Zm0 220h160v-160H400v160ZM180-400h160v-160H180v160Zm440 0h160v-160H620v160ZM180-180h160v-160H180v160Zm440 0h160v-160H620v160Z\"/>\n",
              "  </svg>\n",
              "    </button>\n",
              "\n",
              "  <style>\n",
              "    .colab-df-container {\n",
              "      display:flex;\n",
              "      gap: 12px;\n",
              "    }\n",
              "\n",
              "    .colab-df-convert {\n",
              "      background-color: #E8F0FE;\n",
              "      border: none;\n",
              "      border-radius: 50%;\n",
              "      cursor: pointer;\n",
              "      display: none;\n",
              "      fill: #1967D2;\n",
              "      height: 32px;\n",
              "      padding: 0 0 0 0;\n",
              "      width: 32px;\n",
              "    }\n",
              "\n",
              "    .colab-df-convert:hover {\n",
              "      background-color: #E2EBFA;\n",
              "      box-shadow: 0px 1px 2px rgba(60, 64, 67, 0.3), 0px 1px 3px 1px rgba(60, 64, 67, 0.15);\n",
              "      fill: #174EA6;\n",
              "    }\n",
              "\n",
              "    .colab-df-buttons div {\n",
              "      margin-bottom: 4px;\n",
              "    }\n",
              "\n",
              "    [theme=dark] .colab-df-convert {\n",
              "      background-color: #3B4455;\n",
              "      fill: #D2E3FC;\n",
              "    }\n",
              "\n",
              "    [theme=dark] .colab-df-convert:hover {\n",
              "      background-color: #434B5C;\n",
              "      box-shadow: 0px 1px 3px 1px rgba(0, 0, 0, 0.15);\n",
              "      filter: drop-shadow(0px 1px 2px rgba(0, 0, 0, 0.3));\n",
              "      fill: #FFFFFF;\n",
              "    }\n",
              "  </style>\n",
              "\n",
              "    <script>\n",
              "      const buttonEl =\n",
              "        document.querySelector('#df-96147211-181c-4f93-b3c5-0b3d426078ce button.colab-df-convert');\n",
              "      buttonEl.style.display =\n",
              "        google.colab.kernel.accessAllowed ? 'block' : 'none';\n",
              "\n",
              "      async function convertToInteractive(key) {\n",
              "        const element = document.querySelector('#df-96147211-181c-4f93-b3c5-0b3d426078ce');\n",
              "        const dataTable =\n",
              "          await google.colab.kernel.invokeFunction('convertToInteractive',\n",
              "                                                    [key], {});\n",
              "        if (!dataTable) return;\n",
              "\n",
              "        const docLinkHtml = 'Like what you see? Visit the ' +\n",
              "          '<a target=\"_blank\" href=https://colab.research.google.com/notebooks/data_table.ipynb>data table notebook</a>'\n",
              "          + ' to learn more about interactive tables.';\n",
              "        element.innerHTML = '';\n",
              "        dataTable['output_type'] = 'display_data';\n",
              "        await google.colab.output.renderOutput(dataTable, element);\n",
              "        const docLink = document.createElement('div');\n",
              "        docLink.innerHTML = docLinkHtml;\n",
              "        element.appendChild(docLink);\n",
              "      }\n",
              "    </script>\n",
              "  </div>\n",
              "\n",
              "\n",
              "    <div id=\"df-5e9ee77c-3c96-44dd-a875-7d33a6e3bce2\">\n",
              "      <button class=\"colab-df-quickchart\" onclick=\"quickchart('df-5e9ee77c-3c96-44dd-a875-7d33a6e3bce2')\"\n",
              "                title=\"Suggest charts\"\n",
              "                style=\"display:none;\">\n",
              "\n",
              "<svg xmlns=\"http://www.w3.org/2000/svg\" height=\"24px\"viewBox=\"0 0 24 24\"\n",
              "     width=\"24px\">\n",
              "    <g>\n",
              "        <path d=\"M19 3H5c-1.1 0-2 .9-2 2v14c0 1.1.9 2 2 2h14c1.1 0 2-.9 2-2V5c0-1.1-.9-2-2-2zM9 17H7v-7h2v7zm4 0h-2V7h2v10zm4 0h-2v-4h2v4z\"/>\n",
              "    </g>\n",
              "</svg>\n",
              "      </button>\n",
              "\n",
              "<style>\n",
              "  .colab-df-quickchart {\n",
              "      --bg-color: #E8F0FE;\n",
              "      --fill-color: #1967D2;\n",
              "      --hover-bg-color: #E2EBFA;\n",
              "      --hover-fill-color: #174EA6;\n",
              "      --disabled-fill-color: #AAA;\n",
              "      --disabled-bg-color: #DDD;\n",
              "  }\n",
              "\n",
              "  [theme=dark] .colab-df-quickchart {\n",
              "      --bg-color: #3B4455;\n",
              "      --fill-color: #D2E3FC;\n",
              "      --hover-bg-color: #434B5C;\n",
              "      --hover-fill-color: #FFFFFF;\n",
              "      --disabled-bg-color: #3B4455;\n",
              "      --disabled-fill-color: #666;\n",
              "  }\n",
              "\n",
              "  .colab-df-quickchart {\n",
              "    background-color: var(--bg-color);\n",
              "    border: none;\n",
              "    border-radius: 50%;\n",
              "    cursor: pointer;\n",
              "    display: none;\n",
              "    fill: var(--fill-color);\n",
              "    height: 32px;\n",
              "    padding: 0;\n",
              "    width: 32px;\n",
              "  }\n",
              "\n",
              "  .colab-df-quickchart:hover {\n",
              "    background-color: var(--hover-bg-color);\n",
              "    box-shadow: 0 1px 2px rgba(60, 64, 67, 0.3), 0 1px 3px 1px rgba(60, 64, 67, 0.15);\n",
              "    fill: var(--button-hover-fill-color);\n",
              "  }\n",
              "\n",
              "  .colab-df-quickchart-complete:disabled,\n",
              "  .colab-df-quickchart-complete:disabled:hover {\n",
              "    background-color: var(--disabled-bg-color);\n",
              "    fill: var(--disabled-fill-color);\n",
              "    box-shadow: none;\n",
              "  }\n",
              "\n",
              "  .colab-df-spinner {\n",
              "    border: 2px solid var(--fill-color);\n",
              "    border-color: transparent;\n",
              "    border-bottom-color: var(--fill-color);\n",
              "    animation:\n",
              "      spin 1s steps(1) infinite;\n",
              "  }\n",
              "\n",
              "  @keyframes spin {\n",
              "    0% {\n",
              "      border-color: transparent;\n",
              "      border-bottom-color: var(--fill-color);\n",
              "      border-left-color: var(--fill-color);\n",
              "    }\n",
              "    20% {\n",
              "      border-color: transparent;\n",
              "      border-left-color: var(--fill-color);\n",
              "      border-top-color: var(--fill-color);\n",
              "    }\n",
              "    30% {\n",
              "      border-color: transparent;\n",
              "      border-left-color: var(--fill-color);\n",
              "      border-top-color: var(--fill-color);\n",
              "      border-right-color: var(--fill-color);\n",
              "    }\n",
              "    40% {\n",
              "      border-color: transparent;\n",
              "      border-right-color: var(--fill-color);\n",
              "      border-top-color: var(--fill-color);\n",
              "    }\n",
              "    60% {\n",
              "      border-color: transparent;\n",
              "      border-right-color: var(--fill-color);\n",
              "    }\n",
              "    80% {\n",
              "      border-color: transparent;\n",
              "      border-right-color: var(--fill-color);\n",
              "      border-bottom-color: var(--fill-color);\n",
              "    }\n",
              "    90% {\n",
              "      border-color: transparent;\n",
              "      border-bottom-color: var(--fill-color);\n",
              "    }\n",
              "  }\n",
              "</style>\n",
              "\n",
              "      <script>\n",
              "        async function quickchart(key) {\n",
              "          const quickchartButtonEl =\n",
              "            document.querySelector('#' + key + ' button');\n",
              "          quickchartButtonEl.disabled = true;  // To prevent multiple clicks.\n",
              "          quickchartButtonEl.classList.add('colab-df-spinner');\n",
              "          try {\n",
              "            const charts = await google.colab.kernel.invokeFunction(\n",
              "                'suggestCharts', [key], {});\n",
              "          } catch (error) {\n",
              "            console.error('Error during call to suggestCharts:', error);\n",
              "          }\n",
              "          quickchartButtonEl.classList.remove('colab-df-spinner');\n",
              "          quickchartButtonEl.classList.add('colab-df-quickchart-complete');\n",
              "        }\n",
              "        (() => {\n",
              "          let quickchartButtonEl =\n",
              "            document.querySelector('#df-5e9ee77c-3c96-44dd-a875-7d33a6e3bce2 button');\n",
              "          quickchartButtonEl.style.display =\n",
              "            google.colab.kernel.accessAllowed ? 'block' : 'none';\n",
              "        })();\n",
              "      </script>\n",
              "    </div>\n",
              "\n",
              "    </div>\n",
              "  </div>\n"
            ],
            "application/vnd.google.colaboratory.intrinsic+json": {
              "type": "dataframe",
              "summary": "{\n  \"name\": \"display(internet_data\",\n  \"rows\": 5,\n  \"fields\": [\n    {\n      \"column\": \"customerID\",\n      \"properties\": {\n        \"dtype\": \"string\",\n        \"num_unique_values\": 5,\n        \"samples\": [\n          \"5575-GNVDE\",\n          \"9237-HQITU\",\n          \"3668-QPYBK\"\n        ],\n        \"semantic_type\": \"\",\n        \"description\": \"\"\n      }\n    },\n    {\n      \"column\": \"InternetService\",\n      \"properties\": {\n        \"dtype\": \"category\",\n        \"num_unique_values\": 2,\n        \"samples\": [\n          \"Fiber optic\",\n          \"DSL\"\n        ],\n        \"semantic_type\": \"\",\n        \"description\": \"\"\n      }\n    },\n    {\n      \"column\": \"OnlineSecurity\",\n      \"properties\": {\n        \"dtype\": \"number\",\n        \"std\": 0,\n        \"min\": 0,\n        \"max\": 1,\n        \"num_unique_values\": 2,\n        \"samples\": [\n          1,\n          0\n        ],\n        \"semantic_type\": \"\",\n        \"description\": \"\"\n      }\n    },\n    {\n      \"column\": \"OnlineBackup\",\n      \"properties\": {\n        \"dtype\": \"number\",\n        \"std\": 0,\n        \"min\": 0,\n        \"max\": 1,\n        \"num_unique_values\": 2,\n        \"samples\": [\n          0,\n          1\n        ],\n        \"semantic_type\": \"\",\n        \"description\": \"\"\n      }\n    },\n    {\n      \"column\": \"DeviceProtection\",\n      \"properties\": {\n        \"dtype\": \"number\",\n        \"std\": 0,\n        \"min\": 0,\n        \"max\": 1,\n        \"num_unique_values\": 2,\n        \"samples\": [\n          1,\n          0\n        ],\n        \"semantic_type\": \"\",\n        \"description\": \"\"\n      }\n    },\n    {\n      \"column\": \"TechSupport\",\n      \"properties\": {\n        \"dtype\": \"number\",\n        \"std\": 0,\n        \"min\": 0,\n        \"max\": 1,\n        \"num_unique_values\": 2,\n        \"samples\": [\n          1,\n          0\n        ],\n        \"semantic_type\": \"\",\n        \"description\": \"\"\n      }\n    },\n    {\n      \"column\": \"StreamingTV\",\n      \"properties\": {\n        \"dtype\": \"number\",\n        \"std\": 0,\n        \"min\": 0,\n        \"max\": 0,\n        \"num_unique_values\": 1,\n        \"samples\": [\n          0\n        ],\n        \"semantic_type\": \"\",\n        \"description\": \"\"\n      }\n    },\n    {\n      \"column\": \"StreamingMovies\",\n      \"properties\": {\n        \"dtype\": \"number\",\n        \"std\": 0,\n        \"min\": 0,\n        \"max\": 0,\n        \"num_unique_values\": 1,\n        \"samples\": [\n          0\n        ],\n        \"semantic_type\": \"\",\n        \"description\": \"\"\n      }\n    }\n  ]\n}"
            }
          },
          "metadata": {}
        }
      ],
      "source": [
        "internet_data_columns = internet_data.columns\n",
        "internet_data_columns = internet_data_columns[2:]\n",
        "\n",
        "for column in internet_data_columns:\n",
        "    internet_data[column] = internet_data[column].map({'Yes':1, 'No':0})\n",
        "\n",
        "display(internet_data.head())\n"
      ]
    },
    {
      "cell_type": "code",
      "execution_count": 18,
      "metadata": {
        "scrolled": true,
        "id": "QaeflqIArQ2p",
        "outputId": "b5938936-78d4-4773-a5d4-c9c39319d845",
        "colab": {
          "base_uri": "https://localhost:8080/"
        }
      },
      "outputs": [
        {
          "output_type": "stream",
          "name": "stdout",
          "text": [
            "customerID 5517\n",
            "InternetService 2\n",
            "OnlineSecurity 2\n",
            "OnlineBackup 2\n",
            "DeviceProtection 2\n",
            "TechSupport 2\n",
            "StreamingTV 2\n",
            "StreamingMovies 2\n"
          ]
        }
      ],
      "source": [
        "#Checking uniques per column for consistency\n",
        "\n",
        "for column in internet_data.columns:\n",
        "    print(column, internet_data[column].nunique())"
      ]
    },
    {
      "cell_type": "code",
      "execution_count": 19,
      "metadata": {
        "id": "1Y2l7QznrQ2p",
        "outputId": "120d4701-1216-4b5a-872e-47ac9937b17b",
        "colab": {
          "base_uri": "https://localhost:8080/"
        }
      },
      "outputs": [
        {
          "output_type": "stream",
          "name": "stdout",
          "text": [
            "<class 'pandas.core.frame.DataFrame'>\n",
            "RangeIndex: 5517 entries, 0 to 5516\n",
            "Data columns (total 8 columns):\n",
            " #   Column            Non-Null Count  Dtype   \n",
            "---  ------            --------------  -----   \n",
            " 0   customerID        5517 non-null   object  \n",
            " 1   InternetService   5517 non-null   category\n",
            " 2   OnlineSecurity    5517 non-null   int64   \n",
            " 3   OnlineBackup      5517 non-null   int64   \n",
            " 4   DeviceProtection  5517 non-null   int64   \n",
            " 5   TechSupport       5517 non-null   int64   \n",
            " 6   StreamingTV       5517 non-null   int64   \n",
            " 7   StreamingMovies   5517 non-null   int64   \n",
            "dtypes: category(1), int64(6), object(1)\n",
            "memory usage: 307.3+ KB\n"
          ]
        }
      ],
      "source": [
        "#Changing the one column that we're missing into categoric.\n",
        "\n",
        "internet_data['InternetService'] = internet_data['InternetService'].astype('category')\n",
        "\n",
        "internet_data.info()"
      ]
    },
    {
      "cell_type": "markdown",
      "metadata": {
        "id": "hW2LXj8DrQ2p"
      },
      "source": [
        "### Phone Data"
      ]
    },
    {
      "cell_type": "code",
      "execution_count": 20,
      "metadata": {
        "scrolled": false,
        "id": "LIbCIefwrQ2p",
        "outputId": "30c8a268-ca02-478d-e6d0-a3f51cbe7b71",
        "colab": {
          "base_uri": "https://localhost:8080/"
        }
      },
      "outputs": [
        {
          "output_type": "stream",
          "name": "stdout",
          "text": [
            "<class 'pandas.core.frame.DataFrame'>\n",
            "RangeIndex: 6361 entries, 0 to 6360\n",
            "Data columns (total 2 columns):\n",
            " #   Column         Non-Null Count  Dtype \n",
            "---  ------         --------------  ----- \n",
            " 0   customerID     6361 non-null   object\n",
            " 1   MultipleLines  6361 non-null   object\n",
            "dtypes: object(2)\n",
            "memory usage: 99.5+ KB\n",
            "   customerID MultipleLines\n",
            "0  5575-GNVDE            No\n",
            "1  3668-QPYBK            No\n",
            "2  9237-HQITU            No\n",
            "3  9305-CDSKC           Yes\n",
            "4  1452-KIOVK           Yes\n"
          ]
        }
      ],
      "source": [
        "phone_data.info()\n",
        "print(phone_data.head())"
      ]
    },
    {
      "cell_type": "code",
      "execution_count": 21,
      "metadata": {
        "id": "0C1VgZV2rQ2p",
        "outputId": "0541238f-ed47-4211-d628-e1895eb910b8",
        "colab": {
          "base_uri": "https://localhost:8080/",
          "height": 206
        }
      },
      "outputs": [
        {
          "output_type": "display_data",
          "data": {
            "text/plain": [
              "   customerID  MultipleLines\n",
              "0  5575-GNVDE              0\n",
              "1  3668-QPYBK              0\n",
              "2  9237-HQITU              0\n",
              "3  9305-CDSKC              1\n",
              "4  1452-KIOVK              1"
            ],
            "text/html": [
              "\n",
              "  <div id=\"df-1e5e377e-3076-4278-8eaa-353f31e34927\" class=\"colab-df-container\">\n",
              "    <div>\n",
              "<style scoped>\n",
              "    .dataframe tbody tr th:only-of-type {\n",
              "        vertical-align: middle;\n",
              "    }\n",
              "\n",
              "    .dataframe tbody tr th {\n",
              "        vertical-align: top;\n",
              "    }\n",
              "\n",
              "    .dataframe thead th {\n",
              "        text-align: right;\n",
              "    }\n",
              "</style>\n",
              "<table border=\"1\" class=\"dataframe\">\n",
              "  <thead>\n",
              "    <tr style=\"text-align: right;\">\n",
              "      <th></th>\n",
              "      <th>customerID</th>\n",
              "      <th>MultipleLines</th>\n",
              "    </tr>\n",
              "  </thead>\n",
              "  <tbody>\n",
              "    <tr>\n",
              "      <th>0</th>\n",
              "      <td>5575-GNVDE</td>\n",
              "      <td>0</td>\n",
              "    </tr>\n",
              "    <tr>\n",
              "      <th>1</th>\n",
              "      <td>3668-QPYBK</td>\n",
              "      <td>0</td>\n",
              "    </tr>\n",
              "    <tr>\n",
              "      <th>2</th>\n",
              "      <td>9237-HQITU</td>\n",
              "      <td>0</td>\n",
              "    </tr>\n",
              "    <tr>\n",
              "      <th>3</th>\n",
              "      <td>9305-CDSKC</td>\n",
              "      <td>1</td>\n",
              "    </tr>\n",
              "    <tr>\n",
              "      <th>4</th>\n",
              "      <td>1452-KIOVK</td>\n",
              "      <td>1</td>\n",
              "    </tr>\n",
              "  </tbody>\n",
              "</table>\n",
              "</div>\n",
              "    <div class=\"colab-df-buttons\">\n",
              "\n",
              "  <div class=\"colab-df-container\">\n",
              "    <button class=\"colab-df-convert\" onclick=\"convertToInteractive('df-1e5e377e-3076-4278-8eaa-353f31e34927')\"\n",
              "            title=\"Convert this dataframe to an interactive table.\"\n",
              "            style=\"display:none;\">\n",
              "\n",
              "  <svg xmlns=\"http://www.w3.org/2000/svg\" height=\"24px\" viewBox=\"0 -960 960 960\">\n",
              "    <path d=\"M120-120v-720h720v720H120Zm60-500h600v-160H180v160Zm220 220h160v-160H400v160Zm0 220h160v-160H400v160ZM180-400h160v-160H180v160Zm440 0h160v-160H620v160ZM180-180h160v-160H180v160Zm440 0h160v-160H620v160Z\"/>\n",
              "  </svg>\n",
              "    </button>\n",
              "\n",
              "  <style>\n",
              "    .colab-df-container {\n",
              "      display:flex;\n",
              "      gap: 12px;\n",
              "    }\n",
              "\n",
              "    .colab-df-convert {\n",
              "      background-color: #E8F0FE;\n",
              "      border: none;\n",
              "      border-radius: 50%;\n",
              "      cursor: pointer;\n",
              "      display: none;\n",
              "      fill: #1967D2;\n",
              "      height: 32px;\n",
              "      padding: 0 0 0 0;\n",
              "      width: 32px;\n",
              "    }\n",
              "\n",
              "    .colab-df-convert:hover {\n",
              "      background-color: #E2EBFA;\n",
              "      box-shadow: 0px 1px 2px rgba(60, 64, 67, 0.3), 0px 1px 3px 1px rgba(60, 64, 67, 0.15);\n",
              "      fill: #174EA6;\n",
              "    }\n",
              "\n",
              "    .colab-df-buttons div {\n",
              "      margin-bottom: 4px;\n",
              "    }\n",
              "\n",
              "    [theme=dark] .colab-df-convert {\n",
              "      background-color: #3B4455;\n",
              "      fill: #D2E3FC;\n",
              "    }\n",
              "\n",
              "    [theme=dark] .colab-df-convert:hover {\n",
              "      background-color: #434B5C;\n",
              "      box-shadow: 0px 1px 3px 1px rgba(0, 0, 0, 0.15);\n",
              "      filter: drop-shadow(0px 1px 2px rgba(0, 0, 0, 0.3));\n",
              "      fill: #FFFFFF;\n",
              "    }\n",
              "  </style>\n",
              "\n",
              "    <script>\n",
              "      const buttonEl =\n",
              "        document.querySelector('#df-1e5e377e-3076-4278-8eaa-353f31e34927 button.colab-df-convert');\n",
              "      buttonEl.style.display =\n",
              "        google.colab.kernel.accessAllowed ? 'block' : 'none';\n",
              "\n",
              "      async function convertToInteractive(key) {\n",
              "        const element = document.querySelector('#df-1e5e377e-3076-4278-8eaa-353f31e34927');\n",
              "        const dataTable =\n",
              "          await google.colab.kernel.invokeFunction('convertToInteractive',\n",
              "                                                    [key], {});\n",
              "        if (!dataTable) return;\n",
              "\n",
              "        const docLinkHtml = 'Like what you see? Visit the ' +\n",
              "          '<a target=\"_blank\" href=https://colab.research.google.com/notebooks/data_table.ipynb>data table notebook</a>'\n",
              "          + ' to learn more about interactive tables.';\n",
              "        element.innerHTML = '';\n",
              "        dataTable['output_type'] = 'display_data';\n",
              "        await google.colab.output.renderOutput(dataTable, element);\n",
              "        const docLink = document.createElement('div');\n",
              "        docLink.innerHTML = docLinkHtml;\n",
              "        element.appendChild(docLink);\n",
              "      }\n",
              "    </script>\n",
              "  </div>\n",
              "\n",
              "\n",
              "    <div id=\"df-b5da59cb-bd24-47f0-a368-92dd165e5ac0\">\n",
              "      <button class=\"colab-df-quickchart\" onclick=\"quickchart('df-b5da59cb-bd24-47f0-a368-92dd165e5ac0')\"\n",
              "                title=\"Suggest charts\"\n",
              "                style=\"display:none;\">\n",
              "\n",
              "<svg xmlns=\"http://www.w3.org/2000/svg\" height=\"24px\"viewBox=\"0 0 24 24\"\n",
              "     width=\"24px\">\n",
              "    <g>\n",
              "        <path d=\"M19 3H5c-1.1 0-2 .9-2 2v14c0 1.1.9 2 2 2h14c1.1 0 2-.9 2-2V5c0-1.1-.9-2-2-2zM9 17H7v-7h2v7zm4 0h-2V7h2v10zm4 0h-2v-4h2v4z\"/>\n",
              "    </g>\n",
              "</svg>\n",
              "      </button>\n",
              "\n",
              "<style>\n",
              "  .colab-df-quickchart {\n",
              "      --bg-color: #E8F0FE;\n",
              "      --fill-color: #1967D2;\n",
              "      --hover-bg-color: #E2EBFA;\n",
              "      --hover-fill-color: #174EA6;\n",
              "      --disabled-fill-color: #AAA;\n",
              "      --disabled-bg-color: #DDD;\n",
              "  }\n",
              "\n",
              "  [theme=dark] .colab-df-quickchart {\n",
              "      --bg-color: #3B4455;\n",
              "      --fill-color: #D2E3FC;\n",
              "      --hover-bg-color: #434B5C;\n",
              "      --hover-fill-color: #FFFFFF;\n",
              "      --disabled-bg-color: #3B4455;\n",
              "      --disabled-fill-color: #666;\n",
              "  }\n",
              "\n",
              "  .colab-df-quickchart {\n",
              "    background-color: var(--bg-color);\n",
              "    border: none;\n",
              "    border-radius: 50%;\n",
              "    cursor: pointer;\n",
              "    display: none;\n",
              "    fill: var(--fill-color);\n",
              "    height: 32px;\n",
              "    padding: 0;\n",
              "    width: 32px;\n",
              "  }\n",
              "\n",
              "  .colab-df-quickchart:hover {\n",
              "    background-color: var(--hover-bg-color);\n",
              "    box-shadow: 0 1px 2px rgba(60, 64, 67, 0.3), 0 1px 3px 1px rgba(60, 64, 67, 0.15);\n",
              "    fill: var(--button-hover-fill-color);\n",
              "  }\n",
              "\n",
              "  .colab-df-quickchart-complete:disabled,\n",
              "  .colab-df-quickchart-complete:disabled:hover {\n",
              "    background-color: var(--disabled-bg-color);\n",
              "    fill: var(--disabled-fill-color);\n",
              "    box-shadow: none;\n",
              "  }\n",
              "\n",
              "  .colab-df-spinner {\n",
              "    border: 2px solid var(--fill-color);\n",
              "    border-color: transparent;\n",
              "    border-bottom-color: var(--fill-color);\n",
              "    animation:\n",
              "      spin 1s steps(1) infinite;\n",
              "  }\n",
              "\n",
              "  @keyframes spin {\n",
              "    0% {\n",
              "      border-color: transparent;\n",
              "      border-bottom-color: var(--fill-color);\n",
              "      border-left-color: var(--fill-color);\n",
              "    }\n",
              "    20% {\n",
              "      border-color: transparent;\n",
              "      border-left-color: var(--fill-color);\n",
              "      border-top-color: var(--fill-color);\n",
              "    }\n",
              "    30% {\n",
              "      border-color: transparent;\n",
              "      border-left-color: var(--fill-color);\n",
              "      border-top-color: var(--fill-color);\n",
              "      border-right-color: var(--fill-color);\n",
              "    }\n",
              "    40% {\n",
              "      border-color: transparent;\n",
              "      border-right-color: var(--fill-color);\n",
              "      border-top-color: var(--fill-color);\n",
              "    }\n",
              "    60% {\n",
              "      border-color: transparent;\n",
              "      border-right-color: var(--fill-color);\n",
              "    }\n",
              "    80% {\n",
              "      border-color: transparent;\n",
              "      border-right-color: var(--fill-color);\n",
              "      border-bottom-color: var(--fill-color);\n",
              "    }\n",
              "    90% {\n",
              "      border-color: transparent;\n",
              "      border-bottom-color: var(--fill-color);\n",
              "    }\n",
              "  }\n",
              "</style>\n",
              "\n",
              "      <script>\n",
              "        async function quickchart(key) {\n",
              "          const quickchartButtonEl =\n",
              "            document.querySelector('#' + key + ' button');\n",
              "          quickchartButtonEl.disabled = true;  // To prevent multiple clicks.\n",
              "          quickchartButtonEl.classList.add('colab-df-spinner');\n",
              "          try {\n",
              "            const charts = await google.colab.kernel.invokeFunction(\n",
              "                'suggestCharts', [key], {});\n",
              "          } catch (error) {\n",
              "            console.error('Error during call to suggestCharts:', error);\n",
              "          }\n",
              "          quickchartButtonEl.classList.remove('colab-df-spinner');\n",
              "          quickchartButtonEl.classList.add('colab-df-quickchart-complete');\n",
              "        }\n",
              "        (() => {\n",
              "          let quickchartButtonEl =\n",
              "            document.querySelector('#df-b5da59cb-bd24-47f0-a368-92dd165e5ac0 button');\n",
              "          quickchartButtonEl.style.display =\n",
              "            google.colab.kernel.accessAllowed ? 'block' : 'none';\n",
              "        })();\n",
              "      </script>\n",
              "    </div>\n",
              "\n",
              "    </div>\n",
              "  </div>\n"
            ],
            "application/vnd.google.colaboratory.intrinsic+json": {
              "type": "dataframe",
              "summary": "{\n  \"name\": \"display(phone_data\",\n  \"rows\": 5,\n  \"fields\": [\n    {\n      \"column\": \"customerID\",\n      \"properties\": {\n        \"dtype\": \"string\",\n        \"num_unique_values\": 5,\n        \"samples\": [\n          \"3668-QPYBK\",\n          \"1452-KIOVK\",\n          \"9237-HQITU\"\n        ],\n        \"semantic_type\": \"\",\n        \"description\": \"\"\n      }\n    },\n    {\n      \"column\": \"MultipleLines\",\n      \"properties\": {\n        \"dtype\": \"number\",\n        \"std\": 0,\n        \"min\": 0,\n        \"max\": 1,\n        \"num_unique_values\": 2,\n        \"samples\": [\n          1,\n          0\n        ],\n        \"semantic_type\": \"\",\n        \"description\": \"\"\n      }\n    }\n  ]\n}"
            }
          },
          "metadata": {}
        }
      ],
      "source": [
        "# Changing the only column from this dataframe into 0 and 1.\n",
        "\n",
        "phone_data['MultipleLines'] = phone_data['MultipleLines'].map({'Yes':1, 'No':0})\n",
        "display(phone_data.head())"
      ]
    },
    {
      "cell_type": "code",
      "execution_count": 22,
      "metadata": {
        "scrolled": true,
        "id": "1C24hqVZrQ2p",
        "outputId": "4850d4f8-ae38-4c8d-e206-e305dbd6dc57",
        "colab": {
          "base_uri": "https://localhost:8080/"
        }
      },
      "outputs": [
        {
          "output_type": "stream",
          "name": "stdout",
          "text": [
            "Contract duplicates: Empty DataFrame\n",
            "Columns: [customerID, BeginDate, EndDate, Type, PaperlessBilling, PaymentMethod, MonthlyCharges, TotalCharges, Churn]\n",
            "Index: []\n",
            "Personal Data duplicates: Empty DataFrame\n",
            "Columns: [customerID, gender, SeniorCitizen, Partner, Dependents]\n",
            "Index: []\n",
            "Internet duplicates: Empty DataFrame\n",
            "Columns: [customerID, InternetService, OnlineSecurity, OnlineBackup, DeviceProtection, TechSupport, StreamingTV, StreamingMovies]\n",
            "Index: []\n",
            "Phone duplicates: Empty DataFrame\n",
            "Columns: [customerID, MultipleLines]\n",
            "Index: []\n"
          ]
        }
      ],
      "source": [
        "# Checking for duplicates\n",
        "\n",
        "print('Contract duplicates:',contract_data[contract_data.duplicated()])\n",
        "print('Personal Data duplicates:',personal_data[personal_data.duplicated()])\n",
        "print('Internet duplicates:',internet_data[internet_data.duplicated()])\n",
        "print('Phone duplicates:',phone_data[phone_data.duplicated()])"
      ]
    },
    {
      "cell_type": "markdown",
      "metadata": {
        "id": "6FFIPOAurQ2p"
      },
      "source": [
        "We have successfully imported all the different CSV files. Some, like the internet and phone data, do not have 7,043 entries, which suggests that there are customers who do not have internet service, or alternatively, do not have phone service. At first glance, we can see that there are more customers with phone contracts than with internet contracts.\n",
        "\n",
        "It can also be observed that no duplicates were found in any of the dataframes. In the case of the contracts, there are 11 that do not have total charges, and their dates are all the same — 2020/02/01 — which likely means their billing date has not yet passed, so the system has not recorded them yet. These have been replaced with 0. Out of the 7,043 contracts in the record, only 1,869 have a contract termination date, meaning that around 5,000 contracts are still active. These will be left as null, so that a calculated column for terminated contracts, 'Churn', can be created."
      ]
    },
    {
      "cell_type": "markdown",
      "metadata": {
        "id": "sdfwA7L6rQ2p"
      },
      "source": [
        "###  Visualización"
      ]
    },
    {
      "cell_type": "code",
      "execution_count": 23,
      "metadata": {
        "id": "aXa0PDrLrQ2q",
        "outputId": "766aed17-f6fc-4fae-b477-12692a323c1c",
        "colab": {
          "base_uri": "https://localhost:8080/",
          "height": 489
        }
      },
      "outputs": [
        {
          "output_type": "execute_result",
          "data": {
            "text/plain": [
              "Text(0.5, 1.0, 'Count of Contracts per Type of Service')"
            ]
          },
          "metadata": {},
          "execution_count": 23
        },
        {
          "output_type": "display_data",
          "data": {
            "text/plain": [
              "<Figure size 640x480 with 1 Axes>"
            ],
            "image/png": "[encoded data removed]"
          },
          "metadata": {}
        }
      ],
      "source": [
        "count_users = pd.DataFrame({'User':['Phone', 'Internet'],\n",
        "                           'Count':[phone_data.shape[0], internet_data.shape[0]]})\n",
        "\n",
        "sns.barplot(data=count_users, x='User', y='Count',)\n",
        "plt.ylim(4000, 6500)\n",
        "plt.xlabel('Type of Contract')\n",
        "plt.title('Count of Contracts per Type of Service')"
      ]
    },
    {
      "cell_type": "code",
      "execution_count": 24,
      "metadata": {
        "id": "CLNIu1ejrQ2z",
        "outputId": "9ab85d6c-98ae-4b34-f0a7-1ea0a5356798",
        "colab": {
          "base_uri": "https://localhost:8080/",
          "height": 489
        }
      },
      "outputs": [
        {
          "output_type": "execute_result",
          "data": {
            "text/plain": [
              "Text(0.5, 1.0, 'New Contracts per Year')"
            ]
          },
          "metadata": {},
          "execution_count": 24
        },
        {
          "output_type": "display_data",
          "data": {
            "text/plain": [
              "<Figure size 640x480 with 1 Axes>"
            ],
            "image/png": "[encoded data removed]"
          },
          "metadata": {}
        }
      ],
      "source": [
        "new_contracts_py = contract_data.groupby(contract_data['BeginDate'].dt.year).size()\n",
        "\n",
        "sns.lineplot(data=new_contracts_py)\n",
        "plt.xlabel('Year')\n",
        "plt.ylabel('Amount of Contracts')\n",
        "plt.title('New Contracts per Year')"
      ]
    },
    {
      "cell_type": "code",
      "execution_count": 25,
      "metadata": {
        "scrolled": false,
        "id": "jS31ax_BrQ2z",
        "outputId": "0884d2e3-f853-41ab-d8b2-1b98547bd206",
        "colab": {
          "base_uri": "https://localhost:8080/",
          "height": 614
        }
      },
      "outputs": [
        {
          "output_type": "stream",
          "name": "stdout",
          "text": [
            "gender\n",
            "Female    3488\n",
            "Male      3555\n",
            "dtype: int64\n"
          ]
        },
        {
          "output_type": "stream",
          "name": "stderr",
          "text": [
            "<ipython-input-25-61c6b15a4c8e>:1: FutureWarning: The default of observed=False is deprecated and will be changed to True in a future version of pandas. Pass observed=False to retain current behavior or observed=True to adopt the future default and silence this warning.\n",
            "  size_gender = personal_data.groupby('gender').size()\n"
          ]
        },
        {
          "output_type": "execute_result",
          "data": {
            "text/plain": [
              "(3400.0, 3600.0)"
            ]
          },
          "metadata": {},
          "execution_count": 25
        },
        {
          "output_type": "display_data",
          "data": {
            "text/plain": [
              "<Figure size 640x480 with 1 Axes>"
            ],
            "image/png": "[encoded data removed]"
          },
          "metadata": {}
        }
      ],
      "source": [
        "size_gender = personal_data.groupby('gender').size()\n",
        "\n",
        "print(size_gender)\n",
        "\n",
        "sns.barplot(data=size_gender)\n",
        "plt.title('Amount of Users per Gender')\n",
        "plt.xlabel('Gender')\n",
        "plt.ylim(3400,3600)"
      ]
    },
    {
      "cell_type": "markdown",
      "metadata": {
        "id": "qcV8lZCzrQ2z"
      },
      "source": [
        "No hay mucha diferencia entre ambos géneros, sólo 100 personas aprox. más hombres que mujeres."
      ]
    },
    {
      "cell_type": "code",
      "execution_count": 26,
      "metadata": {
        "scrolled": false,
        "id": "_I7zU36GrQ2z",
        "outputId": "4eaad257-5d39-409b-a4d8-35b365e5f600",
        "colab": {
          "base_uri": "https://localhost:8080/",
          "height": 560
        }
      },
      "outputs": [
        {
          "output_type": "display_data",
          "data": {
            "text/plain": [
              "<Figure size 1200x600 with 2 Axes>"
            ],
            "image/png": "[encoded data removed]"
          },
          "metadata": {}
        }
      ],
      "source": [
        "fig, axs = plt.subplots(1,2, figsize=(12,6))\n",
        "\n",
        "axs[0].boxplot(contract_data['TotalCharges'])\n",
        "axs[0].set_title('Boxplot of Total Charges')\n",
        "axs[0].set_xlabel('TotalCharges')\n",
        "\n",
        "axs[1].boxplot(contract_data['MonthlyCharges'])\n",
        "axs[1].set_title('Boxplot of Monthly Charges')\n",
        "axs[1].set_xlabel('MonthlyCharges')\n",
        "\n",
        "plt.tight_layout()"
      ]
    },
    {
      "cell_type": "code",
      "source": [
        "sns.histplot(data=contract_data, x='TotalCharges', hue='Churn')\n",
        "plt.title('Distribution of Total Charges by Churn')"
      ],
      "metadata": {
        "id": "mIr5-ETk-lUg",
        "outputId": "79de5827-6f9b-40b2-a2df-7077d68ab9da",
        "colab": {
          "base_uri": "https://localhost:8080/",
          "height": 489
        }
      },
      "execution_count": 27,
      "outputs": [
        {
          "output_type": "execute_result",
          "data": {
            "text/plain": [
              "Text(0.5, 1.0, 'Distribution of Total Charges by Churn')"
            ]
          },
          "metadata": {},
          "execution_count": 27
        },
        {
          "output_type": "display_data",
          "data": {
            "text/plain": [
              "<Figure size 640x480 with 1 Axes>"
            ],
            "image/png": "[encoded data removed]"
          },
          "metadata": {}
        }
      ]
    },
    {
      "cell_type": "code",
      "source": [
        "churn_over_time = contract_data.groupby(contract_data['BeginDate'].dt.year).agg({'Churn':'sum'})\n",
        "\n",
        "sns.lineplot(data=churn_over_time, x=churn_over_time.index, y='Churn')\n",
        "plt.xlabel('Year')\n",
        "plt.ylabel('Amount of Churned Contracts')\n",
        "plt.title('Churned Contracts per Year')"
      ],
      "metadata": {
        "id": "yT6Nz3h5BI88",
        "outputId": "2ec1eb96-4f5c-4328-f9a1-6b117a3fb437",
        "colab": {
          "base_uri": "https://localhost:8080/",
          "height": 489
        }
      },
      "execution_count": 29,
      "outputs": [
        {
          "output_type": "execute_result",
          "data": {
            "text/plain": [
              "Text(0.5, 1.0, 'Churned Contracts per Year')"
            ]
          },
          "metadata": {},
          "execution_count": 29
        },
        {
          "output_type": "display_data",
          "data": {
            "text/plain": [
              "<Figure size 640x480 with 1 Axes>"
            ],
            "image/png": "[encoded data removed]"
          },
          "metadata": {}
        }
      ]
    },
    {
      "cell_type": "markdown",
      "source": [
        "It seems there's been an increase in churned contracts per year."
      ],
      "metadata": {
        "id": "rv_ACe-3C4vx"
      }
    },
    {
      "cell_type": "code",
      "execution_count": 74,
      "metadata": {
        "scrolled": false,
        "id": "J9pUMJLFrQ2z",
        "outputId": "087d943e-62a9-4874-a6c4-ac67589795ff",
        "colab": {
          "base_uri": "https://localhost:8080/"
        }
      },
      "outputs": [
        {
          "output_type": "stream",
          "name": "stdout",
          "text": [
            "Descriptive Stats of MonthlyCharges:\n",
            " count    7043.000000\n",
            "mean       64.761692\n",
            "std        30.090047\n",
            "min        18.250000\n",
            "25%        35.500000\n",
            "50%        70.350000\n",
            "75%        89.850000\n",
            "max       118.750000\n",
            "Name: MonthlyCharges, dtype: float64\n",
            "\n",
            "Descriptive Stats of TotalCharges:\n",
            " count    7043.000000\n",
            "mean     2279.734304\n",
            "std      2266.794470\n",
            "min         0.000000\n",
            "25%       398.550000\n",
            "50%      1394.550000\n",
            "75%      3786.600000\n",
            "max      8684.800000\n",
            "Name: TotalCharges, dtype: float64\n"
          ]
        }
      ],
      "source": [
        "print('Descriptive Stats of MonthlyCharges:\\n',contract_data['MonthlyCharges'].describe())\n",
        "print('\\nDescriptive Stats of TotalCharges:\\n',contract_data['TotalCharges'].describe())"
      ]
    },
    {
      "cell_type": "code",
      "execution_count": 92,
      "metadata": {
        "scrolled": true,
        "id": "EYfMQYxLrQ2z",
        "outputId": "eeecfe53-64c9-414b-ac5d-e865c2150724",
        "colab": {
          "base_uri": "https://localhost:8080/"
        }
      },
      "outputs": [
        {
          "output_type": "stream",
          "name": "stdout",
          "text": [
            "Churn\n",
            "0    73.463013\n",
            "1    26.536987\n",
            "Name: proportion, dtype: float64\n"
          ]
        }
      ],
      "source": [
        "print(contract_data['Churn'].value_counts(normalize=True)*100)"
      ]
    },
    {
      "cell_type": "markdown",
      "metadata": {
        "id": "fNVLkEKxrQ20"
      },
      "source": [
        "Aproximadamente el 73% de los datos son ejemplos de contratos que fueron rescindidos \"Churned\", y el otro 27% son aquellos que sí fueron rescindidos. Por esto, haremos un ejercicio de sobremuestreo para poder entrenar nuestro modelo con mejores datos. Compararemos el performance del modelo usando métricos como F1 y área debajo de la curva, y compararemos modelos que puedan manejar desbalanceo como XGBoost."
      ]
    },
    {
      "cell_type": "markdown",
      "metadata": {
        "id": "zupmunBnrQ20"
      },
      "source": [
        "Parece que no hay outliers identificados en las columnas de cargos totales ni mensuales según los boxplot. Cargos totales tiene sus datos muy cargados hacia la izquierda, con la mitad de los datos estando entre la mitad de sus datos entre 0 y 1394, y el resto de 1394 a 8684. Esto puede significar que sólo hay algunos clientes con cuentas \"viejas\", ya que la columna de cargos totales es la suma de todo lo que se ha pagado durante el contrato, y entre más tiempo a pasado, más dinero se ha generado de este contrato. También se verá afectado por los servicios que tiene contratado, claro. Por ejemplo, alguien que tiene su contrato desde enero 2020 va a tener su cargo total igual a su cargo mensual, ya que el corte de estos datos es a febrero 2020.\n",
        "\n",
        "Cargos mensuales parecen estar más distribuidos al rededor de la mediana. De igual forma, no se encontraron outliers."
      ]
    },
    {
      "cell_type": "markdown",
      "metadata": {
        "id": "8zkb7mferQ20"
      },
      "source": [
        "## Plan de Trabajo"
      ]
    },
    {
      "cell_type": "markdown",
      "metadata": {
        "id": "LBahszUHrQ20"
      },
      "source": [
        "Se ha identificado el desbalanceo de clases en la columna objetivo Churn. En las siguientes partes del proyecto revisaremos como taclear esto con sobremuestreo. También podríamos ajustar hiperparámetros dentro de los mismos modelos, como en bosque aleatorio, donde podemos ajustar los pesos con class_weight='balanced'.\n"
      ]
    },
    {
      "cell_type": "markdown",
      "metadata": {
        "id": "8G8VFnAgrQ20"
      },
      "source": [
        "A través de ingeniería de características trabajaremos para realizar un dataframe maestro con las caracteristicas que más nos interesan, como lo son los datos personales, el tipo de contrato, las formas de pago, etc. Para esto estaremos haciendo una serie de joins entre los dataframes para tener todo en uno solo y poder generar nuestro modelo predictivo. Habiendo tenido nuestra tabla maestra, podemos ir descartanto columnas que no nos sean de utilidad, o calcular nuevas, como 'Churn' que nos indique si el contrato fue rescindido o no, y esta columna sería nuestra función objetivo en el modelo. Se probarán distintos tipos de modelaje de clasificación binaria para tratar de llegar a un métrico F1 adecuado usando técnicas como one hot encoding y potenciación."
      ]
    },
    {
      "cell_type": "markdown",
      "metadata": {
        "id": "qd10rTklrQ20"
      },
      "source": [
        "\n",
        "<b>Organización</b> 🗂️\n",
        "\n",
        "<pre>\n",
        "## Fase 1: Análisis Exploratorio\n",
        "- Verificación de duplicados, nulos, tipos de datos\n",
        "- Visualizaciones iniciales\n",
        "\n",
        "## Fase 2: Ingeniería y Limpieza\n",
        "- Conversión de variables, imputación\n",
        "- Creación de columna 'Churn'\n",
        "- Revisión del balance de clases\n",
        "\n",
        "## Fase 3: Selección de Características\n",
        "- Análisis de correlación / uso de Boruta, SHAP o métodos de filtrado\n",
        "- Reducción de dimensionalidad si aplica\n",
        "\n",
        "## Fase 4: Ingeniería de Características\n",
        "- One hot encoding, escalamiento, creación de nuevas columnas\n",
        "\n",
        "## Fase 5: Modelado\n",
        "- Pruebas con diferentes algoritmos de clasificación binaria\n",
        "- Evaluación con métricas: F1, ROC AUC, precisión, recall\n",
        "\n",
        "## Fase 6: Interpretación y Conclusión\n",
        "- Interpretación del modelo\n",
        "- Recomendaciones para el equipo de marketing\n",
        "</pre>\n",
        "\n"
      ]
    },
    {
      "cell_type": "markdown",
      "metadata": {
        "id": "y2dF_xZHrQ20"
      },
      "source": [
        "## Selección e Ingeniería de Características\n",
        "\n"
      ]
    },
    {
      "cell_type": "markdown",
      "metadata": {
        "id": "oGoqzs_7rQ21"
      },
      "source": [
        "### Merging de Tablas\n",
        "Vamos a unir todas las tablas para consolidarlas en una sola, teniendo como llave principal el customerID."
      ]
    },
    {
      "cell_type": "code",
      "execution_count": null,
      "metadata": {
        "id": "4hw8YBb5rQ21"
      },
      "outputs": [],
      "source": [
        "df_merged = contract_data.merge(personal_data, on='customerID', how='left')"
      ]
    },
    {
      "cell_type": "code",
      "execution_count": null,
      "metadata": {
        "id": "kTIFOioCrQ21"
      },
      "outputs": [],
      "source": [
        "df_merged = df_merged.merge(internet_data, on='customerID',how='left')"
      ]
    },
    {
      "cell_type": "code",
      "execution_count": null,
      "metadata": {
        "id": "fG7Vk5HxrQ21"
      },
      "outputs": [],
      "source": [
        "df_merged = df_merged.merge(phone_data, on='customerID',how='left')"
      ]
    },
    {
      "cell_type": "code",
      "execution_count": null,
      "metadata": {
        "scrolled": true,
        "id": "JXPizUJxrQ21",
        "outputId": "13c6d00d-b19f-400d-9fdc-a2721958916f"
      },
      "outputs": [
        {
          "name": "stdout",
          "output_type": "stream",
          "text": [
            "<class 'pandas.core.frame.DataFrame'>\n",
            "Int64Index: 7043 entries, 0 to 7042\n",
            "Data columns (total 21 columns):\n",
            " #   Column            Non-Null Count  Dtype         \n",
            "---  ------            --------------  -----         \n",
            " 0   customerID        7043 non-null   object        \n",
            " 1   BeginDate         7043 non-null   datetime64[ns]\n",
            " 2   EndDate           1869 non-null   datetime64[ns]\n",
            " 3   Type              7043 non-null   category      \n",
            " 4   PaperlessBilling  7043 non-null   int64         \n",
            " 5   PaymentMethod     7043 non-null   category      \n",
            " 6   MonthlyCharges    7043 non-null   float64       \n",
            " 7   TotalCharges      7043 non-null   float64       \n",
            " 8   Churn             7043 non-null   int64         \n",
            " 9   gender            7043 non-null   category      \n",
            " 10  SeniorCitizen     7043 non-null   int64         \n",
            " 11  Partner           7043 non-null   int64         \n",
            " 12  Dependents        7043 non-null   int64         \n",
            " 13  InternetService   5517 non-null   category      \n",
            " 14  OnlineSecurity    5517 non-null   float64       \n",
            " 15  OnlineBackup      5517 non-null   float64       \n",
            " 16  DeviceProtection  5517 non-null   float64       \n",
            " 17  TechSupport       5517 non-null   float64       \n",
            " 18  StreamingTV       5517 non-null   float64       \n",
            " 19  StreamingMovies   5517 non-null   float64       \n",
            " 20  MultipleLines     6361 non-null   float64       \n",
            "dtypes: category(4), datetime64[ns](2), float64(9), int64(5), object(1)\n",
            "memory usage: 1018.5+ KB\n"
          ]
        }
      ],
      "source": [
        "df_merged.info()"
      ]
    },
    {
      "cell_type": "markdown",
      "metadata": {
        "id": "sFpKkE5_rQ21"
      },
      "source": [
        "Hemos juntado todas las tablas en una sola. Tenemos 21 columnas, de las cuales eligiremos las de mayor relevancia para predecir nuestro objetivo \"Churn\". Se hizo un join \"izquierda\" para identificar a todos los clientes, incluso los que no tienen servicios de internet, o no tienen línea telefónica, y se pueden identificar como los null. De los 7043 contratos, se identificaron aprox 4000 que tienen ambos servicios. Lo bueno aquí es que todos los clientes tienen sus datos personales. Vamos a manejar los null en la siguiente parte."
      ]
    },
    {
      "cell_type": "code",
      "execution_count": null,
      "metadata": {
        "id": "UG5CK-fDrQ21",
        "outputId": "fcf66b65-7b9c-4681-85cc-dfcd162e084e"
      },
      "outputs": [
        {
          "name": "stdout",
          "output_type": "stream",
          "text": [
            "<class 'pandas.core.frame.DataFrame'>\n",
            "Int64Index: 7043 entries, 0 to 7042\n",
            "Data columns (total 21 columns):\n",
            " #   Column            Non-Null Count  Dtype         \n",
            "---  ------            --------------  -----         \n",
            " 0   customerID        7043 non-null   object        \n",
            " 1   BeginDate         7043 non-null   datetime64[ns]\n",
            " 2   EndDate           1869 non-null   datetime64[ns]\n",
            " 3   Type              7043 non-null   category      \n",
            " 4   PaperlessBilling  7043 non-null   int64         \n",
            " 5   PaymentMethod     7043 non-null   category      \n",
            " 6   MonthlyCharges    7043 non-null   float64       \n",
            " 7   TotalCharges      7043 non-null   float64       \n",
            " 8   Churn             7043 non-null   int64         \n",
            " 9   gender            7043 non-null   category      \n",
            " 10  SeniorCitizen     7043 non-null   int64         \n",
            " 11  Partner           7043 non-null   int64         \n",
            " 12  Dependents        7043 non-null   int64         \n",
            " 13  InternetService   7043 non-null   category      \n",
            " 14  OnlineSecurity    5517 non-null   float64       \n",
            " 15  OnlineBackup      5517 non-null   float64       \n",
            " 16  DeviceProtection  5517 non-null   float64       \n",
            " 17  TechSupport       5517 non-null   float64       \n",
            " 18  StreamingTV       5517 non-null   float64       \n",
            " 19  StreamingMovies   5517 non-null   float64       \n",
            " 20  MultipleLines     6361 non-null   float64       \n",
            "dtypes: category(4), datetime64[ns](2), float64(9), int64(5), object(1)\n",
            "memory usage: 1018.5+ KB\n"
          ]
        }
      ],
      "source": [
        "df_merged['InternetService'] = df_merged['InternetService'].cat.add_categories(['No Service'])\n",
        "df_merged['InternetService'].fillna('No Service', inplace=True)\n",
        "\n",
        "df_merged.info()"
      ]
    },
    {
      "cell_type": "code",
      "execution_count": null,
      "metadata": {
        "scrolled": true,
        "id": "dPwUBRgorQ21"
      },
      "outputs": [],
      "source": [
        "# Donde 0 representa que no tiene el servicio para las caracteristicas relacionadas con internet. Todos los \"no service\" deben tener estas columnas en 0.\n",
        "\n",
        "columns = df_merged.columns[14:]\n",
        "\n",
        "for column in columns:\n",
        "    df_merged[column] = df_merged[column].fillna(0).astype('int')\n",
        "\n",
        "df_merged.info()"
      ]
    },
    {
      "cell_type": "markdown",
      "metadata": {
        "id": "NJCNFAyWrQ21"
      },
      "source": [
        "### Elección de Features"
      ]
    },
    {
      "cell_type": "markdown",
      "metadata": {
        "id": "qcxPvOzIrQ21"
      },
      "source": [
        "Con esto ya tenemos nuestra base de datos consolidada y limpia. Vamos a eliminar las columnas que no sean de relevancia para predecir si un cliente rescinde su contrato o no. Eligiremos apriori las columnas que no tendrán relevancia, como genero, customerID, begindate y enddate."
      ]
    },
    {
      "cell_type": "code",
      "execution_count": null,
      "metadata": {
        "id": "9gFsr4EkrQ21"
      },
      "outputs": [],
      "source": [
        "df_merged_filtered = df_merged.drop(['customerID','BeginDate','EndDate','gender'],axis=1)"
      ]
    },
    {
      "cell_type": "markdown",
      "metadata": {
        "id": "8rFg-yKsrQ21"
      },
      "source": [
        "#### One Hot Encoding"
      ]
    },
    {
      "cell_type": "code",
      "execution_count": null,
      "metadata": {
        "id": "Po8OIUVXrQ22",
        "outputId": "3606dc3b-4d9f-4223-a1a4-d08f277ae47d"
      },
      "outputs": [
        {
          "data": {
            "text/html": [
              "<div>\n",
              "<style scoped>\n",
              "    .dataframe tbody tr th:only-of-type {\n",
              "        vertical-align: middle;\n",
              "    }\n",
              "\n",
              "    .dataframe tbody tr th {\n",
              "        vertical-align: top;\n",
              "    }\n",
              "\n",
              "    .dataframe thead th {\n",
              "        text-align: right;\n",
              "    }\n",
              "</style>\n",
              "<table border=\"1\" class=\"dataframe\">\n",
              "  <thead>\n",
              "    <tr style=\"text-align: right;\">\n",
              "      <th></th>\n",
              "      <th>PaperlessBilling</th>\n",
              "      <th>MonthlyCharges</th>\n",
              "      <th>TotalCharges</th>\n",
              "      <th>Churn</th>\n",
              "      <th>SeniorCitizen</th>\n",
              "      <th>Partner</th>\n",
              "      <th>Dependents</th>\n",
              "      <th>OnlineSecurity</th>\n",
              "      <th>OnlineBackup</th>\n",
              "      <th>DeviceProtection</th>\n",
              "      <th>...</th>\n",
              "      <th>Type_Month-to-month</th>\n",
              "      <th>Type_One year</th>\n",
              "      <th>Type_Two year</th>\n",
              "      <th>PaymentMethod_Bank transfer (automatic)</th>\n",
              "      <th>PaymentMethod_Credit card (automatic)</th>\n",
              "      <th>PaymentMethod_Electronic check</th>\n",
              "      <th>PaymentMethod_Mailed check</th>\n",
              "      <th>InternetService_DSL</th>\n",
              "      <th>InternetService_Fiber optic</th>\n",
              "      <th>InternetService_No Service</th>\n",
              "    </tr>\n",
              "  </thead>\n",
              "  <tbody>\n",
              "    <tr>\n",
              "      <th>0</th>\n",
              "      <td>1</td>\n",
              "      <td>29.85</td>\n",
              "      <td>29.85</td>\n",
              "      <td>0</td>\n",
              "      <td>0</td>\n",
              "      <td>1</td>\n",
              "      <td>0</td>\n",
              "      <td>0</td>\n",
              "      <td>1</td>\n",
              "      <td>0</td>\n",
              "      <td>...</td>\n",
              "      <td>1</td>\n",
              "      <td>0</td>\n",
              "      <td>0</td>\n",
              "      <td>0</td>\n",
              "      <td>0</td>\n",
              "      <td>1</td>\n",
              "      <td>0</td>\n",
              "      <td>1</td>\n",
              "      <td>0</td>\n",
              "      <td>0</td>\n",
              "    </tr>\n",
              "    <tr>\n",
              "      <th>1</th>\n",
              "      <td>0</td>\n",
              "      <td>56.95</td>\n",
              "      <td>1889.50</td>\n",
              "      <td>0</td>\n",
              "      <td>0</td>\n",
              "      <td>0</td>\n",
              "      <td>0</td>\n",
              "      <td>1</td>\n",
              "      <td>0</td>\n",
              "      <td>1</td>\n",
              "      <td>...</td>\n",
              "      <td>0</td>\n",
              "      <td>1</td>\n",
              "      <td>0</td>\n",
              "      <td>0</td>\n",
              "      <td>0</td>\n",
              "      <td>0</td>\n",
              "      <td>1</td>\n",
              "      <td>1</td>\n",
              "      <td>0</td>\n",
              "      <td>0</td>\n",
              "    </tr>\n",
              "    <tr>\n",
              "      <th>2</th>\n",
              "      <td>1</td>\n",
              "      <td>53.85</td>\n",
              "      <td>108.15</td>\n",
              "      <td>1</td>\n",
              "      <td>0</td>\n",
              "      <td>0</td>\n",
              "      <td>0</td>\n",
              "      <td>1</td>\n",
              "      <td>1</td>\n",
              "      <td>0</td>\n",
              "      <td>...</td>\n",
              "      <td>1</td>\n",
              "      <td>0</td>\n",
              "      <td>0</td>\n",
              "      <td>0</td>\n",
              "      <td>0</td>\n",
              "      <td>0</td>\n",
              "      <td>1</td>\n",
              "      <td>1</td>\n",
              "      <td>0</td>\n",
              "      <td>0</td>\n",
              "    </tr>\n",
              "    <tr>\n",
              "      <th>3</th>\n",
              "      <td>0</td>\n",
              "      <td>42.30</td>\n",
              "      <td>1840.75</td>\n",
              "      <td>0</td>\n",
              "      <td>0</td>\n",
              "      <td>0</td>\n",
              "      <td>0</td>\n",
              "      <td>1</td>\n",
              "      <td>0</td>\n",
              "      <td>1</td>\n",
              "      <td>...</td>\n",
              "      <td>0</td>\n",
              "      <td>1</td>\n",
              "      <td>0</td>\n",
              "      <td>1</td>\n",
              "      <td>0</td>\n",
              "      <td>0</td>\n",
              "      <td>0</td>\n",
              "      <td>1</td>\n",
              "      <td>0</td>\n",
              "      <td>0</td>\n",
              "    </tr>\n",
              "    <tr>\n",
              "      <th>4</th>\n",
              "      <td>1</td>\n",
              "      <td>70.70</td>\n",
              "      <td>151.65</td>\n",
              "      <td>1</td>\n",
              "      <td>0</td>\n",
              "      <td>0</td>\n",
              "      <td>0</td>\n",
              "      <td>0</td>\n",
              "      <td>0</td>\n",
              "      <td>0</td>\n",
              "      <td>...</td>\n",
              "      <td>1</td>\n",
              "      <td>0</td>\n",
              "      <td>0</td>\n",
              "      <td>0</td>\n",
              "      <td>0</td>\n",
              "      <td>1</td>\n",
              "      <td>0</td>\n",
              "      <td>0</td>\n",
              "      <td>1</td>\n",
              "      <td>0</td>\n",
              "    </tr>\n",
              "  </tbody>\n",
              "</table>\n",
              "<p>5 rows × 24 columns</p>\n",
              "</div>"
            ],
            "text/plain": [
              "   PaperlessBilling  MonthlyCharges  TotalCharges  Churn  SeniorCitizen  \\\n",
              "0                 1           29.85         29.85      0              0   \n",
              "1                 0           56.95       1889.50      0              0   \n",
              "2                 1           53.85        108.15      1              0   \n",
              "3                 0           42.30       1840.75      0              0   \n",
              "4                 1           70.70        151.65      1              0   \n",
              "\n",
              "   Partner  Dependents  OnlineSecurity  OnlineBackup  DeviceProtection  ...  \\\n",
              "0        1           0               0             1                 0  ...   \n",
              "1        0           0               1             0                 1  ...   \n",
              "2        0           0               1             1                 0  ...   \n",
              "3        0           0               1             0                 1  ...   \n",
              "4        0           0               0             0                 0  ...   \n",
              "\n",
              "   Type_Month-to-month  Type_One year  Type_Two year  \\\n",
              "0                    1              0              0   \n",
              "1                    0              1              0   \n",
              "2                    1              0              0   \n",
              "3                    0              1              0   \n",
              "4                    1              0              0   \n",
              "\n",
              "   PaymentMethod_Bank transfer (automatic)  \\\n",
              "0                                        0   \n",
              "1                                        0   \n",
              "2                                        0   \n",
              "3                                        1   \n",
              "4                                        0   \n",
              "\n",
              "   PaymentMethod_Credit card (automatic)  PaymentMethod_Electronic check  \\\n",
              "0                                      0                               1   \n",
              "1                                      0                               0   \n",
              "2                                      0                               0   \n",
              "3                                      0                               0   \n",
              "4                                      0                               1   \n",
              "\n",
              "   PaymentMethod_Mailed check  InternetService_DSL  \\\n",
              "0                           0                    1   \n",
              "1                           1                    1   \n",
              "2                           1                    1   \n",
              "3                           0                    1   \n",
              "4                           0                    0   \n",
              "\n",
              "   InternetService_Fiber optic  InternetService_No Service  \n",
              "0                            0                           0  \n",
              "1                            0                           0  \n",
              "2                            0                           0  \n",
              "3                            0                           0  \n",
              "4                            1                           0  \n",
              "\n",
              "[5 rows x 24 columns]"
            ]
          },
          "metadata": {},
          "output_type": "display_data"
        }
      ],
      "source": [
        "#Ya que estamos manejando un objetivo categórico, no hay riesgo de multicolinearidad\n",
        "\n",
        "categorical_columns = ['Type','PaymentMethod','InternetService']\n",
        "\n",
        "df_encoded = pd.get_dummies(df_merged_filtered,columns=categorical_columns)\n",
        "\n",
        "display(df_encoded.head())"
      ]
    },
    {
      "cell_type": "markdown",
      "metadata": {
        "id": "PCY22ojhrQ22"
      },
      "source": [
        "#### Correlación con Churn\n",
        "\n",
        "Vamos a utilizar la correlación de las columnas con Churn para elegir las más importantes. Se definirá como aquellas mayores de 0.1 absoluto. Para ejercicios posteriores se podría considerar utilizar correlación biserial puntual en vez de corr() ya que puede ser más adhoc al objetivo (binario)."
      ]
    },
    {
      "cell_type": "code",
      "execution_count": null,
      "metadata": {
        "id": "FTDVc5d2rQ22",
        "outputId": "a85e5ace-df0c-488c-a068-0db4f0e40fa9"
      },
      "outputs": [
        {
          "name": "stdout",
          "output_type": "stream",
          "text": [
            "Churn                                      1.000000\n",
            "Type_Month-to-month                        0.405103\n",
            "InternetService_Fiber optic                0.308020\n",
            "PaymentMethod_Electronic check             0.301919\n",
            "MonthlyCharges                             0.193356\n",
            "PaperlessBilling                           0.191825\n",
            "SeniorCitizen                              0.150889\n",
            "StreamingTV                                0.063228\n",
            "StreamingMovies                            0.061382\n",
            "MultipleLines                              0.040102\n",
            "DeviceProtection                          -0.066160\n",
            "OnlineBackup                              -0.082255\n",
            "PaymentMethod_Mailed check                -0.091683\n",
            "PaymentMethod_Bank transfer (automatic)   -0.117937\n",
            "InternetService_DSL                       -0.124214\n",
            "PaymentMethod_Credit card (automatic)     -0.134302\n",
            "Partner                                   -0.150448\n",
            "Dependents                                -0.164221\n",
            "TechSupport                               -0.164674\n",
            "OnlineSecurity                            -0.171226\n",
            "Type_One year                             -0.177820\n",
            "TotalCharges                              -0.198324\n",
            "InternetService_No Service                -0.227890\n",
            "Type_Two year                             -0.302253\n",
            "Name: Churn, dtype: float64\n"
          ]
        }
      ],
      "source": [
        "correlation = df_encoded.corr()['Churn'].sort_values(ascending=False)\n",
        "print(correlation)"
      ]
    },
    {
      "cell_type": "code",
      "execution_count": null,
      "metadata": {
        "id": "Naom5EhprQ22",
        "outputId": "4c5e562a-ea6c-42bd-85cf-bd1181e7ffc1"
      },
      "outputs": [
        {
          "name": "stdout",
          "output_type": "stream",
          "text": [
            "['Churn', 'Type_Month-to-month', 'InternetService_Fiber optic', 'PaymentMethod_Electronic check', 'MonthlyCharges', 'PaperlessBilling', 'SeniorCitizen', 'PaymentMethod_Bank transfer (automatic)', 'InternetService_DSL', 'PaymentMethod_Credit card (automatic)', 'Partner', 'Dependents', 'TechSupport', 'OnlineSecurity', 'Type_One year', 'TotalCharges', 'InternetService_No Service', 'Type_Two year']\n"
          ]
        }
      ],
      "source": [
        "high_corr_columns = []\n",
        "\n",
        "for column in correlation.index:\n",
        "    if abs(correlation[column]) > 0.1:\n",
        "        high_corr_columns.append(column)\n",
        "\n",
        "print(high_corr_columns)"
      ]
    },
    {
      "cell_type": "code",
      "execution_count": null,
      "metadata": {
        "id": "Onr_1l91rQ22",
        "outputId": "6ba54131-ebdf-4f94-de4e-9d94a0c6adaa"
      },
      "outputs": [
        {
          "name": "stdout",
          "output_type": "stream",
          "text": [
            "<class 'pandas.core.frame.DataFrame'>\n",
            "Int64Index: 7043 entries, 0 to 7042\n",
            "Data columns (total 18 columns):\n",
            " #   Column                                   Non-Null Count  Dtype  \n",
            "---  ------                                   --------------  -----  \n",
            " 0   Churn                                    7043 non-null   int64  \n",
            " 1   Type_Month-to-month                      7043 non-null   uint8  \n",
            " 2   InternetService_Fiber optic              7043 non-null   uint8  \n",
            " 3   PaymentMethod_Electronic check           7043 non-null   uint8  \n",
            " 4   MonthlyCharges                           7043 non-null   float64\n",
            " 5   PaperlessBilling                         7043 non-null   int64  \n",
            " 6   SeniorCitizen                            7043 non-null   int64  \n",
            " 7   PaymentMethod_Bank transfer (automatic)  7043 non-null   uint8  \n",
            " 8   InternetService_DSL                      7043 non-null   uint8  \n",
            " 9   PaymentMethod_Credit card (automatic)    7043 non-null   uint8  \n",
            " 10  Partner                                  7043 non-null   int64  \n",
            " 11  Dependents                               7043 non-null   int64  \n",
            " 12  TechSupport                              7043 non-null   int64  \n",
            " 13  OnlineSecurity                           7043 non-null   int64  \n",
            " 14  Type_One year                            7043 non-null   uint8  \n",
            " 15  TotalCharges                             7043 non-null   float64\n",
            " 16  InternetService_No Service               7043 non-null   uint8  \n",
            " 17  Type_Two year                            7043 non-null   uint8  \n",
            "dtypes: float64(2), int64(7), uint8(9)\n",
            "memory usage: 612.1 KB\n",
            "None\n"
          ]
        }
      ],
      "source": [
        "df_encoded_filtered = df_encoded[high_corr_columns]\n",
        "\n",
        "print(df_encoded_filtered.info())"
      ]
    },
    {
      "cell_type": "markdown",
      "metadata": {
        "id": "5boruWk2rQ22"
      },
      "source": [
        "#### Balanceo de Clases\n",
        "\n",
        "Vamos a incrementar la cantidad de filas donde churn es 1 para aproximar a 50:50. Utilizaremos SMOTE para rebalancear las clases con sobremuestreo aleatorio."
      ]
    },
    {
      "cell_type": "code",
      "execution_count": null,
      "metadata": {
        "id": "S9JSZBnJrQ22",
        "outputId": "26061d79-fbee-4ee5-efd6-4d1779267485"
      },
      "outputs": [
        {
          "name": "stdout",
          "output_type": "stream",
          "text": [
            "Requirement already satisfied: imbalanced-learn in /home/jovyan/.local/lib/python3.9/site-packages (0.12.4)\n",
            "Requirement already satisfied: numpy>=1.17.3 in /opt/conda/envs/python3/lib/python3.9/site-packages (from imbalanced-learn) (1.21.2)\n",
            "Requirement already satisfied: scipy>=1.5.0 in /opt/conda/envs/python3/lib/python3.9/site-packages (from imbalanced-learn) (1.10.1)\n",
            "Requirement already satisfied: scikit-learn>=1.0.2 in /home/jovyan/.local/lib/python3.9/site-packages (from imbalanced-learn) (1.6.1)\n",
            "Requirement already satisfied: joblib>=1.1.1 in /opt/conda/envs/python3/lib/python3.9/site-packages (from imbalanced-learn) (1.4.2)\n",
            "Requirement already satisfied: threadpoolctl>=2.0.0 in /opt/conda/envs/python3/lib/python3.9/site-packages (from imbalanced-learn) (3.5.0)\n",
            "Note: you may need to restart the kernel to use updated packages.\n"
          ]
        }
      ],
      "source": [
        "pip install --user imbalanced-learn"
      ]
    },
    {
      "cell_type": "code",
      "execution_count": null,
      "metadata": {
        "scrolled": true,
        "id": "W50GfBEmrQ22",
        "outputId": "2585dbc4-5775-404c-cbf6-cbf341321307"
      },
      "outputs": [
        {
          "name": "stdout",
          "output_type": "stream",
          "text": [
            "0    5174\n",
            "1    5174\n",
            "Name: Churn, dtype: int64\n"
          ]
        }
      ],
      "source": [
        "from imblearn.over_sampling import SMOTE\n",
        "\n",
        "features = df_encoded_filtered.drop('Churn',axis=1)\n",
        "target = df_encoded_filtered['Churn']\n",
        "\n",
        "smote = SMOTE(random_state=12345)\n",
        "features_resampled, target_resampled = smote.fit_resample(features,target)\n",
        "\n",
        "df_resampled = pd.DataFrame(features_resampled, columns=features.columns)\n",
        "df_resampled['Churn'] = target_resampled\n",
        "\n",
        "print(df_resampled['Churn'].value_counts())"
      ]
    },
    {
      "cell_type": "markdown",
      "metadata": {
        "id": "TkOFAuOQrQ22"
      },
      "source": [
        "#### Escalado de MonthlyCharges y TotalCharges\n",
        "Vamos a escalar los datos continuos de cargos mensuales y totales para acercarlos a 1 y 0 y evitar que el modelo le de mucho peso."
      ]
    },
    {
      "cell_type": "code",
      "execution_count": null,
      "metadata": {
        "id": "ytO7aoJ8rQ22",
        "outputId": "3a01a628-22de-48bc-c8c6-713bfb87da6d"
      },
      "outputs": [
        {
          "data": {
            "text/html": [
              "<div>\n",
              "<style scoped>\n",
              "    .dataframe tbody tr th:only-of-type {\n",
              "        vertical-align: middle;\n",
              "    }\n",
              "\n",
              "    .dataframe tbody tr th {\n",
              "        vertical-align: top;\n",
              "    }\n",
              "\n",
              "    .dataframe thead th {\n",
              "        text-align: right;\n",
              "    }\n",
              "</style>\n",
              "<table border=\"1\" class=\"dataframe\">\n",
              "  <thead>\n",
              "    <tr style=\"text-align: right;\">\n",
              "      <th></th>\n",
              "      <th>Type_Month-to-month</th>\n",
              "      <th>InternetService_Fiber optic</th>\n",
              "      <th>PaymentMethod_Electronic check</th>\n",
              "      <th>MonthlyCharges</th>\n",
              "      <th>PaperlessBilling</th>\n",
              "      <th>SeniorCitizen</th>\n",
              "      <th>PaymentMethod_Bank transfer (automatic)</th>\n",
              "      <th>InternetService_DSL</th>\n",
              "      <th>PaymentMethod_Credit card (automatic)</th>\n",
              "      <th>Partner</th>\n",
              "      <th>Dependents</th>\n",
              "      <th>TechSupport</th>\n",
              "      <th>OnlineSecurity</th>\n",
              "      <th>Type_One year</th>\n",
              "      <th>TotalCharges</th>\n",
              "      <th>InternetService_No Service</th>\n",
              "      <th>Type_Two year</th>\n",
              "      <th>Churn</th>\n",
              "    </tr>\n",
              "  </thead>\n",
              "  <tbody>\n",
              "    <tr>\n",
              "      <th>0</th>\n",
              "      <td>1</td>\n",
              "      <td>0</td>\n",
              "      <td>1</td>\n",
              "      <td>-1.326002</td>\n",
              "      <td>1</td>\n",
              "      <td>0</td>\n",
              "      <td>0</td>\n",
              "      <td>1</td>\n",
              "      <td>0</td>\n",
              "      <td>1</td>\n",
              "      <td>0</td>\n",
              "      <td>0</td>\n",
              "      <td>0</td>\n",
              "      <td>0</td>\n",
              "      <td>-0.922351</td>\n",
              "      <td>0</td>\n",
              "      <td>0</td>\n",
              "      <td>0</td>\n",
              "    </tr>\n",
              "    <tr>\n",
              "      <th>1</th>\n",
              "      <td>0</td>\n",
              "      <td>0</td>\n",
              "      <td>0</td>\n",
              "      <td>-0.379446</td>\n",
              "      <td>0</td>\n",
              "      <td>0</td>\n",
              "      <td>0</td>\n",
              "      <td>1</td>\n",
              "      <td>0</td>\n",
              "      <td>0</td>\n",
              "      <td>0</td>\n",
              "      <td>0</td>\n",
              "      <td>1</td>\n",
              "      <td>1</td>\n",
              "      <td>-0.067506</td>\n",
              "      <td>0</td>\n",
              "      <td>0</td>\n",
              "      <td>0</td>\n",
              "    </tr>\n",
              "    <tr>\n",
              "      <th>2</th>\n",
              "      <td>1</td>\n",
              "      <td>0</td>\n",
              "      <td>0</td>\n",
              "      <td>-0.487724</td>\n",
              "      <td>1</td>\n",
              "      <td>0</td>\n",
              "      <td>0</td>\n",
              "      <td>1</td>\n",
              "      <td>0</td>\n",
              "      <td>0</td>\n",
              "      <td>0</td>\n",
              "      <td>0</td>\n",
              "      <td>1</td>\n",
              "      <td>0</td>\n",
              "      <td>-0.886358</td>\n",
              "      <td>0</td>\n",
              "      <td>0</td>\n",
              "      <td>1</td>\n",
              "    </tr>\n",
              "    <tr>\n",
              "      <th>3</th>\n",
              "      <td>0</td>\n",
              "      <td>0</td>\n",
              "      <td>0</td>\n",
              "      <td>-0.891145</td>\n",
              "      <td>0</td>\n",
              "      <td>0</td>\n",
              "      <td>1</td>\n",
              "      <td>1</td>\n",
              "      <td>0</td>\n",
              "      <td>0</td>\n",
              "      <td>0</td>\n",
              "      <td>1</td>\n",
              "      <td>1</td>\n",
              "      <td>1</td>\n",
              "      <td>-0.089916</td>\n",
              "      <td>0</td>\n",
              "      <td>0</td>\n",
              "      <td>0</td>\n",
              "    </tr>\n",
              "    <tr>\n",
              "      <th>4</th>\n",
              "      <td>1</td>\n",
              "      <td>1</td>\n",
              "      <td>1</td>\n",
              "      <td>0.100818</td>\n",
              "      <td>1</td>\n",
              "      <td>0</td>\n",
              "      <td>0</td>\n",
              "      <td>0</td>\n",
              "      <td>0</td>\n",
              "      <td>0</td>\n",
              "      <td>0</td>\n",
              "      <td>0</td>\n",
              "      <td>0</td>\n",
              "      <td>0</td>\n",
              "      <td>-0.866362</td>\n",
              "      <td>0</td>\n",
              "      <td>0</td>\n",
              "      <td>1</td>\n",
              "    </tr>\n",
              "  </tbody>\n",
              "</table>\n",
              "</div>"
            ],
            "text/plain": [
              "   Type_Month-to-month  InternetService_Fiber optic  \\\n",
              "0                    1                            0   \n",
              "1                    0                            0   \n",
              "2                    1                            0   \n",
              "3                    0                            0   \n",
              "4                    1                            1   \n",
              "\n",
              "   PaymentMethod_Electronic check  MonthlyCharges  PaperlessBilling  \\\n",
              "0                               1       -1.326002                 1   \n",
              "1                               0       -0.379446                 0   \n",
              "2                               0       -0.487724                 1   \n",
              "3                               0       -0.891145                 0   \n",
              "4                               1        0.100818                 1   \n",
              "\n",
              "   SeniorCitizen  PaymentMethod_Bank transfer (automatic)  \\\n",
              "0              0                                        0   \n",
              "1              0                                        0   \n",
              "2              0                                        0   \n",
              "3              0                                        1   \n",
              "4              0                                        0   \n",
              "\n",
              "   InternetService_DSL  PaymentMethod_Credit card (automatic)  Partner  \\\n",
              "0                    1                                      0        1   \n",
              "1                    1                                      0        0   \n",
              "2                    1                                      0        0   \n",
              "3                    1                                      0        0   \n",
              "4                    0                                      0        0   \n",
              "\n",
              "   Dependents  TechSupport  OnlineSecurity  Type_One year  TotalCharges  \\\n",
              "0           0            0               0              0     -0.922351   \n",
              "1           0            0               1              1     -0.067506   \n",
              "2           0            0               1              0     -0.886358   \n",
              "3           0            1               1              1     -0.089916   \n",
              "4           0            0               0              0     -0.866362   \n",
              "\n",
              "   InternetService_No Service  Type_Two year  Churn  \n",
              "0                           0              0      0  \n",
              "1                           0              0      0  \n",
              "2                           0              0      1  \n",
              "3                           0              0      0  \n",
              "4                           0              0      1  "
            ]
          },
          "execution_count": 43,
          "metadata": {},
          "output_type": "execute_result"
        }
      ],
      "source": [
        "from sklearn.preprocessing import StandardScaler\n",
        "\n",
        "scaler = StandardScaler()\n",
        "df_resampled[['MonthlyCharges','TotalCharges']] = scaler.fit_transform(df_resampled[['MonthlyCharges','TotalCharges']])\n",
        "\n",
        "df_resampled.head()"
      ]
    },
    {
      "cell_type": "markdown",
      "metadata": {
        "id": "CkbrLY25rQ23"
      },
      "source": [
        "## Modelado\n",
        "\n",
        "Con nuestras clases balanceadas, caracteristicas con OHE, filtradas por correlación mayor a 0.1 y catacterísticas continuas escaladas, podemos empezar a modelar y a evaluar las predicciones, para luego modificar y mejorar."
      ]
    },
    {
      "cell_type": "markdown",
      "metadata": {
        "id": "x1LBpZFVrQ23"
      },
      "source": [
        "### Separación de Datos de Entrenamiento y Validación\n",
        "\n",
        "Vamos a separar 80% del dataframe para entrenamiento y 20% para validación."
      ]
    },
    {
      "cell_type": "code",
      "execution_count": null,
      "metadata": {
        "id": "W3jLtsvOrQ23"
      },
      "outputs": [],
      "source": [
        "features = df_resampled.drop('Churn',axis=1)\n",
        "target = df_resampled['Churn']\n",
        "\n",
        "features_train, features_test, target_train, target_test = train_test_split(features, target, test_size=0.2, random_state=12345)"
      ]
    },
    {
      "cell_type": "markdown",
      "metadata": {
        "id": "Kj2VQA-HrQ23"
      },
      "source": [
        "### RandomForestClassifier"
      ]
    },
    {
      "cell_type": "code",
      "execution_count": null,
      "metadata": {
        "id": "dFb3qBewrQ23"
      },
      "outputs": [],
      "source": [
        "model = RandomForestClassifier(random_state=12345)\n",
        "\n",
        "\n",
        "param_grid = {\n",
        "    'n_estimators': [100, 200],\n",
        "    'max_depth': [None, 10],\n",
        "    'min_samples_split': [2, 5],\n",
        "    'min_samples_leaf': [1, 2],\n",
        "    'bootstrap': [True]\n",
        "}\n",
        "\n",
        "\n",
        "grid_search = GridSearchCV(estimator=model, param_grid=param_grid, cv=5, scoring='f1', n_jobs=-1)\n",
        "grid_search.fit(features_train, target_train)\n",
        "\n",
        "\n",
        "best_params = grid_search.best_params_\n",
        "best_model = grid_search.best_estimator_"
      ]
    },
    {
      "cell_type": "code",
      "execution_count": null,
      "metadata": {
        "scrolled": false,
        "id": "IEc6ZsnGrQ23",
        "outputId": "26a7238f-1aa4-417d-fecf-8e686069ebb8"
      },
      "outputs": [
        {
          "name": "stdout",
          "output_type": "stream",
          "text": [
            "Mejores parámetros: {'bootstrap': True, 'max_depth': None, 'min_samples_leaf': 2, 'min_samples_split': 2, 'n_estimators': 200}\n",
            "              precision    recall  f1-score   support\n",
            "\n",
            "           0       0.83      0.83      0.83      1007\n",
            "           1       0.84      0.84      0.84      1063\n",
            "\n",
            "    accuracy                           0.84      2070\n",
            "   macro avg       0.84      0.84      0.84      2070\n",
            "weighted avg       0.84      0.84      0.84      2070\n",
            "\n"
          ]
        }
      ],
      "source": [
        "target_predict = best_model.predict(features_test)\n",
        "\n",
        "target_probs = best_model.predict_proba(features_test)[:, 1]\n",
        "\n",
        "print('Mejores parámetros:',best_params)\n",
        "print(classification_report(target_test, target_predict))"
      ]
    },
    {
      "cell_type": "code",
      "execution_count": null,
      "metadata": {
        "id": "gGG3hNNxrQ23",
        "outputId": "b4069466-64e9-4649-a156-9100aeb3106b"
      },
      "outputs": [
        {
          "data": {
            "image/png": "[encoded data removed]",
            "text/plain": [
              "<Figure size 800x600 with 1 Axes>"
            ]
          },
          "metadata": {},
          "output_type": "display_data"
        }
      ],
      "source": [
        "fpr, tpr, _ = roc_curve(target_test, target_probs)\n",
        "roc_auc = auc(fpr, tpr)\n",
        "\n",
        "plt.figure(figsize=(8,6))\n",
        "plt.plot(fpr, tpr, color='blue', label=f'ROC curve (AUC = {roc_auc:.2f})')\n",
        "plt.plot([0, 1], [0, 1], color='grey', linestyle='--')\n",
        "plt.xlabel('False Positive Rate')\n",
        "plt.ylabel('True Positive Rate')\n",
        "plt.title('Curva ROC')\n",
        "plt.legend(loc=\"lower right\")\n",
        "plt.show()"
      ]
    },
    {
      "cell_type": "markdown",
      "metadata": {
        "id": "-adSXwRHrQ23"
      },
      "source": [
        "### LogisticRegressor"
      ]
    },
    {
      "cell_type": "code",
      "execution_count": null,
      "metadata": {
        "id": "uxbxfSDOrQ23"
      },
      "outputs": [],
      "source": [
        "model_lr = LogisticRegression(solver='liblinear',random_state=12345, max_iter = 10000)\n",
        "\n",
        "model_lr.fit(features_train, target_train)\n",
        "\n",
        "target_predict_lr = model_lr.predict(features_test)"
      ]
    },
    {
      "cell_type": "code",
      "execution_count": null,
      "metadata": {
        "scrolled": true,
        "id": "86x5Z6VBrQ23",
        "outputId": "4f87e2a8-1a89-46bf-8755-8dc627c98afb"
      },
      "outputs": [
        {
          "name": "stdout",
          "output_type": "stream",
          "text": [
            "              precision    recall  f1-score   support\n",
            "\n",
            "           0       0.82      0.80      0.81      1007\n",
            "           1       0.82      0.84      0.83      1063\n",
            "\n",
            "    accuracy                           0.82      2070\n",
            "   macro avg       0.82      0.82      0.82      2070\n",
            "weighted avg       0.82      0.82      0.82      2070\n",
            "\n"
          ]
        }
      ],
      "source": [
        "print(classification_report(target_test,target_predict_lr))"
      ]
    },
    {
      "cell_type": "code",
      "execution_count": null,
      "metadata": {
        "id": "UZoVY142rQ23",
        "outputId": "4287b2ce-6442-4271-ff72-53ee255e0221"
      },
      "outputs": [
        {
          "data": {
            "image/png": "[encoded data removed]",
            "text/plain": [
              "<Figure size 800x600 with 1 Axes>"
            ]
          },
          "metadata": {},
          "output_type": "display_data"
        }
      ],
      "source": [
        "target_probs = model_lr.predict_proba(features_test)[:, 1]\n",
        "fpr, tpr, _ = roc_curve(target_test, target_probs)\n",
        "roc_auc = auc(fpr, tpr)\n",
        "\n",
        "plt.figure(figsize=(8,6))\n",
        "plt.plot(fpr, tpr, color='blue', label=f'ROC curve (AUC = {roc_auc:.2f})')\n",
        "plt.plot([0, 1], [0, 1], color='grey', linestyle='--')\n",
        "plt.xlabel('False Positive Rate')\n",
        "plt.ylabel('True Positive Rate')\n",
        "plt.title('Curva ROC')\n",
        "plt.legend(loc=\"lower right\")\n",
        "plt.show()"
      ]
    },
    {
      "cell_type": "markdown",
      "metadata": {
        "id": "Vo7lTv5drQ24"
      },
      "source": [
        "### XGBoost"
      ]
    },
    {
      "cell_type": "code",
      "execution_count": null,
      "metadata": {
        "id": "Q2Wac3sYrQ24",
        "outputId": "9fcd0df7-6d7c-4bb8-9328-7dda3eaf1be8"
      },
      "outputs": [
        {
          "name": "stderr",
          "output_type": "stream",
          "text": [
            "/opt/conda/envs/python3/lib/python3.9/site-packages/xgboost/sklearn.py:1224: UserWarning: The use of label encoder in XGBClassifier is deprecated and will be removed in a future release. To remove this warning, do the following: 1) Pass option use_label_encoder=False when constructing XGBClassifier object; and 2) Encode your labels (y) as integers starting with 0, i.e. 0, 1, 2, ..., [num_class - 1].\n",
            "  warnings.warn(label_encoder_deprecation_msg, UserWarning)\n"
          ]
        },
        {
          "name": "stdout",
          "output_type": "stream",
          "text": [
            "[23:39:52] WARNING: ../src/learner.cc:1115: Starting in XGBoost 1.3.0, the default evaluation metric used with the objective 'binary:logistic' was changed from 'error' to 'logloss'. Explicitly set eval_metric if you'd like to restore the old behavior.\n"
          ]
        }
      ],
      "source": [
        "model_xgb = XGBClassifier()\n",
        "model_xgb.fit(features_train, target_train)\n",
        "target_predict_xgb = model_xgb.predict(features_test)"
      ]
    },
    {
      "cell_type": "code",
      "execution_count": null,
      "metadata": {
        "scrolled": true,
        "id": "ijdIzCrdrQ24",
        "outputId": "7f1f80e5-5039-4ee4-f23b-3f86c02fd910"
      },
      "outputs": [
        {
          "name": "stdout",
          "output_type": "stream",
          "text": [
            "              precision    recall  f1-score   support\n",
            "\n",
            "           0       0.84      0.84      0.84      1007\n",
            "           1       0.84      0.84      0.84      1063\n",
            "\n",
            "    accuracy                           0.84      2070\n",
            "   macro avg       0.84      0.84      0.84      2070\n",
            "weighted avg       0.84      0.84      0.84      2070\n",
            "\n"
          ]
        }
      ],
      "source": [
        "print(classification_report(target_test,target_predict_xgb))"
      ]
    },
    {
      "cell_type": "code",
      "execution_count": null,
      "metadata": {
        "id": "onTj9ef5rQ24",
        "outputId": "af386c5b-e98d-492c-d91d-4c8c9911384f"
      },
      "outputs": [
        {
          "data": {
            "image/png": "[encoded data removed]",
            "text/plain": [
              "<Figure size 800x600 with 1 Axes>"
            ]
          },
          "metadata": {},
          "output_type": "display_data"
        }
      ],
      "source": [
        "target_probs = model_xgb.predict_proba(features_test)[:, 1]\n",
        "fpr, tpr, _ = roc_curve(target_test, target_probs)\n",
        "roc_auc = auc(fpr, tpr)\n",
        "\n",
        "plt.figure(figsize=(8,6))\n",
        "plt.plot(fpr, tpr, color='blue', label=f'ROC curve (AUC = {roc_auc:.2f})')\n",
        "plt.plot([0, 1], [0, 1], color='grey', linestyle='--')\n",
        "plt.xlabel('False Positive Rate')\n",
        "plt.ylabel('True Positive Rate')\n",
        "plt.title('Curva ROC')\n",
        "plt.legend(loc=\"lower right\")\n",
        "plt.show()"
      ]
    },
    {
      "cell_type": "markdown",
      "metadata": {
        "id": "7eoNDT-vrQ24"
      },
      "source": [
        "## Conclusiones"
      ]
    },
    {
      "cell_type": "markdown",
      "metadata": {
        "id": "ZHU7WpjXrQ24"
      },
      "source": [
        "En este proyecto se desarrolló un modelo predictivo con el objetivo de identificar a los clientes de Interconnect que tienen mayor probabilidad de cancelar su contrato. Para lograrlo, se siguió un proceso estructurado que incluyó varias etapas clave.\n",
        "\n",
        "Primero, se importaron cuatro conjuntos de datos con información relevante: datos personales, uso de internet, detalles de contrato y registros de telefonía. A continuación, se realizó una limpieza detallada de los datos, completando valores faltantes, revisando posibles inconsistencias y generando la variable objetivo \"churn\".\n",
        "\n",
        "Una vez limpia la información, se llevó a cabo un análisis exploratorio para entender mejor el comportamiento de los clientes. Se utilizaron gráficos y estadísticas descriptivas para detectar patrones y tendencias. Posteriormente, se unificaron los cuatro dataframes en una sola base consolidada, lo que permitió analizar la correlación entre variables y determinar cuáles estaban más relacionadas con la cancelación del servicio.\n",
        "\n",
        "Dado que la variable \"churn\" presentaba un desbalance en las clases, se aplicaron técnicas para equilibrar la proporción de clientes que cancelaron vs. los que no, buscando una distribución más equitativa (50:50). Además, se transformaron las variables categóricas mediante one hot encoding y se escalaron aquellas que no eran binarias, asegurando que todas estuvieran en un formato adecuado para el entrenamiento.\n",
        "\n",
        "Se probaron tres modelos de clasificación: XGBoost, Random Forest y Regresión Logística. Entre ellos, XGBoost fue el que mostró el mejor desempeño, alcanzando un valor F1 de 0.84, lo que lo posiciona como el modelo más preciso en la predicción de clientes propensos a cancelar.\n",
        "\n",
        "Gracias a este modelo, Interconnect ahora cuenta con una herramienta poderosa para anticiparse a la pérdida de clientes, permitiendo implementar estrategias de retención más efectivas y mejorar la experiencia general del usuario.\n"
      ]
    },
    {
      "cell_type": "markdown",
      "metadata": {
        "id": "3SCvwBhIrQ25"
      },
      "source": [
        "## Informe de solución"
      ]
    },
    {
      "cell_type": "markdown",
      "metadata": {
        "id": "KvbEcgb_rQ25"
      },
      "source": [
        "### ¿Qué pasos del plan se realizaron y qué pasos se omitieron (explica por qué)?\n"
      ]
    },
    {
      "cell_type": "markdown",
      "metadata": {
        "id": "qR6uahtNrQ25"
      },
      "source": [
        "Se realizaron las siguientes acciones en el desarrollo del proyecto:\n",
        "- Fase 1: Verificación de duplicados, valores nulos y tipos de datos, seguida de visualizaciones iniciales para comprender la distribución de los datos.\n",
        "- Fase 2: Conversión de variables, creación de la columna Churn y revisión del balanceo de clases.\n",
        "- Fase 3: Análisis de correlación para identificar relaciones entre variables. Se eliminaron columnas de bajo valor según los resultados obtenidos y se llevó a cabo la fusión (merge) de las cuatro bases de datos.\n",
        "- Fase 4: Transformación mediante One-Hot Encoding, escalamiento de datos y balanceo de clases con SMOTE.\n",
        "- Fase 5: Modelado utilizando XGBoost, regresión logística y RandomForestClassifier. Evaluación de modelos con métricas clave: F1, Recall, Accuracy y curvas ROC AUC.\n",
        "- Fase 6: Elaboración de recomendaciones y comentarios finales sobre el desempeño de los modelos.\n",
        "\n",
        "Ningún paso en específico fue omitido.\n"
      ]
    },
    {
      "cell_type": "markdown",
      "metadata": {
        "id": "cpaYQ4-drQ25"
      },
      "source": [
        "### ¿Qué dificultades encontraste y cómo lograste resolverlas?\n",
        "\n",
        "Se presentó un poco de problema el tema del desbalanceo de clases, ya que al rededor de 25% eran 1 en Churn y 75% eran 0. Esto se resolvió usando SMOTE para generar entradas sintéticas de la clase de menor frecuencia y que nuestros modelos no se vean afectados. También se trabajó escalando los cargos totales y mensuales para que no fueran a afectar mucho los pesos de los modelos."
      ]
    },
    {
      "cell_type": "markdown",
      "metadata": {
        "id": "oLdpuAocrQ25"
      },
      "source": [
        "### ¿Cuáles fueron algunos de los pasos clave para resolver la tarea?\n",
        "\n",
        "Fue clave la generación de la columna Churn, nuestro objetivo. A priori no estaba incluido en los dataframes, así que crearla era básico para tener un objetivo para nuestros modelos. Clave también fue hacer joins de todos las bases de datos y poder tener un dataframe completo con todos nuestros features. Lo demás es cuestión de limpieza y balanceo, también importantes, sin embargo sin una columna objetivo, no habría un modelo que entrenar en primer lugar."
      ]
    },
    {
      "cell_type": "markdown",
      "metadata": {
        "id": "ZkfWyvt3rQ25"
      },
      "source": [
        "### ¿Cuál es tu modelo final y qué nivel de calidad tiene?\n",
        "\n",
        "Eligiría XGBoost ya que obtuvo los mejores números en los métricos F1, precisión y recall, 0.84 y AUC ROC de 0.92. Es muy buen modelo al tener alto rendimiento y velocidad, maneja automáticamente valores nulos, e incorpora regularización L1 y L2."
      ]
    },
    {
      "cell_type": "markdown",
      "metadata": {
        "id": "OlecYewOrQ25"
      },
      "source": [
        "# Comentario general del revisor"
      ]
    },
    {
      "cell_type": "code",
      "execution_count": null,
      "metadata": {
        "id": "Yzfyu9kDrQ25"
      },
      "outputs": [],
      "source": []
    }
  ],
  "metadata": {
    "ExecuteTimeLog": [
      {
        "duration": 2556,
        "start_time": "2025-04-15T00:36:39.708Z"
      },
      {
        "duration": 30,
        "start_time": "2025-04-15T00:37:46.990Z"
      },
      {
        "duration": 132,
        "start_time": "2025-04-15T00:58:22.654Z"
      },
      {
        "duration": 10,
        "start_time": "2025-04-15T00:58:48.441Z"
      },
      {
        "duration": 9,
        "start_time": "2025-04-15T00:59:00.939Z"
      },
      {
        "duration": 9,
        "start_time": "2025-04-15T00:59:09.625Z"
      },
      {
        "duration": 9,
        "start_time": "2025-04-15T00:59:17.379Z"
      },
      {
        "duration": 12,
        "start_time": "2025-04-15T00:59:49.120Z"
      },
      {
        "duration": 37,
        "start_time": "2025-04-15T01:05:08.868Z"
      },
      {
        "duration": 10,
        "start_time": "2025-04-15T01:05:10.492Z"
      },
      {
        "duration": 10,
        "start_time": "2025-04-15T01:05:10.697Z"
      },
      {
        "duration": 9,
        "start_time": "2025-04-15T01:05:10.872Z"
      },
      {
        "duration": 8,
        "start_time": "2025-04-15T01:05:11.047Z"
      },
      {
        "duration": 10,
        "start_time": "2025-04-15T01:05:11.653Z"
      },
      {
        "duration": 497,
        "start_time": "2025-04-15T01:11:00.656Z"
      },
      {
        "duration": 8,
        "start_time": "2025-04-15T01:11:11.785Z"
      },
      {
        "duration": 21,
        "start_time": "2025-04-15T01:12:32.865Z"
      },
      {
        "duration": 9,
        "start_time": "2025-04-15T01:14:22.736Z"
      },
      {
        "duration": 14,
        "start_time": "2025-04-15T01:14:38.214Z"
      },
      {
        "duration": 15,
        "start_time": "2025-04-15T01:16:15.419Z"
      },
      {
        "duration": 214,
        "start_time": "2025-04-15T01:20:34.265Z"
      },
      {
        "duration": 644,
        "start_time": "2025-04-15T01:20:41.134Z"
      },
      {
        "duration": 42,
        "start_time": "2025-04-15T01:21:21.690Z"
      },
      {
        "duration": 4,
        "start_time": "2025-04-15T01:21:53.693Z"
      },
      {
        "duration": 4,
        "start_time": "2025-04-15T01:23:31.446Z"
      },
      {
        "duration": 6,
        "start_time": "2025-04-15T01:23:35.350Z"
      },
      {
        "duration": 6,
        "start_time": "2025-04-15T01:25:33.419Z"
      },
      {
        "duration": 6,
        "start_time": "2025-04-15T01:25:37.845Z"
      },
      {
        "duration": 7,
        "start_time": "2025-04-15T01:25:42.095Z"
      },
      {
        "duration": 4,
        "start_time": "2025-04-15T01:26:21.080Z"
      },
      {
        "duration": 5,
        "start_time": "2025-04-15T01:27:02.467Z"
      },
      {
        "duration": 9,
        "start_time": "2025-04-15T01:28:29.617Z"
      },
      {
        "duration": 9,
        "start_time": "2025-04-15T01:28:47.179Z"
      },
      {
        "duration": 145,
        "start_time": "2025-04-15T01:28:53.812Z"
      },
      {
        "duration": 7,
        "start_time": "2025-04-15T01:28:59.679Z"
      },
      {
        "duration": 8,
        "start_time": "2025-04-15T01:29:05.599Z"
      },
      {
        "duration": 17,
        "start_time": "2025-04-15T01:29:45.409Z"
      },
      {
        "duration": 8,
        "start_time": "2025-04-15T01:29:51.712Z"
      },
      {
        "duration": 5,
        "start_time": "2025-04-15T01:29:56.507Z"
      },
      {
        "duration": 6,
        "start_time": "2025-04-15T01:30:14.880Z"
      },
      {
        "duration": 5,
        "start_time": "2025-04-15T01:30:41.499Z"
      },
      {
        "duration": 14,
        "start_time": "2025-04-15T01:31:17.327Z"
      },
      {
        "duration": 5,
        "start_time": "2025-04-15T01:31:21.749Z"
      },
      {
        "duration": 4,
        "start_time": "2025-04-15T01:31:30.720Z"
      },
      {
        "duration": 4,
        "start_time": "2025-04-15T01:31:34.022Z"
      },
      {
        "duration": 5,
        "start_time": "2025-04-15T01:31:58.784Z"
      },
      {
        "duration": 5,
        "start_time": "2025-04-15T01:32:03.342Z"
      },
      {
        "duration": 4,
        "start_time": "2025-04-15T01:32:26.045Z"
      },
      {
        "duration": 5,
        "start_time": "2025-04-15T01:32:30.409Z"
      },
      {
        "duration": 4,
        "start_time": "2025-04-15T01:32:40.546Z"
      },
      {
        "duration": 5,
        "start_time": "2025-04-15T01:33:00.040Z"
      },
      {
        "duration": 5,
        "start_time": "2025-04-15T01:33:24.438Z"
      },
      {
        "duration": 5,
        "start_time": "2025-04-15T01:33:37.945Z"
      },
      {
        "duration": 6,
        "start_time": "2025-04-15T01:33:45.750Z"
      },
      {
        "duration": 43,
        "start_time": "2025-04-15T01:34:16.111Z"
      },
      {
        "duration": 6,
        "start_time": "2025-04-15T01:34:20.640Z"
      },
      {
        "duration": 7,
        "start_time": "2025-04-15T01:34:29.843Z"
      },
      {
        "duration": 7,
        "start_time": "2025-04-15T01:34:34.961Z"
      },
      {
        "duration": 9,
        "start_time": "2025-04-15T01:35:23.889Z"
      },
      {
        "duration": 5,
        "start_time": "2025-04-15T01:38:43.839Z"
      },
      {
        "duration": 12,
        "start_time": "2025-04-15T01:38:47.179Z"
      },
      {
        "duration": 818,
        "start_time": "2025-04-15T01:39:06.674Z"
      },
      {
        "duration": 38,
        "start_time": "2025-04-15T01:39:07.496Z"
      },
      {
        "duration": 19,
        "start_time": "2025-04-15T01:39:07.536Z"
      },
      {
        "duration": 13,
        "start_time": "2025-04-15T01:39:07.557Z"
      },
      {
        "duration": 11,
        "start_time": "2025-04-15T01:39:07.572Z"
      },
      {
        "duration": 9,
        "start_time": "2025-04-15T01:39:07.584Z"
      },
      {
        "duration": 16,
        "start_time": "2025-04-15T01:39:07.595Z"
      },
      {
        "duration": 10,
        "start_time": "2025-04-15T01:39:07.613Z"
      },
      {
        "duration": 67,
        "start_time": "2025-04-15T01:39:07.625Z"
      },
      {
        "duration": 9,
        "start_time": "2025-04-15T01:39:21.227Z"
      },
      {
        "duration": 31,
        "start_time": "2025-04-15T01:40:37.242Z"
      },
      {
        "duration": 6,
        "start_time": "2025-04-15T01:40:46.273Z"
      },
      {
        "duration": 8,
        "start_time": "2025-04-15T01:40:59.103Z"
      },
      {
        "duration": 12,
        "start_time": "2025-04-15T01:41:04.661Z"
      },
      {
        "duration": 12,
        "start_time": "2025-04-15T01:41:38.190Z"
      },
      {
        "duration": 303,
        "start_time": "2025-04-15T01:46:26.774Z"
      },
      {
        "duration": 5,
        "start_time": "2025-04-15T01:46:37.652Z"
      },
      {
        "duration": 270,
        "start_time": "2025-04-15T01:46:54.071Z"
      },
      {
        "duration": 13,
        "start_time": "2025-04-15T01:48:44.685Z"
      },
      {
        "duration": 17,
        "start_time": "2025-04-15T01:48:52.797Z"
      },
      {
        "duration": 763,
        "start_time": "2025-04-15T02:14:42.229Z"
      },
      {
        "duration": 38,
        "start_time": "2025-04-15T02:14:42.994Z"
      },
      {
        "duration": 18,
        "start_time": "2025-04-15T02:14:43.033Z"
      },
      {
        "duration": 8,
        "start_time": "2025-04-15T02:15:15.266Z"
      },
      {
        "duration": 7,
        "start_time": "2025-04-15T02:15:21.123Z"
      },
      {
        "duration": 13,
        "start_time": "2025-04-15T02:15:23.955Z"
      },
      {
        "duration": 14,
        "start_time": "2025-04-15T02:17:02.784Z"
      },
      {
        "duration": 2,
        "start_time": "2025-04-15T02:17:35.539Z"
      },
      {
        "duration": 3,
        "start_time": "2025-04-15T02:17:39.478Z"
      },
      {
        "duration": 11,
        "start_time": "2025-04-15T02:18:16.989Z"
      },
      {
        "duration": 267,
        "start_time": "2025-04-15T02:22:49.209Z"
      },
      {
        "duration": 13,
        "start_time": "2025-04-15T02:22:55.857Z"
      },
      {
        "duration": 13,
        "start_time": "2025-04-15T02:23:09.083Z"
      },
      {
        "duration": 13,
        "start_time": "2025-04-15T02:23:19.934Z"
      },
      {
        "duration": 14,
        "start_time": "2025-04-15T02:23:28.126Z"
      },
      {
        "duration": 3,
        "start_time": "2025-04-15T02:23:32.808Z"
      },
      {
        "duration": 6,
        "start_time": "2025-04-15T02:23:35.822Z"
      },
      {
        "duration": 15,
        "start_time": "2025-04-15T02:24:29.349Z"
      },
      {
        "duration": 99,
        "start_time": "2025-04-15T02:24:35.188Z"
      },
      {
        "duration": 43,
        "start_time": "2025-04-15T02:25:07.606Z"
      },
      {
        "duration": 15,
        "start_time": "2025-04-15T02:25:14.103Z"
      },
      {
        "duration": 79,
        "start_time": "2025-04-15T02:25:29.221Z"
      },
      {
        "duration": 6,
        "start_time": "2025-04-15T02:26:51.840Z"
      },
      {
        "duration": 7,
        "start_time": "2025-04-15T02:26:58.104Z"
      },
      {
        "duration": 75,
        "start_time": "2025-04-15T02:28:19.220Z"
      },
      {
        "duration": 96,
        "start_time": "2025-04-15T02:29:21.537Z"
      },
      {
        "duration": 79,
        "start_time": "2025-04-15T02:31:18.059Z"
      },
      {
        "duration": 80,
        "start_time": "2025-04-15T02:34:13.303Z"
      },
      {
        "duration": 78,
        "start_time": "2025-04-15T02:34:18.937Z"
      },
      {
        "duration": 79,
        "start_time": "2025-04-15T02:34:35.591Z"
      },
      {
        "duration": 81,
        "start_time": "2025-04-15T02:34:48.810Z"
      },
      {
        "duration": 81,
        "start_time": "2025-04-15T02:35:09.902Z"
      },
      {
        "duration": 4,
        "start_time": "2025-04-15T02:38:16.627Z"
      },
      {
        "duration": 3,
        "start_time": "2025-04-15T02:38:19.567Z"
      },
      {
        "duration": 10,
        "start_time": "2025-04-15T02:38:26.102Z"
      },
      {
        "duration": 408,
        "start_time": "2025-04-15T02:38:45.464Z"
      },
      {
        "duration": 6,
        "start_time": "2025-04-15T02:38:53.502Z"
      },
      {
        "duration": 9,
        "start_time": "2025-04-15T02:38:58.405Z"
      },
      {
        "duration": 16,
        "start_time": "2025-04-15T02:39:30.222Z"
      },
      {
        "duration": 7,
        "start_time": "2025-04-15T02:39:35.514Z"
      },
      {
        "duration": 8,
        "start_time": "2025-04-15T02:39:46.850Z"
      },
      {
        "duration": 11,
        "start_time": "2025-04-15T02:40:06.317Z"
      },
      {
        "duration": 9,
        "start_time": "2025-04-15T02:40:19.674Z"
      },
      {
        "duration": 8,
        "start_time": "2025-04-15T02:40:40.720Z"
      },
      {
        "duration": 5,
        "start_time": "2025-04-15T02:40:52.044Z"
      },
      {
        "duration": 3,
        "start_time": "2025-04-15T02:41:28.916Z"
      },
      {
        "duration": 4,
        "start_time": "2025-04-15T02:41:31.604Z"
      },
      {
        "duration": 116,
        "start_time": "2025-04-15T02:41:44.817Z"
      },
      {
        "duration": 126,
        "start_time": "2025-04-15T02:42:47.240Z"
      },
      {
        "duration": 1001,
        "start_time": "2025-04-15T02:45:29.423Z"
      },
      {
        "duration": 118,
        "start_time": "2025-04-15T02:45:42.908Z"
      },
      {
        "duration": 123,
        "start_time": "2025-04-15T02:45:51.261Z"
      },
      {
        "duration": 153,
        "start_time": "2025-04-15T02:49:09.762Z"
      },
      {
        "duration": 4,
        "start_time": "2025-04-15T02:49:25.379Z"
      },
      {
        "duration": 14,
        "start_time": "2025-04-15T02:49:59.268Z"
      },
      {
        "duration": 80,
        "start_time": "2025-04-15T02:50:13.947Z"
      },
      {
        "duration": 78,
        "start_time": "2025-04-15T02:50:27.486Z"
      },
      {
        "duration": 4,
        "start_time": "2025-04-15T02:50:47.217Z"
      },
      {
        "duration": 76,
        "start_time": "2025-04-15T02:50:56.865Z"
      },
      {
        "duration": 410,
        "start_time": "2025-04-15T02:51:57.129Z"
      },
      {
        "duration": 77,
        "start_time": "2025-04-15T02:52:28.694Z"
      },
      {
        "duration": 87,
        "start_time": "2025-04-15T02:53:21.439Z"
      },
      {
        "duration": 88,
        "start_time": "2025-04-15T02:53:43.043Z"
      },
      {
        "duration": 85,
        "start_time": "2025-04-15T02:54:06.991Z"
      },
      {
        "duration": 103,
        "start_time": "2025-04-15T02:54:46.727Z"
      },
      {
        "duration": 828,
        "start_time": "2025-04-15T02:54:52.867Z"
      },
      {
        "duration": 48,
        "start_time": "2025-04-15T02:54:53.698Z"
      },
      {
        "duration": 20,
        "start_time": "2025-04-15T02:54:53.748Z"
      },
      {
        "duration": 8,
        "start_time": "2025-04-15T02:54:53.769Z"
      },
      {
        "duration": 7,
        "start_time": "2025-04-15T02:54:53.779Z"
      },
      {
        "duration": 12,
        "start_time": "2025-04-15T02:54:53.788Z"
      },
      {
        "duration": 13,
        "start_time": "2025-04-15T02:54:53.802Z"
      },
      {
        "duration": 55,
        "start_time": "2025-04-15T02:54:53.817Z"
      },
      {
        "duration": 10,
        "start_time": "2025-04-15T02:54:53.873Z"
      },
      {
        "duration": 24,
        "start_time": "2025-04-15T02:54:53.885Z"
      },
      {
        "duration": 124,
        "start_time": "2025-04-15T02:54:53.911Z"
      },
      {
        "duration": 157,
        "start_time": "2025-04-15T02:54:54.037Z"
      },
      {
        "duration": 87,
        "start_time": "2025-04-15T02:54:54.196Z"
      },
      {
        "duration": 125,
        "start_time": "2025-04-15T02:55:04.691Z"
      },
      {
        "duration": 84,
        "start_time": "2025-04-15T02:55:42.967Z"
      },
      {
        "duration": 308,
        "start_time": "2025-04-15T02:56:46.510Z"
      },
      {
        "duration": 86,
        "start_time": "2025-04-15T02:59:36.147Z"
      },
      {
        "duration": 536,
        "start_time": "2025-04-15T02:59:56.013Z"
      },
      {
        "duration": 117,
        "start_time": "2025-04-15T03:00:06.472Z"
      },
      {
        "duration": 167,
        "start_time": "2025-04-15T03:00:31.727Z"
      },
      {
        "duration": 87,
        "start_time": "2025-04-15T03:00:43.409Z"
      },
      {
        "duration": 93,
        "start_time": "2025-04-15T03:00:51.686Z"
      },
      {
        "duration": 95,
        "start_time": "2025-04-15T03:01:05.646Z"
      },
      {
        "duration": 94,
        "start_time": "2025-04-15T03:01:25.087Z"
      },
      {
        "duration": 96,
        "start_time": "2025-04-15T03:01:52.504Z"
      },
      {
        "duration": 91,
        "start_time": "2025-04-15T03:02:00.261Z"
      },
      {
        "duration": 11,
        "start_time": "2025-04-15T20:14:25.770Z"
      },
      {
        "duration": 7,
        "start_time": "2025-04-15T20:20:10.903Z"
      },
      {
        "duration": 2484,
        "start_time": "2025-04-15T22:17:39.464Z"
      },
      {
        "duration": 61,
        "start_time": "2025-04-15T22:17:41.951Z"
      },
      {
        "duration": 18,
        "start_time": "2025-04-15T22:17:42.014Z"
      },
      {
        "duration": 8,
        "start_time": "2025-04-15T22:17:42.034Z"
      },
      {
        "duration": 9,
        "start_time": "2025-04-15T22:17:45.340Z"
      },
      {
        "duration": 15,
        "start_time": "2025-04-15T22:17:45.352Z"
      },
      {
        "duration": 16,
        "start_time": "2025-04-15T22:17:45.369Z"
      },
      {
        "duration": 13,
        "start_time": "2025-04-15T22:17:45.387Z"
      },
      {
        "duration": 12,
        "start_time": "2025-04-15T22:17:45.403Z"
      },
      {
        "duration": 25,
        "start_time": "2025-04-15T22:17:45.417Z"
      },
      {
        "duration": 110,
        "start_time": "2025-04-15T22:17:45.444Z"
      },
      {
        "duration": 154,
        "start_time": "2025-04-15T22:17:48.801Z"
      },
      {
        "duration": 101,
        "start_time": "2025-04-15T22:17:48.957Z"
      },
      {
        "duration": 79,
        "start_time": "2025-04-15T22:19:09.604Z"
      },
      {
        "duration": 126,
        "start_time": "2025-04-15T22:21:10.962Z"
      },
      {
        "duration": 76,
        "start_time": "2025-04-15T22:21:23.463Z"
      },
      {
        "duration": 81,
        "start_time": "2025-04-15T22:21:28.962Z"
      },
      {
        "duration": 355,
        "start_time": "2025-04-15T22:22:33.586Z"
      },
      {
        "duration": 142,
        "start_time": "2025-04-15T22:22:50.004Z"
      },
      {
        "duration": 152,
        "start_time": "2025-04-15T22:24:08.482Z"
      },
      {
        "duration": 266,
        "start_time": "2025-04-15T22:24:24.415Z"
      },
      {
        "duration": 7,
        "start_time": "2025-04-15T22:24:54.065Z"
      },
      {
        "duration": 219,
        "start_time": "2025-04-15T22:24:59.543Z"
      },
      {
        "duration": 364,
        "start_time": "2025-04-15T22:25:08.972Z"
      },
      {
        "duration": 6,
        "start_time": "2025-04-15T22:27:52.489Z"
      },
      {
        "duration": 9,
        "start_time": "2025-04-15T22:28:03.518Z"
      },
      {
        "duration": 9,
        "start_time": "2025-04-15T22:28:51.329Z"
      },
      {
        "duration": 8,
        "start_time": "2025-04-15T22:29:04.257Z"
      },
      {
        "duration": 10,
        "start_time": "2025-04-15T22:29:08.640Z"
      },
      {
        "duration": 5,
        "start_time": "2025-04-15T22:36:38.841Z"
      },
      {
        "duration": 5,
        "start_time": "2025-04-15T22:37:45.687Z"
      },
      {
        "duration": 5,
        "start_time": "2025-04-15T22:37:49.416Z"
      },
      {
        "duration": 4,
        "start_time": "2025-04-15T22:38:49.200Z"
      },
      {
        "duration": 8,
        "start_time": "2025-04-16T01:42:54.812Z"
      },
      {
        "duration": 4,
        "start_time": "2025-04-16T01:43:04.021Z"
      },
      {
        "duration": 4,
        "start_time": "2025-04-16T01:43:08.744Z"
      },
      {
        "duration": 3,
        "start_time": "2025-04-16T01:43:17.340Z"
      },
      {
        "duration": 164,
        "start_time": "2025-04-16T01:43:20.576Z"
      },
      {
        "duration": 2634,
        "start_time": "2025-04-16T01:43:28.316Z"
      },
      {
        "duration": 61,
        "start_time": "2025-04-16T01:43:30.953Z"
      },
      {
        "duration": 18,
        "start_time": "2025-04-16T01:43:31.016Z"
      },
      {
        "duration": 7,
        "start_time": "2025-04-16T01:43:31.036Z"
      },
      {
        "duration": 7,
        "start_time": "2025-04-16T01:43:31.046Z"
      },
      {
        "duration": 11,
        "start_time": "2025-04-16T01:43:31.054Z"
      },
      {
        "duration": 38,
        "start_time": "2025-04-16T01:43:31.067Z"
      },
      {
        "duration": 4,
        "start_time": "2025-04-16T01:43:31.108Z"
      },
      {
        "duration": 15,
        "start_time": "2025-04-16T01:43:31.114Z"
      },
      {
        "duration": 9,
        "start_time": "2025-04-16T01:43:31.131Z"
      },
      {
        "duration": 20,
        "start_time": "2025-04-16T01:43:31.142Z"
      },
      {
        "duration": 136,
        "start_time": "2025-04-16T01:43:31.164Z"
      },
      {
        "duration": 144,
        "start_time": "2025-04-16T01:43:31.305Z"
      },
      {
        "duration": 102,
        "start_time": "2025-04-16T01:43:31.452Z"
      },
      {
        "duration": 289,
        "start_time": "2025-04-16T01:43:31.555Z"
      },
      {
        "duration": 8,
        "start_time": "2025-04-16T01:43:31.846Z"
      },
      {
        "duration": 4,
        "start_time": "2025-04-16T01:49:01.050Z"
      },
      {
        "duration": 75,
        "start_time": "2025-04-16T01:51:22.591Z"
      },
      {
        "duration": 11,
        "start_time": "2025-04-16T01:51:27.904Z"
      },
      {
        "duration": 8,
        "start_time": "2025-04-16T01:51:41.675Z"
      },
      {
        "duration": 4,
        "start_time": "2025-04-16T02:00:54.173Z"
      },
      {
        "duration": 15,
        "start_time": "2025-04-16T02:11:33.427Z"
      },
      {
        "duration": 4,
        "start_time": "2025-04-16T02:11:44.209Z"
      },
      {
        "duration": 335,
        "start_time": "2025-04-16T02:11:57.804Z"
      },
      {
        "duration": 15,
        "start_time": "2025-04-16T02:13:28.923Z"
      },
      {
        "duration": 11,
        "start_time": "2025-04-16T02:13:41.335Z"
      },
      {
        "duration": 11,
        "start_time": "2025-04-16T02:15:21.420Z"
      },
      {
        "duration": 8,
        "start_time": "2025-04-16T02:17:28.203Z"
      },
      {
        "duration": 9,
        "start_time": "2025-04-16T02:17:39.651Z"
      },
      {
        "duration": 812,
        "start_time": "2025-04-16T02:17:58.639Z"
      },
      {
        "duration": 38,
        "start_time": "2025-04-16T02:17:59.453Z"
      },
      {
        "duration": 27,
        "start_time": "2025-04-16T02:17:59.493Z"
      },
      {
        "duration": 8,
        "start_time": "2025-04-16T02:17:59.521Z"
      },
      {
        "duration": 7,
        "start_time": "2025-04-16T02:17:59.531Z"
      },
      {
        "duration": 12,
        "start_time": "2025-04-16T02:17:59.540Z"
      },
      {
        "duration": 9,
        "start_time": "2025-04-16T02:17:59.554Z"
      },
      {
        "duration": 46,
        "start_time": "2025-04-16T02:17:59.565Z"
      },
      {
        "duration": 9,
        "start_time": "2025-04-16T02:17:59.613Z"
      },
      {
        "duration": 3,
        "start_time": "2025-04-16T02:17:59.624Z"
      },
      {
        "duration": 14,
        "start_time": "2025-04-16T02:17:59.629Z"
      },
      {
        "duration": 3,
        "start_time": "2025-04-16T02:17:59.644Z"
      },
      {
        "duration": 9,
        "start_time": "2025-04-16T02:17:59.649Z"
      },
      {
        "duration": 53,
        "start_time": "2025-04-16T02:17:59.661Z"
      },
      {
        "duration": 10,
        "start_time": "2025-04-16T02:17:59.715Z"
      },
      {
        "duration": 19,
        "start_time": "2025-04-16T02:17:59.727Z"
      },
      {
        "duration": 114,
        "start_time": "2025-04-16T02:17:59.748Z"
      },
      {
        "duration": 158,
        "start_time": "2025-04-16T02:17:59.864Z"
      },
      {
        "duration": 151,
        "start_time": "2025-04-16T02:18:00.023Z"
      },
      {
        "duration": 296,
        "start_time": "2025-04-16T02:18:00.176Z"
      },
      {
        "duration": 11,
        "start_time": "2025-04-16T02:18:00.474Z"
      },
      {
        "duration": 6,
        "start_time": "2025-04-16T02:19:16.934Z"
      },
      {
        "duration": 8,
        "start_time": "2025-04-16T03:11:32.940Z"
      },
      {
        "duration": 3,
        "start_time": "2025-04-16T03:13:17.511Z"
      },
      {
        "duration": 4,
        "start_time": "2025-04-16T03:13:34.135Z"
      },
      {
        "duration": 16,
        "start_time": "2025-04-16T03:14:41.527Z"
      },
      {
        "duration": 790,
        "start_time": "2025-04-16T03:15:45.756Z"
      },
      {
        "duration": 37,
        "start_time": "2025-04-16T03:15:46.548Z"
      },
      {
        "duration": 19,
        "start_time": "2025-04-16T03:15:46.587Z"
      },
      {
        "duration": 8,
        "start_time": "2025-04-16T03:15:46.608Z"
      },
      {
        "duration": 8,
        "start_time": "2025-04-16T03:15:46.617Z"
      },
      {
        "duration": 12,
        "start_time": "2025-04-16T03:15:46.627Z"
      },
      {
        "duration": 10,
        "start_time": "2025-04-16T03:15:46.641Z"
      },
      {
        "duration": 10,
        "start_time": "2025-04-16T03:15:46.652Z"
      },
      {
        "duration": 45,
        "start_time": "2025-04-16T03:15:46.664Z"
      },
      {
        "duration": 3,
        "start_time": "2025-04-16T03:15:46.713Z"
      },
      {
        "duration": 13,
        "start_time": "2025-04-16T03:15:46.717Z"
      },
      {
        "duration": 3,
        "start_time": "2025-04-16T03:15:46.732Z"
      },
      {
        "duration": 8,
        "start_time": "2025-04-16T03:15:46.737Z"
      },
      {
        "duration": 5,
        "start_time": "2025-04-16T03:15:46.747Z"
      },
      {
        "duration": 14,
        "start_time": "2025-04-16T03:15:46.753Z"
      },
      {
        "duration": 14,
        "start_time": "2025-04-16T03:15:46.806Z"
      },
      {
        "duration": 10,
        "start_time": "2025-04-16T03:15:46.821Z"
      },
      {
        "duration": 8,
        "start_time": "2025-04-16T03:15:46.832Z"
      },
      {
        "duration": 20,
        "start_time": "2025-04-16T03:15:46.842Z"
      },
      {
        "duration": 121,
        "start_time": "2025-04-16T03:15:46.863Z"
      },
      {
        "duration": 140,
        "start_time": "2025-04-16T03:15:46.986Z"
      },
      {
        "duration": 158,
        "start_time": "2025-04-16T03:15:47.128Z"
      },
      {
        "duration": 305,
        "start_time": "2025-04-16T03:15:47.287Z"
      },
      {
        "duration": 17,
        "start_time": "2025-04-16T03:15:47.593Z"
      },
      {
        "duration": 6,
        "start_time": "2025-04-16T03:16:50.127Z"
      },
      {
        "duration": 11,
        "start_time": "2025-04-16T03:24:50.446Z"
      },
      {
        "duration": 11,
        "start_time": "2025-04-16T03:25:39.990Z"
      },
      {
        "duration": 9,
        "start_time": "2025-04-16T03:26:22.039Z"
      },
      {
        "duration": 12,
        "start_time": "2025-04-16T03:26:38.839Z"
      },
      {
        "duration": 13,
        "start_time": "2025-04-16T03:28:09.314Z"
      },
      {
        "duration": 89,
        "start_time": "2025-04-16T03:28:57.596Z"
      },
      {
        "duration": 126,
        "start_time": "2025-04-16T03:33:45.091Z"
      },
      {
        "duration": 4,
        "start_time": "2025-04-16T03:34:15.542Z"
      },
      {
        "duration": 167,
        "start_time": "2025-04-17T13:44:57.705Z"
      },
      {
        "duration": 2563,
        "start_time": "2025-04-17T13:45:05.099Z"
      },
      {
        "duration": 102,
        "start_time": "2025-04-17T13:45:07.665Z"
      },
      {
        "duration": 17,
        "start_time": "2025-04-17T13:45:07.769Z"
      },
      {
        "duration": 7,
        "start_time": "2025-04-17T13:45:07.788Z"
      },
      {
        "duration": 6,
        "start_time": "2025-04-17T13:45:07.798Z"
      },
      {
        "duration": 13,
        "start_time": "2025-04-17T13:45:07.805Z"
      },
      {
        "duration": 9,
        "start_time": "2025-04-17T13:45:07.820Z"
      },
      {
        "duration": 10,
        "start_time": "2025-04-17T13:45:07.831Z"
      },
      {
        "duration": 8,
        "start_time": "2025-04-17T13:45:07.843Z"
      },
      {
        "duration": 4,
        "start_time": "2025-04-17T13:45:07.852Z"
      },
      {
        "duration": 11,
        "start_time": "2025-04-17T13:45:07.858Z"
      },
      {
        "duration": 45,
        "start_time": "2025-04-17T13:45:07.871Z"
      },
      {
        "duration": 3,
        "start_time": "2025-04-17T13:45:07.918Z"
      },
      {
        "duration": 9,
        "start_time": "2025-04-17T13:45:07.925Z"
      },
      {
        "duration": 5,
        "start_time": "2025-04-17T13:45:07.935Z"
      },
      {
        "duration": 9,
        "start_time": "2025-04-17T13:45:07.942Z"
      },
      {
        "duration": 14,
        "start_time": "2025-04-17T13:45:07.952Z"
      },
      {
        "duration": 50,
        "start_time": "2025-04-17T13:45:07.967Z"
      },
      {
        "duration": 5,
        "start_time": "2025-04-17T13:45:08.019Z"
      },
      {
        "duration": 9,
        "start_time": "2025-04-17T13:45:08.027Z"
      },
      {
        "duration": 8,
        "start_time": "2025-04-17T13:45:08.038Z"
      },
      {
        "duration": 6,
        "start_time": "2025-04-17T13:45:08.048Z"
      },
      {
        "duration": 52,
        "start_time": "2025-04-17T13:45:08.056Z"
      },
      {
        "duration": 101,
        "start_time": "2025-04-17T13:45:08.111Z"
      },
      {
        "duration": 162,
        "start_time": "2025-04-17T13:45:08.214Z"
      },
      {
        "duration": 104,
        "start_time": "2025-04-17T13:45:08.379Z"
      },
      {
        "duration": 322,
        "start_time": "2025-04-17T13:45:08.485Z"
      },
      {
        "duration": 8,
        "start_time": "2025-04-17T13:45:08.809Z"
      },
      {
        "duration": 4,
        "start_time": "2025-04-17T13:45:35.628Z"
      },
      {
        "duration": 10,
        "start_time": "2025-04-17T13:46:21.487Z"
      },
      {
        "duration": 4,
        "start_time": "2025-04-17T14:07:14.982Z"
      },
      {
        "duration": 163,
        "start_time": "2025-04-17T16:18:33.316Z"
      },
      {
        "duration": 2656,
        "start_time": "2025-04-17T16:18:37.181Z"
      },
      {
        "duration": 807,
        "start_time": "2025-04-17T16:18:39.842Z"
      },
      {
        "duration": 18,
        "start_time": "2025-04-17T16:18:40.651Z"
      },
      {
        "duration": 7,
        "start_time": "2025-04-17T16:18:40.673Z"
      },
      {
        "duration": 7,
        "start_time": "2025-04-17T16:18:40.682Z"
      },
      {
        "duration": 13,
        "start_time": "2025-04-17T16:18:40.690Z"
      },
      {
        "duration": 44,
        "start_time": "2025-04-17T16:18:40.704Z"
      },
      {
        "duration": 12,
        "start_time": "2025-04-17T16:18:40.750Z"
      },
      {
        "duration": 9,
        "start_time": "2025-04-17T16:18:40.763Z"
      },
      {
        "duration": 3,
        "start_time": "2025-04-17T16:18:40.776Z"
      },
      {
        "duration": 13,
        "start_time": "2025-04-17T16:18:40.781Z"
      },
      {
        "duration": 13,
        "start_time": "2025-04-17T16:18:40.795Z"
      },
      {
        "duration": 34,
        "start_time": "2025-04-17T16:18:40.810Z"
      },
      {
        "duration": 12,
        "start_time": "2025-04-17T16:18:40.846Z"
      },
      {
        "duration": 6,
        "start_time": "2025-04-17T16:18:40.860Z"
      },
      {
        "duration": 11,
        "start_time": "2025-04-17T16:18:40.869Z"
      },
      {
        "duration": 14,
        "start_time": "2025-04-17T16:18:40.882Z"
      },
      {
        "duration": 49,
        "start_time": "2025-04-17T16:18:40.898Z"
      },
      {
        "duration": 8,
        "start_time": "2025-04-17T16:18:40.950Z"
      },
      {
        "duration": 11,
        "start_time": "2025-04-17T16:18:40.959Z"
      },
      {
        "duration": 9,
        "start_time": "2025-04-17T16:18:40.971Z"
      },
      {
        "duration": 8,
        "start_time": "2025-04-17T16:18:40.981Z"
      },
      {
        "duration": 18,
        "start_time": "2025-04-17T16:18:40.991Z"
      },
      {
        "duration": 137,
        "start_time": "2025-04-17T16:18:41.011Z"
      },
      {
        "duration": 149,
        "start_time": "2025-04-17T16:18:41.151Z"
      },
      {
        "duration": 103,
        "start_time": "2025-04-17T16:18:41.302Z"
      },
      {
        "duration": 328,
        "start_time": "2025-04-17T16:18:41.407Z"
      },
      {
        "duration": 14,
        "start_time": "2025-04-17T16:18:41.744Z"
      },
      {
        "duration": 5,
        "start_time": "2025-04-17T16:18:41.759Z"
      },
      {
        "duration": 16,
        "start_time": "2025-04-17T16:18:41.766Z"
      },
      {
        "duration": 19,
        "start_time": "2025-04-17T16:18:58.182Z"
      },
      {
        "duration": 158,
        "start_time": "2025-04-17T16:20:13.772Z"
      },
      {
        "duration": 765,
        "start_time": "2025-04-17T16:20:18.111Z"
      },
      {
        "duration": 79,
        "start_time": "2025-04-17T16:20:18.878Z"
      },
      {
        "duration": 29,
        "start_time": "2025-04-17T16:20:18.958Z"
      },
      {
        "duration": 8,
        "start_time": "2025-04-17T16:20:18.990Z"
      },
      {
        "duration": 8,
        "start_time": "2025-04-17T16:20:19.000Z"
      },
      {
        "duration": 34,
        "start_time": "2025-04-17T16:20:19.009Z"
      },
      {
        "duration": 10,
        "start_time": "2025-04-17T16:20:19.044Z"
      },
      {
        "duration": 10,
        "start_time": "2025-04-17T16:20:19.056Z"
      },
      {
        "duration": 8,
        "start_time": "2025-04-17T16:20:19.068Z"
      },
      {
        "duration": 3,
        "start_time": "2025-04-17T16:20:19.080Z"
      },
      {
        "duration": 14,
        "start_time": "2025-04-17T16:20:19.084Z"
      },
      {
        "duration": 45,
        "start_time": "2025-04-17T16:20:19.099Z"
      },
      {
        "duration": 4,
        "start_time": "2025-04-17T16:20:19.146Z"
      },
      {
        "duration": 8,
        "start_time": "2025-04-17T16:20:19.152Z"
      },
      {
        "duration": 5,
        "start_time": "2025-04-17T16:20:19.162Z"
      },
      {
        "duration": 11,
        "start_time": "2025-04-17T16:20:19.169Z"
      },
      {
        "duration": 13,
        "start_time": "2025-04-17T16:20:19.181Z"
      },
      {
        "duration": 55,
        "start_time": "2025-04-17T16:20:19.197Z"
      },
      {
        "duration": 7,
        "start_time": "2025-04-17T16:20:19.253Z"
      },
      {
        "duration": 10,
        "start_time": "2025-04-17T16:20:19.261Z"
      },
      {
        "duration": 9,
        "start_time": "2025-04-17T16:20:19.272Z"
      },
      {
        "duration": 7,
        "start_time": "2025-04-17T16:20:19.282Z"
      },
      {
        "duration": 55,
        "start_time": "2025-04-17T16:20:19.291Z"
      },
      {
        "duration": 100,
        "start_time": "2025-04-17T16:20:19.348Z"
      },
      {
        "duration": 143,
        "start_time": "2025-04-17T16:20:19.449Z"
      },
      {
        "duration": 105,
        "start_time": "2025-04-17T16:20:19.594Z"
      },
      {
        "duration": 287,
        "start_time": "2025-04-17T16:20:19.701Z"
      },
      {
        "duration": 7,
        "start_time": "2025-04-17T16:20:19.992Z"
      },
      {
        "duration": 5,
        "start_time": "2025-04-17T16:20:20.000Z"
      },
      {
        "duration": 7,
        "start_time": "2025-04-17T16:20:20.007Z"
      },
      {
        "duration": 34,
        "start_time": "2025-04-17T16:20:20.016Z"
      },
      {
        "duration": 9,
        "start_time": "2025-04-17T16:22:49.654Z"
      },
      {
        "duration": 14,
        "start_time": "2025-04-17T16:22:50.597Z"
      },
      {
        "duration": 9,
        "start_time": "2025-04-17T16:24:34.227Z"
      },
      {
        "duration": 15,
        "start_time": "2025-04-17T16:24:35.186Z"
      },
      {
        "duration": 160,
        "start_time": "2025-04-17T19:28:06.175Z"
      },
      {
        "duration": 2563,
        "start_time": "2025-04-17T19:28:09.603Z"
      },
      {
        "duration": 68,
        "start_time": "2025-04-17T19:28:12.168Z"
      },
      {
        "duration": 21,
        "start_time": "2025-04-17T19:28:12.237Z"
      },
      {
        "duration": 7,
        "start_time": "2025-04-17T19:28:12.261Z"
      },
      {
        "duration": 7,
        "start_time": "2025-04-17T19:28:12.269Z"
      },
      {
        "duration": 12,
        "start_time": "2025-04-17T19:28:12.277Z"
      },
      {
        "duration": 32,
        "start_time": "2025-04-17T19:28:12.291Z"
      },
      {
        "duration": 11,
        "start_time": "2025-04-17T19:28:12.326Z"
      },
      {
        "duration": 8,
        "start_time": "2025-04-17T19:28:12.339Z"
      },
      {
        "duration": 3,
        "start_time": "2025-04-17T19:28:12.350Z"
      },
      {
        "duration": 12,
        "start_time": "2025-04-17T19:28:12.354Z"
      },
      {
        "duration": 13,
        "start_time": "2025-04-17T19:28:12.367Z"
      },
      {
        "duration": 3,
        "start_time": "2025-04-17T19:28:12.382Z"
      },
      {
        "duration": 9,
        "start_time": "2025-04-17T19:28:12.425Z"
      },
      {
        "duration": 6,
        "start_time": "2025-04-17T19:28:12.436Z"
      },
      {
        "duration": 10,
        "start_time": "2025-04-17T19:28:12.443Z"
      },
      {
        "duration": 13,
        "start_time": "2025-04-17T19:28:12.455Z"
      },
      {
        "duration": 12,
        "start_time": "2025-04-17T19:28:12.470Z"
      },
      {
        "duration": 44,
        "start_time": "2025-04-17T19:28:12.484Z"
      },
      {
        "duration": 12,
        "start_time": "2025-04-17T19:28:12.530Z"
      },
      {
        "duration": 8,
        "start_time": "2025-04-17T19:28:12.543Z"
      },
      {
        "duration": 6,
        "start_time": "2025-04-17T19:28:12.553Z"
      },
      {
        "duration": 17,
        "start_time": "2025-04-17T19:28:12.561Z"
      },
      {
        "duration": 130,
        "start_time": "2025-04-17T19:28:12.580Z"
      },
      {
        "duration": 143,
        "start_time": "2025-04-17T19:28:12.712Z"
      },
      {
        "duration": 103,
        "start_time": "2025-04-17T19:28:12.856Z"
      },
      {
        "duration": 264,
        "start_time": "2025-04-17T19:28:12.961Z"
      },
      {
        "duration": 8,
        "start_time": "2025-04-17T19:28:13.229Z"
      },
      {
        "duration": 5,
        "start_time": "2025-04-17T19:28:13.238Z"
      },
      {
        "duration": 9,
        "start_time": "2025-04-17T19:28:13.244Z"
      },
      {
        "duration": 7,
        "start_time": "2025-04-17T19:28:13.254Z"
      },
      {
        "duration": 8,
        "start_time": "2025-04-17T19:28:13.263Z"
      },
      {
        "duration": 52,
        "start_time": "2025-04-17T19:28:13.273Z"
      },
      {
        "duration": 756,
        "start_time": "2025-04-17T19:28:13.327Z"
      },
      {
        "duration": 19,
        "start_time": "2025-04-17T19:29:44.018Z"
      },
      {
        "duration": 43,
        "start_time": "2025-04-17T19:29:52.717Z"
      },
      {
        "duration": 781,
        "start_time": "2025-04-17T19:30:04.673Z"
      },
      {
        "duration": 32,
        "start_time": "2025-04-17T19:30:05.456Z"
      },
      {
        "duration": 18,
        "start_time": "2025-04-17T19:30:05.489Z"
      },
      {
        "duration": 16,
        "start_time": "2025-04-17T19:30:05.508Z"
      },
      {
        "duration": 7,
        "start_time": "2025-04-17T19:30:05.821Z"
      },
      {
        "duration": 11,
        "start_time": "2025-04-17T19:30:05.831Z"
      },
      {
        "duration": 9,
        "start_time": "2025-04-17T19:30:05.844Z"
      },
      {
        "duration": 9,
        "start_time": "2025-04-17T19:30:05.855Z"
      },
      {
        "duration": 7,
        "start_time": "2025-04-17T19:30:05.867Z"
      },
      {
        "duration": 3,
        "start_time": "2025-04-17T19:30:05.875Z"
      },
      {
        "duration": 57,
        "start_time": "2025-04-17T19:30:05.880Z"
      },
      {
        "duration": 13,
        "start_time": "2025-04-17T19:30:05.938Z"
      },
      {
        "duration": 4,
        "start_time": "2025-04-17T19:30:05.953Z"
      },
      {
        "duration": 9,
        "start_time": "2025-04-17T19:30:05.959Z"
      },
      {
        "duration": 6,
        "start_time": "2025-04-17T19:30:05.970Z"
      },
      {
        "duration": 10,
        "start_time": "2025-04-17T19:30:05.978Z"
      },
      {
        "duration": 13,
        "start_time": "2025-04-17T19:30:06.024Z"
      },
      {
        "duration": 14,
        "start_time": "2025-04-17T19:30:06.042Z"
      },
      {
        "duration": 7,
        "start_time": "2025-04-17T19:30:06.057Z"
      },
      {
        "duration": 10,
        "start_time": "2025-04-17T19:30:06.066Z"
      },
      {
        "duration": 8,
        "start_time": "2025-04-17T19:30:06.078Z"
      },
      {
        "duration": 43,
        "start_time": "2025-04-17T19:30:06.088Z"
      },
      {
        "duration": 19,
        "start_time": "2025-04-17T19:30:06.132Z"
      },
      {
        "duration": 109,
        "start_time": "2025-04-17T19:30:06.152Z"
      },
      {
        "duration": 143,
        "start_time": "2025-04-17T19:30:06.263Z"
      },
      {
        "duration": 145,
        "start_time": "2025-04-17T19:30:06.408Z"
      },
      {
        "duration": 256,
        "start_time": "2025-04-17T19:30:06.555Z"
      },
      {
        "duration": 8,
        "start_time": "2025-04-17T19:30:06.823Z"
      },
      {
        "duration": 5,
        "start_time": "2025-04-17T19:30:06.833Z"
      },
      {
        "duration": 8,
        "start_time": "2025-04-17T19:30:06.840Z"
      },
      {
        "duration": 8,
        "start_time": "2025-04-17T19:30:06.850Z"
      },
      {
        "duration": 8,
        "start_time": "2025-04-17T19:30:06.859Z"
      },
      {
        "duration": 14,
        "start_time": "2025-04-17T19:30:06.868Z"
      },
      {
        "duration": 53,
        "start_time": "2025-04-17T19:30:06.883Z"
      },
      {
        "duration": 3,
        "start_time": "2025-04-17T19:30:53.704Z"
      },
      {
        "duration": 5,
        "start_time": "2025-04-17T19:36:03.764Z"
      },
      {
        "duration": 4,
        "start_time": "2025-04-17T19:36:28.475Z"
      },
      {
        "duration": 3,
        "start_time": "2025-04-17T19:37:28.335Z"
      },
      {
        "duration": 4,
        "start_time": "2025-04-17T19:37:33.361Z"
      },
      {
        "duration": 3,
        "start_time": "2025-04-17T19:38:03.589Z"
      },
      {
        "duration": 820,
        "start_time": "2025-04-17T19:38:29.033Z"
      },
      {
        "duration": 32,
        "start_time": "2025-04-17T19:38:29.855Z"
      },
      {
        "duration": 18,
        "start_time": "2025-04-17T19:38:29.889Z"
      },
      {
        "duration": 20,
        "start_time": "2025-04-17T19:38:29.908Z"
      },
      {
        "duration": 9,
        "start_time": "2025-04-17T19:38:29.931Z"
      },
      {
        "duration": 13,
        "start_time": "2025-04-17T19:38:29.941Z"
      },
      {
        "duration": 9,
        "start_time": "2025-04-17T19:38:29.956Z"
      },
      {
        "duration": 11,
        "start_time": "2025-04-17T19:38:29.967Z"
      },
      {
        "duration": 8,
        "start_time": "2025-04-17T19:38:29.979Z"
      },
      {
        "duration": 37,
        "start_time": "2025-04-17T19:38:29.989Z"
      },
      {
        "duration": 16,
        "start_time": "2025-04-17T19:38:30.243Z"
      },
      {
        "duration": 13,
        "start_time": "2025-04-17T19:38:30.261Z"
      },
      {
        "duration": 3,
        "start_time": "2025-04-17T19:38:30.275Z"
      },
      {
        "duration": 9,
        "start_time": "2025-04-17T19:38:30.638Z"
      },
      {
        "duration": 5,
        "start_time": "2025-04-17T19:38:30.649Z"
      },
      {
        "duration": 10,
        "start_time": "2025-04-17T19:38:30.656Z"
      },
      {
        "duration": 14,
        "start_time": "2025-04-17T19:38:30.667Z"
      },
      {
        "duration": 12,
        "start_time": "2025-04-17T19:38:30.683Z"
      },
      {
        "duration": 27,
        "start_time": "2025-04-17T19:38:30.697Z"
      },
      {
        "duration": 10,
        "start_time": "2025-04-17T19:38:30.726Z"
      },
      {
        "duration": 9,
        "start_time": "2025-04-17T19:38:30.738Z"
      },
      {
        "duration": 7,
        "start_time": "2025-04-17T19:38:30.748Z"
      },
      {
        "duration": 17,
        "start_time": "2025-04-17T19:38:30.756Z"
      },
      {
        "duration": 92,
        "start_time": "2025-04-17T19:38:31.601Z"
      },
      {
        "duration": 136,
        "start_time": "2025-04-17T19:38:31.695Z"
      },
      {
        "duration": 97,
        "start_time": "2025-04-17T19:38:31.833Z"
      },
      {
        "duration": 319,
        "start_time": "2025-04-17T19:38:31.932Z"
      },
      {
        "duration": 8,
        "start_time": "2025-04-17T19:38:32.254Z"
      },
      {
        "duration": 5,
        "start_time": "2025-04-17T19:38:32.263Z"
      },
      {
        "duration": 8,
        "start_time": "2025-04-17T19:38:32.270Z"
      },
      {
        "duration": 7,
        "start_time": "2025-04-17T19:38:32.280Z"
      },
      {
        "duration": 36,
        "start_time": "2025-04-17T19:38:32.288Z"
      },
      {
        "duration": 15,
        "start_time": "2025-04-17T19:38:33.204Z"
      },
      {
        "duration": 20,
        "start_time": "2025-04-17T19:38:33.221Z"
      },
      {
        "duration": 5,
        "start_time": "2025-04-17T19:38:33.243Z"
      },
      {
        "duration": 3,
        "start_time": "2025-04-17T19:39:12.629Z"
      },
      {
        "duration": 21,
        "start_time": "2025-04-17T19:41:35.752Z"
      },
      {
        "duration": 21,
        "start_time": "2025-04-17T19:41:52.300Z"
      },
      {
        "duration": 897,
        "start_time": "2025-04-17T19:44:16.548Z"
      },
      {
        "duration": 98,
        "start_time": "2025-04-17T19:44:17.447Z"
      },
      {
        "duration": 20,
        "start_time": "2025-04-17T19:44:17.546Z"
      },
      {
        "duration": 8,
        "start_time": "2025-04-17T19:44:17.569Z"
      },
      {
        "duration": 8,
        "start_time": "2025-04-17T19:44:17.578Z"
      },
      {
        "duration": 11,
        "start_time": "2025-04-17T19:44:17.588Z"
      },
      {
        "duration": 30,
        "start_time": "2025-04-17T19:44:17.601Z"
      },
      {
        "duration": 10,
        "start_time": "2025-04-17T19:44:17.633Z"
      },
      {
        "duration": 7,
        "start_time": "2025-04-17T19:44:17.645Z"
      },
      {
        "duration": 3,
        "start_time": "2025-04-17T19:44:17.656Z"
      },
      {
        "duration": 11,
        "start_time": "2025-04-17T19:44:17.661Z"
      },
      {
        "duration": 13,
        "start_time": "2025-04-17T19:44:17.674Z"
      },
      {
        "duration": 4,
        "start_time": "2025-04-17T19:44:17.724Z"
      },
      {
        "duration": 10,
        "start_time": "2025-04-17T19:44:17.729Z"
      },
      {
        "duration": 6,
        "start_time": "2025-04-17T19:44:17.740Z"
      },
      {
        "duration": 8,
        "start_time": "2025-04-17T19:44:17.748Z"
      },
      {
        "duration": 13,
        "start_time": "2025-04-17T19:44:17.758Z"
      },
      {
        "duration": 13,
        "start_time": "2025-04-17T19:44:17.772Z"
      },
      {
        "duration": 6,
        "start_time": "2025-04-17T19:44:17.825Z"
      },
      {
        "duration": 10,
        "start_time": "2025-04-17T19:44:17.832Z"
      },
      {
        "duration": 8,
        "start_time": "2025-04-17T19:44:17.844Z"
      },
      {
        "duration": 7,
        "start_time": "2025-04-17T19:44:17.854Z"
      },
      {
        "duration": 18,
        "start_time": "2025-04-17T19:44:17.863Z"
      },
      {
        "duration": 130,
        "start_time": "2025-04-17T19:44:17.883Z"
      },
      {
        "duration": 142,
        "start_time": "2025-04-17T19:44:18.015Z"
      },
      {
        "duration": 146,
        "start_time": "2025-04-17T19:44:18.159Z"
      },
      {
        "duration": 300,
        "start_time": "2025-04-17T19:44:18.307Z"
      },
      {
        "duration": 18,
        "start_time": "2025-04-17T19:44:18.612Z"
      },
      {
        "duration": 5,
        "start_time": "2025-04-17T19:44:18.631Z"
      },
      {
        "duration": 8,
        "start_time": "2025-04-17T19:44:18.638Z"
      },
      {
        "duration": 8,
        "start_time": "2025-04-17T19:44:18.647Z"
      },
      {
        "duration": 7,
        "start_time": "2025-04-17T19:44:18.657Z"
      },
      {
        "duration": 13,
        "start_time": "2025-04-17T19:44:18.666Z"
      },
      {
        "duration": 50,
        "start_time": "2025-04-17T19:44:18.681Z"
      },
      {
        "duration": 131,
        "start_time": "2025-04-17T19:44:18.733Z"
      },
      {
        "duration": 0,
        "start_time": "2025-04-17T19:44:18.866Z"
      },
      {
        "duration": 19,
        "start_time": "2025-04-17T19:44:36.430Z"
      },
      {
        "duration": 16,
        "start_time": "2025-04-17T19:45:24.961Z"
      },
      {
        "duration": 115,
        "start_time": "2025-04-17T19:52:52.339Z"
      },
      {
        "duration": 7,
        "start_time": "2025-04-17T19:53:01.945Z"
      },
      {
        "duration": 717,
        "start_time": "2025-04-17T20:03:09.458Z"
      },
      {
        "duration": 35,
        "start_time": "2025-04-17T20:03:19.836Z"
      },
      {
        "duration": 4,
        "start_time": "2025-04-17T20:03:27.963Z"
      },
      {
        "duration": 3,
        "start_time": "2025-04-17T20:10:59.368Z"
      },
      {
        "duration": 12,
        "start_time": "2025-04-17T20:20:41.726Z"
      },
      {
        "duration": 18,
        "start_time": "2025-04-17T20:20:45.547Z"
      },
      {
        "duration": 796,
        "start_time": "2025-04-17T20:23:14.010Z"
      },
      {
        "duration": 41,
        "start_time": "2025-04-17T20:23:14.809Z"
      },
      {
        "duration": 18,
        "start_time": "2025-04-17T20:23:14.851Z"
      },
      {
        "duration": 8,
        "start_time": "2025-04-17T20:23:14.871Z"
      },
      {
        "duration": 7,
        "start_time": "2025-04-17T20:23:14.881Z"
      },
      {
        "duration": 12,
        "start_time": "2025-04-17T20:23:14.889Z"
      },
      {
        "duration": 31,
        "start_time": "2025-04-17T20:23:14.902Z"
      },
      {
        "duration": 11,
        "start_time": "2025-04-17T20:23:14.935Z"
      },
      {
        "duration": 7,
        "start_time": "2025-04-17T20:23:14.948Z"
      },
      {
        "duration": 3,
        "start_time": "2025-04-17T20:23:14.956Z"
      },
      {
        "duration": 12,
        "start_time": "2025-04-17T20:23:14.961Z"
      },
      {
        "duration": 13,
        "start_time": "2025-04-17T20:23:14.974Z"
      },
      {
        "duration": 38,
        "start_time": "2025-04-17T20:23:14.989Z"
      },
      {
        "duration": 9,
        "start_time": "2025-04-17T20:23:15.030Z"
      },
      {
        "duration": 6,
        "start_time": "2025-04-17T20:23:15.041Z"
      },
      {
        "duration": 10,
        "start_time": "2025-04-17T20:23:15.048Z"
      },
      {
        "duration": 13,
        "start_time": "2025-04-17T20:23:15.060Z"
      },
      {
        "duration": 13,
        "start_time": "2025-04-17T20:23:15.075Z"
      },
      {
        "duration": 7,
        "start_time": "2025-04-17T20:23:15.124Z"
      },
      {
        "duration": 12,
        "start_time": "2025-04-17T20:23:15.133Z"
      },
      {
        "duration": 10,
        "start_time": "2025-04-17T20:23:15.146Z"
      },
      {
        "duration": 6,
        "start_time": "2025-04-17T20:23:15.159Z"
      },
      {
        "duration": 20,
        "start_time": "2025-04-17T20:23:15.167Z"
      },
      {
        "duration": 135,
        "start_time": "2025-04-17T20:23:15.190Z"
      },
      {
        "duration": 139,
        "start_time": "2025-04-17T20:23:15.327Z"
      },
      {
        "duration": 146,
        "start_time": "2025-04-17T20:23:15.468Z"
      },
      {
        "duration": 290,
        "start_time": "2025-04-17T20:23:15.615Z"
      },
      {
        "duration": 18,
        "start_time": "2025-04-17T20:23:15.907Z"
      },
      {
        "duration": 5,
        "start_time": "2025-04-17T20:23:15.927Z"
      },
      {
        "duration": 8,
        "start_time": "2025-04-17T20:23:15.934Z"
      },
      {
        "duration": 8,
        "start_time": "2025-04-17T20:23:15.943Z"
      },
      {
        "duration": 8,
        "start_time": "2025-04-17T20:23:15.952Z"
      },
      {
        "duration": 14,
        "start_time": "2025-04-17T20:23:15.961Z"
      },
      {
        "duration": 48,
        "start_time": "2025-04-17T20:23:15.976Z"
      },
      {
        "duration": 17,
        "start_time": "2025-04-17T20:23:16.026Z"
      },
      {
        "duration": 3,
        "start_time": "2025-04-17T20:23:16.046Z"
      },
      {
        "duration": 16,
        "start_time": "2025-04-17T20:23:16.051Z"
      },
      {
        "duration": 10,
        "start_time": "2025-04-17T20:24:52.912Z"
      },
      {
        "duration": 855,
        "start_time": "2025-04-17T20:27:30.342Z"
      },
      {
        "duration": 36,
        "start_time": "2025-04-17T20:27:31.200Z"
      },
      {
        "duration": 20,
        "start_time": "2025-04-17T20:27:31.237Z"
      },
      {
        "duration": 7,
        "start_time": "2025-04-17T20:27:31.259Z"
      },
      {
        "duration": 7,
        "start_time": "2025-04-17T20:27:31.268Z"
      },
      {
        "duration": 14,
        "start_time": "2025-04-17T20:27:31.912Z"
      },
      {
        "duration": 14,
        "start_time": "2025-04-17T20:27:31.929Z"
      },
      {
        "duration": 12,
        "start_time": "2025-04-17T20:27:31.945Z"
      },
      {
        "duration": 9,
        "start_time": "2025-04-17T20:27:31.959Z"
      },
      {
        "duration": 3,
        "start_time": "2025-04-17T20:27:32.267Z"
      },
      {
        "duration": 14,
        "start_time": "2025-04-17T20:27:32.273Z"
      },
      {
        "duration": 15,
        "start_time": "2025-04-17T20:27:32.296Z"
      },
      {
        "duration": 3,
        "start_time": "2025-04-17T20:27:32.314Z"
      },
      {
        "duration": 11,
        "start_time": "2025-04-17T20:27:32.319Z"
      },
      {
        "duration": 7,
        "start_time": "2025-04-17T20:27:32.554Z"
      },
      {
        "duration": 11,
        "start_time": "2025-04-17T20:27:32.563Z"
      },
      {
        "duration": 16,
        "start_time": "2025-04-17T20:27:32.576Z"
      },
      {
        "duration": 15,
        "start_time": "2025-04-17T20:27:32.596Z"
      },
      {
        "duration": 11,
        "start_time": "2025-04-17T20:27:32.613Z"
      },
      {
        "duration": 11,
        "start_time": "2025-04-17T20:27:32.625Z"
      },
      {
        "duration": 8,
        "start_time": "2025-04-17T20:27:32.638Z"
      },
      {
        "duration": 7,
        "start_time": "2025-04-17T20:27:33.232Z"
      },
      {
        "duration": 18,
        "start_time": "2025-04-17T20:27:33.242Z"
      },
      {
        "duration": 111,
        "start_time": "2025-04-17T20:27:33.262Z"
      },
      {
        "duration": 150,
        "start_time": "2025-04-17T20:27:33.376Z"
      },
      {
        "duration": 107,
        "start_time": "2025-04-17T20:27:33.529Z"
      },
      {
        "duration": 362,
        "start_time": "2025-04-17T20:27:33.638Z"
      },
      {
        "duration": 9,
        "start_time": "2025-04-17T20:27:34.001Z"
      },
      {
        "duration": 5,
        "start_time": "2025-04-17T20:27:34.025Z"
      },
      {
        "duration": 9,
        "start_time": "2025-04-17T20:27:34.032Z"
      },
      {
        "duration": 8,
        "start_time": "2025-04-17T20:27:34.042Z"
      },
      {
        "duration": 8,
        "start_time": "2025-04-17T20:27:34.052Z"
      },
      {
        "duration": 14,
        "start_time": "2025-04-17T20:27:34.062Z"
      },
      {
        "duration": 49,
        "start_time": "2025-04-17T20:27:34.078Z"
      },
      {
        "duration": 19,
        "start_time": "2025-04-17T20:27:34.129Z"
      },
      {
        "duration": 6,
        "start_time": "2025-04-17T20:27:34.150Z"
      },
      {
        "duration": 16,
        "start_time": "2025-04-17T20:27:34.158Z"
      },
      {
        "duration": 10,
        "start_time": "2025-04-17T20:27:34.176Z"
      },
      {
        "duration": 12,
        "start_time": "2025-04-17T20:33:41.757Z"
      },
      {
        "duration": 3,
        "start_time": "2025-04-17T20:37:45.971Z"
      },
      {
        "duration": 9,
        "start_time": "2025-04-17T20:38:39.577Z"
      },
      {
        "duration": 6,
        "start_time": "2025-04-17T20:38:51.694Z"
      },
      {
        "duration": 3,
        "start_time": "2025-04-17T20:39:06.943Z"
      },
      {
        "duration": 3,
        "start_time": "2025-04-17T20:39:27.793Z"
      },
      {
        "duration": 3,
        "start_time": "2025-04-17T20:42:15.829Z"
      },
      {
        "duration": 225,
        "start_time": "2025-04-17T20:42:41.168Z"
      },
      {
        "duration": 4,
        "start_time": "2025-04-17T20:44:04.119Z"
      },
      {
        "duration": 13,
        "start_time": "2025-04-17T20:45:48.424Z"
      },
      {
        "duration": 11,
        "start_time": "2025-04-17T20:46:01.793Z"
      },
      {
        "duration": 10,
        "start_time": "2025-04-17T20:46:08.043Z"
      },
      {
        "duration": 21,
        "start_time": "2025-04-17T20:52:13.022Z"
      },
      {
        "duration": 2425,
        "start_time": "2025-04-17T20:55:07.369Z"
      },
      {
        "duration": 6,
        "start_time": "2025-04-17T20:55:45.380Z"
      },
      {
        "duration": 3642,
        "start_time": "2025-04-17T20:55:54.681Z"
      },
      {
        "duration": 869,
        "start_time": "2025-04-17T20:56:31.007Z"
      },
      {
        "duration": 38,
        "start_time": "2025-04-17T20:56:31.879Z"
      },
      {
        "duration": 22,
        "start_time": "2025-04-17T20:56:31.918Z"
      },
      {
        "duration": 8,
        "start_time": "2025-04-17T20:56:31.943Z"
      },
      {
        "duration": 8,
        "start_time": "2025-04-17T20:56:31.953Z"
      },
      {
        "duration": 13,
        "start_time": "2025-04-17T20:56:32.141Z"
      },
      {
        "duration": 11,
        "start_time": "2025-04-17T20:56:32.156Z"
      },
      {
        "duration": 11,
        "start_time": "2025-04-17T20:56:32.169Z"
      },
      {
        "duration": 7,
        "start_time": "2025-04-17T20:56:32.182Z"
      },
      {
        "duration": 4,
        "start_time": "2025-04-17T20:56:32.191Z"
      },
      {
        "duration": 14,
        "start_time": "2025-04-17T20:56:35.400Z"
      },
      {
        "duration": 14,
        "start_time": "2025-04-17T20:56:35.417Z"
      },
      {
        "duration": 3,
        "start_time": "2025-04-17T20:56:35.433Z"
      },
      {
        "duration": 11,
        "start_time": "2025-04-17T20:56:36.961Z"
      },
      {
        "duration": 6,
        "start_time": "2025-04-17T20:56:36.974Z"
      },
      {
        "duration": 11,
        "start_time": "2025-04-17T20:56:36.982Z"
      },
      {
        "duration": 15,
        "start_time": "2025-04-17T20:56:36.996Z"
      },
      {
        "duration": 15,
        "start_time": "2025-04-17T20:56:37.013Z"
      },
      {
        "duration": 6,
        "start_time": "2025-04-17T20:56:37.031Z"
      },
      {
        "duration": 11,
        "start_time": "2025-04-17T20:56:37.039Z"
      },
      {
        "duration": 9,
        "start_time": "2025-04-17T20:56:37.053Z"
      },
      {
        "duration": 8,
        "start_time": "2025-04-17T20:56:37.064Z"
      },
      {
        "duration": 58,
        "start_time": "2025-04-17T20:56:37.073Z"
      },
      {
        "duration": 110,
        "start_time": "2025-04-17T20:56:37.134Z"
      },
      {
        "duration": 151,
        "start_time": "2025-04-17T20:56:37.245Z"
      },
      {
        "duration": 176,
        "start_time": "2025-04-17T20:56:37.398Z"
      },
      {
        "duration": 290,
        "start_time": "2025-04-17T20:56:37.577Z"
      },
      {
        "duration": 8,
        "start_time": "2025-04-17T20:56:37.869Z"
      },
      {
        "duration": 6,
        "start_time": "2025-04-17T20:56:37.880Z"
      },
      {
        "duration": 9,
        "start_time": "2025-04-17T20:56:37.889Z"
      },
      {
        "duration": 34,
        "start_time": "2025-04-17T20:56:37.900Z"
      },
      {
        "duration": 10,
        "start_time": "2025-04-17T20:56:37.936Z"
      },
      {
        "duration": 16,
        "start_time": "2025-04-17T20:56:37.949Z"
      },
      {
        "duration": 16,
        "start_time": "2025-04-17T20:56:37.968Z"
      },
      {
        "duration": 52,
        "start_time": "2025-04-17T20:56:37.986Z"
      },
      {
        "duration": 5,
        "start_time": "2025-04-17T20:56:38.040Z"
      },
      {
        "duration": 18,
        "start_time": "2025-04-17T20:56:38.046Z"
      },
      {
        "duration": 14,
        "start_time": "2025-04-17T20:56:38.065Z"
      },
      {
        "duration": 4,
        "start_time": "2025-04-17T20:56:38.080Z"
      },
      {
        "duration": 39,
        "start_time": "2025-04-17T20:56:38.086Z"
      },
      {
        "duration": 1914,
        "start_time": "2025-04-17T20:56:38.127Z"
      },
      {
        "duration": 139,
        "start_time": "2025-04-17T20:57:02.036Z"
      },
      {
        "duration": 240,
        "start_time": "2025-04-17T21:00:09.237Z"
      },
      {
        "duration": 307,
        "start_time": "2025-04-17T21:01:27.899Z"
      },
      {
        "duration": 13,
        "start_time": "2025-04-17T21:07:43.006Z"
      },
      {
        "duration": 2,
        "start_time": "2025-04-17T21:20:58.273Z"
      },
      {
        "duration": 3,
        "start_time": "2025-04-17T21:28:41.411Z"
      },
      {
        "duration": 7,
        "start_time": "2025-04-17T21:31:09.596Z"
      },
      {
        "duration": 8,
        "start_time": "2025-04-17T21:31:21.453Z"
      },
      {
        "duration": 671,
        "start_time": "2025-04-17T21:31:47.872Z"
      },
      {
        "duration": 43,
        "start_time": "2025-04-17T21:32:44.212Z"
      },
      {
        "duration": 4,
        "start_time": "2025-04-17T21:35:57.329Z"
      },
      {
        "duration": 3,
        "start_time": "2025-04-17T21:36:22.901Z"
      },
      {
        "duration": 4,
        "start_time": "2025-04-17T21:36:28.402Z"
      },
      {
        "duration": 4,
        "start_time": "2025-04-17T21:37:34.800Z"
      },
      {
        "duration": 4,
        "start_time": "2025-04-17T21:40:05.592Z"
      },
      {
        "duration": 4,
        "start_time": "2025-04-17T21:40:15.348Z"
      },
      {
        "duration": 3,
        "start_time": "2025-04-17T21:40:33.929Z"
      },
      {
        "duration": 4,
        "start_time": "2025-04-17T21:40:52.403Z"
      },
      {
        "duration": 6,
        "start_time": "2025-04-17T21:41:09.657Z"
      },
      {
        "duration": 22,
        "start_time": "2025-04-17T21:42:19.718Z"
      },
      {
        "duration": 362333,
        "start_time": "2025-04-17T21:42:25.871Z"
      },
      {
        "duration": 7772,
        "start_time": "2025-04-17T21:48:54.373Z"
      },
      {
        "duration": 58104,
        "start_time": "2025-04-17T21:49:07.458Z"
      },
      {
        "duration": 64,
        "start_time": "2025-04-17T21:50:14.084Z"
      },
      {
        "duration": 681,
        "start_time": "2025-04-17T21:50:55.291Z"
      },
      {
        "duration": 65,
        "start_time": "2025-04-17T21:50:59.109Z"
      },
      {
        "duration": 41,
        "start_time": "2025-04-17T21:51:22.678Z"
      },
      {
        "duration": 67,
        "start_time": "2025-04-17T21:52:13.848Z"
      },
      {
        "duration": 5,
        "start_time": "2025-04-17T21:58:18.702Z"
      },
      {
        "duration": 3,
        "start_time": "2025-04-17T21:58:23.806Z"
      },
      {
        "duration": 4,
        "start_time": "2025-04-17T21:59:55.001Z"
      },
      {
        "duration": 20743,
        "start_time": "2025-04-17T22:00:47.528Z"
      },
      {
        "duration": 74332,
        "start_time": "2025-04-17T22:02:59.704Z"
      },
      {
        "duration": 5400,
        "start_time": "2025-04-17T22:06:06.541Z"
      },
      {
        "duration": 290,
        "start_time": "2025-04-17T22:06:25.634Z"
      },
      {
        "duration": 5460,
        "start_time": "2025-04-17T22:07:01.070Z"
      },
      {
        "duration": 11,
        "start_time": "2025-04-17T22:07:47.599Z"
      },
      {
        "duration": 46,
        "start_time": "2025-04-17T22:08:29.994Z"
      },
      {
        "duration": 10,
        "start_time": "2025-04-17T22:08:31.067Z"
      },
      {
        "duration": 5274,
        "start_time": "2025-04-17T22:08:50.265Z"
      },
      {
        "duration": 11,
        "start_time": "2025-04-17T22:09:01.606Z"
      },
      {
        "duration": 12160,
        "start_time": "2025-04-17T22:09:21.550Z"
      },
      {
        "duration": 11,
        "start_time": "2025-04-17T22:09:33.725Z"
      },
      {
        "duration": 36,
        "start_time": "2025-04-17T22:09:45.947Z"
      },
      {
        "duration": 12,
        "start_time": "2025-04-17T22:09:47.835Z"
      },
      {
        "duration": 142,
        "start_time": "2025-04-17T22:11:11.993Z"
      },
      {
        "duration": 2222,
        "start_time": "2025-04-17T22:12:07.833Z"
      },
      {
        "duration": 11,
        "start_time": "2025-04-17T22:12:31.403Z"
      },
      {
        "duration": 11,
        "start_time": "2025-04-17T22:16:02.359Z"
      },
      {
        "duration": 18,
        "start_time": "2025-04-17T22:18:00.955Z"
      },
      {
        "duration": 17,
        "start_time": "2025-04-17T22:18:13.909Z"
      },
      {
        "duration": 7,
        "start_time": "2025-04-17T22:18:29.377Z"
      },
      {
        "duration": 58331,
        "start_time": "2025-04-17T22:18:31.507Z"
      },
      {
        "duration": 65,
        "start_time": "2025-04-17T22:19:29.841Z"
      },
      {
        "duration": 25,
        "start_time": "2025-04-17T22:19:57.221Z"
      },
      {
        "duration": 11,
        "start_time": "2025-04-17T22:19:57.807Z"
      },
      {
        "duration": 2234,
        "start_time": "2025-04-17T22:20:02.112Z"
      },
      {
        "duration": 9,
        "start_time": "2025-04-17T22:20:04.348Z"
      },
      {
        "duration": 2668,
        "start_time": "2025-04-20T23:38:14.893Z"
      },
      {
        "duration": 57,
        "start_time": "2025-04-20T23:38:17.563Z"
      },
      {
        "duration": 18,
        "start_time": "2025-04-20T23:38:17.621Z"
      },
      {
        "duration": 7,
        "start_time": "2025-04-20T23:38:17.642Z"
      },
      {
        "duration": 7,
        "start_time": "2025-04-20T23:38:17.650Z"
      },
      {
        "duration": 11,
        "start_time": "2025-04-20T23:38:17.659Z"
      },
      {
        "duration": 33,
        "start_time": "2025-04-20T23:38:17.672Z"
      },
      {
        "duration": 10,
        "start_time": "2025-04-20T23:38:17.707Z"
      },
      {
        "duration": 8,
        "start_time": "2025-04-20T23:38:17.719Z"
      },
      {
        "duration": 3,
        "start_time": "2025-04-20T23:38:17.730Z"
      },
      {
        "duration": 13,
        "start_time": "2025-04-20T23:38:17.734Z"
      },
      {
        "duration": 13,
        "start_time": "2025-04-20T23:38:17.749Z"
      },
      {
        "duration": 42,
        "start_time": "2025-04-20T23:38:17.763Z"
      },
      {
        "duration": 10,
        "start_time": "2025-04-20T23:38:17.807Z"
      },
      {
        "duration": 7,
        "start_time": "2025-04-20T23:38:17.819Z"
      },
      {
        "duration": 12,
        "start_time": "2025-04-20T23:38:17.827Z"
      },
      {
        "duration": 14,
        "start_time": "2025-04-20T23:38:17.840Z"
      },
      {
        "duration": 13,
        "start_time": "2025-04-20T23:38:17.855Z"
      },
      {
        "duration": 39,
        "start_time": "2025-04-20T23:38:17.870Z"
      },
      {
        "duration": 10,
        "start_time": "2025-04-20T23:38:17.911Z"
      },
      {
        "duration": 8,
        "start_time": "2025-04-20T23:38:17.922Z"
      },
      {
        "duration": 6,
        "start_time": "2025-04-20T23:38:17.933Z"
      },
      {
        "duration": 18,
        "start_time": "2025-04-20T23:38:17.941Z"
      },
      {
        "duration": 126,
        "start_time": "2025-04-20T23:38:17.960Z"
      },
      {
        "duration": 187,
        "start_time": "2025-04-20T23:38:18.088Z"
      },
      {
        "duration": 100,
        "start_time": "2025-04-20T23:38:18.277Z"
      },
      {
        "duration": 318,
        "start_time": "2025-04-20T23:38:18.379Z"
      },
      {
        "duration": 11,
        "start_time": "2025-04-20T23:38:18.706Z"
      },
      {
        "duration": 5,
        "start_time": "2025-04-20T23:38:18.719Z"
      },
      {
        "duration": 7,
        "start_time": "2025-04-20T23:38:18.725Z"
      },
      {
        "duration": 8,
        "start_time": "2025-04-20T23:38:18.734Z"
      },
      {
        "duration": 7,
        "start_time": "2025-04-20T23:38:18.743Z"
      },
      {
        "duration": 14,
        "start_time": "2025-04-20T23:38:18.752Z"
      },
      {
        "duration": 47,
        "start_time": "2025-04-20T23:38:18.768Z"
      },
      {
        "duration": 21,
        "start_time": "2025-04-20T23:38:18.817Z"
      },
      {
        "duration": 3,
        "start_time": "2025-04-20T23:38:18.841Z"
      },
      {
        "duration": 15,
        "start_time": "2025-04-20T23:38:18.846Z"
      },
      {
        "duration": 12,
        "start_time": "2025-04-20T23:38:18.862Z"
      },
      {
        "duration": 31,
        "start_time": "2025-04-20T23:38:18.875Z"
      },
      {
        "duration": 12,
        "start_time": "2025-04-20T23:38:18.908Z"
      },
      {
        "duration": 2,
        "start_time": "2025-04-20T23:38:18.921Z"
      },
      {
        "duration": 249,
        "start_time": "2025-04-20T23:38:18.924Z"
      },
      {
        "duration": 0,
        "start_time": "2025-04-20T23:38:19.175Z"
      },
      {
        "duration": 0,
        "start_time": "2025-04-20T23:38:19.176Z"
      },
      {
        "duration": 0,
        "start_time": "2025-04-20T23:38:19.177Z"
      },
      {
        "duration": 0,
        "start_time": "2025-04-20T23:38:19.178Z"
      },
      {
        "duration": 0,
        "start_time": "2025-04-20T23:38:19.180Z"
      },
      {
        "duration": 0,
        "start_time": "2025-04-20T23:38:19.181Z"
      },
      {
        "duration": 0,
        "start_time": "2025-04-20T23:38:19.182Z"
      },
      {
        "duration": 0,
        "start_time": "2025-04-20T23:38:19.183Z"
      },
      {
        "duration": 1009,
        "start_time": "2025-04-20T23:38:32.548Z"
      },
      {
        "duration": 31,
        "start_time": "2025-04-20T23:38:33.560Z"
      },
      {
        "duration": 25,
        "start_time": "2025-04-20T23:38:33.593Z"
      },
      {
        "duration": 6,
        "start_time": "2025-04-20T23:38:33.620Z"
      },
      {
        "duration": 7,
        "start_time": "2025-04-20T23:38:33.629Z"
      },
      {
        "duration": 15,
        "start_time": "2025-04-20T23:38:33.638Z"
      },
      {
        "duration": 12,
        "start_time": "2025-04-20T23:38:33.654Z"
      },
      {
        "duration": 41,
        "start_time": "2025-04-20T23:38:33.668Z"
      },
      {
        "duration": 8,
        "start_time": "2025-04-20T23:38:33.711Z"
      },
      {
        "duration": 3,
        "start_time": "2025-04-20T23:38:33.721Z"
      },
      {
        "duration": 13,
        "start_time": "2025-04-20T23:38:33.726Z"
      },
      {
        "duration": 12,
        "start_time": "2025-04-20T23:38:33.741Z"
      },
      {
        "duration": 3,
        "start_time": "2025-04-20T23:38:33.755Z"
      },
      {
        "duration": 45,
        "start_time": "2025-04-20T23:38:33.762Z"
      },
      {
        "duration": 7,
        "start_time": "2025-04-20T23:38:33.809Z"
      },
      {
        "duration": 9,
        "start_time": "2025-04-20T23:38:33.819Z"
      },
      {
        "duration": 14,
        "start_time": "2025-04-20T23:38:33.830Z"
      },
      {
        "duration": 12,
        "start_time": "2025-04-20T23:38:33.846Z"
      },
      {
        "duration": 5,
        "start_time": "2025-04-20T23:38:33.860Z"
      },
      {
        "duration": 49,
        "start_time": "2025-04-20T23:38:33.866Z"
      },
      {
        "duration": 8,
        "start_time": "2025-04-20T23:38:33.917Z"
      },
      {
        "duration": 6,
        "start_time": "2025-04-20T23:38:33.927Z"
      },
      {
        "duration": 20,
        "start_time": "2025-04-20T23:38:33.935Z"
      },
      {
        "duration": 126,
        "start_time": "2025-04-20T23:38:33.956Z"
      },
      {
        "duration": 165,
        "start_time": "2025-04-20T23:38:34.083Z"
      },
      {
        "duration": 113,
        "start_time": "2025-04-20T23:38:34.250Z"
      },
      {
        "duration": 305,
        "start_time": "2025-04-20T23:38:34.366Z"
      },
      {
        "duration": 9,
        "start_time": "2025-04-20T23:38:34.672Z"
      },
      {
        "duration": 5,
        "start_time": "2025-04-20T23:38:34.683Z"
      },
      {
        "duration": 9,
        "start_time": "2025-04-20T23:38:34.706Z"
      },
      {
        "duration": 8,
        "start_time": "2025-04-20T23:38:34.716Z"
      },
      {
        "duration": 8,
        "start_time": "2025-04-20T23:38:34.726Z"
      },
      {
        "duration": 15,
        "start_time": "2025-04-20T23:38:34.735Z"
      },
      {
        "duration": 16,
        "start_time": "2025-04-20T23:38:34.751Z"
      },
      {
        "duration": 48,
        "start_time": "2025-04-20T23:38:34.768Z"
      },
      {
        "duration": 4,
        "start_time": "2025-04-20T23:38:34.818Z"
      },
      {
        "duration": 16,
        "start_time": "2025-04-20T23:38:34.823Z"
      },
      {
        "duration": 12,
        "start_time": "2025-04-20T23:38:34.840Z"
      },
      {
        "duration": 3,
        "start_time": "2025-04-20T23:38:34.853Z"
      },
      {
        "duration": 9,
        "start_time": "2025-04-20T23:38:34.858Z"
      },
      {
        "duration": 3940,
        "start_time": "2025-04-20T23:38:34.872Z"
      },
      {
        "duration": 263,
        "start_time": "2025-04-20T23:38:38.814Z"
      },
      {
        "duration": 0,
        "start_time": "2025-04-20T23:38:39.079Z"
      },
      {
        "duration": 0,
        "start_time": "2025-04-20T23:38:39.080Z"
      },
      {
        "duration": 0,
        "start_time": "2025-04-20T23:38:39.082Z"
      },
      {
        "duration": 0,
        "start_time": "2025-04-20T23:38:39.083Z"
      },
      {
        "duration": 0,
        "start_time": "2025-04-20T23:38:39.084Z"
      },
      {
        "duration": 0,
        "start_time": "2025-04-20T23:38:39.085Z"
      },
      {
        "duration": 0,
        "start_time": "2025-04-20T23:38:39.087Z"
      },
      {
        "duration": 0,
        "start_time": "2025-04-20T23:38:39.088Z"
      },
      {
        "duration": 1351,
        "start_time": "2025-04-20T23:38:47.814Z"
      },
      {
        "duration": 68,
        "start_time": "2025-04-20T23:38:49.168Z"
      },
      {
        "duration": 18,
        "start_time": "2025-04-20T23:38:49.238Z"
      },
      {
        "duration": 7,
        "start_time": "2025-04-20T23:38:49.258Z"
      },
      {
        "duration": 7,
        "start_time": "2025-04-20T23:38:49.268Z"
      },
      {
        "duration": 30,
        "start_time": "2025-04-20T23:38:49.276Z"
      },
      {
        "duration": 10,
        "start_time": "2025-04-20T23:38:49.308Z"
      },
      {
        "duration": 10,
        "start_time": "2025-04-20T23:38:49.320Z"
      },
      {
        "duration": 8,
        "start_time": "2025-04-20T23:38:49.331Z"
      },
      {
        "duration": 4,
        "start_time": "2025-04-20T23:38:49.340Z"
      },
      {
        "duration": 13,
        "start_time": "2025-04-20T23:38:49.345Z"
      },
      {
        "duration": 12,
        "start_time": "2025-04-20T23:38:49.360Z"
      },
      {
        "duration": 36,
        "start_time": "2025-04-20T23:38:49.373Z"
      },
      {
        "duration": 10,
        "start_time": "2025-04-20T23:38:49.414Z"
      },
      {
        "duration": 7,
        "start_time": "2025-04-20T23:38:49.426Z"
      },
      {
        "duration": 11,
        "start_time": "2025-04-20T23:38:49.434Z"
      },
      {
        "duration": 14,
        "start_time": "2025-04-20T23:38:49.446Z"
      },
      {
        "duration": 48,
        "start_time": "2025-04-20T23:38:49.462Z"
      },
      {
        "duration": 7,
        "start_time": "2025-04-20T23:38:49.512Z"
      },
      {
        "duration": 11,
        "start_time": "2025-04-20T23:38:49.520Z"
      },
      {
        "duration": 9,
        "start_time": "2025-04-20T23:38:49.532Z"
      },
      {
        "duration": 7,
        "start_time": "2025-04-20T23:38:49.542Z"
      },
      {
        "duration": 18,
        "start_time": "2025-04-20T23:38:49.550Z"
      },
      {
        "duration": 138,
        "start_time": "2025-04-20T23:38:49.569Z"
      },
      {
        "duration": 139,
        "start_time": "2025-04-20T23:38:49.709Z"
      },
      {
        "duration": 101,
        "start_time": "2025-04-20T23:38:49.850Z"
      },
      {
        "duration": 266,
        "start_time": "2025-04-20T23:38:49.953Z"
      },
      {
        "duration": 9,
        "start_time": "2025-04-20T23:38:50.221Z"
      },
      {
        "duration": 4,
        "start_time": "2025-04-20T23:38:50.232Z"
      },
      {
        "duration": 8,
        "start_time": "2025-04-20T23:38:50.237Z"
      },
      {
        "duration": 7,
        "start_time": "2025-04-20T23:38:50.247Z"
      },
      {
        "duration": 8,
        "start_time": "2025-04-20T23:38:50.255Z"
      },
      {
        "duration": 43,
        "start_time": "2025-04-20T23:38:50.264Z"
      },
      {
        "duration": 19,
        "start_time": "2025-04-20T23:38:50.309Z"
      },
      {
        "duration": 16,
        "start_time": "2025-04-20T23:38:50.329Z"
      },
      {
        "duration": 3,
        "start_time": "2025-04-20T23:38:50.347Z"
      },
      {
        "duration": 16,
        "start_time": "2025-04-20T23:38:50.351Z"
      },
      {
        "duration": 43,
        "start_time": "2025-04-20T23:38:50.368Z"
      },
      {
        "duration": 3,
        "start_time": "2025-04-20T23:38:50.413Z"
      },
      {
        "duration": 10,
        "start_time": "2025-04-20T23:38:50.418Z"
      },
      {
        "duration": 1899,
        "start_time": "2025-04-20T23:38:50.431Z"
      },
      {
        "duration": 273,
        "start_time": "2025-04-20T23:38:52.332Z"
      },
      {
        "duration": 20,
        "start_time": "2025-04-20T23:38:52.608Z"
      },
      {
        "duration": 11,
        "start_time": "2025-04-20T23:38:52.629Z"
      },
      {
        "duration": 58511,
        "start_time": "2025-04-20T23:38:52.641Z"
      },
      {
        "duration": 73,
        "start_time": "2025-04-20T23:39:51.154Z"
      },
      {
        "duration": 31,
        "start_time": "2025-04-20T23:39:51.229Z"
      },
      {
        "duration": 56,
        "start_time": "2025-04-20T23:39:51.263Z"
      },
      {
        "duration": 80695,
        "start_time": "2025-04-20T23:39:51.321Z"
      },
      {
        "duration": 12,
        "start_time": "2025-04-20T23:41:12.017Z"
      },
      {
        "duration": 391,
        "start_time": "2025-04-20T23:41:55.114Z"
      },
      {
        "duration": 3,
        "start_time": "2025-04-20T23:42:23.196Z"
      },
      {
        "duration": 17,
        "start_time": "2025-04-20T23:42:30.586Z"
      },
      {
        "duration": 254,
        "start_time": "2025-04-20T23:42:40.838Z"
      },
      {
        "duration": 134,
        "start_time": "2025-04-20T23:43:11.239Z"
      },
      {
        "duration": 164,
        "start_time": "2025-04-20T23:43:15.479Z"
      },
      {
        "duration": 161,
        "start_time": "2025-04-20T23:45:55.628Z"
      },
      {
        "duration": 252,
        "start_time": "2025-04-20T23:47:25.932Z"
      },
      {
        "duration": 138,
        "start_time": "2025-04-20T23:48:38.458Z"
      }
    ],
    "kernelspec": {
      "display_name": "Python 3 (ipykernel)",
      "language": "python",
      "name": "python3"
    },
    "language_info": {
      "codemirror_mode": {
        "name": "ipython",
        "version": 3
      },
      "file_extension": ".py",
      "mimetype": "text/x-python",
      "name": "python",
      "nbconvert_exporter": "python",
      "pygments_lexer": "ipython3",
      "version": "3.9.19"
    },
    "toc": {
      "base_numbering": 1,
      "nav_menu": {},
      "number_sections": true,
      "sideBar": true,
      "skip_h1_title": true,
      "title_cell": "Table of Contents",
      "title_sidebar": "Contents",
      "toc_cell": false,
      "toc_position": {},
      "toc_section_display": true,
      "toc_window_display": false
    },
    "colab": {
      "provenance": []
    }
  },
  "nbformat": 4,
  "nbformat_minor": 0
}