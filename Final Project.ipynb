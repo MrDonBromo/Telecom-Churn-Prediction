{
  "cells": [
    {
      "cell_type": "markdown",
      "metadata": {
        "id": "view-in-github",
        "colab_type": "text"
      },
      "source": [
        "<a href=\"https://colab.research.google.com/github/MrDonBromo/TripleTenDS-Final-Project/blob/main/proyecto_final_ds_tripleten.ipynb\" target=\"_parent\"><img src=\"https://colab.research.google.com/assets/colab-badge.svg\" alt=\"Open In Colab\"/></a>"
      ]
    },
    {
      "cell_type": "markdown",
      "metadata": {
        "id": "Qf_1B8nrrQ2l"
      },
      "source": [
        "# Predicción de la Tasa de Abandono en Telecomunicaciones: Caso Interconnect\n",
        "\n",
        "Al operador de telecomunicaciones Interconnect le gustaría poder pronosticar su tasa de cancelación de clientes. Si se descubre que un usuario o usuaria planea irse, se le ofrecerán códigos promocionales y opciones de planes especiales. El equipo de marketing de Interconnect ha recopilado algunos de los datos personales de sus clientes, incluyendo información sobre sus planes y contratos.\n",
        "\n",
        "**Servicios de Interconnect**\n",
        "\n",
        "Interconnect proporciona principalmente dos tipos de servicios:\n",
        "\n",
        "1. Comunicación por teléfono fijo. El teléfono se puede conectar a varias líneas de manera simultánea.\n",
        "2. Internet. La red se puede configurar a través de una línea telefónica (DSL, *línea de abonado digital*) o a través de un cable de fibra óptica.\n",
        "\n",
        "Algunos otros servicios que ofrece la empresa incluyen:\n",
        "\n",
        "- Seguridad en Internet: software antivirus (*ProtecciónDeDispositivo*) y un bloqueador de sitios web maliciosos (*SeguridadEnLínea*).\n",
        "- Una línea de soporte técnico (*SoporteTécnico*).\n",
        "- Almacenamiento de archivos en la nube y backup de datos (*BackupOnline*).\n",
        "- Streaming de TV (*StreamingTV*) y directorio de películas (*StreamingPelículas*)\n",
        "\n",
        "La clientela puede elegir entre un pago mensual o firmar un contrato de 1 o 2 años. Puede utilizar varios métodos de pago y recibir una factura electrónica después de una transacción.\n",
        "\n",
        "**Descripción de los datos**\n",
        "\n",
        "Los datos consisten en archivos obtenidos de diferentes fuentes:\n",
        "\n",
        "- `contract.csv` — información del contrato;\n",
        "- `personal.csv` — datos personales del cliente;\n",
        "- `internet.csv` — información sobre los servicios de Internet;\n",
        "- `phone.csv` — información sobre los servicios telefónicos.\n",
        "\n",
        "En cada archivo, la columna `customerID` (ID de cliente) contiene un código único asignado a cada cliente. La información del contrato es válida a partir del 1 de febrero de 2020."
      ]
    },
    {
      "cell_type": "markdown",
      "metadata": {
        "id": "X0uV-aH9rQ2l"
      },
      "source": [
        "## Análisis Exploratorio y Limpieza\n",
        "\n",
        "Vamos a hacer un poco de análisis exploratorio de los datos para familiarizarnos un poco con la estructura de los mismos y ver a qué nos vamos a enfrentar."
      ]
    },
    {
      "cell_type": "code",
      "execution_count": null,
      "metadata": {
        "id": "T7NAb7OorQ2m"
      },
      "outputs": [],
      "source": [
        "import pandas as pd\n",
        "import seaborn as sns\n",
        "import matplotlib.pyplot as plt\n",
        "import numpy as np\n",
        "\n",
        "\n",
        "from sklearn.model_selection import train_test_split\n",
        "from sklearn.ensemble import RandomForestClassifier\n",
        "from sklearn.linear_model import LogisticRegression\n",
        "from sklearn.metrics import classification_report, roc_curve, auc\n",
        "from sklearn.model_selection import GridSearchCV\n",
        "\n",
        "from xgboost import XGBClassifier"
      ]
    },
    {
      "cell_type": "code",
      "execution_count": null,
      "metadata": {
        "id": "ZVCloviCrQ2m"
      },
      "outputs": [],
      "source": [
        "contract_data = pd.read_csv('/datasets/final_provider/contract.csv')\n",
        "personal_data = pd.read_csv('/datasets/final_provider/personal.csv')\n",
        "internet_data = pd.read_csv('/datasets/final_provider/internet.csv')\n",
        "phone_data = pd.read_csv('/datasets/final_provider/phone.csv')"
      ]
    },
    {
      "cell_type": "markdown",
      "metadata": {
        "id": "kWTG4OavrQ2m"
      },
      "source": [
        "### Contract Data"
      ]
    },
    {
      "cell_type": "code",
      "execution_count": null,
      "metadata": {
        "scrolled": false,
        "id": "TyKsWMJ3rQ2m",
        "outputId": "f3f45ca7-8e55-446e-cbe8-27df6bd24971"
      },
      "outputs": [
        {
          "name": "stdout",
          "output_type": "stream",
          "text": [
            "<class 'pandas.core.frame.DataFrame'>\n",
            "RangeIndex: 7043 entries, 0 to 7042\n",
            "Data columns (total 8 columns):\n",
            " #   Column            Non-Null Count  Dtype  \n",
            "---  ------            --------------  -----  \n",
            " 0   customerID        7043 non-null   object \n",
            " 1   BeginDate         7043 non-null   object \n",
            " 2   EndDate           7043 non-null   object \n",
            " 3   Type              7043 non-null   object \n",
            " 4   PaperlessBilling  7043 non-null   object \n",
            " 5   PaymentMethod     7043 non-null   object \n",
            " 6   MonthlyCharges    7043 non-null   float64\n",
            " 7   TotalCharges      7043 non-null   object \n",
            "dtypes: float64(1), object(7)\n",
            "memory usage: 440.3+ KB\n"
          ]
        },
        {
          "data": {
            "text/html": [
              "<div>\n",
              "<style scoped>\n",
              "    .dataframe tbody tr th:only-of-type {\n",
              "        vertical-align: middle;\n",
              "    }\n",
              "\n",
              "    .dataframe tbody tr th {\n",
              "        vertical-align: top;\n",
              "    }\n",
              "\n",
              "    .dataframe thead th {\n",
              "        text-align: right;\n",
              "    }\n",
              "</style>\n",
              "<table border=\"1\" class=\"dataframe\">\n",
              "  <thead>\n",
              "    <tr style=\"text-align: right;\">\n",
              "      <th></th>\n",
              "      <th>customerID</th>\n",
              "      <th>BeginDate</th>\n",
              "      <th>EndDate</th>\n",
              "      <th>Type</th>\n",
              "      <th>PaperlessBilling</th>\n",
              "      <th>PaymentMethod</th>\n",
              "      <th>MonthlyCharges</th>\n",
              "      <th>TotalCharges</th>\n",
              "    </tr>\n",
              "  </thead>\n",
              "  <tbody>\n",
              "    <tr>\n",
              "      <th>0</th>\n",
              "      <td>7590-VHVEG</td>\n",
              "      <td>2020-01-01</td>\n",
              "      <td>No</td>\n",
              "      <td>Month-to-month</td>\n",
              "      <td>Yes</td>\n",
              "      <td>Electronic check</td>\n",
              "      <td>29.85</td>\n",
              "      <td>29.85</td>\n",
              "    </tr>\n",
              "    <tr>\n",
              "      <th>1</th>\n",
              "      <td>5575-GNVDE</td>\n",
              "      <td>2017-04-01</td>\n",
              "      <td>No</td>\n",
              "      <td>One year</td>\n",
              "      <td>No</td>\n",
              "      <td>Mailed check</td>\n",
              "      <td>56.95</td>\n",
              "      <td>1889.5</td>\n",
              "    </tr>\n",
              "    <tr>\n",
              "      <th>2</th>\n",
              "      <td>3668-QPYBK</td>\n",
              "      <td>2019-10-01</td>\n",
              "      <td>2019-12-01 00:00:00</td>\n",
              "      <td>Month-to-month</td>\n",
              "      <td>Yes</td>\n",
              "      <td>Mailed check</td>\n",
              "      <td>53.85</td>\n",
              "      <td>108.15</td>\n",
              "    </tr>\n",
              "    <tr>\n",
              "      <th>3</th>\n",
              "      <td>7795-CFOCW</td>\n",
              "      <td>2016-05-01</td>\n",
              "      <td>No</td>\n",
              "      <td>One year</td>\n",
              "      <td>No</td>\n",
              "      <td>Bank transfer (automatic)</td>\n",
              "      <td>42.30</td>\n",
              "      <td>1840.75</td>\n",
              "    </tr>\n",
              "    <tr>\n",
              "      <th>4</th>\n",
              "      <td>9237-HQITU</td>\n",
              "      <td>2019-09-01</td>\n",
              "      <td>2019-11-01 00:00:00</td>\n",
              "      <td>Month-to-month</td>\n",
              "      <td>Yes</td>\n",
              "      <td>Electronic check</td>\n",
              "      <td>70.70</td>\n",
              "      <td>151.65</td>\n",
              "    </tr>\n",
              "  </tbody>\n",
              "</table>\n",
              "</div>"
            ],
            "text/plain": [
              "   customerID   BeginDate              EndDate            Type  \\\n",
              "0  7590-VHVEG  2020-01-01                   No  Month-to-month   \n",
              "1  5575-GNVDE  2017-04-01                   No        One year   \n",
              "2  3668-QPYBK  2019-10-01  2019-12-01 00:00:00  Month-to-month   \n",
              "3  7795-CFOCW  2016-05-01                   No        One year   \n",
              "4  9237-HQITU  2019-09-01  2019-11-01 00:00:00  Month-to-month   \n",
              "\n",
              "  PaperlessBilling              PaymentMethod  MonthlyCharges TotalCharges  \n",
              "0              Yes           Electronic check           29.85        29.85  \n",
              "1               No               Mailed check           56.95       1889.5  \n",
              "2              Yes               Mailed check           53.85       108.15  \n",
              "3               No  Bank transfer (automatic)           42.30      1840.75  \n",
              "4              Yes           Electronic check           70.70       151.65  "
            ]
          },
          "execution_count": 3,
          "metadata": {},
          "output_type": "execute_result"
        }
      ],
      "source": [
        "contract_data.info()\n",
        "contract_data.head()"
      ]
    },
    {
      "cell_type": "code",
      "execution_count": null,
      "metadata": {
        "id": "-LaxvTaarQ2m"
      },
      "outputs": [],
      "source": [
        "contract_data['BeginDate'] = pd.to_datetime(contract_data['BeginDate'])\n",
        "contract_data['EndDate'] = pd.to_datetime(contract_data['EndDate'], errors='coerce')"
      ]
    },
    {
      "cell_type": "code",
      "execution_count": null,
      "metadata": {
        "scrolled": false,
        "id": "Is1v1cNUrQ2m",
        "outputId": "0f530732-d266-4686-b913-9f2f09ff5828"
      },
      "outputs": [
        {
          "name": "stdout",
          "output_type": "stream",
          "text": [
            "Contratos sin TotalCharges:\n",
            "       customerID  BeginDate\n",
            "488   4472-LVYGI 2020-02-01\n",
            "753   3115-CZMZD 2020-02-01\n",
            "936   5709-LVOEQ 2020-02-01\n",
            "1082  4367-NUYAO 2020-02-01\n",
            "1340  1371-DWPAZ 2020-02-01\n",
            "3331  7644-OMVMY 2020-02-01\n",
            "3826  3213-VVOLG 2020-02-01\n",
            "4380  2520-SGTTA 2020-02-01\n",
            "5218  2923-ARZLG 2020-02-01\n",
            "6670  4075-WKNIU 2020-02-01\n",
            "6754  2775-SEFEE 2020-02-01\n",
            "\n",
            "Fecha mas reciente en el df: 2020-02-01T00:00:00.000000000\n"
          ]
        }
      ],
      "source": [
        "print('Contratos sin TotalCharges:\\n',contract_data[contract_data['TotalCharges'] == ' '][['customerID','BeginDate']])\n",
        "print('\\nFecha mas reciente en el df:',sorted(contract_data['BeginDate'].unique())[-1])"
      ]
    },
    {
      "cell_type": "code",
      "execution_count": null,
      "metadata": {
        "scrolled": false,
        "id": "5RFdyb7rrQ2n",
        "outputId": "2a624de2-beb6-48c9-ad82-f941e4e01664"
      },
      "outputs": [
        {
          "name": "stdout",
          "output_type": "stream",
          "text": [
            "<class 'pandas.core.frame.DataFrame'>\n",
            "RangeIndex: 7043 entries, 0 to 7042\n",
            "Data columns (total 8 columns):\n",
            " #   Column            Non-Null Count  Dtype         \n",
            "---  ------            --------------  -----         \n",
            " 0   customerID        7043 non-null   object        \n",
            " 1   BeginDate         7043 non-null   datetime64[ns]\n",
            " 2   EndDate           1869 non-null   datetime64[ns]\n",
            " 3   Type              7043 non-null   object        \n",
            " 4   PaperlessBilling  7043 non-null   object        \n",
            " 5   PaymentMethod     7043 non-null   object        \n",
            " 6   MonthlyCharges    7043 non-null   float64       \n",
            " 7   TotalCharges      7043 non-null   float64       \n",
            "dtypes: datetime64[ns](2), float64(2), object(4)\n",
            "memory usage: 440.3+ KB\n",
            "None\n"
          ]
        }
      ],
      "source": [
        "contract_data['TotalCharges'] = pd.to_numeric(contract_data['TotalCharges'],errors='coerce')\n",
        "contract_data['TotalCharges'] = contract_data['TotalCharges'].fillna(0)\n",
        "print(contract_data.info())"
      ]
    },
    {
      "cell_type": "markdown",
      "metadata": {
        "id": "j13I89H6rQ2n"
      },
      "source": [
        "Dejaremos los null de la fecha de terminación así, para después crear una columna calculada de clientes cuyo contrato ha terminado 'Churn'"
      ]
    },
    {
      "cell_type": "code",
      "execution_count": null,
      "metadata": {
        "scrolled": true,
        "id": "iYeodwZorQ2n",
        "outputId": "2a0c9678-e18e-49fc-ffb9-9efd42e72dca"
      },
      "outputs": [
        {
          "data": {
            "text/html": [
              "<div>\n",
              "<style scoped>\n",
              "    .dataframe tbody tr th:only-of-type {\n",
              "        vertical-align: middle;\n",
              "    }\n",
              "\n",
              "    .dataframe tbody tr th {\n",
              "        vertical-align: top;\n",
              "    }\n",
              "\n",
              "    .dataframe thead th {\n",
              "        text-align: right;\n",
              "    }\n",
              "</style>\n",
              "<table border=\"1\" class=\"dataframe\">\n",
              "  <thead>\n",
              "    <tr style=\"text-align: right;\">\n",
              "      <th></th>\n",
              "      <th>customerID</th>\n",
              "      <th>BeginDate</th>\n",
              "      <th>EndDate</th>\n",
              "      <th>Type</th>\n",
              "      <th>PaperlessBilling</th>\n",
              "      <th>PaymentMethod</th>\n",
              "      <th>MonthlyCharges</th>\n",
              "      <th>TotalCharges</th>\n",
              "      <th>Churn</th>\n",
              "    </tr>\n",
              "  </thead>\n",
              "  <tbody>\n",
              "    <tr>\n",
              "      <th>0</th>\n",
              "      <td>7590-VHVEG</td>\n",
              "      <td>2020-01-01</td>\n",
              "      <td>NaT</td>\n",
              "      <td>Month-to-month</td>\n",
              "      <td>Yes</td>\n",
              "      <td>Electronic check</td>\n",
              "      <td>29.85</td>\n",
              "      <td>29.85</td>\n",
              "      <td>0</td>\n",
              "    </tr>\n",
              "    <tr>\n",
              "      <th>1</th>\n",
              "      <td>5575-GNVDE</td>\n",
              "      <td>2017-04-01</td>\n",
              "      <td>NaT</td>\n",
              "      <td>One year</td>\n",
              "      <td>No</td>\n",
              "      <td>Mailed check</td>\n",
              "      <td>56.95</td>\n",
              "      <td>1889.50</td>\n",
              "      <td>0</td>\n",
              "    </tr>\n",
              "    <tr>\n",
              "      <th>2</th>\n",
              "      <td>3668-QPYBK</td>\n",
              "      <td>2019-10-01</td>\n",
              "      <td>2019-12-01</td>\n",
              "      <td>Month-to-month</td>\n",
              "      <td>Yes</td>\n",
              "      <td>Mailed check</td>\n",
              "      <td>53.85</td>\n",
              "      <td>108.15</td>\n",
              "      <td>1</td>\n",
              "    </tr>\n",
              "    <tr>\n",
              "      <th>3</th>\n",
              "      <td>7795-CFOCW</td>\n",
              "      <td>2016-05-01</td>\n",
              "      <td>NaT</td>\n",
              "      <td>One year</td>\n",
              "      <td>No</td>\n",
              "      <td>Bank transfer (automatic)</td>\n",
              "      <td>42.30</td>\n",
              "      <td>1840.75</td>\n",
              "      <td>0</td>\n",
              "    </tr>\n",
              "    <tr>\n",
              "      <th>4</th>\n",
              "      <td>9237-HQITU</td>\n",
              "      <td>2019-09-01</td>\n",
              "      <td>2019-11-01</td>\n",
              "      <td>Month-to-month</td>\n",
              "      <td>Yes</td>\n",
              "      <td>Electronic check</td>\n",
              "      <td>70.70</td>\n",
              "      <td>151.65</td>\n",
              "      <td>1</td>\n",
              "    </tr>\n",
              "  </tbody>\n",
              "</table>\n",
              "</div>"
            ],
            "text/plain": [
              "   customerID  BeginDate    EndDate            Type PaperlessBilling  \\\n",
              "0  7590-VHVEG 2020-01-01        NaT  Month-to-month              Yes   \n",
              "1  5575-GNVDE 2017-04-01        NaT        One year               No   \n",
              "2  3668-QPYBK 2019-10-01 2019-12-01  Month-to-month              Yes   \n",
              "3  7795-CFOCW 2016-05-01        NaT        One year               No   \n",
              "4  9237-HQITU 2019-09-01 2019-11-01  Month-to-month              Yes   \n",
              "\n",
              "               PaymentMethod  MonthlyCharges  TotalCharges  Churn  \n",
              "0           Electronic check           29.85         29.85      0  \n",
              "1               Mailed check           56.95       1889.50      0  \n",
              "2               Mailed check           53.85        108.15      1  \n",
              "3  Bank transfer (automatic)           42.30       1840.75      0  \n",
              "4           Electronic check           70.70        151.65      1  "
            ]
          },
          "metadata": {},
          "output_type": "display_data"
        }
      ],
      "source": [
        "contract_data['Churn'] = np.where(contract_data['EndDate'].isna(), 0, 1)\n",
        "display(contract_data.head())"
      ]
    },
    {
      "cell_type": "markdown",
      "metadata": {
        "id": "FMwE1DixrQ2n"
      },
      "source": [
        "Vamos a cambiar la columna PaperlessBilling a 1 y 0, lo cual nos servirá después para el procesamiento del modelo."
      ]
    },
    {
      "cell_type": "code",
      "execution_count": null,
      "metadata": {
        "id": "QRHo3UjWrQ2n",
        "outputId": "3afe43d7-73dd-42a7-8a97-01e694bc3898"
      },
      "outputs": [
        {
          "data": {
            "text/html": [
              "<div>\n",
              "<style scoped>\n",
              "    .dataframe tbody tr th:only-of-type {\n",
              "        vertical-align: middle;\n",
              "    }\n",
              "\n",
              "    .dataframe tbody tr th {\n",
              "        vertical-align: top;\n",
              "    }\n",
              "\n",
              "    .dataframe thead th {\n",
              "        text-align: right;\n",
              "    }\n",
              "</style>\n",
              "<table border=\"1\" class=\"dataframe\">\n",
              "  <thead>\n",
              "    <tr style=\"text-align: right;\">\n",
              "      <th></th>\n",
              "      <th>customerID</th>\n",
              "      <th>BeginDate</th>\n",
              "      <th>EndDate</th>\n",
              "      <th>Type</th>\n",
              "      <th>PaperlessBilling</th>\n",
              "      <th>PaymentMethod</th>\n",
              "      <th>MonthlyCharges</th>\n",
              "      <th>TotalCharges</th>\n",
              "      <th>Churn</th>\n",
              "    </tr>\n",
              "  </thead>\n",
              "  <tbody>\n",
              "    <tr>\n",
              "      <th>0</th>\n",
              "      <td>7590-VHVEG</td>\n",
              "      <td>2020-01-01</td>\n",
              "      <td>NaT</td>\n",
              "      <td>Month-to-month</td>\n",
              "      <td>1</td>\n",
              "      <td>Electronic check</td>\n",
              "      <td>29.85</td>\n",
              "      <td>29.85</td>\n",
              "      <td>0</td>\n",
              "    </tr>\n",
              "    <tr>\n",
              "      <th>1</th>\n",
              "      <td>5575-GNVDE</td>\n",
              "      <td>2017-04-01</td>\n",
              "      <td>NaT</td>\n",
              "      <td>One year</td>\n",
              "      <td>0</td>\n",
              "      <td>Mailed check</td>\n",
              "      <td>56.95</td>\n",
              "      <td>1889.50</td>\n",
              "      <td>0</td>\n",
              "    </tr>\n",
              "    <tr>\n",
              "      <th>2</th>\n",
              "      <td>3668-QPYBK</td>\n",
              "      <td>2019-10-01</td>\n",
              "      <td>2019-12-01</td>\n",
              "      <td>Month-to-month</td>\n",
              "      <td>1</td>\n",
              "      <td>Mailed check</td>\n",
              "      <td>53.85</td>\n",
              "      <td>108.15</td>\n",
              "      <td>1</td>\n",
              "    </tr>\n",
              "    <tr>\n",
              "      <th>3</th>\n",
              "      <td>7795-CFOCW</td>\n",
              "      <td>2016-05-01</td>\n",
              "      <td>NaT</td>\n",
              "      <td>One year</td>\n",
              "      <td>0</td>\n",
              "      <td>Bank transfer (automatic)</td>\n",
              "      <td>42.30</td>\n",
              "      <td>1840.75</td>\n",
              "      <td>0</td>\n",
              "    </tr>\n",
              "    <tr>\n",
              "      <th>4</th>\n",
              "      <td>9237-HQITU</td>\n",
              "      <td>2019-09-01</td>\n",
              "      <td>2019-11-01</td>\n",
              "      <td>Month-to-month</td>\n",
              "      <td>1</td>\n",
              "      <td>Electronic check</td>\n",
              "      <td>70.70</td>\n",
              "      <td>151.65</td>\n",
              "      <td>1</td>\n",
              "    </tr>\n",
              "  </tbody>\n",
              "</table>\n",
              "</div>"
            ],
            "text/plain": [
              "   customerID  BeginDate    EndDate            Type  PaperlessBilling  \\\n",
              "0  7590-VHVEG 2020-01-01        NaT  Month-to-month                 1   \n",
              "1  5575-GNVDE 2017-04-01        NaT        One year                 0   \n",
              "2  3668-QPYBK 2019-10-01 2019-12-01  Month-to-month                 1   \n",
              "3  7795-CFOCW 2016-05-01        NaT        One year                 0   \n",
              "4  9237-HQITU 2019-09-01 2019-11-01  Month-to-month                 1   \n",
              "\n",
              "               PaymentMethod  MonthlyCharges  TotalCharges  Churn  \n",
              "0           Electronic check           29.85         29.85      0  \n",
              "1               Mailed check           56.95       1889.50      0  \n",
              "2               Mailed check           53.85        108.15      1  \n",
              "3  Bank transfer (automatic)           42.30       1840.75      0  \n",
              "4           Electronic check           70.70        151.65      1  "
            ]
          },
          "metadata": {},
          "output_type": "display_data"
        }
      ],
      "source": [
        "contract_data['PaperlessBilling'] = contract_data['PaperlessBilling'].map({'Yes':1, 'No':0})\n",
        "display(contract_data.head())"
      ]
    },
    {
      "cell_type": "code",
      "execution_count": null,
      "metadata": {
        "scrolled": true,
        "id": "vlqmrQsdrQ2n",
        "outputId": "c8ae9061-e6a5-465e-a039-a7034410f8df"
      },
      "outputs": [
        {
          "name": "stdout",
          "output_type": "stream",
          "text": [
            "customerID 7043\n",
            "BeginDate 77\n",
            "EndDate 4\n",
            "Type 3\n",
            "PaperlessBilling 2\n",
            "PaymentMethod 4\n",
            "MonthlyCharges 1585\n",
            "TotalCharges 6531\n",
            "Churn 2\n"
          ]
        }
      ],
      "source": [
        "for column in contract_data.columns:\n",
        "    print(column, contract_data[column].nunique())"
      ]
    },
    {
      "cell_type": "code",
      "execution_count": null,
      "metadata": {
        "id": "oD0DFMfQrQ2n",
        "outputId": "f4c5d588-921b-458f-dd1a-90db5399c5b5"
      },
      "outputs": [
        {
          "name": "stdout",
          "output_type": "stream",
          "text": [
            "[                          'NaT' '2019-12-01T00:00:00.000000000'\n",
            " '2019-11-01T00:00:00.000000000' '2019-10-01T00:00:00.000000000'\n",
            " '2020-01-01T00:00:00.000000000']\n"
          ]
        }
      ],
      "source": [
        "print(contract_data['EndDate'].unique())"
      ]
    },
    {
      "cell_type": "markdown",
      "metadata": {
        "id": "ayREEdaMrQ2n"
      },
      "source": [
        "A pesar de tener más de 7043 IDs, sólo hay 4 fechas de término de contrato, en octubre, noviembre, diciembre 2019 y enero 2020, sin contar aquellos que aún siguen vigentes."
      ]
    },
    {
      "cell_type": "code",
      "execution_count": null,
      "metadata": {
        "scrolled": true,
        "id": "jnmrerDBrQ2n",
        "outputId": "8543a99a-0e75-43ed-ec92-a7b9dd0fd1be"
      },
      "outputs": [
        {
          "name": "stdout",
          "output_type": "stream",
          "text": [
            "<class 'pandas.core.frame.DataFrame'>\n",
            "RangeIndex: 7043 entries, 0 to 7042\n",
            "Data columns (total 9 columns):\n",
            " #   Column            Non-Null Count  Dtype         \n",
            "---  ------            --------------  -----         \n",
            " 0   customerID        7043 non-null   object        \n",
            " 1   BeginDate         7043 non-null   datetime64[ns]\n",
            " 2   EndDate           1869 non-null   datetime64[ns]\n",
            " 3   Type              7043 non-null   category      \n",
            " 4   PaperlessBilling  7043 non-null   int64         \n",
            " 5   PaymentMethod     7043 non-null   category      \n",
            " 6   MonthlyCharges    7043 non-null   float64       \n",
            " 7   TotalCharges      7043 non-null   float64       \n",
            " 8   Churn             7043 non-null   int64         \n",
            "dtypes: category(2), datetime64[ns](2), float64(2), int64(2), object(1)\n",
            "memory usage: 399.4+ KB\n"
          ]
        }
      ],
      "source": [
        "contract_data['Type'] = contract_data['Type'].astype('category')\n",
        "contract_data['PaymentMethod'] = contract_data['PaymentMethod'].astype('category')\n",
        "\n",
        "contract_data.info()"
      ]
    },
    {
      "cell_type": "markdown",
      "metadata": {
        "id": "IBz9IeUnrQ2o"
      },
      "source": [
        "### Personal Data"
      ]
    },
    {
      "cell_type": "code",
      "execution_count": null,
      "metadata": {
        "scrolled": false,
        "id": "iPPGLTXLrQ2o",
        "outputId": "eed18c21-f09f-4103-c8a9-57c74eaa72d1"
      },
      "outputs": [
        {
          "name": "stdout",
          "output_type": "stream",
          "text": [
            "<class 'pandas.core.frame.DataFrame'>\n",
            "RangeIndex: 7043 entries, 0 to 7042\n",
            "Data columns (total 5 columns):\n",
            " #   Column         Non-Null Count  Dtype \n",
            "---  ------         --------------  ----- \n",
            " 0   customerID     7043 non-null   object\n",
            " 1   gender         7043 non-null   object\n",
            " 2   SeniorCitizen  7043 non-null   int64 \n",
            " 3   Partner        7043 non-null   object\n",
            " 4   Dependents     7043 non-null   object\n",
            "dtypes: int64(1), object(4)\n",
            "memory usage: 275.2+ KB\n"
          ]
        },
        {
          "data": {
            "text/html": [
              "<div>\n",
              "<style scoped>\n",
              "    .dataframe tbody tr th:only-of-type {\n",
              "        vertical-align: middle;\n",
              "    }\n",
              "\n",
              "    .dataframe tbody tr th {\n",
              "        vertical-align: top;\n",
              "    }\n",
              "\n",
              "    .dataframe thead th {\n",
              "        text-align: right;\n",
              "    }\n",
              "</style>\n",
              "<table border=\"1\" class=\"dataframe\">\n",
              "  <thead>\n",
              "    <tr style=\"text-align: right;\">\n",
              "      <th></th>\n",
              "      <th>customerID</th>\n",
              "      <th>gender</th>\n",
              "      <th>SeniorCitizen</th>\n",
              "      <th>Partner</th>\n",
              "      <th>Dependents</th>\n",
              "    </tr>\n",
              "  </thead>\n",
              "  <tbody>\n",
              "    <tr>\n",
              "      <th>0</th>\n",
              "      <td>7590-VHVEG</td>\n",
              "      <td>Female</td>\n",
              "      <td>0</td>\n",
              "      <td>Yes</td>\n",
              "      <td>No</td>\n",
              "    </tr>\n",
              "    <tr>\n",
              "      <th>1</th>\n",
              "      <td>5575-GNVDE</td>\n",
              "      <td>Male</td>\n",
              "      <td>0</td>\n",
              "      <td>No</td>\n",
              "      <td>No</td>\n",
              "    </tr>\n",
              "    <tr>\n",
              "      <th>2</th>\n",
              "      <td>3668-QPYBK</td>\n",
              "      <td>Male</td>\n",
              "      <td>0</td>\n",
              "      <td>No</td>\n",
              "      <td>No</td>\n",
              "    </tr>\n",
              "    <tr>\n",
              "      <th>3</th>\n",
              "      <td>7795-CFOCW</td>\n",
              "      <td>Male</td>\n",
              "      <td>0</td>\n",
              "      <td>No</td>\n",
              "      <td>No</td>\n",
              "    </tr>\n",
              "    <tr>\n",
              "      <th>4</th>\n",
              "      <td>9237-HQITU</td>\n",
              "      <td>Female</td>\n",
              "      <td>0</td>\n",
              "      <td>No</td>\n",
              "      <td>No</td>\n",
              "    </tr>\n",
              "  </tbody>\n",
              "</table>\n",
              "</div>"
            ],
            "text/plain": [
              "   customerID  gender  SeniorCitizen Partner Dependents\n",
              "0  7590-VHVEG  Female              0     Yes         No\n",
              "1  5575-GNVDE    Male              0      No         No\n",
              "2  3668-QPYBK    Male              0      No         No\n",
              "3  7795-CFOCW    Male              0      No         No\n",
              "4  9237-HQITU  Female              0      No         No"
            ]
          },
          "execution_count": 12,
          "metadata": {},
          "output_type": "execute_result"
        }
      ],
      "source": [
        "personal_data.info()\n",
        "personal_data.head()"
      ]
    },
    {
      "cell_type": "markdown",
      "metadata": {
        "id": "y-7j9U90rQ2o"
      },
      "source": [
        "Verifiquemos si hay clientes duplicados."
      ]
    },
    {
      "cell_type": "code",
      "execution_count": null,
      "metadata": {
        "scrolled": true,
        "id": "DWG_ohh2rQ2o",
        "outputId": "b7a38e53-aded-4b4a-f0d7-b168b928adfe"
      },
      "outputs": [
        {
          "name": "stdout",
          "output_type": "stream",
          "text": [
            "No hay clientes duplicados.\n"
          ]
        }
      ],
      "source": [
        "if personal_data['customerID'].is_unique:\n",
        "    print('No hay clientes duplicados.')\n",
        "else:\n",
        "    print('Hay clientes duplicados.')"
      ]
    },
    {
      "cell_type": "markdown",
      "metadata": {
        "id": "GkTThwmcrQ2o"
      },
      "source": [
        "Vamos a transformar los Yes a 1 y los No a 0."
      ]
    },
    {
      "cell_type": "code",
      "execution_count": null,
      "metadata": {
        "scrolled": false,
        "id": "2WyAITenrQ2o",
        "outputId": "aa8f83ca-f9e3-4ded-b69a-302a49d9c5ba"
      },
      "outputs": [
        {
          "data": {
            "text/html": [
              "<div>\n",
              "<style scoped>\n",
              "    .dataframe tbody tr th:only-of-type {\n",
              "        vertical-align: middle;\n",
              "    }\n",
              "\n",
              "    .dataframe tbody tr th {\n",
              "        vertical-align: top;\n",
              "    }\n",
              "\n",
              "    .dataframe thead th {\n",
              "        text-align: right;\n",
              "    }\n",
              "</style>\n",
              "<table border=\"1\" class=\"dataframe\">\n",
              "  <thead>\n",
              "    <tr style=\"text-align: right;\">\n",
              "      <th></th>\n",
              "      <th>customerID</th>\n",
              "      <th>gender</th>\n",
              "      <th>SeniorCitizen</th>\n",
              "      <th>Partner</th>\n",
              "      <th>Dependents</th>\n",
              "    </tr>\n",
              "  </thead>\n",
              "  <tbody>\n",
              "    <tr>\n",
              "      <th>0</th>\n",
              "      <td>7590-VHVEG</td>\n",
              "      <td>Female</td>\n",
              "      <td>0</td>\n",
              "      <td>1</td>\n",
              "      <td>0</td>\n",
              "    </tr>\n",
              "    <tr>\n",
              "      <th>1</th>\n",
              "      <td>5575-GNVDE</td>\n",
              "      <td>Male</td>\n",
              "      <td>0</td>\n",
              "      <td>0</td>\n",
              "      <td>0</td>\n",
              "    </tr>\n",
              "    <tr>\n",
              "      <th>2</th>\n",
              "      <td>3668-QPYBK</td>\n",
              "      <td>Male</td>\n",
              "      <td>0</td>\n",
              "      <td>0</td>\n",
              "      <td>0</td>\n",
              "    </tr>\n",
              "    <tr>\n",
              "      <th>3</th>\n",
              "      <td>7795-CFOCW</td>\n",
              "      <td>Male</td>\n",
              "      <td>0</td>\n",
              "      <td>0</td>\n",
              "      <td>0</td>\n",
              "    </tr>\n",
              "    <tr>\n",
              "      <th>4</th>\n",
              "      <td>9237-HQITU</td>\n",
              "      <td>Female</td>\n",
              "      <td>0</td>\n",
              "      <td>0</td>\n",
              "      <td>0</td>\n",
              "    </tr>\n",
              "  </tbody>\n",
              "</table>\n",
              "</div>"
            ],
            "text/plain": [
              "   customerID  gender  SeniorCitizen  Partner  Dependents\n",
              "0  7590-VHVEG  Female              0        1           0\n",
              "1  5575-GNVDE    Male              0        0           0\n",
              "2  3668-QPYBK    Male              0        0           0\n",
              "3  7795-CFOCW    Male              0        0           0\n",
              "4  9237-HQITU  Female              0        0           0"
            ]
          },
          "metadata": {},
          "output_type": "display_data"
        }
      ],
      "source": [
        "personal_data['Partner'] = personal_data['Partner'].map({'Yes':1, 'No':0})\n",
        "personal_data['Dependents'] = personal_data['Dependents'].map({'Yes':1, 'No':0})\n",
        "display(personal_data.head())"
      ]
    },
    {
      "cell_type": "code",
      "execution_count": null,
      "metadata": {
        "scrolled": true,
        "id": "bygnk4_krQ2o",
        "outputId": "a589abb4-c452-4bb9-c1ed-2e75100fef77"
      },
      "outputs": [
        {
          "name": "stdout",
          "output_type": "stream",
          "text": [
            "customerID 7043\n",
            "gender 2\n",
            "SeniorCitizen 2\n",
            "Partner 2\n",
            "Dependents 2\n"
          ]
        }
      ],
      "source": [
        "for column in personal_data.columns:\n",
        "    print(column, personal_data[column].nunique())"
      ]
    },
    {
      "cell_type": "code",
      "execution_count": null,
      "metadata": {
        "id": "R4yvh3MUrQ2o",
        "outputId": "f876bb57-fd5f-47fe-8a42-7f485d3d3db2"
      },
      "outputs": [
        {
          "name": "stdout",
          "output_type": "stream",
          "text": [
            "<class 'pandas.core.frame.DataFrame'>\n",
            "RangeIndex: 7043 entries, 0 to 7042\n",
            "Data columns (total 5 columns):\n",
            " #   Column         Non-Null Count  Dtype   \n",
            "---  ------         --------------  -----   \n",
            " 0   customerID     7043 non-null   object  \n",
            " 1   gender         7043 non-null   category\n",
            " 2   SeniorCitizen  7043 non-null   int64   \n",
            " 3   Partner        7043 non-null   int64   \n",
            " 4   Dependents     7043 non-null   int64   \n",
            "dtypes: category(1), int64(3), object(1)\n",
            "memory usage: 227.2+ KB\n"
          ]
        }
      ],
      "source": [
        "personal_data['gender'] = personal_data['gender'].astype('category')\n",
        "personal_data.info()"
      ]
    },
    {
      "cell_type": "markdown",
      "metadata": {
        "id": "qmZ_ptbMrQ2o"
      },
      "source": [
        "### Internet Data"
      ]
    },
    {
      "cell_type": "code",
      "execution_count": null,
      "metadata": {
        "scrolled": false,
        "id": "-UkGpoRlrQ2o",
        "outputId": "99194a66-81d0-43c1-810e-3dea37e3ff8e"
      },
      "outputs": [
        {
          "name": "stdout",
          "output_type": "stream",
          "text": [
            "<class 'pandas.core.frame.DataFrame'>\n",
            "RangeIndex: 5517 entries, 0 to 5516\n",
            "Data columns (total 8 columns):\n",
            " #   Column            Non-Null Count  Dtype \n",
            "---  ------            --------------  ----- \n",
            " 0   customerID        5517 non-null   object\n",
            " 1   InternetService   5517 non-null   object\n",
            " 2   OnlineSecurity    5517 non-null   object\n",
            " 3   OnlineBackup      5517 non-null   object\n",
            " 4   DeviceProtection  5517 non-null   object\n",
            " 5   TechSupport       5517 non-null   object\n",
            " 6   StreamingTV       5517 non-null   object\n",
            " 7   StreamingMovies   5517 non-null   object\n",
            "dtypes: object(8)\n",
            "memory usage: 344.9+ KB\n"
          ]
        },
        {
          "data": {
            "text/html": [
              "<div>\n",
              "<style scoped>\n",
              "    .dataframe tbody tr th:only-of-type {\n",
              "        vertical-align: middle;\n",
              "    }\n",
              "\n",
              "    .dataframe tbody tr th {\n",
              "        vertical-align: top;\n",
              "    }\n",
              "\n",
              "    .dataframe thead th {\n",
              "        text-align: right;\n",
              "    }\n",
              "</style>\n",
              "<table border=\"1\" class=\"dataframe\">\n",
              "  <thead>\n",
              "    <tr style=\"text-align: right;\">\n",
              "      <th></th>\n",
              "      <th>customerID</th>\n",
              "      <th>InternetService</th>\n",
              "      <th>OnlineSecurity</th>\n",
              "      <th>OnlineBackup</th>\n",
              "      <th>DeviceProtection</th>\n",
              "      <th>TechSupport</th>\n",
              "      <th>StreamingTV</th>\n",
              "      <th>StreamingMovies</th>\n",
              "    </tr>\n",
              "  </thead>\n",
              "  <tbody>\n",
              "    <tr>\n",
              "      <th>0</th>\n",
              "      <td>7590-VHVEG</td>\n",
              "      <td>DSL</td>\n",
              "      <td>No</td>\n",
              "      <td>Yes</td>\n",
              "      <td>No</td>\n",
              "      <td>No</td>\n",
              "      <td>No</td>\n",
              "      <td>No</td>\n",
              "    </tr>\n",
              "    <tr>\n",
              "      <th>1</th>\n",
              "      <td>5575-GNVDE</td>\n",
              "      <td>DSL</td>\n",
              "      <td>Yes</td>\n",
              "      <td>No</td>\n",
              "      <td>Yes</td>\n",
              "      <td>No</td>\n",
              "      <td>No</td>\n",
              "      <td>No</td>\n",
              "    </tr>\n",
              "    <tr>\n",
              "      <th>2</th>\n",
              "      <td>3668-QPYBK</td>\n",
              "      <td>DSL</td>\n",
              "      <td>Yes</td>\n",
              "      <td>Yes</td>\n",
              "      <td>No</td>\n",
              "      <td>No</td>\n",
              "      <td>No</td>\n",
              "      <td>No</td>\n",
              "    </tr>\n",
              "    <tr>\n",
              "      <th>3</th>\n",
              "      <td>7795-CFOCW</td>\n",
              "      <td>DSL</td>\n",
              "      <td>Yes</td>\n",
              "      <td>No</td>\n",
              "      <td>Yes</td>\n",
              "      <td>Yes</td>\n",
              "      <td>No</td>\n",
              "      <td>No</td>\n",
              "    </tr>\n",
              "    <tr>\n",
              "      <th>4</th>\n",
              "      <td>9237-HQITU</td>\n",
              "      <td>Fiber optic</td>\n",
              "      <td>No</td>\n",
              "      <td>No</td>\n",
              "      <td>No</td>\n",
              "      <td>No</td>\n",
              "      <td>No</td>\n",
              "      <td>No</td>\n",
              "    </tr>\n",
              "  </tbody>\n",
              "</table>\n",
              "</div>"
            ],
            "text/plain": [
              "   customerID InternetService OnlineSecurity OnlineBackup DeviceProtection  \\\n",
              "0  7590-VHVEG             DSL             No          Yes               No   \n",
              "1  5575-GNVDE             DSL            Yes           No              Yes   \n",
              "2  3668-QPYBK             DSL            Yes          Yes               No   \n",
              "3  7795-CFOCW             DSL            Yes           No              Yes   \n",
              "4  9237-HQITU     Fiber optic             No           No               No   \n",
              "\n",
              "  TechSupport StreamingTV StreamingMovies  \n",
              "0          No          No              No  \n",
              "1          No          No              No  \n",
              "2          No          No              No  \n",
              "3         Yes          No              No  \n",
              "4          No          No              No  "
            ]
          },
          "execution_count": 17,
          "metadata": {},
          "output_type": "execute_result"
        }
      ],
      "source": [
        "internet_data.info()\n",
        "internet_data.head()"
      ]
    },
    {
      "cell_type": "markdown",
      "metadata": {
        "id": "JvAXL51YrQ2p"
      },
      "source": [
        "Igual que anteriormente, vamos a cambiar los Yes por 1 y No por 0."
      ]
    },
    {
      "cell_type": "code",
      "execution_count": null,
      "metadata": {
        "scrolled": true,
        "id": "dH9dq3MorQ2p",
        "outputId": "1e4847fb-378c-4c40-da7e-720c944aa9e8"
      },
      "outputs": [
        {
          "data": {
            "text/html": [
              "<div>\n",
              "<style scoped>\n",
              "    .dataframe tbody tr th:only-of-type {\n",
              "        vertical-align: middle;\n",
              "    }\n",
              "\n",
              "    .dataframe tbody tr th {\n",
              "        vertical-align: top;\n",
              "    }\n",
              "\n",
              "    .dataframe thead th {\n",
              "        text-align: right;\n",
              "    }\n",
              "</style>\n",
              "<table border=\"1\" class=\"dataframe\">\n",
              "  <thead>\n",
              "    <tr style=\"text-align: right;\">\n",
              "      <th></th>\n",
              "      <th>customerID</th>\n",
              "      <th>InternetService</th>\n",
              "      <th>OnlineSecurity</th>\n",
              "      <th>OnlineBackup</th>\n",
              "      <th>DeviceProtection</th>\n",
              "      <th>TechSupport</th>\n",
              "      <th>StreamingTV</th>\n",
              "      <th>StreamingMovies</th>\n",
              "    </tr>\n",
              "  </thead>\n",
              "  <tbody>\n",
              "    <tr>\n",
              "      <th>0</th>\n",
              "      <td>7590-VHVEG</td>\n",
              "      <td>DSL</td>\n",
              "      <td>0</td>\n",
              "      <td>1</td>\n",
              "      <td>0</td>\n",
              "      <td>0</td>\n",
              "      <td>0</td>\n",
              "      <td>0</td>\n",
              "    </tr>\n",
              "    <tr>\n",
              "      <th>1</th>\n",
              "      <td>5575-GNVDE</td>\n",
              "      <td>DSL</td>\n",
              "      <td>1</td>\n",
              "      <td>0</td>\n",
              "      <td>1</td>\n",
              "      <td>0</td>\n",
              "      <td>0</td>\n",
              "      <td>0</td>\n",
              "    </tr>\n",
              "    <tr>\n",
              "      <th>2</th>\n",
              "      <td>3668-QPYBK</td>\n",
              "      <td>DSL</td>\n",
              "      <td>1</td>\n",
              "      <td>1</td>\n",
              "      <td>0</td>\n",
              "      <td>0</td>\n",
              "      <td>0</td>\n",
              "      <td>0</td>\n",
              "    </tr>\n",
              "    <tr>\n",
              "      <th>3</th>\n",
              "      <td>7795-CFOCW</td>\n",
              "      <td>DSL</td>\n",
              "      <td>1</td>\n",
              "      <td>0</td>\n",
              "      <td>1</td>\n",
              "      <td>1</td>\n",
              "      <td>0</td>\n",
              "      <td>0</td>\n",
              "    </tr>\n",
              "    <tr>\n",
              "      <th>4</th>\n",
              "      <td>9237-HQITU</td>\n",
              "      <td>Fiber optic</td>\n",
              "      <td>0</td>\n",
              "      <td>0</td>\n",
              "      <td>0</td>\n",
              "      <td>0</td>\n",
              "      <td>0</td>\n",
              "      <td>0</td>\n",
              "    </tr>\n",
              "  </tbody>\n",
              "</table>\n",
              "</div>"
            ],
            "text/plain": [
              "   customerID InternetService  OnlineSecurity  OnlineBackup  DeviceProtection  \\\n",
              "0  7590-VHVEG             DSL               0             1                 0   \n",
              "1  5575-GNVDE             DSL               1             0                 1   \n",
              "2  3668-QPYBK             DSL               1             1                 0   \n",
              "3  7795-CFOCW             DSL               1             0                 1   \n",
              "4  9237-HQITU     Fiber optic               0             0                 0   \n",
              "\n",
              "   TechSupport  StreamingTV  StreamingMovies  \n",
              "0            0            0                0  \n",
              "1            0            0                0  \n",
              "2            0            0                0  \n",
              "3            1            0                0  \n",
              "4            0            0                0  "
            ]
          },
          "metadata": {},
          "output_type": "display_data"
        }
      ],
      "source": [
        "internet_data_columns = internet_data.columns\n",
        "internet_data_columns = internet_data_columns[2:]\n",
        "\n",
        "for column in internet_data_columns:\n",
        "    internet_data[column] = internet_data[column].map({'Yes':1, 'No':0})\n",
        "\n",
        "display(internet_data.head())\n"
      ]
    },
    {
      "cell_type": "code",
      "execution_count": null,
      "metadata": {
        "scrolled": true,
        "id": "QaeflqIArQ2p",
        "outputId": "408164e1-8a6d-44fe-d708-d9e4dc67cbda"
      },
      "outputs": [
        {
          "name": "stdout",
          "output_type": "stream",
          "text": [
            "customerID 5517\n",
            "InternetService 2\n",
            "OnlineSecurity 2\n",
            "OnlineBackup 2\n",
            "DeviceProtection 2\n",
            "TechSupport 2\n",
            "StreamingTV 2\n",
            "StreamingMovies 2\n"
          ]
        }
      ],
      "source": [
        "for column in internet_data.columns:\n",
        "    print(column, internet_data[column].nunique())"
      ]
    },
    {
      "cell_type": "code",
      "execution_count": null,
      "metadata": {
        "id": "1Y2l7QznrQ2p",
        "outputId": "34f8e106-01bc-42b1-8741-3e6385d8205b"
      },
      "outputs": [
        {
          "name": "stdout",
          "output_type": "stream",
          "text": [
            "<class 'pandas.core.frame.DataFrame'>\n",
            "RangeIndex: 5517 entries, 0 to 5516\n",
            "Data columns (total 8 columns):\n",
            " #   Column            Non-Null Count  Dtype   \n",
            "---  ------            --------------  -----   \n",
            " 0   customerID        5517 non-null   object  \n",
            " 1   InternetService   5517 non-null   category\n",
            " 2   OnlineSecurity    5517 non-null   int64   \n",
            " 3   OnlineBackup      5517 non-null   int64   \n",
            " 4   DeviceProtection  5517 non-null   int64   \n",
            " 5   TechSupport       5517 non-null   int64   \n",
            " 6   StreamingTV       5517 non-null   int64   \n",
            " 7   StreamingMovies   5517 non-null   int64   \n",
            "dtypes: category(1), int64(6), object(1)\n",
            "memory usage: 307.3+ KB\n"
          ]
        }
      ],
      "source": [
        "internet_data['InternetService'] = internet_data['InternetService'].astype('category')\n",
        "\n",
        "internet_data.info()"
      ]
    },
    {
      "cell_type": "markdown",
      "metadata": {
        "id": "hW2LXj8DrQ2p"
      },
      "source": [
        "### Phone Data"
      ]
    },
    {
      "cell_type": "code",
      "execution_count": null,
      "metadata": {
        "scrolled": false,
        "id": "LIbCIefwrQ2p",
        "outputId": "3ef9e649-4c90-4388-fa88-4c92b7e9d19f"
      },
      "outputs": [
        {
          "name": "stdout",
          "output_type": "stream",
          "text": [
            "<class 'pandas.core.frame.DataFrame'>\n",
            "RangeIndex: 6361 entries, 0 to 6360\n",
            "Data columns (total 2 columns):\n",
            " #   Column         Non-Null Count  Dtype \n",
            "---  ------         --------------  ----- \n",
            " 0   customerID     6361 non-null   object\n",
            " 1   MultipleLines  6361 non-null   object\n",
            "dtypes: object(2)\n",
            "memory usage: 99.5+ KB\n",
            "   customerID MultipleLines\n",
            "0  5575-GNVDE            No\n",
            "1  3668-QPYBK            No\n",
            "2  9237-HQITU            No\n",
            "3  9305-CDSKC           Yes\n",
            "4  1452-KIOVK           Yes\n"
          ]
        }
      ],
      "source": [
        "phone_data.info()\n",
        "print(phone_data.head())"
      ]
    },
    {
      "cell_type": "code",
      "execution_count": null,
      "metadata": {
        "id": "0C1VgZV2rQ2p",
        "outputId": "4f1e7cfb-c598-4e7f-a26f-f4ff65e5de3e"
      },
      "outputs": [
        {
          "data": {
            "text/html": [
              "<div>\n",
              "<style scoped>\n",
              "    .dataframe tbody tr th:only-of-type {\n",
              "        vertical-align: middle;\n",
              "    }\n",
              "\n",
              "    .dataframe tbody tr th {\n",
              "        vertical-align: top;\n",
              "    }\n",
              "\n",
              "    .dataframe thead th {\n",
              "        text-align: right;\n",
              "    }\n",
              "</style>\n",
              "<table border=\"1\" class=\"dataframe\">\n",
              "  <thead>\n",
              "    <tr style=\"text-align: right;\">\n",
              "      <th></th>\n",
              "      <th>customerID</th>\n",
              "      <th>MultipleLines</th>\n",
              "    </tr>\n",
              "  </thead>\n",
              "  <tbody>\n",
              "    <tr>\n",
              "      <th>0</th>\n",
              "      <td>5575-GNVDE</td>\n",
              "      <td>0</td>\n",
              "    </tr>\n",
              "    <tr>\n",
              "      <th>1</th>\n",
              "      <td>3668-QPYBK</td>\n",
              "      <td>0</td>\n",
              "    </tr>\n",
              "    <tr>\n",
              "      <th>2</th>\n",
              "      <td>9237-HQITU</td>\n",
              "      <td>0</td>\n",
              "    </tr>\n",
              "    <tr>\n",
              "      <th>3</th>\n",
              "      <td>9305-CDSKC</td>\n",
              "      <td>1</td>\n",
              "    </tr>\n",
              "    <tr>\n",
              "      <th>4</th>\n",
              "      <td>1452-KIOVK</td>\n",
              "      <td>1</td>\n",
              "    </tr>\n",
              "  </tbody>\n",
              "</table>\n",
              "</div>"
            ],
            "text/plain": [
              "   customerID  MultipleLines\n",
              "0  5575-GNVDE              0\n",
              "1  3668-QPYBK              0\n",
              "2  9237-HQITU              0\n",
              "3  9305-CDSKC              1\n",
              "4  1452-KIOVK              1"
            ]
          },
          "metadata": {},
          "output_type": "display_data"
        }
      ],
      "source": [
        "phone_data['MultipleLines'] = phone_data['MultipleLines'].map({'Yes':1, 'No':0})\n",
        "display(phone_data.head())"
      ]
    },
    {
      "cell_type": "code",
      "execution_count": null,
      "metadata": {
        "scrolled": true,
        "id": "1C24hqVZrQ2p",
        "outputId": "e4481135-0f65-4d19-cfac-fc417723f8de"
      },
      "outputs": [
        {
          "name": "stdout",
          "output_type": "stream",
          "text": [
            "Duplicados de Contract: Empty DataFrame\n",
            "Columns: [customerID, BeginDate, EndDate, Type, PaperlessBilling, PaymentMethod, MonthlyCharges, TotalCharges, Churn]\n",
            "Index: []\n",
            "Duplicados de Personal Data: Empty DataFrame\n",
            "Columns: [customerID, BeginDate, EndDate, Type, PaperlessBilling, PaymentMethod, MonthlyCharges, TotalCharges, Churn]\n",
            "Index: []\n",
            "Duplicados de Internet: Empty DataFrame\n",
            "Columns: [customerID, BeginDate, EndDate, Type, PaperlessBilling, PaymentMethod, MonthlyCharges, TotalCharges, Churn]\n",
            "Index: []\n",
            "Duplicados de Phone: Empty DataFrame\n",
            "Columns: [customerID, BeginDate, EndDate, Type, PaperlessBilling, PaymentMethod, MonthlyCharges, TotalCharges, Churn]\n",
            "Index: []\n"
          ]
        }
      ],
      "source": [
        "print('Duplicados de Contract:',contract_data[contract_data.duplicated()])\n",
        "print('Duplicados de Personal Data:',contract_data[contract_data.duplicated()])\n",
        "print('Duplicados de Internet:',contract_data[contract_data.duplicated()])\n",
        "print('Duplicados de Phone:',contract_data[contract_data.duplicated()])"
      ]
    },
    {
      "cell_type": "markdown",
      "metadata": {
        "id": "6FFIPOAurQ2p"
      },
      "source": [
        "Hemos importado satisfactoriamente todos los CSV distintos. Algunos como internet y phone data no tienen 7043 entradas, lo cual da a entender que hay clientes que no tienen internet contratado, o bien, no tienen teléfono contratado. A vista previa, podemos ver que hay más clientes con contrato telefónico que contrato de internet.\n",
        "\n",
        "Se puede apreciar también que no se han enconntrado duplicados en ninguno de los dataframes. En el caso de los contratos, hay 11 que no tienen cargos totales, y sus fechas son todas las mismas, 2020/02/01 y seguramente aún no ha pasado su fecha de pago, por lo que aún no lo registra el sistema. Se ha sustituido como 0. De los 7043 contratos en el registro, sólo 1869 tienen registros de fecha de terminación de contrato, es decir, que cerca de 5000 contratos siguen vigentes. Estos se dejarán como null por el momento para después hacer una columna calculada de contratos que se han terminado 'Churn'. Como parte de la ingeniería de datos también cambiaremos los NO por 0 y YES por 1 en un punto posterior de procesamiento."
      ]
    },
    {
      "cell_type": "markdown",
      "metadata": {
        "id": "sdfwA7L6rQ2p"
      },
      "source": [
        "###  Visualización"
      ]
    },
    {
      "cell_type": "code",
      "execution_count": null,
      "metadata": {
        "id": "aXa0PDrLrQ2q",
        "outputId": "18f03072-3c5f-4c0e-89ad-63ca809a5cdb"
      },
      "outputs": [
        {
          "data": {
            "text/plain": [
              "(5000.0, 6500.0)"
            ]
          },
          "execution_count": 24,
          "metadata": {},
          "output_type": "execute_result"
        },
        {
          "data": {
            "image/png": "[encoded data removed]",
            "text/plain": [
              "<Figure size 800x600 with 1 Axes>"
            ]
          },
          "metadata": {},
          "output_type": "display_data"
        }
      ],
      "source": [
        "plt.figure(figsize=(8, 6))\n",
        "plt.bar(height=[\n",
        "    internet_data['customerID'].count(),\n",
        "    phone_data['customerID'].count()\n",
        "    ]\n",
        "    ,x=['Internet Users', 'Phone Users'])\n",
        "plt.ylim(5000,6500)"
      ]
    },
    {
      "cell_type": "code",
      "execution_count": null,
      "metadata": {
        "id": "CLNIu1ejrQ2z",
        "outputId": "29e1776f-0d83-4aec-a77b-3fd09ae247b3"
      },
      "outputs": [
        {
          "data": {
            "text/plain": [
              "Text(0.5, 1.0, 'Nuevos Contratos por Año')"
            ]
          },
          "execution_count": 25,
          "metadata": {},
          "output_type": "execute_result"
        },
        {
          "data": {
            "image/png": "[encoded data removed]",
            "text/plain": [
              "<Figure size 640x480 with 1 Axes>"
            ]
          },
          "metadata": {},
          "output_type": "display_data"
        }
      ],
      "source": [
        "new_contracts_py = contract_data.groupby(contract_data['BeginDate'].dt.year).size()\n",
        "new_contracts_py.plot(marker='o', grid='true')\n",
        "plt.ylabel('Cuenta de Contratos')\n",
        "plt.title('Nuevos Contratos por Año')"
      ]
    },
    {
      "cell_type": "markdown",
      "metadata": {
        "id": "VjatnVQUrQ2z"
      },
      "source": [
        "Podemos ver que la cantidad de nuevos contratos por año ha pasado por bajadas y subidas. En cuanto a 2020, puede que sea un poco engañoso ya que los datos llegan hasta el día 1ero de febrero."
      ]
    },
    {
      "cell_type": "code",
      "execution_count": null,
      "metadata": {
        "scrolled": false,
        "id": "jS31ax_BrQ2z",
        "outputId": "c333aac4-69b6-48a0-8034-154042592525"
      },
      "outputs": [
        {
          "name": "stdout",
          "output_type": "stream",
          "text": [
            "gender\n",
            "Female    3488\n",
            "Male      3555\n",
            "dtype: int64\n"
          ]
        },
        {
          "data": {
            "text/plain": [
              "(3400.0, 3600.0)"
            ]
          },
          "execution_count": 26,
          "metadata": {},
          "output_type": "execute_result"
        },
        {
          "data": {
            "image/png": "[encoded data removed]",
            "text/plain": [
              "<Figure size 640x480 with 1 Axes>"
            ]
          },
          "metadata": {},
          "output_type": "display_data"
        }
      ],
      "source": [
        "size_gender = personal_data.groupby('gender').size()\n",
        "\n",
        "print(size_gender)\n",
        "\n",
        "plt.bar(height=size_gender.values, x=size_gender.index, zorder=2)\n",
        "plt.grid(alpha=0.7, linestyle='--', zorder=1)\n",
        "plt.title('Cuenta de Usuarios por Género')\n",
        "\n",
        "plt.ylim(3400,3600)"
      ]
    },
    {
      "cell_type": "markdown",
      "metadata": {
        "id": "qcV8lZCzrQ2z"
      },
      "source": [
        "No hay mucha diferencia entre ambos géneros, sólo 100 personas aprox. más hombres que mujeres."
      ]
    },
    {
      "cell_type": "code",
      "execution_count": null,
      "metadata": {
        "scrolled": false,
        "id": "_I7zU36GrQ2z",
        "outputId": "219cbecc-8840-4732-df25-57146b571e33"
      },
      "outputs": [
        {
          "data": {
            "image/png": "[encoded data removed]",
            "text/plain": [
              "<Figure size 1200x600 with 2 Axes>"
            ]
          },
          "metadata": {},
          "output_type": "display_data"
        }
      ],
      "source": [
        "fig, axs = plt.subplots(1,2, figsize=(12,6))\n",
        "\n",
        "axs[0].boxplot(contract_data['TotalCharges'])\n",
        "axs[0].set_title('Boxplot de Total Charges')\n",
        "axs[0].set_xlabel('TotalCharges')\n",
        "\n",
        "axs[1].boxplot(contract_data['MonthlyCharges'])\n",
        "axs[1].set_title('Boxplot de Monthly Charges')\n",
        "axs[1].set_xlabel('MonthlyCharges')\n",
        "\n",
        "plt.tight_layout()"
      ]
    },
    {
      "cell_type": "code",
      "execution_count": null,
      "metadata": {
        "scrolled": false,
        "id": "J9pUMJLFrQ2z",
        "outputId": "fe749b84-9397-4a9a-c2a7-66c2bf70e5a4"
      },
      "outputs": [
        {
          "name": "stdout",
          "output_type": "stream",
          "text": [
            "Estadística descriptiva de Cargos Mensuales:\n",
            " count    7043.000000\n",
            "mean       64.761692\n",
            "std        30.090047\n",
            "min        18.250000\n",
            "25%        35.500000\n",
            "50%        70.350000\n",
            "75%        89.850000\n",
            "max       118.750000\n",
            "Name: MonthlyCharges, dtype: float64\n",
            "\n",
            "Estadística descriptiva de Cargos Totales:\n",
            " count    7043.000000\n",
            "mean     2279.734304\n",
            "std      2266.794470\n",
            "min         0.000000\n",
            "25%       398.550000\n",
            "50%      1394.550000\n",
            "75%      3786.600000\n",
            "max      8684.800000\n",
            "Name: TotalCharges, dtype: float64\n"
          ]
        }
      ],
      "source": [
        "print('Estadística descriptiva de Cargos Mensuales:\\n',contract_data['MonthlyCharges'].describe())\n",
        "print('\\nEstadística descriptiva de Cargos Totales:\\n',contract_data['TotalCharges'].describe())"
      ]
    },
    {
      "cell_type": "code",
      "execution_count": null,
      "metadata": {
        "scrolled": true,
        "id": "EYfMQYxLrQ2z",
        "outputId": "7a1a4e24-c16e-4f33-f1be-506de7cb7d13"
      },
      "outputs": [
        {
          "name": "stdout",
          "output_type": "stream",
          "text": [
            "0    73.463013\n",
            "1    26.536987\n",
            "Name: Churn, dtype: float64\n"
          ]
        }
      ],
      "source": [
        "print(contract_data['Churn'].value_counts(normalize=True)*100)"
      ]
    },
    {
      "cell_type": "markdown",
      "metadata": {
        "id": "fNVLkEKxrQ20"
      },
      "source": [
        "Aproximadamente el 73% de los datos son ejemplos de contratos que fueron rescindidos \"Churned\", y el otro 27% son aquellos que sí fueron rescindidos. Por esto, haremos un ejercicio de sobremuestreo para poder entrenar nuestro modelo con mejores datos. Compararemos el performance del modelo usando métricos como F1 y área debajo de la curva, y compararemos modelos que puedan manejar desbalanceo como XGBoost."
      ]
    },
    {
      "cell_type": "markdown",
      "metadata": {
        "id": "zupmunBnrQ20"
      },
      "source": [
        "Parece que no hay outliers identificados en las columnas de cargos totales ni mensuales según los boxplot. Cargos totales tiene sus datos muy cargados hacia la izquierda, con la mitad de los datos estando entre la mitad de sus datos entre 0 y 1394, y el resto de 1394 a 8684. Esto puede significar que sólo hay algunos clientes con cuentas \"viejas\", ya que la columna de cargos totales es la suma de todo lo que se ha pagado durante el contrato, y entre más tiempo a pasado, más dinero se ha generado de este contrato. También se verá afectado por los servicios que tiene contratado, claro. Por ejemplo, alguien que tiene su contrato desde enero 2020 va a tener su cargo total igual a su cargo mensual, ya que el corte de estos datos es a febrero 2020.\n",
        "\n",
        "Cargos mensuales parecen estar más distribuidos al rededor de la mediana. De igual forma, no se encontraron outliers."
      ]
    },
    {
      "cell_type": "markdown",
      "metadata": {
        "id": "8zkb7mferQ20"
      },
      "source": [
        "## Plan de Trabajo"
      ]
    },
    {
      "cell_type": "markdown",
      "metadata": {
        "id": "LBahszUHrQ20"
      },
      "source": [
        "Se ha identificado el desbalanceo de clases en la columna objetivo Churn. En las siguientes partes del proyecto revisaremos como taclear esto con sobremuestreo. También podríamos ajustar hiperparámetros dentro de los mismos modelos, como en bosque aleatorio, donde podemos ajustar los pesos con class_weight='balanced'.\n"
      ]
    },
    {
      "cell_type": "markdown",
      "metadata": {
        "id": "8G8VFnAgrQ20"
      },
      "source": [
        "A través de ingeniería de características trabajaremos para realizar un dataframe maestro con las caracteristicas que más nos interesan, como lo son los datos personales, el tipo de contrato, las formas de pago, etc. Para esto estaremos haciendo una serie de joins entre los dataframes para tener todo en uno solo y poder generar nuestro modelo predictivo. Habiendo tenido nuestra tabla maestra, podemos ir descartanto columnas que no nos sean de utilidad, o calcular nuevas, como 'Churn' que nos indique si el contrato fue rescindido o no, y esta columna sería nuestra función objetivo en el modelo. Se probarán distintos tipos de modelaje de clasificación binaria para tratar de llegar a un métrico F1 adecuado usando técnicas como one hot encoding y potenciación."
      ]
    },
    {
      "cell_type": "markdown",
      "metadata": {
        "id": "qd10rTklrQ20"
      },
      "source": [
        "\n",
        "<b>Organización</b> 🗂️\n",
        "\n",
        "<pre>\n",
        "## Fase 1: Análisis Exploratorio\n",
        "- Verificación de duplicados, nulos, tipos de datos\n",
        "- Visualizaciones iniciales\n",
        "\n",
        "## Fase 2: Ingeniería y Limpieza\n",
        "- Conversión de variables, imputación\n",
        "- Creación de columna 'Churn'\n",
        "- Revisión del balance de clases\n",
        "\n",
        "## Fase 3: Selección de Características\n",
        "- Análisis de correlación / uso de Boruta, SHAP o métodos de filtrado\n",
        "- Reducción de dimensionalidad si aplica\n",
        "\n",
        "## Fase 4: Ingeniería de Características\n",
        "- One hot encoding, escalamiento, creación de nuevas columnas\n",
        "\n",
        "## Fase 5: Modelado\n",
        "- Pruebas con diferentes algoritmos de clasificación binaria\n",
        "- Evaluación con métricas: F1, ROC AUC, precisión, recall\n",
        "\n",
        "## Fase 6: Interpretación y Conclusión\n",
        "- Interpretación del modelo\n",
        "- Recomendaciones para el equipo de marketing\n",
        "</pre>\n",
        "\n"
      ]
    },
    {
      "cell_type": "markdown",
      "metadata": {
        "id": "y2dF_xZHrQ20"
      },
      "source": [
        "## Selección e Ingeniería de Características\n",
        "\n"
      ]
    },
    {
      "cell_type": "markdown",
      "metadata": {
        "id": "oGoqzs_7rQ21"
      },
      "source": [
        "### Merging de Tablas\n",
        "Vamos a unir todas las tablas para consolidarlas en una sola, teniendo como llave principal el customerID."
      ]
    },
    {
      "cell_type": "code",
      "execution_count": null,
      "metadata": {
        "id": "4hw8YBb5rQ21"
      },
      "outputs": [],
      "source": [
        "df_merged = contract_data.merge(personal_data, on='customerID', how='left')"
      ]
    },
    {
      "cell_type": "code",
      "execution_count": null,
      "metadata": {
        "id": "kTIFOioCrQ21"
      },
      "outputs": [],
      "source": [
        "df_merged = df_merged.merge(internet_data, on='customerID',how='left')"
      ]
    },
    {
      "cell_type": "code",
      "execution_count": null,
      "metadata": {
        "id": "fG7Vk5HxrQ21"
      },
      "outputs": [],
      "source": [
        "df_merged = df_merged.merge(phone_data, on='customerID',how='left')"
      ]
    },
    {
      "cell_type": "code",
      "execution_count": null,
      "metadata": {
        "scrolled": true,
        "id": "JXPizUJxrQ21",
        "outputId": "13c6d00d-b19f-400d-9fdc-a2721958916f"
      },
      "outputs": [
        {
          "name": "stdout",
          "output_type": "stream",
          "text": [
            "<class 'pandas.core.frame.DataFrame'>\n",
            "Int64Index: 7043 entries, 0 to 7042\n",
            "Data columns (total 21 columns):\n",
            " #   Column            Non-Null Count  Dtype         \n",
            "---  ------            --------------  -----         \n",
            " 0   customerID        7043 non-null   object        \n",
            " 1   BeginDate         7043 non-null   datetime64[ns]\n",
            " 2   EndDate           1869 non-null   datetime64[ns]\n",
            " 3   Type              7043 non-null   category      \n",
            " 4   PaperlessBilling  7043 non-null   int64         \n",
            " 5   PaymentMethod     7043 non-null   category      \n",
            " 6   MonthlyCharges    7043 non-null   float64       \n",
            " 7   TotalCharges      7043 non-null   float64       \n",
            " 8   Churn             7043 non-null   int64         \n",
            " 9   gender            7043 non-null   category      \n",
            " 10  SeniorCitizen     7043 non-null   int64         \n",
            " 11  Partner           7043 non-null   int64         \n",
            " 12  Dependents        7043 non-null   int64         \n",
            " 13  InternetService   5517 non-null   category      \n",
            " 14  OnlineSecurity    5517 non-null   float64       \n",
            " 15  OnlineBackup      5517 non-null   float64       \n",
            " 16  DeviceProtection  5517 non-null   float64       \n",
            " 17  TechSupport       5517 non-null   float64       \n",
            " 18  StreamingTV       5517 non-null   float64       \n",
            " 19  StreamingMovies   5517 non-null   float64       \n",
            " 20  MultipleLines     6361 non-null   float64       \n",
            "dtypes: category(4), datetime64[ns](2), float64(9), int64(5), object(1)\n",
            "memory usage: 1018.5+ KB\n"
          ]
        }
      ],
      "source": [
        "df_merged.info()"
      ]
    },
    {
      "cell_type": "markdown",
      "metadata": {
        "id": "sFpKkE5_rQ21"
      },
      "source": [
        "Hemos juntado todas las tablas en una sola. Tenemos 21 columnas, de las cuales eligiremos las de mayor relevancia para predecir nuestro objetivo \"Churn\". Se hizo un join \"izquierda\" para identificar a todos los clientes, incluso los que no tienen servicios de internet, o no tienen línea telefónica, y se pueden identificar como los null. De los 7043 contratos, se identificaron aprox 4000 que tienen ambos servicios. Lo bueno aquí es que todos los clientes tienen sus datos personales. Vamos a manejar los null en la siguiente parte."
      ]
    },
    {
      "cell_type": "code",
      "execution_count": null,
      "metadata": {
        "id": "UG5CK-fDrQ21",
        "outputId": "fcf66b65-7b9c-4681-85cc-dfcd162e084e"
      },
      "outputs": [
        {
          "name": "stdout",
          "output_type": "stream",
          "text": [
            "<class 'pandas.core.frame.DataFrame'>\n",
            "Int64Index: 7043 entries, 0 to 7042\n",
            "Data columns (total 21 columns):\n",
            " #   Column            Non-Null Count  Dtype         \n",
            "---  ------            --------------  -----         \n",
            " 0   customerID        7043 non-null   object        \n",
            " 1   BeginDate         7043 non-null   datetime64[ns]\n",
            " 2   EndDate           1869 non-null   datetime64[ns]\n",
            " 3   Type              7043 non-null   category      \n",
            " 4   PaperlessBilling  7043 non-null   int64         \n",
            " 5   PaymentMethod     7043 non-null   category      \n",
            " 6   MonthlyCharges    7043 non-null   float64       \n",
            " 7   TotalCharges      7043 non-null   float64       \n",
            " 8   Churn             7043 non-null   int64         \n",
            " 9   gender            7043 non-null   category      \n",
            " 10  SeniorCitizen     7043 non-null   int64         \n",
            " 11  Partner           7043 non-null   int64         \n",
            " 12  Dependents        7043 non-null   int64         \n",
            " 13  InternetService   7043 non-null   category      \n",
            " 14  OnlineSecurity    5517 non-null   float64       \n",
            " 15  OnlineBackup      5517 non-null   float64       \n",
            " 16  DeviceProtection  5517 non-null   float64       \n",
            " 17  TechSupport       5517 non-null   float64       \n",
            " 18  StreamingTV       5517 non-null   float64       \n",
            " 19  StreamingMovies   5517 non-null   float64       \n",
            " 20  MultipleLines     6361 non-null   float64       \n",
            "dtypes: category(4), datetime64[ns](2), float64(9), int64(5), object(1)\n",
            "memory usage: 1018.5+ KB\n"
          ]
        }
      ],
      "source": [
        "df_merged['InternetService'] = df_merged['InternetService'].cat.add_categories(['No Service'])\n",
        "df_merged['InternetService'].fillna('No Service', inplace=True)\n",
        "\n",
        "df_merged.info()"
      ]
    },
    {
      "cell_type": "code",
      "execution_count": null,
      "metadata": {
        "scrolled": true,
        "id": "dPwUBRgorQ21"
      },
      "outputs": [],
      "source": [
        "# Donde 0 representa que no tiene el servicio para las caracteristicas relacionadas con internet. Todos los \"no service\" deben tener estas columnas en 0.\n",
        "\n",
        "columns = df_merged.columns[14:]\n",
        "\n",
        "for column in columns:\n",
        "    df_merged[column] = df_merged[column].fillna(0).astype('int')\n",
        "\n",
        "df_merged.info()"
      ]
    },
    {
      "cell_type": "markdown",
      "metadata": {
        "id": "NJCNFAyWrQ21"
      },
      "source": [
        "### Elección de Features"
      ]
    },
    {
      "cell_type": "markdown",
      "metadata": {
        "id": "qcxPvOzIrQ21"
      },
      "source": [
        "Con esto ya tenemos nuestra base de datos consolidada y limpia. Vamos a eliminar las columnas que no sean de relevancia para predecir si un cliente rescinde su contrato o no. Eligiremos apriori las columnas que no tendrán relevancia, como genero, customerID, begindate y enddate."
      ]
    },
    {
      "cell_type": "code",
      "execution_count": null,
      "metadata": {
        "id": "9gFsr4EkrQ21"
      },
      "outputs": [],
      "source": [
        "df_merged_filtered = df_merged.drop(['customerID','BeginDate','EndDate','gender'],axis=1)"
      ]
    },
    {
      "cell_type": "markdown",
      "metadata": {
        "id": "8rFg-yKsrQ21"
      },
      "source": [
        "#### One Hot Encoding"
      ]
    },
    {
      "cell_type": "code",
      "execution_count": null,
      "metadata": {
        "id": "Po8OIUVXrQ22",
        "outputId": "3606dc3b-4d9f-4223-a1a4-d08f277ae47d"
      },
      "outputs": [
        {
          "data": {
            "text/html": [
              "<div>\n",
              "<style scoped>\n",
              "    .dataframe tbody tr th:only-of-type {\n",
              "        vertical-align: middle;\n",
              "    }\n",
              "\n",
              "    .dataframe tbody tr th {\n",
              "        vertical-align: top;\n",
              "    }\n",
              "\n",
              "    .dataframe thead th {\n",
              "        text-align: right;\n",
              "    }\n",
              "</style>\n",
              "<table border=\"1\" class=\"dataframe\">\n",
              "  <thead>\n",
              "    <tr style=\"text-align: right;\">\n",
              "      <th></th>\n",
              "      <th>PaperlessBilling</th>\n",
              "      <th>MonthlyCharges</th>\n",
              "      <th>TotalCharges</th>\n",
              "      <th>Churn</th>\n",
              "      <th>SeniorCitizen</th>\n",
              "      <th>Partner</th>\n",
              "      <th>Dependents</th>\n",
              "      <th>OnlineSecurity</th>\n",
              "      <th>OnlineBackup</th>\n",
              "      <th>DeviceProtection</th>\n",
              "      <th>...</th>\n",
              "      <th>Type_Month-to-month</th>\n",
              "      <th>Type_One year</th>\n",
              "      <th>Type_Two year</th>\n",
              "      <th>PaymentMethod_Bank transfer (automatic)</th>\n",
              "      <th>PaymentMethod_Credit card (automatic)</th>\n",
              "      <th>PaymentMethod_Electronic check</th>\n",
              "      <th>PaymentMethod_Mailed check</th>\n",
              "      <th>InternetService_DSL</th>\n",
              "      <th>InternetService_Fiber optic</th>\n",
              "      <th>InternetService_No Service</th>\n",
              "    </tr>\n",
              "  </thead>\n",
              "  <tbody>\n",
              "    <tr>\n",
              "      <th>0</th>\n",
              "      <td>1</td>\n",
              "      <td>29.85</td>\n",
              "      <td>29.85</td>\n",
              "      <td>0</td>\n",
              "      <td>0</td>\n",
              "      <td>1</td>\n",
              "      <td>0</td>\n",
              "      <td>0</td>\n",
              "      <td>1</td>\n",
              "      <td>0</td>\n",
              "      <td>...</td>\n",
              "      <td>1</td>\n",
              "      <td>0</td>\n",
              "      <td>0</td>\n",
              "      <td>0</td>\n",
              "      <td>0</td>\n",
              "      <td>1</td>\n",
              "      <td>0</td>\n",
              "      <td>1</td>\n",
              "      <td>0</td>\n",
              "      <td>0</td>\n",
              "    </tr>\n",
              "    <tr>\n",
              "      <th>1</th>\n",
              "      <td>0</td>\n",
              "      <td>56.95</td>\n",
              "      <td>1889.50</td>\n",
              "      <td>0</td>\n",
              "      <td>0</td>\n",
              "      <td>0</td>\n",
              "      <td>0</td>\n",
              "      <td>1</td>\n",
              "      <td>0</td>\n",
              "      <td>1</td>\n",
              "      <td>...</td>\n",
              "      <td>0</td>\n",
              "      <td>1</td>\n",
              "      <td>0</td>\n",
              "      <td>0</td>\n",
              "      <td>0</td>\n",
              "      <td>0</td>\n",
              "      <td>1</td>\n",
              "      <td>1</td>\n",
              "      <td>0</td>\n",
              "      <td>0</td>\n",
              "    </tr>\n",
              "    <tr>\n",
              "      <th>2</th>\n",
              "      <td>1</td>\n",
              "      <td>53.85</td>\n",
              "      <td>108.15</td>\n",
              "      <td>1</td>\n",
              "      <td>0</td>\n",
              "      <td>0</td>\n",
              "      <td>0</td>\n",
              "      <td>1</td>\n",
              "      <td>1</td>\n",
              "      <td>0</td>\n",
              "      <td>...</td>\n",
              "      <td>1</td>\n",
              "      <td>0</td>\n",
              "      <td>0</td>\n",
              "      <td>0</td>\n",
              "      <td>0</td>\n",
              "      <td>0</td>\n",
              "      <td>1</td>\n",
              "      <td>1</td>\n",
              "      <td>0</td>\n",
              "      <td>0</td>\n",
              "    </tr>\n",
              "    <tr>\n",
              "      <th>3</th>\n",
              "      <td>0</td>\n",
              "      <td>42.30</td>\n",
              "      <td>1840.75</td>\n",
              "      <td>0</td>\n",
              "      <td>0</td>\n",
              "      <td>0</td>\n",
              "      <td>0</td>\n",
              "      <td>1</td>\n",
              "      <td>0</td>\n",
              "      <td>1</td>\n",
              "      <td>...</td>\n",
              "      <td>0</td>\n",
              "      <td>1</td>\n",
              "      <td>0</td>\n",
              "      <td>1</td>\n",
              "      <td>0</td>\n",
              "      <td>0</td>\n",
              "      <td>0</td>\n",
              "      <td>1</td>\n",
              "      <td>0</td>\n",
              "      <td>0</td>\n",
              "    </tr>\n",
              "    <tr>\n",
              "      <th>4</th>\n",
              "      <td>1</td>\n",
              "      <td>70.70</td>\n",
              "      <td>151.65</td>\n",
              "      <td>1</td>\n",
              "      <td>0</td>\n",
              "      <td>0</td>\n",
              "      <td>0</td>\n",
              "      <td>0</td>\n",
              "      <td>0</td>\n",
              "      <td>0</td>\n",
              "      <td>...</td>\n",
              "      <td>1</td>\n",
              "      <td>0</td>\n",
              "      <td>0</td>\n",
              "      <td>0</td>\n",
              "      <td>0</td>\n",
              "      <td>1</td>\n",
              "      <td>0</td>\n",
              "      <td>0</td>\n",
              "      <td>1</td>\n",
              "      <td>0</td>\n",
              "    </tr>\n",
              "  </tbody>\n",
              "</table>\n",
              "<p>5 rows × 24 columns</p>\n",
              "</div>"
            ],
            "text/plain": [
              "   PaperlessBilling  MonthlyCharges  TotalCharges  Churn  SeniorCitizen  \\\n",
              "0                 1           29.85         29.85      0              0   \n",
              "1                 0           56.95       1889.50      0              0   \n",
              "2                 1           53.85        108.15      1              0   \n",
              "3                 0           42.30       1840.75      0              0   \n",
              "4                 1           70.70        151.65      1              0   \n",
              "\n",
              "   Partner  Dependents  OnlineSecurity  OnlineBackup  DeviceProtection  ...  \\\n",
              "0        1           0               0             1                 0  ...   \n",
              "1        0           0               1             0                 1  ...   \n",
              "2        0           0               1             1                 0  ...   \n",
              "3        0           0               1             0                 1  ...   \n",
              "4        0           0               0             0                 0  ...   \n",
              "\n",
              "   Type_Month-to-month  Type_One year  Type_Two year  \\\n",
              "0                    1              0              0   \n",
              "1                    0              1              0   \n",
              "2                    1              0              0   \n",
              "3                    0              1              0   \n",
              "4                    1              0              0   \n",
              "\n",
              "   PaymentMethod_Bank transfer (automatic)  \\\n",
              "0                                        0   \n",
              "1                                        0   \n",
              "2                                        0   \n",
              "3                                        1   \n",
              "4                                        0   \n",
              "\n",
              "   PaymentMethod_Credit card (automatic)  PaymentMethod_Electronic check  \\\n",
              "0                                      0                               1   \n",
              "1                                      0                               0   \n",
              "2                                      0                               0   \n",
              "3                                      0                               0   \n",
              "4                                      0                               1   \n",
              "\n",
              "   PaymentMethod_Mailed check  InternetService_DSL  \\\n",
              "0                           0                    1   \n",
              "1                           1                    1   \n",
              "2                           1                    1   \n",
              "3                           0                    1   \n",
              "4                           0                    0   \n",
              "\n",
              "   InternetService_Fiber optic  InternetService_No Service  \n",
              "0                            0                           0  \n",
              "1                            0                           0  \n",
              "2                            0                           0  \n",
              "3                            0                           0  \n",
              "4                            1                           0  \n",
              "\n",
              "[5 rows x 24 columns]"
            ]
          },
          "metadata": {},
          "output_type": "display_data"
        }
      ],
      "source": [
        "#Ya que estamos manejando un objetivo categórico, no hay riesgo de multicolinearidad\n",
        "\n",
        "categorical_columns = ['Type','PaymentMethod','InternetService']\n",
        "\n",
        "df_encoded = pd.get_dummies(df_merged_filtered,columns=categorical_columns)\n",
        "\n",
        "display(df_encoded.head())"
      ]
    },
    {
      "cell_type": "markdown",
      "metadata": {
        "id": "PCY22ojhrQ22"
      },
      "source": [
        "#### Correlación con Churn\n",
        "\n",
        "Vamos a utilizar la correlación de las columnas con Churn para elegir las más importantes. Se definirá como aquellas mayores de 0.1 absoluto. Para ejercicios posteriores se podría considerar utilizar correlación biserial puntual en vez de corr() ya que puede ser más adhoc al objetivo (binario)."
      ]
    },
    {
      "cell_type": "code",
      "execution_count": null,
      "metadata": {
        "id": "FTDVc5d2rQ22",
        "outputId": "a85e5ace-df0c-488c-a068-0db4f0e40fa9"
      },
      "outputs": [
        {
          "name": "stdout",
          "output_type": "stream",
          "text": [
            "Churn                                      1.000000\n",
            "Type_Month-to-month                        0.405103\n",
            "InternetService_Fiber optic                0.308020\n",
            "PaymentMethod_Electronic check             0.301919\n",
            "MonthlyCharges                             0.193356\n",
            "PaperlessBilling                           0.191825\n",
            "SeniorCitizen                              0.150889\n",
            "StreamingTV                                0.063228\n",
            "StreamingMovies                            0.061382\n",
            "MultipleLines                              0.040102\n",
            "DeviceProtection                          -0.066160\n",
            "OnlineBackup                              -0.082255\n",
            "PaymentMethod_Mailed check                -0.091683\n",
            "PaymentMethod_Bank transfer (automatic)   -0.117937\n",
            "InternetService_DSL                       -0.124214\n",
            "PaymentMethod_Credit card (automatic)     -0.134302\n",
            "Partner                                   -0.150448\n",
            "Dependents                                -0.164221\n",
            "TechSupport                               -0.164674\n",
            "OnlineSecurity                            -0.171226\n",
            "Type_One year                             -0.177820\n",
            "TotalCharges                              -0.198324\n",
            "InternetService_No Service                -0.227890\n",
            "Type_Two year                             -0.302253\n",
            "Name: Churn, dtype: float64\n"
          ]
        }
      ],
      "source": [
        "correlation = df_encoded.corr()['Churn'].sort_values(ascending=False)\n",
        "print(correlation)"
      ]
    },
    {
      "cell_type": "code",
      "execution_count": null,
      "metadata": {
        "id": "Naom5EhprQ22",
        "outputId": "4c5e562a-ea6c-42bd-85cf-bd1181e7ffc1"
      },
      "outputs": [
        {
          "name": "stdout",
          "output_type": "stream",
          "text": [
            "['Churn', 'Type_Month-to-month', 'InternetService_Fiber optic', 'PaymentMethod_Electronic check', 'MonthlyCharges', 'PaperlessBilling', 'SeniorCitizen', 'PaymentMethod_Bank transfer (automatic)', 'InternetService_DSL', 'PaymentMethod_Credit card (automatic)', 'Partner', 'Dependents', 'TechSupport', 'OnlineSecurity', 'Type_One year', 'TotalCharges', 'InternetService_No Service', 'Type_Two year']\n"
          ]
        }
      ],
      "source": [
        "high_corr_columns = []\n",
        "\n",
        "for column in correlation.index:\n",
        "    if abs(correlation[column]) > 0.1:\n",
        "        high_corr_columns.append(column)\n",
        "\n",
        "print(high_corr_columns)"
      ]
    },
    {
      "cell_type": "code",
      "execution_count": null,
      "metadata": {
        "id": "Onr_1l91rQ22",
        "outputId": "6ba54131-ebdf-4f94-de4e-9d94a0c6adaa"
      },
      "outputs": [
        {
          "name": "stdout",
          "output_type": "stream",
          "text": [
            "<class 'pandas.core.frame.DataFrame'>\n",
            "Int64Index: 7043 entries, 0 to 7042\n",
            "Data columns (total 18 columns):\n",
            " #   Column                                   Non-Null Count  Dtype  \n",
            "---  ------                                   --------------  -----  \n",
            " 0   Churn                                    7043 non-null   int64  \n",
            " 1   Type_Month-to-month                      7043 non-null   uint8  \n",
            " 2   InternetService_Fiber optic              7043 non-null   uint8  \n",
            " 3   PaymentMethod_Electronic check           7043 non-null   uint8  \n",
            " 4   MonthlyCharges                           7043 non-null   float64\n",
            " 5   PaperlessBilling                         7043 non-null   int64  \n",
            " 6   SeniorCitizen                            7043 non-null   int64  \n",
            " 7   PaymentMethod_Bank transfer (automatic)  7043 non-null   uint8  \n",
            " 8   InternetService_DSL                      7043 non-null   uint8  \n",
            " 9   PaymentMethod_Credit card (automatic)    7043 non-null   uint8  \n",
            " 10  Partner                                  7043 non-null   int64  \n",
            " 11  Dependents                               7043 non-null   int64  \n",
            " 12  TechSupport                              7043 non-null   int64  \n",
            " 13  OnlineSecurity                           7043 non-null   int64  \n",
            " 14  Type_One year                            7043 non-null   uint8  \n",
            " 15  TotalCharges                             7043 non-null   float64\n",
            " 16  InternetService_No Service               7043 non-null   uint8  \n",
            " 17  Type_Two year                            7043 non-null   uint8  \n",
            "dtypes: float64(2), int64(7), uint8(9)\n",
            "memory usage: 612.1 KB\n",
            "None\n"
          ]
        }
      ],
      "source": [
        "df_encoded_filtered = df_encoded[high_corr_columns]\n",
        "\n",
        "print(df_encoded_filtered.info())"
      ]
    },
    {
      "cell_type": "markdown",
      "metadata": {
        "id": "5boruWk2rQ22"
      },
      "source": [
        "#### Balanceo de Clases\n",
        "\n",
        "Vamos a incrementar la cantidad de filas donde churn es 1 para aproximar a 50:50. Utilizaremos SMOTE para rebalancear las clases con sobremuestreo aleatorio."
      ]
    },
    {
      "cell_type": "code",
      "execution_count": null,
      "metadata": {
        "id": "S9JSZBnJrQ22",
        "outputId": "26061d79-fbee-4ee5-efd6-4d1779267485"
      },
      "outputs": [
        {
          "name": "stdout",
          "output_type": "stream",
          "text": [
            "Requirement already satisfied: imbalanced-learn in /home/jovyan/.local/lib/python3.9/site-packages (0.12.4)\n",
            "Requirement already satisfied: numpy>=1.17.3 in /opt/conda/envs/python3/lib/python3.9/site-packages (from imbalanced-learn) (1.21.2)\n",
            "Requirement already satisfied: scipy>=1.5.0 in /opt/conda/envs/python3/lib/python3.9/site-packages (from imbalanced-learn) (1.10.1)\n",
            "Requirement already satisfied: scikit-learn>=1.0.2 in /home/jovyan/.local/lib/python3.9/site-packages (from imbalanced-learn) (1.6.1)\n",
            "Requirement already satisfied: joblib>=1.1.1 in /opt/conda/envs/python3/lib/python3.9/site-packages (from imbalanced-learn) (1.4.2)\n",
            "Requirement already satisfied: threadpoolctl>=2.0.0 in /opt/conda/envs/python3/lib/python3.9/site-packages (from imbalanced-learn) (3.5.0)\n",
            "Note: you may need to restart the kernel to use updated packages.\n"
          ]
        }
      ],
      "source": [
        "pip install --user imbalanced-learn"
      ]
    },
    {
      "cell_type": "code",
      "execution_count": null,
      "metadata": {
        "scrolled": true,
        "id": "W50GfBEmrQ22",
        "outputId": "2585dbc4-5775-404c-cbf6-cbf341321307"
      },
      "outputs": [
        {
          "name": "stdout",
          "output_type": "stream",
          "text": [
            "0    5174\n",
            "1    5174\n",
            "Name: Churn, dtype: int64\n"
          ]
        }
      ],
      "source": [
        "from imblearn.over_sampling import SMOTE\n",
        "\n",
        "features = df_encoded_filtered.drop('Churn',axis=1)\n",
        "target = df_encoded_filtered['Churn']\n",
        "\n",
        "smote = SMOTE(random_state=12345)\n",
        "features_resampled, target_resampled = smote.fit_resample(features,target)\n",
        "\n",
        "df_resampled = pd.DataFrame(features_resampled, columns=features.columns)\n",
        "df_resampled['Churn'] = target_resampled\n",
        "\n",
        "print(df_resampled['Churn'].value_counts())"
      ]
    },
    {
      "cell_type": "markdown",
      "metadata": {
        "id": "TkOFAuOQrQ22"
      },
      "source": [
        "#### Escalado de MonthlyCharges y TotalCharges\n",
        "Vamos a escalar los datos continuos de cargos mensuales y totales para acercarlos a 1 y 0 y evitar que el modelo le de mucho peso."
      ]
    },
    {
      "cell_type": "code",
      "execution_count": null,
      "metadata": {
        "id": "ytO7aoJ8rQ22",
        "outputId": "3a01a628-22de-48bc-c8c6-713bfb87da6d"
      },
      "outputs": [
        {
          "data": {
            "text/html": [
              "<div>\n",
              "<style scoped>\n",
              "    .dataframe tbody tr th:only-of-type {\n",
              "        vertical-align: middle;\n",
              "    }\n",
              "\n",
              "    .dataframe tbody tr th {\n",
              "        vertical-align: top;\n",
              "    }\n",
              "\n",
              "    .dataframe thead th {\n",
              "        text-align: right;\n",
              "    }\n",
              "</style>\n",
              "<table border=\"1\" class=\"dataframe\">\n",
              "  <thead>\n",
              "    <tr style=\"text-align: right;\">\n",
              "      <th></th>\n",
              "      <th>Type_Month-to-month</th>\n",
              "      <th>InternetService_Fiber optic</th>\n",
              "      <th>PaymentMethod_Electronic check</th>\n",
              "      <th>MonthlyCharges</th>\n",
              "      <th>PaperlessBilling</th>\n",
              "      <th>SeniorCitizen</th>\n",
              "      <th>PaymentMethod_Bank transfer (automatic)</th>\n",
              "      <th>InternetService_DSL</th>\n",
              "      <th>PaymentMethod_Credit card (automatic)</th>\n",
              "      <th>Partner</th>\n",
              "      <th>Dependents</th>\n",
              "      <th>TechSupport</th>\n",
              "      <th>OnlineSecurity</th>\n",
              "      <th>Type_One year</th>\n",
              "      <th>TotalCharges</th>\n",
              "      <th>InternetService_No Service</th>\n",
              "      <th>Type_Two year</th>\n",
              "      <th>Churn</th>\n",
              "    </tr>\n",
              "  </thead>\n",
              "  <tbody>\n",
              "    <tr>\n",
              "      <th>0</th>\n",
              "      <td>1</td>\n",
              "      <td>0</td>\n",
              "      <td>1</td>\n",
              "      <td>-1.326002</td>\n",
              "      <td>1</td>\n",
              "      <td>0</td>\n",
              "      <td>0</td>\n",
              "      <td>1</td>\n",
              "      <td>0</td>\n",
              "      <td>1</td>\n",
              "      <td>0</td>\n",
              "      <td>0</td>\n",
              "      <td>0</td>\n",
              "      <td>0</td>\n",
              "      <td>-0.922351</td>\n",
              "      <td>0</td>\n",
              "      <td>0</td>\n",
              "      <td>0</td>\n",
              "    </tr>\n",
              "    <tr>\n",
              "      <th>1</th>\n",
              "      <td>0</td>\n",
              "      <td>0</td>\n",
              "      <td>0</td>\n",
              "      <td>-0.379446</td>\n",
              "      <td>0</td>\n",
              "      <td>0</td>\n",
              "      <td>0</td>\n",
              "      <td>1</td>\n",
              "      <td>0</td>\n",
              "      <td>0</td>\n",
              "      <td>0</td>\n",
              "      <td>0</td>\n",
              "      <td>1</td>\n",
              "      <td>1</td>\n",
              "      <td>-0.067506</td>\n",
              "      <td>0</td>\n",
              "      <td>0</td>\n",
              "      <td>0</td>\n",
              "    </tr>\n",
              "    <tr>\n",
              "      <th>2</th>\n",
              "      <td>1</td>\n",
              "      <td>0</td>\n",
              "      <td>0</td>\n",
              "      <td>-0.487724</td>\n",
              "      <td>1</td>\n",
              "      <td>0</td>\n",
              "      <td>0</td>\n",
              "      <td>1</td>\n",
              "      <td>0</td>\n",
              "      <td>0</td>\n",
              "      <td>0</td>\n",
              "      <td>0</td>\n",
              "      <td>1</td>\n",
              "      <td>0</td>\n",
              "      <td>-0.886358</td>\n",
              "      <td>0</td>\n",
              "      <td>0</td>\n",
              "      <td>1</td>\n",
              "    </tr>\n",
              "    <tr>\n",
              "      <th>3</th>\n",
              "      <td>0</td>\n",
              "      <td>0</td>\n",
              "      <td>0</td>\n",
              "      <td>-0.891145</td>\n",
              "      <td>0</td>\n",
              "      <td>0</td>\n",
              "      <td>1</td>\n",
              "      <td>1</td>\n",
              "      <td>0</td>\n",
              "      <td>0</td>\n",
              "      <td>0</td>\n",
              "      <td>1</td>\n",
              "      <td>1</td>\n",
              "      <td>1</td>\n",
              "      <td>-0.089916</td>\n",
              "      <td>0</td>\n",
              "      <td>0</td>\n",
              "      <td>0</td>\n",
              "    </tr>\n",
              "    <tr>\n",
              "      <th>4</th>\n",
              "      <td>1</td>\n",
              "      <td>1</td>\n",
              "      <td>1</td>\n",
              "      <td>0.100818</td>\n",
              "      <td>1</td>\n",
              "      <td>0</td>\n",
              "      <td>0</td>\n",
              "      <td>0</td>\n",
              "      <td>0</td>\n",
              "      <td>0</td>\n",
              "      <td>0</td>\n",
              "      <td>0</td>\n",
              "      <td>0</td>\n",
              "      <td>0</td>\n",
              "      <td>-0.866362</td>\n",
              "      <td>0</td>\n",
              "      <td>0</td>\n",
              "      <td>1</td>\n",
              "    </tr>\n",
              "  </tbody>\n",
              "</table>\n",
              "</div>"
            ],
            "text/plain": [
              "   Type_Month-to-month  InternetService_Fiber optic  \\\n",
              "0                    1                            0   \n",
              "1                    0                            0   \n",
              "2                    1                            0   \n",
              "3                    0                            0   \n",
              "4                    1                            1   \n",
              "\n",
              "   PaymentMethod_Electronic check  MonthlyCharges  PaperlessBilling  \\\n",
              "0                               1       -1.326002                 1   \n",
              "1                               0       -0.379446                 0   \n",
              "2                               0       -0.487724                 1   \n",
              "3                               0       -0.891145                 0   \n",
              "4                               1        0.100818                 1   \n",
              "\n",
              "   SeniorCitizen  PaymentMethod_Bank transfer (automatic)  \\\n",
              "0              0                                        0   \n",
              "1              0                                        0   \n",
              "2              0                                        0   \n",
              "3              0                                        1   \n",
              "4              0                                        0   \n",
              "\n",
              "   InternetService_DSL  PaymentMethod_Credit card (automatic)  Partner  \\\n",
              "0                    1                                      0        1   \n",
              "1                    1                                      0        0   \n",
              "2                    1                                      0        0   \n",
              "3                    1                                      0        0   \n",
              "4                    0                                      0        0   \n",
              "\n",
              "   Dependents  TechSupport  OnlineSecurity  Type_One year  TotalCharges  \\\n",
              "0           0            0               0              0     -0.922351   \n",
              "1           0            0               1              1     -0.067506   \n",
              "2           0            0               1              0     -0.886358   \n",
              "3           0            1               1              1     -0.089916   \n",
              "4           0            0               0              0     -0.866362   \n",
              "\n",
              "   InternetService_No Service  Type_Two year  Churn  \n",
              "0                           0              0      0  \n",
              "1                           0              0      0  \n",
              "2                           0              0      1  \n",
              "3                           0              0      0  \n",
              "4                           0              0      1  "
            ]
          },
          "execution_count": 43,
          "metadata": {},
          "output_type": "execute_result"
        }
      ],
      "source": [
        "from sklearn.preprocessing import StandardScaler\n",
        "\n",
        "scaler = StandardScaler()\n",
        "df_resampled[['MonthlyCharges','TotalCharges']] = scaler.fit_transform(df_resampled[['MonthlyCharges','TotalCharges']])\n",
        "\n",
        "df_resampled.head()"
      ]
    },
    {
      "cell_type": "markdown",
      "metadata": {
        "id": "CkbrLY25rQ23"
      },
      "source": [
        "## Modelado\n",
        "\n",
        "Con nuestras clases balanceadas, caracteristicas con OHE, filtradas por correlación mayor a 0.1 y catacterísticas continuas escaladas, podemos empezar a modelar y a evaluar las predicciones, para luego modificar y mejorar."
      ]
    },
    {
      "cell_type": "markdown",
      "metadata": {
        "id": "x1LBpZFVrQ23"
      },
      "source": [
        "### Separación de Datos de Entrenamiento y Validación\n",
        "\n",
        "Vamos a separar 80% del dataframe para entrenamiento y 20% para validación."
      ]
    },
    {
      "cell_type": "code",
      "execution_count": null,
      "metadata": {
        "id": "W3jLtsvOrQ23"
      },
      "outputs": [],
      "source": [
        "features = df_resampled.drop('Churn',axis=1)\n",
        "target = df_resampled['Churn']\n",
        "\n",
        "features_train, features_test, target_train, target_test = train_test_split(features, target, test_size=0.2, random_state=12345)"
      ]
    },
    {
      "cell_type": "markdown",
      "metadata": {
        "id": "Kj2VQA-HrQ23"
      },
      "source": [
        "### RandomForestClassifier"
      ]
    },
    {
      "cell_type": "code",
      "execution_count": null,
      "metadata": {
        "id": "dFb3qBewrQ23"
      },
      "outputs": [],
      "source": [
        "model = RandomForestClassifier(random_state=12345)\n",
        "\n",
        "\n",
        "param_grid = {\n",
        "    'n_estimators': [100, 200],\n",
        "    'max_depth': [None, 10],\n",
        "    'min_samples_split': [2, 5],\n",
        "    'min_samples_leaf': [1, 2],\n",
        "    'bootstrap': [True]\n",
        "}\n",
        "\n",
        "\n",
        "grid_search = GridSearchCV(estimator=model, param_grid=param_grid, cv=5, scoring='f1', n_jobs=-1)\n",
        "grid_search.fit(features_train, target_train)\n",
        "\n",
        "\n",
        "best_params = grid_search.best_params_\n",
        "best_model = grid_search.best_estimator_"
      ]
    },
    {
      "cell_type": "code",
      "execution_count": null,
      "metadata": {
        "scrolled": false,
        "id": "IEc6ZsnGrQ23",
        "outputId": "26a7238f-1aa4-417d-fecf-8e686069ebb8"
      },
      "outputs": [
        {
          "name": "stdout",
          "output_type": "stream",
          "text": [
            "Mejores parámetros: {'bootstrap': True, 'max_depth': None, 'min_samples_leaf': 2, 'min_samples_split': 2, 'n_estimators': 200}\n",
            "              precision    recall  f1-score   support\n",
            "\n",
            "           0       0.83      0.83      0.83      1007\n",
            "           1       0.84      0.84      0.84      1063\n",
            "\n",
            "    accuracy                           0.84      2070\n",
            "   macro avg       0.84      0.84      0.84      2070\n",
            "weighted avg       0.84      0.84      0.84      2070\n",
            "\n"
          ]
        }
      ],
      "source": [
        "target_predict = best_model.predict(features_test)\n",
        "\n",
        "target_probs = best_model.predict_proba(features_test)[:, 1]\n",
        "\n",
        "print('Mejores parámetros:',best_params)\n",
        "print(classification_report(target_test, target_predict))"
      ]
    },
    {
      "cell_type": "code",
      "execution_count": null,
      "metadata": {
        "id": "gGG3hNNxrQ23",
        "outputId": "b4069466-64e9-4649-a156-9100aeb3106b"
      },
      "outputs": [
        {
          "data": {
            "image/png": "[encoded data removed]",
            "text/plain": [
              "<Figure size 800x600 with 1 Axes>"
            ]
          },
          "metadata": {},
          "output_type": "display_data"
        }
      ],
      "source": [
        "fpr, tpr, _ = roc_curve(target_test, target_probs)\n",
        "roc_auc = auc(fpr, tpr)\n",
        "\n",
        "plt.figure(figsize=(8,6))\n",
        "plt.plot(fpr, tpr, color='blue', label=f'ROC curve (AUC = {roc_auc:.2f})')\n",
        "plt.plot([0, 1], [0, 1], color='grey', linestyle='--')\n",
        "plt.xlabel('False Positive Rate')\n",
        "plt.ylabel('True Positive Rate')\n",
        "plt.title('Curva ROC')\n",
        "plt.legend(loc=\"lower right\")\n",
        "plt.show()"
      ]
    },
    {
      "cell_type": "markdown",
      "metadata": {
        "id": "-adSXwRHrQ23"
      },
      "source": [
        "### LogisticRegressor"
      ]
    },
    {
      "cell_type": "code",
      "execution_count": null,
      "metadata": {
        "id": "uxbxfSDOrQ23"
      },
      "outputs": [],
      "source": [
        "model_lr = LogisticRegression(solver='liblinear',random_state=12345, max_iter = 10000)\n",
        "\n",
        "model_lr.fit(features_train, target_train)\n",
        "\n",
        "target_predict_lr = model_lr.predict(features_test)"
      ]
    },
    {
      "cell_type": "code",
      "execution_count": null,
      "metadata": {
        "scrolled": true,
        "id": "86x5Z6VBrQ23",
        "outputId": "4f87e2a8-1a89-46bf-8755-8dc627c98afb"
      },
      "outputs": [
        {
          "name": "stdout",
          "output_type": "stream",
          "text": [
            "              precision    recall  f1-score   support\n",
            "\n",
            "           0       0.82      0.80      0.81      1007\n",
            "           1       0.82      0.84      0.83      1063\n",
            "\n",
            "    accuracy                           0.82      2070\n",
            "   macro avg       0.82      0.82      0.82      2070\n",
            "weighted avg       0.82      0.82      0.82      2070\n",
            "\n"
          ]
        }
      ],
      "source": [
        "print(classification_report(target_test,target_predict_lr))"
      ]
    },
    {
      "cell_type": "code",
      "execution_count": null,
      "metadata": {
        "id": "UZoVY142rQ23",
        "outputId": "4287b2ce-6442-4271-ff72-53ee255e0221"
      },
      "outputs": [
        {
          "data": {
            "image/png": "[encoded data removed]",
            "text/plain": [
              "<Figure size 800x600 with 1 Axes>"
            ]
          },
          "metadata": {},
          "output_type": "display_data"
        }
      ],
      "source": [
        "target_probs = model_lr.predict_proba(features_test)[:, 1]\n",
        "fpr, tpr, _ = roc_curve(target_test, target_probs)\n",
        "roc_auc = auc(fpr, tpr)\n",
        "\n",
        "plt.figure(figsize=(8,6))\n",
        "plt.plot(fpr, tpr, color='blue', label=f'ROC curve (AUC = {roc_auc:.2f})')\n",
        "plt.plot([0, 1], [0, 1], color='grey', linestyle='--')\n",
        "plt.xlabel('False Positive Rate')\n",
        "plt.ylabel('True Positive Rate')\n",
        "plt.title('Curva ROC')\n",
        "plt.legend(loc=\"lower right\")\n",
        "plt.show()"
      ]
    },
    {
      "cell_type": "markdown",
      "metadata": {
        "id": "Vo7lTv5drQ24"
      },
      "source": [
        "### XGBoost"
      ]
    },
    {
      "cell_type": "code",
      "execution_count": null,
      "metadata": {
        "id": "Q2Wac3sYrQ24",
        "outputId": "9fcd0df7-6d7c-4bb8-9328-7dda3eaf1be8"
      },
      "outputs": [
        {
          "name": "stderr",
          "output_type": "stream",
          "text": [
            "/opt/conda/envs/python3/lib/python3.9/site-packages/xgboost/sklearn.py:1224: UserWarning: The use of label encoder in XGBClassifier is deprecated and will be removed in a future release. To remove this warning, do the following: 1) Pass option use_label_encoder=False when constructing XGBClassifier object; and 2) Encode your labels (y) as integers starting with 0, i.e. 0, 1, 2, ..., [num_class - 1].\n",
            "  warnings.warn(label_encoder_deprecation_msg, UserWarning)\n"
          ]
        },
        {
          "name": "stdout",
          "output_type": "stream",
          "text": [
            "[23:39:52] WARNING: ../src/learner.cc:1115: Starting in XGBoost 1.3.0, the default evaluation metric used with the objective 'binary:logistic' was changed from 'error' to 'logloss'. Explicitly set eval_metric if you'd like to restore the old behavior.\n"
          ]
        }
      ],
      "source": [
        "model_xgb = XGBClassifier()\n",
        "model_xgb.fit(features_train, target_train)\n",
        "target_predict_xgb = model_xgb.predict(features_test)"
      ]
    },
    {
      "cell_type": "code",
      "execution_count": null,
      "metadata": {
        "scrolled": true,
        "id": "ijdIzCrdrQ24",
        "outputId": "7f1f80e5-5039-4ee4-f23b-3f86c02fd910"
      },
      "outputs": [
        {
          "name": "stdout",
          "output_type": "stream",
          "text": [
            "              precision    recall  f1-score   support\n",
            "\n",
            "           0       0.84      0.84      0.84      1007\n",
            "           1       0.84      0.84      0.84      1063\n",
            "\n",
            "    accuracy                           0.84      2070\n",
            "   macro avg       0.84      0.84      0.84      2070\n",
            "weighted avg       0.84      0.84      0.84      2070\n",
            "\n"
          ]
        }
      ],
      "source": [
        "print(classification_report(target_test,target_predict_xgb))"
      ]
    },
    {
      "cell_type": "code",
      "execution_count": null,
      "metadata": {
        "id": "onTj9ef5rQ24",
        "outputId": "af386c5b-e98d-492c-d91d-4c8c9911384f"
      },
      "outputs": [
        {
          "data": {
            "image/png": "[encoded data removed]",
            "text/plain": [
              "<Figure size 800x600 with 1 Axes>"
            ]
          },
          "metadata": {},
          "output_type": "display_data"
        }
      ],
      "source": [
        "target_probs = model_xgb.predict_proba(features_test)[:, 1]\n",
        "fpr, tpr, _ = roc_curve(target_test, target_probs)\n",
        "roc_auc = auc(fpr, tpr)\n",
        "\n",
        "plt.figure(figsize=(8,6))\n",
        "plt.plot(fpr, tpr, color='blue', label=f'ROC curve (AUC = {roc_auc:.2f})')\n",
        "plt.plot([0, 1], [0, 1], color='grey', linestyle='--')\n",
        "plt.xlabel('False Positive Rate')\n",
        "plt.ylabel('True Positive Rate')\n",
        "plt.title('Curva ROC')\n",
        "plt.legend(loc=\"lower right\")\n",
        "plt.show()"
      ]
    },
    {
      "cell_type": "markdown",
      "metadata": {
        "id": "7eoNDT-vrQ24"
      },
      "source": [
        "## Conclusiones"
      ]
    },
    {
      "cell_type": "markdown",
      "metadata": {
        "id": "ZHU7WpjXrQ24"
      },
      "source": [
        "En este proyecto se desarrolló un modelo predictivo con el objetivo de identificar a los clientes de Interconnect que tienen mayor probabilidad de cancelar su contrato. Para lograrlo, se siguió un proceso estructurado que incluyó varias etapas clave.\n",
        "\n",
        "Primero, se importaron cuatro conjuntos de datos con información relevante: datos personales, uso de internet, detalles de contrato y registros de telefonía. A continuación, se realizó una limpieza detallada de los datos, completando valores faltantes, revisando posibles inconsistencias y generando la variable objetivo \"churn\".\n",
        "\n",
        "Una vez limpia la información, se llevó a cabo un análisis exploratorio para entender mejor el comportamiento de los clientes. Se utilizaron gráficos y estadísticas descriptivas para detectar patrones y tendencias. Posteriormente, se unificaron los cuatro dataframes en una sola base consolidada, lo que permitió analizar la correlación entre variables y determinar cuáles estaban más relacionadas con la cancelación del servicio.\n",
        "\n",
        "Dado que la variable \"churn\" presentaba un desbalance en las clases, se aplicaron técnicas para equilibrar la proporción de clientes que cancelaron vs. los que no, buscando una distribución más equitativa (50:50). Además, se transformaron las variables categóricas mediante one hot encoding y se escalaron aquellas que no eran binarias, asegurando que todas estuvieran en un formato adecuado para el entrenamiento.\n",
        "\n",
        "Se probaron tres modelos de clasificación: XGBoost, Random Forest y Regresión Logística. Entre ellos, XGBoost fue el que mostró el mejor desempeño, alcanzando un valor F1 de 0.84, lo que lo posiciona como el modelo más preciso en la predicción de clientes propensos a cancelar.\n",
        "\n",
        "Gracias a este modelo, Interconnect ahora cuenta con una herramienta poderosa para anticiparse a la pérdida de clientes, permitiendo implementar estrategias de retención más efectivas y mejorar la experiencia general del usuario.\n"
      ]
    },
    {
      "cell_type": "markdown",
      "metadata": {
        "id": "3SCvwBhIrQ25"
      },
      "source": [
        "## Informe de solución"
      ]
    },
    {
      "cell_type": "markdown",
      "metadata": {
        "id": "KvbEcgb_rQ25"
      },
      "source": [
        "### ¿Qué pasos del plan se realizaron y qué pasos se omitieron (explica por qué)?\n"
      ]
    },
    {
      "cell_type": "markdown",
      "metadata": {
        "id": "qR6uahtNrQ25"
      },
      "source": [
        "Se realizaron las siguientes acciones en el desarrollo del proyecto:\n",
        "- Fase 1: Verificación de duplicados, valores nulos y tipos de datos, seguida de visualizaciones iniciales para comprender la distribución de los datos.\n",
        "- Fase 2: Conversión de variables, creación de la columna Churn y revisión del balanceo de clases.\n",
        "- Fase 3: Análisis de correlación para identificar relaciones entre variables. Se eliminaron columnas de bajo valor según los resultados obtenidos y se llevó a cabo la fusión (merge) de las cuatro bases de datos.\n",
        "- Fase 4: Transformación mediante One-Hot Encoding, escalamiento de datos y balanceo de clases con SMOTE.\n",
        "- Fase 5: Modelado utilizando XGBoost, regresión logística y RandomForestClassifier. Evaluación de modelos con métricas clave: F1, Recall, Accuracy y curvas ROC AUC.\n",
        "- Fase 6: Elaboración de recomendaciones y comentarios finales sobre el desempeño de los modelos.\n",
        "\n",
        "Ningún paso en específico fue omitido.\n"
      ]
    },
    {
      "cell_type": "markdown",
      "metadata": {
        "id": "cpaYQ4-drQ25"
      },
      "source": [
        "### ¿Qué dificultades encontraste y cómo lograste resolverlas?\n",
        "\n",
        "Se presentó un poco de problema el tema del desbalanceo de clases, ya que al rededor de 25% eran 1 en Churn y 75% eran 0. Esto se resolvió usando SMOTE para generar entradas sintéticas de la clase de menor frecuencia y que nuestros modelos no se vean afectados. También se trabajó escalando los cargos totales y mensuales para que no fueran a afectar mucho los pesos de los modelos."
      ]
    },
    {
      "cell_type": "markdown",
      "metadata": {
        "id": "oLdpuAocrQ25"
      },
      "source": [
        "### ¿Cuáles fueron algunos de los pasos clave para resolver la tarea?\n",
        "\n",
        "Fue clave la generación de la columna Churn, nuestro objetivo. A priori no estaba incluido en los dataframes, así que crearla era básico para tener un objetivo para nuestros modelos. Clave también fue hacer joins de todos las bases de datos y poder tener un dataframe completo con todos nuestros features. Lo demás es cuestión de limpieza y balanceo, también importantes, sin embargo sin una columna objetivo, no habría un modelo que entrenar en primer lugar."
      ]
    },
    {
      "cell_type": "markdown",
      "metadata": {
        "id": "ZkfWyvt3rQ25"
      },
      "source": [
        "### ¿Cuál es tu modelo final y qué nivel de calidad tiene?\n",
        "\n",
        "Eligiría XGBoost ya que obtuvo los mejores números en los métricos F1, precisión y recall, 0.84 y AUC ROC de 0.92. Es muy buen modelo al tener alto rendimiento y velocidad, maneja automáticamente valores nulos, e incorpora regularización L1 y L2."
      ]
    },
    {
      "cell_type": "markdown",
      "metadata": {
        "id": "OlecYewOrQ25"
      },
      "source": [
        "# Comentario general del revisor"
      ]
    },
    {
      "cell_type": "code",
      "execution_count": null,
      "metadata": {
        "id": "Yzfyu9kDrQ25"
      },
      "outputs": [],
      "source": []
    }
  ],
  "metadata": {
    "ExecuteTimeLog": [
      {
        "duration": 2556,
        "start_time": "2025-04-15T00:36:39.708Z"
      },
      {
        "duration": 30,
        "start_time": "2025-04-15T00:37:46.990Z"
      },
      {
        "duration": 132,
        "start_time": "2025-04-15T00:58:22.654Z"
      },
      {
        "duration": 10,
        "start_time": "2025-04-15T00:58:48.441Z"
      },
      {
        "duration": 9,
        "start_time": "2025-04-15T00:59:00.939Z"
      },
      {
        "duration": 9,
        "start_time": "2025-04-15T00:59:09.625Z"
      },
      {
        "duration": 9,
        "start_time": "2025-04-15T00:59:17.379Z"
      },
      {
        "duration": 12,
        "start_time": "2025-04-15T00:59:49.120Z"
      },
      {
        "duration": 37,
        "start_time": "2025-04-15T01:05:08.868Z"
      },
      {
        "duration": 10,
        "start_time": "2025-04-15T01:05:10.492Z"
      },
      {
        "duration": 10,
        "start_time": "2025-04-15T01:05:10.697Z"
      },
      {
        "duration": 9,
        "start_time": "2025-04-15T01:05:10.872Z"
      },
      {
        "duration": 8,
        "start_time": "2025-04-15T01:05:11.047Z"
      },
      {
        "duration": 10,
        "start_time": "2025-04-15T01:05:11.653Z"
      },
      {
        "duration": 497,
        "start_time": "2025-04-15T01:11:00.656Z"
      },
      {
        "duration": 8,
        "start_time": "2025-04-15T01:11:11.785Z"
      },
      {
        "duration": 21,
        "start_time": "2025-04-15T01:12:32.865Z"
      },
      {
        "duration": 9,
        "start_time": "2025-04-15T01:14:22.736Z"
      },
      {
        "duration": 14,
        "start_time": "2025-04-15T01:14:38.214Z"
      },
      {
        "duration": 15,
        "start_time": "2025-04-15T01:16:15.419Z"
      },
      {
        "duration": 214,
        "start_time": "2025-04-15T01:20:34.265Z"
      },
      {
        "duration": 644,
        "start_time": "2025-04-15T01:20:41.134Z"
      },
      {
        "duration": 42,
        "start_time": "2025-04-15T01:21:21.690Z"
      },
      {
        "duration": 4,
        "start_time": "2025-04-15T01:21:53.693Z"
      },
      {
        "duration": 4,
        "start_time": "2025-04-15T01:23:31.446Z"
      },
      {
        "duration": 6,
        "start_time": "2025-04-15T01:23:35.350Z"
      },
      {
        "duration": 6,
        "start_time": "2025-04-15T01:25:33.419Z"
      },
      {
        "duration": 6,
        "start_time": "2025-04-15T01:25:37.845Z"
      },
      {
        "duration": 7,
        "start_time": "2025-04-15T01:25:42.095Z"
      },
      {
        "duration": 4,
        "start_time": "2025-04-15T01:26:21.080Z"
      },
      {
        "duration": 5,
        "start_time": "2025-04-15T01:27:02.467Z"
      },
      {
        "duration": 9,
        "start_time": "2025-04-15T01:28:29.617Z"
      },
      {
        "duration": 9,
        "start_time": "2025-04-15T01:28:47.179Z"
      },
      {
        "duration": 145,
        "start_time": "2025-04-15T01:28:53.812Z"
      },
      {
        "duration": 7,
        "start_time": "2025-04-15T01:28:59.679Z"
      },
      {
        "duration": 8,
        "start_time": "2025-04-15T01:29:05.599Z"
      },
      {
        "duration": 17,
        "start_time": "2025-04-15T01:29:45.409Z"
      },
      {
        "duration": 8,
        "start_time": "2025-04-15T01:29:51.712Z"
      },
      {
        "duration": 5,
        "start_time": "2025-04-15T01:29:56.507Z"
      },
      {
        "duration": 6,
        "start_time": "2025-04-15T01:30:14.880Z"
      },
      {
        "duration": 5,
        "start_time": "2025-04-15T01:30:41.499Z"
      },
      {
        "duration": 14,
        "start_time": "2025-04-15T01:31:17.327Z"
      },
      {
        "duration": 5,
        "start_time": "2025-04-15T01:31:21.749Z"
      },
      {
        "duration": 4,
        "start_time": "2025-04-15T01:31:30.720Z"
      },
      {
        "duration": 4,
        "start_time": "2025-04-15T01:31:34.022Z"
      },
      {
        "duration": 5,
        "start_time": "2025-04-15T01:31:58.784Z"
      },
      {
        "duration": 5,
        "start_time": "2025-04-15T01:32:03.342Z"
      },
      {
        "duration": 4,
        "start_time": "2025-04-15T01:32:26.045Z"
      },
      {
        "duration": 5,
        "start_time": "2025-04-15T01:32:30.409Z"
      },
      {
        "duration": 4,
        "start_time": "2025-04-15T01:32:40.546Z"
      },
      {
        "duration": 5,
        "start_time": "2025-04-15T01:33:00.040Z"
      },
      {
        "duration": 5,
        "start_time": "2025-04-15T01:33:24.438Z"
      },
      {
        "duration": 5,
        "start_time": "2025-04-15T01:33:37.945Z"
      },
      {
        "duration": 6,
        "start_time": "2025-04-15T01:33:45.750Z"
      },
      {
        "duration": 43,
        "start_time": "2025-04-15T01:34:16.111Z"
      },
      {
        "duration": 6,
        "start_time": "2025-04-15T01:34:20.640Z"
      },
      {
        "duration": 7,
        "start_time": "2025-04-15T01:34:29.843Z"
      },
      {
        "duration": 7,
        "start_time": "2025-04-15T01:34:34.961Z"
      },
      {
        "duration": 9,
        "start_time": "2025-04-15T01:35:23.889Z"
      },
      {
        "duration": 5,
        "start_time": "2025-04-15T01:38:43.839Z"
      },
      {
        "duration": 12,
        "start_time": "2025-04-15T01:38:47.179Z"
      },
      {
        "duration": 818,
        "start_time": "2025-04-15T01:39:06.674Z"
      },
      {
        "duration": 38,
        "start_time": "2025-04-15T01:39:07.496Z"
      },
      {
        "duration": 19,
        "start_time": "2025-04-15T01:39:07.536Z"
      },
      {
        "duration": 13,
        "start_time": "2025-04-15T01:39:07.557Z"
      },
      {
        "duration": 11,
        "start_time": "2025-04-15T01:39:07.572Z"
      },
      {
        "duration": 9,
        "start_time": "2025-04-15T01:39:07.584Z"
      },
      {
        "duration": 16,
        "start_time": "2025-04-15T01:39:07.595Z"
      },
      {
        "duration": 10,
        "start_time": "2025-04-15T01:39:07.613Z"
      },
      {
        "duration": 67,
        "start_time": "2025-04-15T01:39:07.625Z"
      },
      {
        "duration": 9,
        "start_time": "2025-04-15T01:39:21.227Z"
      },
      {
        "duration": 31,
        "start_time": "2025-04-15T01:40:37.242Z"
      },
      {
        "duration": 6,
        "start_time": "2025-04-15T01:40:46.273Z"
      },
      {
        "duration": 8,
        "start_time": "2025-04-15T01:40:59.103Z"
      },
      {
        "duration": 12,
        "start_time": "2025-04-15T01:41:04.661Z"
      },
      {
        "duration": 12,
        "start_time": "2025-04-15T01:41:38.190Z"
      },
      {
        "duration": 303,
        "start_time": "2025-04-15T01:46:26.774Z"
      },
      {
        "duration": 5,
        "start_time": "2025-04-15T01:46:37.652Z"
      },
      {
        "duration": 270,
        "start_time": "2025-04-15T01:46:54.071Z"
      },
      {
        "duration": 13,
        "start_time": "2025-04-15T01:48:44.685Z"
      },
      {
        "duration": 17,
        "start_time": "2025-04-15T01:48:52.797Z"
      },
      {
        "duration": 763,
        "start_time": "2025-04-15T02:14:42.229Z"
      },
      {
        "duration": 38,
        "start_time": "2025-04-15T02:14:42.994Z"
      },
      {
        "duration": 18,
        "start_time": "2025-04-15T02:14:43.033Z"
      },
      {
        "duration": 8,
        "start_time": "2025-04-15T02:15:15.266Z"
      },
      {
        "duration": 7,
        "start_time": "2025-04-15T02:15:21.123Z"
      },
      {
        "duration": 13,
        "start_time": "2025-04-15T02:15:23.955Z"
      },
      {
        "duration": 14,
        "start_time": "2025-04-15T02:17:02.784Z"
      },
      {
        "duration": 2,
        "start_time": "2025-04-15T02:17:35.539Z"
      },
      {
        "duration": 3,
        "start_time": "2025-04-15T02:17:39.478Z"
      },
      {
        "duration": 11,
        "start_time": "2025-04-15T02:18:16.989Z"
      },
      {
        "duration": 267,
        "start_time": "2025-04-15T02:22:49.209Z"
      },
      {
        "duration": 13,
        "start_time": "2025-04-15T02:22:55.857Z"
      },
      {
        "duration": 13,
        "start_time": "2025-04-15T02:23:09.083Z"
      },
      {
        "duration": 13,
        "start_time": "2025-04-15T02:23:19.934Z"
      },
      {
        "duration": 14,
        "start_time": "2025-04-15T02:23:28.126Z"
      },
      {
        "duration": 3,
        "start_time": "2025-04-15T02:23:32.808Z"
      },
      {
        "duration": 6,
        "start_time": "2025-04-15T02:23:35.822Z"
      },
      {
        "duration": 15,
        "start_time": "2025-04-15T02:24:29.349Z"
      },
      {
        "duration": 99,
        "start_time": "2025-04-15T02:24:35.188Z"
      },
      {
        "duration": 43,
        "start_time": "2025-04-15T02:25:07.606Z"
      },
      {
        "duration": 15,
        "start_time": "2025-04-15T02:25:14.103Z"
      },
      {
        "duration": 79,
        "start_time": "2025-04-15T02:25:29.221Z"
      },
      {
        "duration": 6,
        "start_time": "2025-04-15T02:26:51.840Z"
      },
      {
        "duration": 7,
        "start_time": "2025-04-15T02:26:58.104Z"
      },
      {
        "duration": 75,
        "start_time": "2025-04-15T02:28:19.220Z"
      },
      {
        "duration": 96,
        "start_time": "2025-04-15T02:29:21.537Z"
      },
      {
        "duration": 79,
        "start_time": "2025-04-15T02:31:18.059Z"
      },
      {
        "duration": 80,
        "start_time": "2025-04-15T02:34:13.303Z"
      },
      {
        "duration": 78,
        "start_time": "2025-04-15T02:34:18.937Z"
      },
      {
        "duration": 79,
        "start_time": "2025-04-15T02:34:35.591Z"
      },
      {
        "duration": 81,
        "start_time": "2025-04-15T02:34:48.810Z"
      },
      {
        "duration": 81,
        "start_time": "2025-04-15T02:35:09.902Z"
      },
      {
        "duration": 4,
        "start_time": "2025-04-15T02:38:16.627Z"
      },
      {
        "duration": 3,
        "start_time": "2025-04-15T02:38:19.567Z"
      },
      {
        "duration": 10,
        "start_time": "2025-04-15T02:38:26.102Z"
      },
      {
        "duration": 408,
        "start_time": "2025-04-15T02:38:45.464Z"
      },
      {
        "duration": 6,
        "start_time": "2025-04-15T02:38:53.502Z"
      },
      {
        "duration": 9,
        "start_time": "2025-04-15T02:38:58.405Z"
      },
      {
        "duration": 16,
        "start_time": "2025-04-15T02:39:30.222Z"
      },
      {
        "duration": 7,
        "start_time": "2025-04-15T02:39:35.514Z"
      },
      {
        "duration": 8,
        "start_time": "2025-04-15T02:39:46.850Z"
      },
      {
        "duration": 11,
        "start_time": "2025-04-15T02:40:06.317Z"
      },
      {
        "duration": 9,
        "start_time": "2025-04-15T02:40:19.674Z"
      },
      {
        "duration": 8,
        "start_time": "2025-04-15T02:40:40.720Z"
      },
      {
        "duration": 5,
        "start_time": "2025-04-15T02:40:52.044Z"
      },
      {
        "duration": 3,
        "start_time": "2025-04-15T02:41:28.916Z"
      },
      {
        "duration": 4,
        "start_time": "2025-04-15T02:41:31.604Z"
      },
      {
        "duration": 116,
        "start_time": "2025-04-15T02:41:44.817Z"
      },
      {
        "duration": 126,
        "start_time": "2025-04-15T02:42:47.240Z"
      },
      {
        "duration": 1001,
        "start_time": "2025-04-15T02:45:29.423Z"
      },
      {
        "duration": 118,
        "start_time": "2025-04-15T02:45:42.908Z"
      },
      {
        "duration": 123,
        "start_time": "2025-04-15T02:45:51.261Z"
      },
      {
        "duration": 153,
        "start_time": "2025-04-15T02:49:09.762Z"
      },
      {
        "duration": 4,
        "start_time": "2025-04-15T02:49:25.379Z"
      },
      {
        "duration": 14,
        "start_time": "2025-04-15T02:49:59.268Z"
      },
      {
        "duration": 80,
        "start_time": "2025-04-15T02:50:13.947Z"
      },
      {
        "duration": 78,
        "start_time": "2025-04-15T02:50:27.486Z"
      },
      {
        "duration": 4,
        "start_time": "2025-04-15T02:50:47.217Z"
      },
      {
        "duration": 76,
        "start_time": "2025-04-15T02:50:56.865Z"
      },
      {
        "duration": 410,
        "start_time": "2025-04-15T02:51:57.129Z"
      },
      {
        "duration": 77,
        "start_time": "2025-04-15T02:52:28.694Z"
      },
      {
        "duration": 87,
        "start_time": "2025-04-15T02:53:21.439Z"
      },
      {
        "duration": 88,
        "start_time": "2025-04-15T02:53:43.043Z"
      },
      {
        "duration": 85,
        "start_time": "2025-04-15T02:54:06.991Z"
      },
      {
        "duration": 103,
        "start_time": "2025-04-15T02:54:46.727Z"
      },
      {
        "duration": 828,
        "start_time": "2025-04-15T02:54:52.867Z"
      },
      {
        "duration": 48,
        "start_time": "2025-04-15T02:54:53.698Z"
      },
      {
        "duration": 20,
        "start_time": "2025-04-15T02:54:53.748Z"
      },
      {
        "duration": 8,
        "start_time": "2025-04-15T02:54:53.769Z"
      },
      {
        "duration": 7,
        "start_time": "2025-04-15T02:54:53.779Z"
      },
      {
        "duration": 12,
        "start_time": "2025-04-15T02:54:53.788Z"
      },
      {
        "duration": 13,
        "start_time": "2025-04-15T02:54:53.802Z"
      },
      {
        "duration": 55,
        "start_time": "2025-04-15T02:54:53.817Z"
      },
      {
        "duration": 10,
        "start_time": "2025-04-15T02:54:53.873Z"
      },
      {
        "duration": 24,
        "start_time": "2025-04-15T02:54:53.885Z"
      },
      {
        "duration": 124,
        "start_time": "2025-04-15T02:54:53.911Z"
      },
      {
        "duration": 157,
        "start_time": "2025-04-15T02:54:54.037Z"
      },
      {
        "duration": 87,
        "start_time": "2025-04-15T02:54:54.196Z"
      },
      {
        "duration": 125,
        "start_time": "2025-04-15T02:55:04.691Z"
      },
      {
        "duration": 84,
        "start_time": "2025-04-15T02:55:42.967Z"
      },
      {
        "duration": 308,
        "start_time": "2025-04-15T02:56:46.510Z"
      },
      {
        "duration": 86,
        "start_time": "2025-04-15T02:59:36.147Z"
      },
      {
        "duration": 536,
        "start_time": "2025-04-15T02:59:56.013Z"
      },
      {
        "duration": 117,
        "start_time": "2025-04-15T03:00:06.472Z"
      },
      {
        "duration": 167,
        "start_time": "2025-04-15T03:00:31.727Z"
      },
      {
        "duration": 87,
        "start_time": "2025-04-15T03:00:43.409Z"
      },
      {
        "duration": 93,
        "start_time": "2025-04-15T03:00:51.686Z"
      },
      {
        "duration": 95,
        "start_time": "2025-04-15T03:01:05.646Z"
      },
      {
        "duration": 94,
        "start_time": "2025-04-15T03:01:25.087Z"
      },
      {
        "duration": 96,
        "start_time": "2025-04-15T03:01:52.504Z"
      },
      {
        "duration": 91,
        "start_time": "2025-04-15T03:02:00.261Z"
      },
      {
        "duration": 11,
        "start_time": "2025-04-15T20:14:25.770Z"
      },
      {
        "duration": 7,
        "start_time": "2025-04-15T20:20:10.903Z"
      },
      {
        "duration": 2484,
        "start_time": "2025-04-15T22:17:39.464Z"
      },
      {
        "duration": 61,
        "start_time": "2025-04-15T22:17:41.951Z"
      },
      {
        "duration": 18,
        "start_time": "2025-04-15T22:17:42.014Z"
      },
      {
        "duration": 8,
        "start_time": "2025-04-15T22:17:42.034Z"
      },
      {
        "duration": 9,
        "start_time": "2025-04-15T22:17:45.340Z"
      },
      {
        "duration": 15,
        "start_time": "2025-04-15T22:17:45.352Z"
      },
      {
        "duration": 16,
        "start_time": "2025-04-15T22:17:45.369Z"
      },
      {
        "duration": 13,
        "start_time": "2025-04-15T22:17:45.387Z"
      },
      {
        "duration": 12,
        "start_time": "2025-04-15T22:17:45.403Z"
      },
      {
        "duration": 25,
        "start_time": "2025-04-15T22:17:45.417Z"
      },
      {
        "duration": 110,
        "start_time": "2025-04-15T22:17:45.444Z"
      },
      {
        "duration": 154,
        "start_time": "2025-04-15T22:17:48.801Z"
      },
      {
        "duration": 101,
        "start_time": "2025-04-15T22:17:48.957Z"
      },
      {
        "duration": 79,
        "start_time": "2025-04-15T22:19:09.604Z"
      },
      {
        "duration": 126,
        "start_time": "2025-04-15T22:21:10.962Z"
      },
      {
        "duration": 76,
        "start_time": "2025-04-15T22:21:23.463Z"
      },
      {
        "duration": 81,
        "start_time": "2025-04-15T22:21:28.962Z"
      },
      {
        "duration": 355,
        "start_time": "2025-04-15T22:22:33.586Z"
      },
      {
        "duration": 142,
        "start_time": "2025-04-15T22:22:50.004Z"
      },
      {
        "duration": 152,
        "start_time": "2025-04-15T22:24:08.482Z"
      },
      {
        "duration": 266,
        "start_time": "2025-04-15T22:24:24.415Z"
      },
      {
        "duration": 7,
        "start_time": "2025-04-15T22:24:54.065Z"
      },
      {
        "duration": 219,
        "start_time": "2025-04-15T22:24:59.543Z"
      },
      {
        "duration": 364,
        "start_time": "2025-04-15T22:25:08.972Z"
      },
      {
        "duration": 6,
        "start_time": "2025-04-15T22:27:52.489Z"
      },
      {
        "duration": 9,
        "start_time": "2025-04-15T22:28:03.518Z"
      },
      {
        "duration": 9,
        "start_time": "2025-04-15T22:28:51.329Z"
      },
      {
        "duration": 8,
        "start_time": "2025-04-15T22:29:04.257Z"
      },
      {
        "duration": 10,
        "start_time": "2025-04-15T22:29:08.640Z"
      },
      {
        "duration": 5,
        "start_time": "2025-04-15T22:36:38.841Z"
      },
      {
        "duration": 5,
        "start_time": "2025-04-15T22:37:45.687Z"
      },
      {
        "duration": 5,
        "start_time": "2025-04-15T22:37:49.416Z"
      },
      {
        "duration": 4,
        "start_time": "2025-04-15T22:38:49.200Z"
      },
      {
        "duration": 8,
        "start_time": "2025-04-16T01:42:54.812Z"
      },
      {
        "duration": 4,
        "start_time": "2025-04-16T01:43:04.021Z"
      },
      {
        "duration": 4,
        "start_time": "2025-04-16T01:43:08.744Z"
      },
      {
        "duration": 3,
        "start_time": "2025-04-16T01:43:17.340Z"
      },
      {
        "duration": 164,
        "start_time": "2025-04-16T01:43:20.576Z"
      },
      {
        "duration": 2634,
        "start_time": "2025-04-16T01:43:28.316Z"
      },
      {
        "duration": 61,
        "start_time": "2025-04-16T01:43:30.953Z"
      },
      {
        "duration": 18,
        "start_time": "2025-04-16T01:43:31.016Z"
      },
      {
        "duration": 7,
        "start_time": "2025-04-16T01:43:31.036Z"
      },
      {
        "duration": 7,
        "start_time": "2025-04-16T01:43:31.046Z"
      },
      {
        "duration": 11,
        "start_time": "2025-04-16T01:43:31.054Z"
      },
      {
        "duration": 38,
        "start_time": "2025-04-16T01:43:31.067Z"
      },
      {
        "duration": 4,
        "start_time": "2025-04-16T01:43:31.108Z"
      },
      {
        "duration": 15,
        "start_time": "2025-04-16T01:43:31.114Z"
      },
      {
        "duration": 9,
        "start_time": "2025-04-16T01:43:31.131Z"
      },
      {
        "duration": 20,
        "start_time": "2025-04-16T01:43:31.142Z"
      },
      {
        "duration": 136,
        "start_time": "2025-04-16T01:43:31.164Z"
      },
      {
        "duration": 144,
        "start_time": "2025-04-16T01:43:31.305Z"
      },
      {
        "duration": 102,
        "start_time": "2025-04-16T01:43:31.452Z"
      },
      {
        "duration": 289,
        "start_time": "2025-04-16T01:43:31.555Z"
      },
      {
        "duration": 8,
        "start_time": "2025-04-16T01:43:31.846Z"
      },
      {
        "duration": 4,
        "start_time": "2025-04-16T01:49:01.050Z"
      },
      {
        "duration": 75,
        "start_time": "2025-04-16T01:51:22.591Z"
      },
      {
        "duration": 11,
        "start_time": "2025-04-16T01:51:27.904Z"
      },
      {
        "duration": 8,
        "start_time": "2025-04-16T01:51:41.675Z"
      },
      {
        "duration": 4,
        "start_time": "2025-04-16T02:00:54.173Z"
      },
      {
        "duration": 15,
        "start_time": "2025-04-16T02:11:33.427Z"
      },
      {
        "duration": 4,
        "start_time": "2025-04-16T02:11:44.209Z"
      },
      {
        "duration": 335,
        "start_time": "2025-04-16T02:11:57.804Z"
      },
      {
        "duration": 15,
        "start_time": "2025-04-16T02:13:28.923Z"
      },
      {
        "duration": 11,
        "start_time": "2025-04-16T02:13:41.335Z"
      },
      {
        "duration": 11,
        "start_time": "2025-04-16T02:15:21.420Z"
      },
      {
        "duration": 8,
        "start_time": "2025-04-16T02:17:28.203Z"
      },
      {
        "duration": 9,
        "start_time": "2025-04-16T02:17:39.651Z"
      },
      {
        "duration": 812,
        "start_time": "2025-04-16T02:17:58.639Z"
      },
      {
        "duration": 38,
        "start_time": "2025-04-16T02:17:59.453Z"
      },
      {
        "duration": 27,
        "start_time": "2025-04-16T02:17:59.493Z"
      },
      {
        "duration": 8,
        "start_time": "2025-04-16T02:17:59.521Z"
      },
      {
        "duration": 7,
        "start_time": "2025-04-16T02:17:59.531Z"
      },
      {
        "duration": 12,
        "start_time": "2025-04-16T02:17:59.540Z"
      },
      {
        "duration": 9,
        "start_time": "2025-04-16T02:17:59.554Z"
      },
      {
        "duration": 46,
        "start_time": "2025-04-16T02:17:59.565Z"
      },
      {
        "duration": 9,
        "start_time": "2025-04-16T02:17:59.613Z"
      },
      {
        "duration": 3,
        "start_time": "2025-04-16T02:17:59.624Z"
      },
      {
        "duration": 14,
        "start_time": "2025-04-16T02:17:59.629Z"
      },
      {
        "duration": 3,
        "start_time": "2025-04-16T02:17:59.644Z"
      },
      {
        "duration": 9,
        "start_time": "2025-04-16T02:17:59.649Z"
      },
      {
        "duration": 53,
        "start_time": "2025-04-16T02:17:59.661Z"
      },
      {
        "duration": 10,
        "start_time": "2025-04-16T02:17:59.715Z"
      },
      {
        "duration": 19,
        "start_time": "2025-04-16T02:17:59.727Z"
      },
      {
        "duration": 114,
        "start_time": "2025-04-16T02:17:59.748Z"
      },
      {
        "duration": 158,
        "start_time": "2025-04-16T02:17:59.864Z"
      },
      {
        "duration": 151,
        "start_time": "2025-04-16T02:18:00.023Z"
      },
      {
        "duration": 296,
        "start_time": "2025-04-16T02:18:00.176Z"
      },
      {
        "duration": 11,
        "start_time": "2025-04-16T02:18:00.474Z"
      },
      {
        "duration": 6,
        "start_time": "2025-04-16T02:19:16.934Z"
      },
      {
        "duration": 8,
        "start_time": "2025-04-16T03:11:32.940Z"
      },
      {
        "duration": 3,
        "start_time": "2025-04-16T03:13:17.511Z"
      },
      {
        "duration": 4,
        "start_time": "2025-04-16T03:13:34.135Z"
      },
      {
        "duration": 16,
        "start_time": "2025-04-16T03:14:41.527Z"
      },
      {
        "duration": 790,
        "start_time": "2025-04-16T03:15:45.756Z"
      },
      {
        "duration": 37,
        "start_time": "2025-04-16T03:15:46.548Z"
      },
      {
        "duration": 19,
        "start_time": "2025-04-16T03:15:46.587Z"
      },
      {
        "duration": 8,
        "start_time": "2025-04-16T03:15:46.608Z"
      },
      {
        "duration": 8,
        "start_time": "2025-04-16T03:15:46.617Z"
      },
      {
        "duration": 12,
        "start_time": "2025-04-16T03:15:46.627Z"
      },
      {
        "duration": 10,
        "start_time": "2025-04-16T03:15:46.641Z"
      },
      {
        "duration": 10,
        "start_time": "2025-04-16T03:15:46.652Z"
      },
      {
        "duration": 45,
        "start_time": "2025-04-16T03:15:46.664Z"
      },
      {
        "duration": 3,
        "start_time": "2025-04-16T03:15:46.713Z"
      },
      {
        "duration": 13,
        "start_time": "2025-04-16T03:15:46.717Z"
      },
      {
        "duration": 3,
        "start_time": "2025-04-16T03:15:46.732Z"
      },
      {
        "duration": 8,
        "start_time": "2025-04-16T03:15:46.737Z"
      },
      {
        "duration": 5,
        "start_time": "2025-04-16T03:15:46.747Z"
      },
      {
        "duration": 14,
        "start_time": "2025-04-16T03:15:46.753Z"
      },
      {
        "duration": 14,
        "start_time": "2025-04-16T03:15:46.806Z"
      },
      {
        "duration": 10,
        "start_time": "2025-04-16T03:15:46.821Z"
      },
      {
        "duration": 8,
        "start_time": "2025-04-16T03:15:46.832Z"
      },
      {
        "duration": 20,
        "start_time": "2025-04-16T03:15:46.842Z"
      },
      {
        "duration": 121,
        "start_time": "2025-04-16T03:15:46.863Z"
      },
      {
        "duration": 140,
        "start_time": "2025-04-16T03:15:46.986Z"
      },
      {
        "duration": 158,
        "start_time": "2025-04-16T03:15:47.128Z"
      },
      {
        "duration": 305,
        "start_time": "2025-04-16T03:15:47.287Z"
      },
      {
        "duration": 17,
        "start_time": "2025-04-16T03:15:47.593Z"
      },
      {
        "duration": 6,
        "start_time": "2025-04-16T03:16:50.127Z"
      },
      {
        "duration": 11,
        "start_time": "2025-04-16T03:24:50.446Z"
      },
      {
        "duration": 11,
        "start_time": "2025-04-16T03:25:39.990Z"
      },
      {
        "duration": 9,
        "start_time": "2025-04-16T03:26:22.039Z"
      },
      {
        "duration": 12,
        "start_time": "2025-04-16T03:26:38.839Z"
      },
      {
        "duration": 13,
        "start_time": "2025-04-16T03:28:09.314Z"
      },
      {
        "duration": 89,
        "start_time": "2025-04-16T03:28:57.596Z"
      },
      {
        "duration": 126,
        "start_time": "2025-04-16T03:33:45.091Z"
      },
      {
        "duration": 4,
        "start_time": "2025-04-16T03:34:15.542Z"
      },
      {
        "duration": 167,
        "start_time": "2025-04-17T13:44:57.705Z"
      },
      {
        "duration": 2563,
        "start_time": "2025-04-17T13:45:05.099Z"
      },
      {
        "duration": 102,
        "start_time": "2025-04-17T13:45:07.665Z"
      },
      {
        "duration": 17,
        "start_time": "2025-04-17T13:45:07.769Z"
      },
      {
        "duration": 7,
        "start_time": "2025-04-17T13:45:07.788Z"
      },
      {
        "duration": 6,
        "start_time": "2025-04-17T13:45:07.798Z"
      },
      {
        "duration": 13,
        "start_time": "2025-04-17T13:45:07.805Z"
      },
      {
        "duration": 9,
        "start_time": "2025-04-17T13:45:07.820Z"
      },
      {
        "duration": 10,
        "start_time": "2025-04-17T13:45:07.831Z"
      },
      {
        "duration": 8,
        "start_time": "2025-04-17T13:45:07.843Z"
      },
      {
        "duration": 4,
        "start_time": "2025-04-17T13:45:07.852Z"
      },
      {
        "duration": 11,
        "start_time": "2025-04-17T13:45:07.858Z"
      },
      {
        "duration": 45,
        "start_time": "2025-04-17T13:45:07.871Z"
      },
      {
        "duration": 3,
        "start_time": "2025-04-17T13:45:07.918Z"
      },
      {
        "duration": 9,
        "start_time": "2025-04-17T13:45:07.925Z"
      },
      {
        "duration": 5,
        "start_time": "2025-04-17T13:45:07.935Z"
      },
      {
        "duration": 9,
        "start_time": "2025-04-17T13:45:07.942Z"
      },
      {
        "duration": 14,
        "start_time": "2025-04-17T13:45:07.952Z"
      },
      {
        "duration": 50,
        "start_time": "2025-04-17T13:45:07.967Z"
      },
      {
        "duration": 5,
        "start_time": "2025-04-17T13:45:08.019Z"
      },
      {
        "duration": 9,
        "start_time": "2025-04-17T13:45:08.027Z"
      },
      {
        "duration": 8,
        "start_time": "2025-04-17T13:45:08.038Z"
      },
      {
        "duration": 6,
        "start_time": "2025-04-17T13:45:08.048Z"
      },
      {
        "duration": 52,
        "start_time": "2025-04-17T13:45:08.056Z"
      },
      {
        "duration": 101,
        "start_time": "2025-04-17T13:45:08.111Z"
      },
      {
        "duration": 162,
        "start_time": "2025-04-17T13:45:08.214Z"
      },
      {
        "duration": 104,
        "start_time": "2025-04-17T13:45:08.379Z"
      },
      {
        "duration": 322,
        "start_time": "2025-04-17T13:45:08.485Z"
      },
      {
        "duration": 8,
        "start_time": "2025-04-17T13:45:08.809Z"
      },
      {
        "duration": 4,
        "start_time": "2025-04-17T13:45:35.628Z"
      },
      {
        "duration": 10,
        "start_time": "2025-04-17T13:46:21.487Z"
      },
      {
        "duration": 4,
        "start_time": "2025-04-17T14:07:14.982Z"
      },
      {
        "duration": 163,
        "start_time": "2025-04-17T16:18:33.316Z"
      },
      {
        "duration": 2656,
        "start_time": "2025-04-17T16:18:37.181Z"
      },
      {
        "duration": 807,
        "start_time": "2025-04-17T16:18:39.842Z"
      },
      {
        "duration": 18,
        "start_time": "2025-04-17T16:18:40.651Z"
      },
      {
        "duration": 7,
        "start_time": "2025-04-17T16:18:40.673Z"
      },
      {
        "duration": 7,
        "start_time": "2025-04-17T16:18:40.682Z"
      },
      {
        "duration": 13,
        "start_time": "2025-04-17T16:18:40.690Z"
      },
      {
        "duration": 44,
        "start_time": "2025-04-17T16:18:40.704Z"
      },
      {
        "duration": 12,
        "start_time": "2025-04-17T16:18:40.750Z"
      },
      {
        "duration": 9,
        "start_time": "2025-04-17T16:18:40.763Z"
      },
      {
        "duration": 3,
        "start_time": "2025-04-17T16:18:40.776Z"
      },
      {
        "duration": 13,
        "start_time": "2025-04-17T16:18:40.781Z"
      },
      {
        "duration": 13,
        "start_time": "2025-04-17T16:18:40.795Z"
      },
      {
        "duration": 34,
        "start_time": "2025-04-17T16:18:40.810Z"
      },
      {
        "duration": 12,
        "start_time": "2025-04-17T16:18:40.846Z"
      },
      {
        "duration": 6,
        "start_time": "2025-04-17T16:18:40.860Z"
      },
      {
        "duration": 11,
        "start_time": "2025-04-17T16:18:40.869Z"
      },
      {
        "duration": 14,
        "start_time": "2025-04-17T16:18:40.882Z"
      },
      {
        "duration": 49,
        "start_time": "2025-04-17T16:18:40.898Z"
      },
      {
        "duration": 8,
        "start_time": "2025-04-17T16:18:40.950Z"
      },
      {
        "duration": 11,
        "start_time": "2025-04-17T16:18:40.959Z"
      },
      {
        "duration": 9,
        "start_time": "2025-04-17T16:18:40.971Z"
      },
      {
        "duration": 8,
        "start_time": "2025-04-17T16:18:40.981Z"
      },
      {
        "duration": 18,
        "start_time": "2025-04-17T16:18:40.991Z"
      },
      {
        "duration": 137,
        "start_time": "2025-04-17T16:18:41.011Z"
      },
      {
        "duration": 149,
        "start_time": "2025-04-17T16:18:41.151Z"
      },
      {
        "duration": 103,
        "start_time": "2025-04-17T16:18:41.302Z"
      },
      {
        "duration": 328,
        "start_time": "2025-04-17T16:18:41.407Z"
      },
      {
        "duration": 14,
        "start_time": "2025-04-17T16:18:41.744Z"
      },
      {
        "duration": 5,
        "start_time": "2025-04-17T16:18:41.759Z"
      },
      {
        "duration": 16,
        "start_time": "2025-04-17T16:18:41.766Z"
      },
      {
        "duration": 19,
        "start_time": "2025-04-17T16:18:58.182Z"
      },
      {
        "duration": 158,
        "start_time": "2025-04-17T16:20:13.772Z"
      },
      {
        "duration": 765,
        "start_time": "2025-04-17T16:20:18.111Z"
      },
      {
        "duration": 79,
        "start_time": "2025-04-17T16:20:18.878Z"
      },
      {
        "duration": 29,
        "start_time": "2025-04-17T16:20:18.958Z"
      },
      {
        "duration": 8,
        "start_time": "2025-04-17T16:20:18.990Z"
      },
      {
        "duration": 8,
        "start_time": "2025-04-17T16:20:19.000Z"
      },
      {
        "duration": 34,
        "start_time": "2025-04-17T16:20:19.009Z"
      },
      {
        "duration": 10,
        "start_time": "2025-04-17T16:20:19.044Z"
      },
      {
        "duration": 10,
        "start_time": "2025-04-17T16:20:19.056Z"
      },
      {
        "duration": 8,
        "start_time": "2025-04-17T16:20:19.068Z"
      },
      {
        "duration": 3,
        "start_time": "2025-04-17T16:20:19.080Z"
      },
      {
        "duration": 14,
        "start_time": "2025-04-17T16:20:19.084Z"
      },
      {
        "duration": 45,
        "start_time": "2025-04-17T16:20:19.099Z"
      },
      {
        "duration": 4,
        "start_time": "2025-04-17T16:20:19.146Z"
      },
      {
        "duration": 8,
        "start_time": "2025-04-17T16:20:19.152Z"
      },
      {
        "duration": 5,
        "start_time": "2025-04-17T16:20:19.162Z"
      },
      {
        "duration": 11,
        "start_time": "2025-04-17T16:20:19.169Z"
      },
      {
        "duration": 13,
        "start_time": "2025-04-17T16:20:19.181Z"
      },
      {
        "duration": 55,
        "start_time": "2025-04-17T16:20:19.197Z"
      },
      {
        "duration": 7,
        "start_time": "2025-04-17T16:20:19.253Z"
      },
      {
        "duration": 10,
        "start_time": "2025-04-17T16:20:19.261Z"
      },
      {
        "duration": 9,
        "start_time": "2025-04-17T16:20:19.272Z"
      },
      {
        "duration": 7,
        "start_time": "2025-04-17T16:20:19.282Z"
      },
      {
        "duration": 55,
        "start_time": "2025-04-17T16:20:19.291Z"
      },
      {
        "duration": 100,
        "start_time": "2025-04-17T16:20:19.348Z"
      },
      {
        "duration": 143,
        "start_time": "2025-04-17T16:20:19.449Z"
      },
      {
        "duration": 105,
        "start_time": "2025-04-17T16:20:19.594Z"
      },
      {
        "duration": 287,
        "start_time": "2025-04-17T16:20:19.701Z"
      },
      {
        "duration": 7,
        "start_time": "2025-04-17T16:20:19.992Z"
      },
      {
        "duration": 5,
        "start_time": "2025-04-17T16:20:20.000Z"
      },
      {
        "duration": 7,
        "start_time": "2025-04-17T16:20:20.007Z"
      },
      {
        "duration": 34,
        "start_time": "2025-04-17T16:20:20.016Z"
      },
      {
        "duration": 9,
        "start_time": "2025-04-17T16:22:49.654Z"
      },
      {
        "duration": 14,
        "start_time": "2025-04-17T16:22:50.597Z"
      },
      {
        "duration": 9,
        "start_time": "2025-04-17T16:24:34.227Z"
      },
      {
        "duration": 15,
        "start_time": "2025-04-17T16:24:35.186Z"
      },
      {
        "duration": 160,
        "start_time": "2025-04-17T19:28:06.175Z"
      },
      {
        "duration": 2563,
        "start_time": "2025-04-17T19:28:09.603Z"
      },
      {
        "duration": 68,
        "start_time": "2025-04-17T19:28:12.168Z"
      },
      {
        "duration": 21,
        "start_time": "2025-04-17T19:28:12.237Z"
      },
      {
        "duration": 7,
        "start_time": "2025-04-17T19:28:12.261Z"
      },
      {
        "duration": 7,
        "start_time": "2025-04-17T19:28:12.269Z"
      },
      {
        "duration": 12,
        "start_time": "2025-04-17T19:28:12.277Z"
      },
      {
        "duration": 32,
        "start_time": "2025-04-17T19:28:12.291Z"
      },
      {
        "duration": 11,
        "start_time": "2025-04-17T19:28:12.326Z"
      },
      {
        "duration": 8,
        "start_time": "2025-04-17T19:28:12.339Z"
      },
      {
        "duration": 3,
        "start_time": "2025-04-17T19:28:12.350Z"
      },
      {
        "duration": 12,
        "start_time": "2025-04-17T19:28:12.354Z"
      },
      {
        "duration": 13,
        "start_time": "2025-04-17T19:28:12.367Z"
      },
      {
        "duration": 3,
        "start_time": "2025-04-17T19:28:12.382Z"
      },
      {
        "duration": 9,
        "start_time": "2025-04-17T19:28:12.425Z"
      },
      {
        "duration": 6,
        "start_time": "2025-04-17T19:28:12.436Z"
      },
      {
        "duration": 10,
        "start_time": "2025-04-17T19:28:12.443Z"
      },
      {
        "duration": 13,
        "start_time": "2025-04-17T19:28:12.455Z"
      },
      {
        "duration": 12,
        "start_time": "2025-04-17T19:28:12.470Z"
      },
      {
        "duration": 44,
        "start_time": "2025-04-17T19:28:12.484Z"
      },
      {
        "duration": 12,
        "start_time": "2025-04-17T19:28:12.530Z"
      },
      {
        "duration": 8,
        "start_time": "2025-04-17T19:28:12.543Z"
      },
      {
        "duration": 6,
        "start_time": "2025-04-17T19:28:12.553Z"
      },
      {
        "duration": 17,
        "start_time": "2025-04-17T19:28:12.561Z"
      },
      {
        "duration": 130,
        "start_time": "2025-04-17T19:28:12.580Z"
      },
      {
        "duration": 143,
        "start_time": "2025-04-17T19:28:12.712Z"
      },
      {
        "duration": 103,
        "start_time": "2025-04-17T19:28:12.856Z"
      },
      {
        "duration": 264,
        "start_time": "2025-04-17T19:28:12.961Z"
      },
      {
        "duration": 8,
        "start_time": "2025-04-17T19:28:13.229Z"
      },
      {
        "duration": 5,
        "start_time": "2025-04-17T19:28:13.238Z"
      },
      {
        "duration": 9,
        "start_time": "2025-04-17T19:28:13.244Z"
      },
      {
        "duration": 7,
        "start_time": "2025-04-17T19:28:13.254Z"
      },
      {
        "duration": 8,
        "start_time": "2025-04-17T19:28:13.263Z"
      },
      {
        "duration": 52,
        "start_time": "2025-04-17T19:28:13.273Z"
      },
      {
        "duration": 756,
        "start_time": "2025-04-17T19:28:13.327Z"
      },
      {
        "duration": 19,
        "start_time": "2025-04-17T19:29:44.018Z"
      },
      {
        "duration": 43,
        "start_time": "2025-04-17T19:29:52.717Z"
      },
      {
        "duration": 781,
        "start_time": "2025-04-17T19:30:04.673Z"
      },
      {
        "duration": 32,
        "start_time": "2025-04-17T19:30:05.456Z"
      },
      {
        "duration": 18,
        "start_time": "2025-04-17T19:30:05.489Z"
      },
      {
        "duration": 16,
        "start_time": "2025-04-17T19:30:05.508Z"
      },
      {
        "duration": 7,
        "start_time": "2025-04-17T19:30:05.821Z"
      },
      {
        "duration": 11,
        "start_time": "2025-04-17T19:30:05.831Z"
      },
      {
        "duration": 9,
        "start_time": "2025-04-17T19:30:05.844Z"
      },
      {
        "duration": 9,
        "start_time": "2025-04-17T19:30:05.855Z"
      },
      {
        "duration": 7,
        "start_time": "2025-04-17T19:30:05.867Z"
      },
      {
        "duration": 3,
        "start_time": "2025-04-17T19:30:05.875Z"
      },
      {
        "duration": 57,
        "start_time": "2025-04-17T19:30:05.880Z"
      },
      {
        "duration": 13,
        "start_time": "2025-04-17T19:30:05.938Z"
      },
      {
        "duration": 4,
        "start_time": "2025-04-17T19:30:05.953Z"
      },
      {
        "duration": 9,
        "start_time": "2025-04-17T19:30:05.959Z"
      },
      {
        "duration": 6,
        "start_time": "2025-04-17T19:30:05.970Z"
      },
      {
        "duration": 10,
        "start_time": "2025-04-17T19:30:05.978Z"
      },
      {
        "duration": 13,
        "start_time": "2025-04-17T19:30:06.024Z"
      },
      {
        "duration": 14,
        "start_time": "2025-04-17T19:30:06.042Z"
      },
      {
        "duration": 7,
        "start_time": "2025-04-17T19:30:06.057Z"
      },
      {
        "duration": 10,
        "start_time": "2025-04-17T19:30:06.066Z"
      },
      {
        "duration": 8,
        "start_time": "2025-04-17T19:30:06.078Z"
      },
      {
        "duration": 43,
        "start_time": "2025-04-17T19:30:06.088Z"
      },
      {
        "duration": 19,
        "start_time": "2025-04-17T19:30:06.132Z"
      },
      {
        "duration": 109,
        "start_time": "2025-04-17T19:30:06.152Z"
      },
      {
        "duration": 143,
        "start_time": "2025-04-17T19:30:06.263Z"
      },
      {
        "duration": 145,
        "start_time": "2025-04-17T19:30:06.408Z"
      },
      {
        "duration": 256,
        "start_time": "2025-04-17T19:30:06.555Z"
      },
      {
        "duration": 8,
        "start_time": "2025-04-17T19:30:06.823Z"
      },
      {
        "duration": 5,
        "start_time": "2025-04-17T19:30:06.833Z"
      },
      {
        "duration": 8,
        "start_time": "2025-04-17T19:30:06.840Z"
      },
      {
        "duration": 8,
        "start_time": "2025-04-17T19:30:06.850Z"
      },
      {
        "duration": 8,
        "start_time": "2025-04-17T19:30:06.859Z"
      },
      {
        "duration": 14,
        "start_time": "2025-04-17T19:30:06.868Z"
      },
      {
        "duration": 53,
        "start_time": "2025-04-17T19:30:06.883Z"
      },
      {
        "duration": 3,
        "start_time": "2025-04-17T19:30:53.704Z"
      },
      {
        "duration": 5,
        "start_time": "2025-04-17T19:36:03.764Z"
      },
      {
        "duration": 4,
        "start_time": "2025-04-17T19:36:28.475Z"
      },
      {
        "duration": 3,
        "start_time": "2025-04-17T19:37:28.335Z"
      },
      {
        "duration": 4,
        "start_time": "2025-04-17T19:37:33.361Z"
      },
      {
        "duration": 3,
        "start_time": "2025-04-17T19:38:03.589Z"
      },
      {
        "duration": 820,
        "start_time": "2025-04-17T19:38:29.033Z"
      },
      {
        "duration": 32,
        "start_time": "2025-04-17T19:38:29.855Z"
      },
      {
        "duration": 18,
        "start_time": "2025-04-17T19:38:29.889Z"
      },
      {
        "duration": 20,
        "start_time": "2025-04-17T19:38:29.908Z"
      },
      {
        "duration": 9,
        "start_time": "2025-04-17T19:38:29.931Z"
      },
      {
        "duration": 13,
        "start_time": "2025-04-17T19:38:29.941Z"
      },
      {
        "duration": 9,
        "start_time": "2025-04-17T19:38:29.956Z"
      },
      {
        "duration": 11,
        "start_time": "2025-04-17T19:38:29.967Z"
      },
      {
        "duration": 8,
        "start_time": "2025-04-17T19:38:29.979Z"
      },
      {
        "duration": 37,
        "start_time": "2025-04-17T19:38:29.989Z"
      },
      {
        "duration": 16,
        "start_time": "2025-04-17T19:38:30.243Z"
      },
      {
        "duration": 13,
        "start_time": "2025-04-17T19:38:30.261Z"
      },
      {
        "duration": 3,
        "start_time": "2025-04-17T19:38:30.275Z"
      },
      {
        "duration": 9,
        "start_time": "2025-04-17T19:38:30.638Z"
      },
      {
        "duration": 5,
        "start_time": "2025-04-17T19:38:30.649Z"
      },
      {
        "duration": 10,
        "start_time": "2025-04-17T19:38:30.656Z"
      },
      {
        "duration": 14,
        "start_time": "2025-04-17T19:38:30.667Z"
      },
      {
        "duration": 12,
        "start_time": "2025-04-17T19:38:30.683Z"
      },
      {
        "duration": 27,
        "start_time": "2025-04-17T19:38:30.697Z"
      },
      {
        "duration": 10,
        "start_time": "2025-04-17T19:38:30.726Z"
      },
      {
        "duration": 9,
        "start_time": "2025-04-17T19:38:30.738Z"
      },
      {
        "duration": 7,
        "start_time": "2025-04-17T19:38:30.748Z"
      },
      {
        "duration": 17,
        "start_time": "2025-04-17T19:38:30.756Z"
      },
      {
        "duration": 92,
        "start_time": "2025-04-17T19:38:31.601Z"
      },
      {
        "duration": 136,
        "start_time": "2025-04-17T19:38:31.695Z"
      },
      {
        "duration": 97,
        "start_time": "2025-04-17T19:38:31.833Z"
      },
      {
        "duration": 319,
        "start_time": "2025-04-17T19:38:31.932Z"
      },
      {
        "duration": 8,
        "start_time": "2025-04-17T19:38:32.254Z"
      },
      {
        "duration": 5,
        "start_time": "2025-04-17T19:38:32.263Z"
      },
      {
        "duration": 8,
        "start_time": "2025-04-17T19:38:32.270Z"
      },
      {
        "duration": 7,
        "start_time": "2025-04-17T19:38:32.280Z"
      },
      {
        "duration": 36,
        "start_time": "2025-04-17T19:38:32.288Z"
      },
      {
        "duration": 15,
        "start_time": "2025-04-17T19:38:33.204Z"
      },
      {
        "duration": 20,
        "start_time": "2025-04-17T19:38:33.221Z"
      },
      {
        "duration": 5,
        "start_time": "2025-04-17T19:38:33.243Z"
      },
      {
        "duration": 3,
        "start_time": "2025-04-17T19:39:12.629Z"
      },
      {
        "duration": 21,
        "start_time": "2025-04-17T19:41:35.752Z"
      },
      {
        "duration": 21,
        "start_time": "2025-04-17T19:41:52.300Z"
      },
      {
        "duration": 897,
        "start_time": "2025-04-17T19:44:16.548Z"
      },
      {
        "duration": 98,
        "start_time": "2025-04-17T19:44:17.447Z"
      },
      {
        "duration": 20,
        "start_time": "2025-04-17T19:44:17.546Z"
      },
      {
        "duration": 8,
        "start_time": "2025-04-17T19:44:17.569Z"
      },
      {
        "duration": 8,
        "start_time": "2025-04-17T19:44:17.578Z"
      },
      {
        "duration": 11,
        "start_time": "2025-04-17T19:44:17.588Z"
      },
      {
        "duration": 30,
        "start_time": "2025-04-17T19:44:17.601Z"
      },
      {
        "duration": 10,
        "start_time": "2025-04-17T19:44:17.633Z"
      },
      {
        "duration": 7,
        "start_time": "2025-04-17T19:44:17.645Z"
      },
      {
        "duration": 3,
        "start_time": "2025-04-17T19:44:17.656Z"
      },
      {
        "duration": 11,
        "start_time": "2025-04-17T19:44:17.661Z"
      },
      {
        "duration": 13,
        "start_time": "2025-04-17T19:44:17.674Z"
      },
      {
        "duration": 4,
        "start_time": "2025-04-17T19:44:17.724Z"
      },
      {
        "duration": 10,
        "start_time": "2025-04-17T19:44:17.729Z"
      },
      {
        "duration": 6,
        "start_time": "2025-04-17T19:44:17.740Z"
      },
      {
        "duration": 8,
        "start_time": "2025-04-17T19:44:17.748Z"
      },
      {
        "duration": 13,
        "start_time": "2025-04-17T19:44:17.758Z"
      },
      {
        "duration": 13,
        "start_time": "2025-04-17T19:44:17.772Z"
      },
      {
        "duration": 6,
        "start_time": "2025-04-17T19:44:17.825Z"
      },
      {
        "duration": 10,
        "start_time": "2025-04-17T19:44:17.832Z"
      },
      {
        "duration": 8,
        "start_time": "2025-04-17T19:44:17.844Z"
      },
      {
        "duration": 7,
        "start_time": "2025-04-17T19:44:17.854Z"
      },
      {
        "duration": 18,
        "start_time": "2025-04-17T19:44:17.863Z"
      },
      {
        "duration": 130,
        "start_time": "2025-04-17T19:44:17.883Z"
      },
      {
        "duration": 142,
        "start_time": "2025-04-17T19:44:18.015Z"
      },
      {
        "duration": 146,
        "start_time": "2025-04-17T19:44:18.159Z"
      },
      {
        "duration": 300,
        "start_time": "2025-04-17T19:44:18.307Z"
      },
      {
        "duration": 18,
        "start_time": "2025-04-17T19:44:18.612Z"
      },
      {
        "duration": 5,
        "start_time": "2025-04-17T19:44:18.631Z"
      },
      {
        "duration": 8,
        "start_time": "2025-04-17T19:44:18.638Z"
      },
      {
        "duration": 8,
        "start_time": "2025-04-17T19:44:18.647Z"
      },
      {
        "duration": 7,
        "start_time": "2025-04-17T19:44:18.657Z"
      },
      {
        "duration": 13,
        "start_time": "2025-04-17T19:44:18.666Z"
      },
      {
        "duration": 50,
        "start_time": "2025-04-17T19:44:18.681Z"
      },
      {
        "duration": 131,
        "start_time": "2025-04-17T19:44:18.733Z"
      },
      {
        "duration": 0,
        "start_time": "2025-04-17T19:44:18.866Z"
      },
      {
        "duration": 19,
        "start_time": "2025-04-17T19:44:36.430Z"
      },
      {
        "duration": 16,
        "start_time": "2025-04-17T19:45:24.961Z"
      },
      {
        "duration": 115,
        "start_time": "2025-04-17T19:52:52.339Z"
      },
      {
        "duration": 7,
        "start_time": "2025-04-17T19:53:01.945Z"
      },
      {
        "duration": 717,
        "start_time": "2025-04-17T20:03:09.458Z"
      },
      {
        "duration": 35,
        "start_time": "2025-04-17T20:03:19.836Z"
      },
      {
        "duration": 4,
        "start_time": "2025-04-17T20:03:27.963Z"
      },
      {
        "duration": 3,
        "start_time": "2025-04-17T20:10:59.368Z"
      },
      {
        "duration": 12,
        "start_time": "2025-04-17T20:20:41.726Z"
      },
      {
        "duration": 18,
        "start_time": "2025-04-17T20:20:45.547Z"
      },
      {
        "duration": 796,
        "start_time": "2025-04-17T20:23:14.010Z"
      },
      {
        "duration": 41,
        "start_time": "2025-04-17T20:23:14.809Z"
      },
      {
        "duration": 18,
        "start_time": "2025-04-17T20:23:14.851Z"
      },
      {
        "duration": 8,
        "start_time": "2025-04-17T20:23:14.871Z"
      },
      {
        "duration": 7,
        "start_time": "2025-04-17T20:23:14.881Z"
      },
      {
        "duration": 12,
        "start_time": "2025-04-17T20:23:14.889Z"
      },
      {
        "duration": 31,
        "start_time": "2025-04-17T20:23:14.902Z"
      },
      {
        "duration": 11,
        "start_time": "2025-04-17T20:23:14.935Z"
      },
      {
        "duration": 7,
        "start_time": "2025-04-17T20:23:14.948Z"
      },
      {
        "duration": 3,
        "start_time": "2025-04-17T20:23:14.956Z"
      },
      {
        "duration": 12,
        "start_time": "2025-04-17T20:23:14.961Z"
      },
      {
        "duration": 13,
        "start_time": "2025-04-17T20:23:14.974Z"
      },
      {
        "duration": 38,
        "start_time": "2025-04-17T20:23:14.989Z"
      },
      {
        "duration": 9,
        "start_time": "2025-04-17T20:23:15.030Z"
      },
      {
        "duration": 6,
        "start_time": "2025-04-17T20:23:15.041Z"
      },
      {
        "duration": 10,
        "start_time": "2025-04-17T20:23:15.048Z"
      },
      {
        "duration": 13,
        "start_time": "2025-04-17T20:23:15.060Z"
      },
      {
        "duration": 13,
        "start_time": "2025-04-17T20:23:15.075Z"
      },
      {
        "duration": 7,
        "start_time": "2025-04-17T20:23:15.124Z"
      },
      {
        "duration": 12,
        "start_time": "2025-04-17T20:23:15.133Z"
      },
      {
        "duration": 10,
        "start_time": "2025-04-17T20:23:15.146Z"
      },
      {
        "duration": 6,
        "start_time": "2025-04-17T20:23:15.159Z"
      },
      {
        "duration": 20,
        "start_time": "2025-04-17T20:23:15.167Z"
      },
      {
        "duration": 135,
        "start_time": "2025-04-17T20:23:15.190Z"
      },
      {
        "duration": 139,
        "start_time": "2025-04-17T20:23:15.327Z"
      },
      {
        "duration": 146,
        "start_time": "2025-04-17T20:23:15.468Z"
      },
      {
        "duration": 290,
        "start_time": "2025-04-17T20:23:15.615Z"
      },
      {
        "duration": 18,
        "start_time": "2025-04-17T20:23:15.907Z"
      },
      {
        "duration": 5,
        "start_time": "2025-04-17T20:23:15.927Z"
      },
      {
        "duration": 8,
        "start_time": "2025-04-17T20:23:15.934Z"
      },
      {
        "duration": 8,
        "start_time": "2025-04-17T20:23:15.943Z"
      },
      {
        "duration": 8,
        "start_time": "2025-04-17T20:23:15.952Z"
      },
      {
        "duration": 14,
        "start_time": "2025-04-17T20:23:15.961Z"
      },
      {
        "duration": 48,
        "start_time": "2025-04-17T20:23:15.976Z"
      },
      {
        "duration": 17,
        "start_time": "2025-04-17T20:23:16.026Z"
      },
      {
        "duration": 3,
        "start_time": "2025-04-17T20:23:16.046Z"
      },
      {
        "duration": 16,
        "start_time": "2025-04-17T20:23:16.051Z"
      },
      {
        "duration": 10,
        "start_time": "2025-04-17T20:24:52.912Z"
      },
      {
        "duration": 855,
        "start_time": "2025-04-17T20:27:30.342Z"
      },
      {
        "duration": 36,
        "start_time": "2025-04-17T20:27:31.200Z"
      },
      {
        "duration": 20,
        "start_time": "2025-04-17T20:27:31.237Z"
      },
      {
        "duration": 7,
        "start_time": "2025-04-17T20:27:31.259Z"
      },
      {
        "duration": 7,
        "start_time": "2025-04-17T20:27:31.268Z"
      },
      {
        "duration": 14,
        "start_time": "2025-04-17T20:27:31.912Z"
      },
      {
        "duration": 14,
        "start_time": "2025-04-17T20:27:31.929Z"
      },
      {
        "duration": 12,
        "start_time": "2025-04-17T20:27:31.945Z"
      },
      {
        "duration": 9,
        "start_time": "2025-04-17T20:27:31.959Z"
      },
      {
        "duration": 3,
        "start_time": "2025-04-17T20:27:32.267Z"
      },
      {
        "duration": 14,
        "start_time": "2025-04-17T20:27:32.273Z"
      },
      {
        "duration": 15,
        "start_time": "2025-04-17T20:27:32.296Z"
      },
      {
        "duration": 3,
        "start_time": "2025-04-17T20:27:32.314Z"
      },
      {
        "duration": 11,
        "start_time": "2025-04-17T20:27:32.319Z"
      },
      {
        "duration": 7,
        "start_time": "2025-04-17T20:27:32.554Z"
      },
      {
        "duration": 11,
        "start_time": "2025-04-17T20:27:32.563Z"
      },
      {
        "duration": 16,
        "start_time": "2025-04-17T20:27:32.576Z"
      },
      {
        "duration": 15,
        "start_time": "2025-04-17T20:27:32.596Z"
      },
      {
        "duration": 11,
        "start_time": "2025-04-17T20:27:32.613Z"
      },
      {
        "duration": 11,
        "start_time": "2025-04-17T20:27:32.625Z"
      },
      {
        "duration": 8,
        "start_time": "2025-04-17T20:27:32.638Z"
      },
      {
        "duration": 7,
        "start_time": "2025-04-17T20:27:33.232Z"
      },
      {
        "duration": 18,
        "start_time": "2025-04-17T20:27:33.242Z"
      },
      {
        "duration": 111,
        "start_time": "2025-04-17T20:27:33.262Z"
      },
      {
        "duration": 150,
        "start_time": "2025-04-17T20:27:33.376Z"
      },
      {
        "duration": 107,
        "start_time": "2025-04-17T20:27:33.529Z"
      },
      {
        "duration": 362,
        "start_time": "2025-04-17T20:27:33.638Z"
      },
      {
        "duration": 9,
        "start_time": "2025-04-17T20:27:34.001Z"
      },
      {
        "duration": 5,
        "start_time": "2025-04-17T20:27:34.025Z"
      },
      {
        "duration": 9,
        "start_time": "2025-04-17T20:27:34.032Z"
      },
      {
        "duration": 8,
        "start_time": "2025-04-17T20:27:34.042Z"
      },
      {
        "duration": 8,
        "start_time": "2025-04-17T20:27:34.052Z"
      },
      {
        "duration": 14,
        "start_time": "2025-04-17T20:27:34.062Z"
      },
      {
        "duration": 49,
        "start_time": "2025-04-17T20:27:34.078Z"
      },
      {
        "duration": 19,
        "start_time": "2025-04-17T20:27:34.129Z"
      },
      {
        "duration": 6,
        "start_time": "2025-04-17T20:27:34.150Z"
      },
      {
        "duration": 16,
        "start_time": "2025-04-17T20:27:34.158Z"
      },
      {
        "duration": 10,
        "start_time": "2025-04-17T20:27:34.176Z"
      },
      {
        "duration": 12,
        "start_time": "2025-04-17T20:33:41.757Z"
      },
      {
        "duration": 3,
        "start_time": "2025-04-17T20:37:45.971Z"
      },
      {
        "duration": 9,
        "start_time": "2025-04-17T20:38:39.577Z"
      },
      {
        "duration": 6,
        "start_time": "2025-04-17T20:38:51.694Z"
      },
      {
        "duration": 3,
        "start_time": "2025-04-17T20:39:06.943Z"
      },
      {
        "duration": 3,
        "start_time": "2025-04-17T20:39:27.793Z"
      },
      {
        "duration": 3,
        "start_time": "2025-04-17T20:42:15.829Z"
      },
      {
        "duration": 225,
        "start_time": "2025-04-17T20:42:41.168Z"
      },
      {
        "duration": 4,
        "start_time": "2025-04-17T20:44:04.119Z"
      },
      {
        "duration": 13,
        "start_time": "2025-04-17T20:45:48.424Z"
      },
      {
        "duration": 11,
        "start_time": "2025-04-17T20:46:01.793Z"
      },
      {
        "duration": 10,
        "start_time": "2025-04-17T20:46:08.043Z"
      },
      {
        "duration": 21,
        "start_time": "2025-04-17T20:52:13.022Z"
      },
      {
        "duration": 2425,
        "start_time": "2025-04-17T20:55:07.369Z"
      },
      {
        "duration": 6,
        "start_time": "2025-04-17T20:55:45.380Z"
      },
      {
        "duration": 3642,
        "start_time": "2025-04-17T20:55:54.681Z"
      },
      {
        "duration": 869,
        "start_time": "2025-04-17T20:56:31.007Z"
      },
      {
        "duration": 38,
        "start_time": "2025-04-17T20:56:31.879Z"
      },
      {
        "duration": 22,
        "start_time": "2025-04-17T20:56:31.918Z"
      },
      {
        "duration": 8,
        "start_time": "2025-04-17T20:56:31.943Z"
      },
      {
        "duration": 8,
        "start_time": "2025-04-17T20:56:31.953Z"
      },
      {
        "duration": 13,
        "start_time": "2025-04-17T20:56:32.141Z"
      },
      {
        "duration": 11,
        "start_time": "2025-04-17T20:56:32.156Z"
      },
      {
        "duration": 11,
        "start_time": "2025-04-17T20:56:32.169Z"
      },
      {
        "duration": 7,
        "start_time": "2025-04-17T20:56:32.182Z"
      },
      {
        "duration": 4,
        "start_time": "2025-04-17T20:56:32.191Z"
      },
      {
        "duration": 14,
        "start_time": "2025-04-17T20:56:35.400Z"
      },
      {
        "duration": 14,
        "start_time": "2025-04-17T20:56:35.417Z"
      },
      {
        "duration": 3,
        "start_time": "2025-04-17T20:56:35.433Z"
      },
      {
        "duration": 11,
        "start_time": "2025-04-17T20:56:36.961Z"
      },
      {
        "duration": 6,
        "start_time": "2025-04-17T20:56:36.974Z"
      },
      {
        "duration": 11,
        "start_time": "2025-04-17T20:56:36.982Z"
      },
      {
        "duration": 15,
        "start_time": "2025-04-17T20:56:36.996Z"
      },
      {
        "duration": 15,
        "start_time": "2025-04-17T20:56:37.013Z"
      },
      {
        "duration": 6,
        "start_time": "2025-04-17T20:56:37.031Z"
      },
      {
        "duration": 11,
        "start_time": "2025-04-17T20:56:37.039Z"
      },
      {
        "duration": 9,
        "start_time": "2025-04-17T20:56:37.053Z"
      },
      {
        "duration": 8,
        "start_time": "2025-04-17T20:56:37.064Z"
      },
      {
        "duration": 58,
        "start_time": "2025-04-17T20:56:37.073Z"
      },
      {
        "duration": 110,
        "start_time": "2025-04-17T20:56:37.134Z"
      },
      {
        "duration": 151,
        "start_time": "2025-04-17T20:56:37.245Z"
      },
      {
        "duration": 176,
        "start_time": "2025-04-17T20:56:37.398Z"
      },
      {
        "duration": 290,
        "start_time": "2025-04-17T20:56:37.577Z"
      },
      {
        "duration": 8,
        "start_time": "2025-04-17T20:56:37.869Z"
      },
      {
        "duration": 6,
        "start_time": "2025-04-17T20:56:37.880Z"
      },
      {
        "duration": 9,
        "start_time": "2025-04-17T20:56:37.889Z"
      },
      {
        "duration": 34,
        "start_time": "2025-04-17T20:56:37.900Z"
      },
      {
        "duration": 10,
        "start_time": "2025-04-17T20:56:37.936Z"
      },
      {
        "duration": 16,
        "start_time": "2025-04-17T20:56:37.949Z"
      },
      {
        "duration": 16,
        "start_time": "2025-04-17T20:56:37.968Z"
      },
      {
        "duration": 52,
        "start_time": "2025-04-17T20:56:37.986Z"
      },
      {
        "duration": 5,
        "start_time": "2025-04-17T20:56:38.040Z"
      },
      {
        "duration": 18,
        "start_time": "2025-04-17T20:56:38.046Z"
      },
      {
        "duration": 14,
        "start_time": "2025-04-17T20:56:38.065Z"
      },
      {
        "duration": 4,
        "start_time": "2025-04-17T20:56:38.080Z"
      },
      {
        "duration": 39,
        "start_time": "2025-04-17T20:56:38.086Z"
      },
      {
        "duration": 1914,
        "start_time": "2025-04-17T20:56:38.127Z"
      },
      {
        "duration": 139,
        "start_time": "2025-04-17T20:57:02.036Z"
      },
      {
        "duration": 240,
        "start_time": "2025-04-17T21:00:09.237Z"
      },
      {
        "duration": 307,
        "start_time": "2025-04-17T21:01:27.899Z"
      },
      {
        "duration": 13,
        "start_time": "2025-04-17T21:07:43.006Z"
      },
      {
        "duration": 2,
        "start_time": "2025-04-17T21:20:58.273Z"
      },
      {
        "duration": 3,
        "start_time": "2025-04-17T21:28:41.411Z"
      },
      {
        "duration": 7,
        "start_time": "2025-04-17T21:31:09.596Z"
      },
      {
        "duration": 8,
        "start_time": "2025-04-17T21:31:21.453Z"
      },
      {
        "duration": 671,
        "start_time": "2025-04-17T21:31:47.872Z"
      },
      {
        "duration": 43,
        "start_time": "2025-04-17T21:32:44.212Z"
      },
      {
        "duration": 4,
        "start_time": "2025-04-17T21:35:57.329Z"
      },
      {
        "duration": 3,
        "start_time": "2025-04-17T21:36:22.901Z"
      },
      {
        "duration": 4,
        "start_time": "2025-04-17T21:36:28.402Z"
      },
      {
        "duration": 4,
        "start_time": "2025-04-17T21:37:34.800Z"
      },
      {
        "duration": 4,
        "start_time": "2025-04-17T21:40:05.592Z"
      },
      {
        "duration": 4,
        "start_time": "2025-04-17T21:40:15.348Z"
      },
      {
        "duration": 3,
        "start_time": "2025-04-17T21:40:33.929Z"
      },
      {
        "duration": 4,
        "start_time": "2025-04-17T21:40:52.403Z"
      },
      {
        "duration": 6,
        "start_time": "2025-04-17T21:41:09.657Z"
      },
      {
        "duration": 22,
        "start_time": "2025-04-17T21:42:19.718Z"
      },
      {
        "duration": 362333,
        "start_time": "2025-04-17T21:42:25.871Z"
      },
      {
        "duration": 7772,
        "start_time": "2025-04-17T21:48:54.373Z"
      },
      {
        "duration": 58104,
        "start_time": "2025-04-17T21:49:07.458Z"
      },
      {
        "duration": 64,
        "start_time": "2025-04-17T21:50:14.084Z"
      },
      {
        "duration": 681,
        "start_time": "2025-04-17T21:50:55.291Z"
      },
      {
        "duration": 65,
        "start_time": "2025-04-17T21:50:59.109Z"
      },
      {
        "duration": 41,
        "start_time": "2025-04-17T21:51:22.678Z"
      },
      {
        "duration": 67,
        "start_time": "2025-04-17T21:52:13.848Z"
      },
      {
        "duration": 5,
        "start_time": "2025-04-17T21:58:18.702Z"
      },
      {
        "duration": 3,
        "start_time": "2025-04-17T21:58:23.806Z"
      },
      {
        "duration": 4,
        "start_time": "2025-04-17T21:59:55.001Z"
      },
      {
        "duration": 20743,
        "start_time": "2025-04-17T22:00:47.528Z"
      },
      {
        "duration": 74332,
        "start_time": "2025-04-17T22:02:59.704Z"
      },
      {
        "duration": 5400,
        "start_time": "2025-04-17T22:06:06.541Z"
      },
      {
        "duration": 290,
        "start_time": "2025-04-17T22:06:25.634Z"
      },
      {
        "duration": 5460,
        "start_time": "2025-04-17T22:07:01.070Z"
      },
      {
        "duration": 11,
        "start_time": "2025-04-17T22:07:47.599Z"
      },
      {
        "duration": 46,
        "start_time": "2025-04-17T22:08:29.994Z"
      },
      {
        "duration": 10,
        "start_time": "2025-04-17T22:08:31.067Z"
      },
      {
        "duration": 5274,
        "start_time": "2025-04-17T22:08:50.265Z"
      },
      {
        "duration": 11,
        "start_time": "2025-04-17T22:09:01.606Z"
      },
      {
        "duration": 12160,
        "start_time": "2025-04-17T22:09:21.550Z"
      },
      {
        "duration": 11,
        "start_time": "2025-04-17T22:09:33.725Z"
      },
      {
        "duration": 36,
        "start_time": "2025-04-17T22:09:45.947Z"
      },
      {
        "duration": 12,
        "start_time": "2025-04-17T22:09:47.835Z"
      },
      {
        "duration": 142,
        "start_time": "2025-04-17T22:11:11.993Z"
      },
      {
        "duration": 2222,
        "start_time": "2025-04-17T22:12:07.833Z"
      },
      {
        "duration": 11,
        "start_time": "2025-04-17T22:12:31.403Z"
      },
      {
        "duration": 11,
        "start_time": "2025-04-17T22:16:02.359Z"
      },
      {
        "duration": 18,
        "start_time": "2025-04-17T22:18:00.955Z"
      },
      {
        "duration": 17,
        "start_time": "2025-04-17T22:18:13.909Z"
      },
      {
        "duration": 7,
        "start_time": "2025-04-17T22:18:29.377Z"
      },
      {
        "duration": 58331,
        "start_time": "2025-04-17T22:18:31.507Z"
      },
      {
        "duration": 65,
        "start_time": "2025-04-17T22:19:29.841Z"
      },
      {
        "duration": 25,
        "start_time": "2025-04-17T22:19:57.221Z"
      },
      {
        "duration": 11,
        "start_time": "2025-04-17T22:19:57.807Z"
      },
      {
        "duration": 2234,
        "start_time": "2025-04-17T22:20:02.112Z"
      },
      {
        "duration": 9,
        "start_time": "2025-04-17T22:20:04.348Z"
      },
      {
        "duration": 2668,
        "start_time": "2025-04-20T23:38:14.893Z"
      },
      {
        "duration": 57,
        "start_time": "2025-04-20T23:38:17.563Z"
      },
      {
        "duration": 18,
        "start_time": "2025-04-20T23:38:17.621Z"
      },
      {
        "duration": 7,
        "start_time": "2025-04-20T23:38:17.642Z"
      },
      {
        "duration": 7,
        "start_time": "2025-04-20T23:38:17.650Z"
      },
      {
        "duration": 11,
        "start_time": "2025-04-20T23:38:17.659Z"
      },
      {
        "duration": 33,
        "start_time": "2025-04-20T23:38:17.672Z"
      },
      {
        "duration": 10,
        "start_time": "2025-04-20T23:38:17.707Z"
      },
      {
        "duration": 8,
        "start_time": "2025-04-20T23:38:17.719Z"
      },
      {
        "duration": 3,
        "start_time": "2025-04-20T23:38:17.730Z"
      },
      {
        "duration": 13,
        "start_time": "2025-04-20T23:38:17.734Z"
      },
      {
        "duration": 13,
        "start_time": "2025-04-20T23:38:17.749Z"
      },
      {
        "duration": 42,
        "start_time": "2025-04-20T23:38:17.763Z"
      },
      {
        "duration": 10,
        "start_time": "2025-04-20T23:38:17.807Z"
      },
      {
        "duration": 7,
        "start_time": "2025-04-20T23:38:17.819Z"
      },
      {
        "duration": 12,
        "start_time": "2025-04-20T23:38:17.827Z"
      },
      {
        "duration": 14,
        "start_time": "2025-04-20T23:38:17.840Z"
      },
      {
        "duration": 13,
        "start_time": "2025-04-20T23:38:17.855Z"
      },
      {
        "duration": 39,
        "start_time": "2025-04-20T23:38:17.870Z"
      },
      {
        "duration": 10,
        "start_time": "2025-04-20T23:38:17.911Z"
      },
      {
        "duration": 8,
        "start_time": "2025-04-20T23:38:17.922Z"
      },
      {
        "duration": 6,
        "start_time": "2025-04-20T23:38:17.933Z"
      },
      {
        "duration": 18,
        "start_time": "2025-04-20T23:38:17.941Z"
      },
      {
        "duration": 126,
        "start_time": "2025-04-20T23:38:17.960Z"
      },
      {
        "duration": 187,
        "start_time": "2025-04-20T23:38:18.088Z"
      },
      {
        "duration": 100,
        "start_time": "2025-04-20T23:38:18.277Z"
      },
      {
        "duration": 318,
        "start_time": "2025-04-20T23:38:18.379Z"
      },
      {
        "duration": 11,
        "start_time": "2025-04-20T23:38:18.706Z"
      },
      {
        "duration": 5,
        "start_time": "2025-04-20T23:38:18.719Z"
      },
      {
        "duration": 7,
        "start_time": "2025-04-20T23:38:18.725Z"
      },
      {
        "duration": 8,
        "start_time": "2025-04-20T23:38:18.734Z"
      },
      {
        "duration": 7,
        "start_time": "2025-04-20T23:38:18.743Z"
      },
      {
        "duration": 14,
        "start_time": "2025-04-20T23:38:18.752Z"
      },
      {
        "duration": 47,
        "start_time": "2025-04-20T23:38:18.768Z"
      },
      {
        "duration": 21,
        "start_time": "2025-04-20T23:38:18.817Z"
      },
      {
        "duration": 3,
        "start_time": "2025-04-20T23:38:18.841Z"
      },
      {
        "duration": 15,
        "start_time": "2025-04-20T23:38:18.846Z"
      },
      {
        "duration": 12,
        "start_time": "2025-04-20T23:38:18.862Z"
      },
      {
        "duration": 31,
        "start_time": "2025-04-20T23:38:18.875Z"
      },
      {
        "duration": 12,
        "start_time": "2025-04-20T23:38:18.908Z"
      },
      {
        "duration": 2,
        "start_time": "2025-04-20T23:38:18.921Z"
      },
      {
        "duration": 249,
        "start_time": "2025-04-20T23:38:18.924Z"
      },
      {
        "duration": 0,
        "start_time": "2025-04-20T23:38:19.175Z"
      },
      {
        "duration": 0,
        "start_time": "2025-04-20T23:38:19.176Z"
      },
      {
        "duration": 0,
        "start_time": "2025-04-20T23:38:19.177Z"
      },
      {
        "duration": 0,
        "start_time": "2025-04-20T23:38:19.178Z"
      },
      {
        "duration": 0,
        "start_time": "2025-04-20T23:38:19.180Z"
      },
      {
        "duration": 0,
        "start_time": "2025-04-20T23:38:19.181Z"
      },
      {
        "duration": 0,
        "start_time": "2025-04-20T23:38:19.182Z"
      },
      {
        "duration": 0,
        "start_time": "2025-04-20T23:38:19.183Z"
      },
      {
        "duration": 1009,
        "start_time": "2025-04-20T23:38:32.548Z"
      },
      {
        "duration": 31,
        "start_time": "2025-04-20T23:38:33.560Z"
      },
      {
        "duration": 25,
        "start_time": "2025-04-20T23:38:33.593Z"
      },
      {
        "duration": 6,
        "start_time": "2025-04-20T23:38:33.620Z"
      },
      {
        "duration": 7,
        "start_time": "2025-04-20T23:38:33.629Z"
      },
      {
        "duration": 15,
        "start_time": "2025-04-20T23:38:33.638Z"
      },
      {
        "duration": 12,
        "start_time": "2025-04-20T23:38:33.654Z"
      },
      {
        "duration": 41,
        "start_time": "2025-04-20T23:38:33.668Z"
      },
      {
        "duration": 8,
        "start_time": "2025-04-20T23:38:33.711Z"
      },
      {
        "duration": 3,
        "start_time": "2025-04-20T23:38:33.721Z"
      },
      {
        "duration": 13,
        "start_time": "2025-04-20T23:38:33.726Z"
      },
      {
        "duration": 12,
        "start_time": "2025-04-20T23:38:33.741Z"
      },
      {
        "duration": 3,
        "start_time": "2025-04-20T23:38:33.755Z"
      },
      {
        "duration": 45,
        "start_time": "2025-04-20T23:38:33.762Z"
      },
      {
        "duration": 7,
        "start_time": "2025-04-20T23:38:33.809Z"
      },
      {
        "duration": 9,
        "start_time": "2025-04-20T23:38:33.819Z"
      },
      {
        "duration": 14,
        "start_time": "2025-04-20T23:38:33.830Z"
      },
      {
        "duration": 12,
        "start_time": "2025-04-20T23:38:33.846Z"
      },
      {
        "duration": 5,
        "start_time": "2025-04-20T23:38:33.860Z"
      },
      {
        "duration": 49,
        "start_time": "2025-04-20T23:38:33.866Z"
      },
      {
        "duration": 8,
        "start_time": "2025-04-20T23:38:33.917Z"
      },
      {
        "duration": 6,
        "start_time": "2025-04-20T23:38:33.927Z"
      },
      {
        "duration": 20,
        "start_time": "2025-04-20T23:38:33.935Z"
      },
      {
        "duration": 126,
        "start_time": "2025-04-20T23:38:33.956Z"
      },
      {
        "duration": 165,
        "start_time": "2025-04-20T23:38:34.083Z"
      },
      {
        "duration": 113,
        "start_time": "2025-04-20T23:38:34.250Z"
      },
      {
        "duration": 305,
        "start_time": "2025-04-20T23:38:34.366Z"
      },
      {
        "duration": 9,
        "start_time": "2025-04-20T23:38:34.672Z"
      },
      {
        "duration": 5,
        "start_time": "2025-04-20T23:38:34.683Z"
      },
      {
        "duration": 9,
        "start_time": "2025-04-20T23:38:34.706Z"
      },
      {
        "duration": 8,
        "start_time": "2025-04-20T23:38:34.716Z"
      },
      {
        "duration": 8,
        "start_time": "2025-04-20T23:38:34.726Z"
      },
      {
        "duration": 15,
        "start_time": "2025-04-20T23:38:34.735Z"
      },
      {
        "duration": 16,
        "start_time": "2025-04-20T23:38:34.751Z"
      },
      {
        "duration": 48,
        "start_time": "2025-04-20T23:38:34.768Z"
      },
      {
        "duration": 4,
        "start_time": "2025-04-20T23:38:34.818Z"
      },
      {
        "duration": 16,
        "start_time": "2025-04-20T23:38:34.823Z"
      },
      {
        "duration": 12,
        "start_time": "2025-04-20T23:38:34.840Z"
      },
      {
        "duration": 3,
        "start_time": "2025-04-20T23:38:34.853Z"
      },
      {
        "duration": 9,
        "start_time": "2025-04-20T23:38:34.858Z"
      },
      {
        "duration": 3940,
        "start_time": "2025-04-20T23:38:34.872Z"
      },
      {
        "duration": 263,
        "start_time": "2025-04-20T23:38:38.814Z"
      },
      {
        "duration": 0,
        "start_time": "2025-04-20T23:38:39.079Z"
      },
      {
        "duration": 0,
        "start_time": "2025-04-20T23:38:39.080Z"
      },
      {
        "duration": 0,
        "start_time": "2025-04-20T23:38:39.082Z"
      },
      {
        "duration": 0,
        "start_time": "2025-04-20T23:38:39.083Z"
      },
      {
        "duration": 0,
        "start_time": "2025-04-20T23:38:39.084Z"
      },
      {
        "duration": 0,
        "start_time": "2025-04-20T23:38:39.085Z"
      },
      {
        "duration": 0,
        "start_time": "2025-04-20T23:38:39.087Z"
      },
      {
        "duration": 0,
        "start_time": "2025-04-20T23:38:39.088Z"
      },
      {
        "duration": 1351,
        "start_time": "2025-04-20T23:38:47.814Z"
      },
      {
        "duration": 68,
        "start_time": "2025-04-20T23:38:49.168Z"
      },
      {
        "duration": 18,
        "start_time": "2025-04-20T23:38:49.238Z"
      },
      {
        "duration": 7,
        "start_time": "2025-04-20T23:38:49.258Z"
      },
      {
        "duration": 7,
        "start_time": "2025-04-20T23:38:49.268Z"
      },
      {
        "duration": 30,
        "start_time": "2025-04-20T23:38:49.276Z"
      },
      {
        "duration": 10,
        "start_time": "2025-04-20T23:38:49.308Z"
      },
      {
        "duration": 10,
        "start_time": "2025-04-20T23:38:49.320Z"
      },
      {
        "duration": 8,
        "start_time": "2025-04-20T23:38:49.331Z"
      },
      {
        "duration": 4,
        "start_time": "2025-04-20T23:38:49.340Z"
      },
      {
        "duration": 13,
        "start_time": "2025-04-20T23:38:49.345Z"
      },
      {
        "duration": 12,
        "start_time": "2025-04-20T23:38:49.360Z"
      },
      {
        "duration": 36,
        "start_time": "2025-04-20T23:38:49.373Z"
      },
      {
        "duration": 10,
        "start_time": "2025-04-20T23:38:49.414Z"
      },
      {
        "duration": 7,
        "start_time": "2025-04-20T23:38:49.426Z"
      },
      {
        "duration": 11,
        "start_time": "2025-04-20T23:38:49.434Z"
      },
      {
        "duration": 14,
        "start_time": "2025-04-20T23:38:49.446Z"
      },
      {
        "duration": 48,
        "start_time": "2025-04-20T23:38:49.462Z"
      },
      {
        "duration": 7,
        "start_time": "2025-04-20T23:38:49.512Z"
      },
      {
        "duration": 11,
        "start_time": "2025-04-20T23:38:49.520Z"
      },
      {
        "duration": 9,
        "start_time": "2025-04-20T23:38:49.532Z"
      },
      {
        "duration": 7,
        "start_time": "2025-04-20T23:38:49.542Z"
      },
      {
        "duration": 18,
        "start_time": "2025-04-20T23:38:49.550Z"
      },
      {
        "duration": 138,
        "start_time": "2025-04-20T23:38:49.569Z"
      },
      {
        "duration": 139,
        "start_time": "2025-04-20T23:38:49.709Z"
      },
      {
        "duration": 101,
        "start_time": "2025-04-20T23:38:49.850Z"
      },
      {
        "duration": 266,
        "start_time": "2025-04-20T23:38:49.953Z"
      },
      {
        "duration": 9,
        "start_time": "2025-04-20T23:38:50.221Z"
      },
      {
        "duration": 4,
        "start_time": "2025-04-20T23:38:50.232Z"
      },
      {
        "duration": 8,
        "start_time": "2025-04-20T23:38:50.237Z"
      },
      {
        "duration": 7,
        "start_time": "2025-04-20T23:38:50.247Z"
      },
      {
        "duration": 8,
        "start_time": "2025-04-20T23:38:50.255Z"
      },
      {
        "duration": 43,
        "start_time": "2025-04-20T23:38:50.264Z"
      },
      {
        "duration": 19,
        "start_time": "2025-04-20T23:38:50.309Z"
      },
      {
        "duration": 16,
        "start_time": "2025-04-20T23:38:50.329Z"
      },
      {
        "duration": 3,
        "start_time": "2025-04-20T23:38:50.347Z"
      },
      {
        "duration": 16,
        "start_time": "2025-04-20T23:38:50.351Z"
      },
      {
        "duration": 43,
        "start_time": "2025-04-20T23:38:50.368Z"
      },
      {
        "duration": 3,
        "start_time": "2025-04-20T23:38:50.413Z"
      },
      {
        "duration": 10,
        "start_time": "2025-04-20T23:38:50.418Z"
      },
      {
        "duration": 1899,
        "start_time": "2025-04-20T23:38:50.431Z"
      },
      {
        "duration": 273,
        "start_time": "2025-04-20T23:38:52.332Z"
      },
      {
        "duration": 20,
        "start_time": "2025-04-20T23:38:52.608Z"
      },
      {
        "duration": 11,
        "start_time": "2025-04-20T23:38:52.629Z"
      },
      {
        "duration": 58511,
        "start_time": "2025-04-20T23:38:52.641Z"
      },
      {
        "duration": 73,
        "start_time": "2025-04-20T23:39:51.154Z"
      },
      {
        "duration": 31,
        "start_time": "2025-04-20T23:39:51.229Z"
      },
      {
        "duration": 56,
        "start_time": "2025-04-20T23:39:51.263Z"
      },
      {
        "duration": 80695,
        "start_time": "2025-04-20T23:39:51.321Z"
      },
      {
        "duration": 12,
        "start_time": "2025-04-20T23:41:12.017Z"
      },
      {
        "duration": 391,
        "start_time": "2025-04-20T23:41:55.114Z"
      },
      {
        "duration": 3,
        "start_time": "2025-04-20T23:42:23.196Z"
      },
      {
        "duration": 17,
        "start_time": "2025-04-20T23:42:30.586Z"
      },
      {
        "duration": 254,
        "start_time": "2025-04-20T23:42:40.838Z"
      },
      {
        "duration": 134,
        "start_time": "2025-04-20T23:43:11.239Z"
      },
      {
        "duration": 164,
        "start_time": "2025-04-20T23:43:15.479Z"
      },
      {
        "duration": 161,
        "start_time": "2025-04-20T23:45:55.628Z"
      },
      {
        "duration": 252,
        "start_time": "2025-04-20T23:47:25.932Z"
      },
      {
        "duration": 138,
        "start_time": "2025-04-20T23:48:38.458Z"
      }
    ],
    "kernelspec": {
      "display_name": "Python 3 (ipykernel)",
      "language": "python",
      "name": "python3"
    },
    "language_info": {
      "codemirror_mode": {
        "name": "ipython",
        "version": 3
      },
      "file_extension": ".py",
      "mimetype": "text/x-python",
      "name": "python",
      "nbconvert_exporter": "python",
      "pygments_lexer": "ipython3",
      "version": "3.9.19"
    },
    "toc": {
      "base_numbering": 1,
      "nav_menu": {},
      "number_sections": true,
      "sideBar": true,
      "skip_h1_title": true,
      "title_cell": "Table of Contents",
      "title_sidebar": "Contents",
      "toc_cell": false,
      "toc_position": {},
      "toc_section_display": true,
      "toc_window_display": false
    },
    "colab": {
      "provenance": [],
      "include_colab_link": true
    }
  },
  "nbformat": 4,
  "nbformat_minor": 0
}
